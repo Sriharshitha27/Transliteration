{
  "cells": [
    {
      "cell_type": "code",
      "execution_count": null,
      "metadata": {
        "colab": {
          "base_uri": "https://localhost:8080/"
        },
        "id": "9OFres0fbxBB",
        "outputId": "bb154cae-55c6-46a2-8c00-e0776cd31601"
      },
      "outputs": [
        {
          "name": "stdout",
          "output_type": "stream",
          "text": [
            "2.7.0\n"
          ]
        }
      ],
      "source": [
        "import os\n",
        "import pathlib\n",
        "import re\n",
        "import collections\n",
        "import scipy.spatial.distance as ds\n",
        "import pickle\n",
        "import numpy as np\n",
        "import random\n",
        "import string\n",
        "from string import digits\n",
        "import pandas as pd\n",
        "import unicodedata\n",
        "import torch\n",
        "import torch.nn as nn\n",
        "import torch.optim as optim\n",
        "import torch.nn.functional as f\n",
        "import matplotlib.pyplot as plt\n",
        "import seaborn as sns\n",
        "\n",
        "sns.set_style(\"darkgrid\")\n",
        "\n",
        "import matplotlib.ticker as ticker\n",
        "from nltk.translate.bleu_score import sentence_bleu\n",
        "from __future__ import absolute_import, division, print_function\n",
        "try:\n",
        "  # %tensorflow_version only exists in Colab.\n",
        "  %tensorflow_version 2.x\n",
        "except Exception:\n",
        "  pass\n",
        "import tensorflow as tf\n",
        "print(tf.__version__)\n",
        "import io\n",
        "import time\n",
        "from sklearn.model_selection import train_test_split"
      ]
    },
    {
      "cell_type": "code",
      "execution_count": null,
      "metadata": {
        "colab": {
          "base_uri": "https://localhost:8080/"
        },
        "id": "UGg7VDvDcHRM",
        "outputId": "fc2875a3-223a-4b63-c5f6-b0f6bafbe664"
      },
      "outputs": [
        {
          "name": "stdout",
          "output_type": "stream",
          "text": [
            "Drive already mounted at /content/drive; to attempt to forcibly remount, call drive.mount(\"/content/drive\", force_remount=True).\n"
          ]
        }
      ],
      "source": [
        "from google.colab import drive\n",
        "drive.mount(\"/content/drive\")"
      ]
    },
    {
      "cell_type": "code",
      "execution_count": null,
      "metadata": {
        "id": "HKj3hIMrcPVh"
      },
      "outputs": [],
      "source": [
        "!tar -xvf  \"/content/drive/My Drive/Adv_NLP_Project/dakshina_dataset_v1.0.tar\" -C \"/content/sample_data/\" \n",
        "# !tar -xvf  \"/content/drive/MyDrive/NLP/Project/Dataset/dakshina_dataset_v1.0.tar\" -C \"/content/sample_data/\""
      ]
    },
    {
      "cell_type": "code",
      "execution_count": null,
      "metadata": {
        "id": "_184dB5cch43"
      },
      "outputs": [],
      "source": [
        "l_train = []\n",
        "l_test = []\n",
        "\n",
        "f1=\"/content/sample_data/dakshina_dataset_v1.0/hi/romanized/hi.romanized.rejoined.dev.native.txt\"\n",
        "curr_file1 = open(f1, \"r\")\n",
        "for line in curr_file1:\n",
        "  temp = []\n",
        "  temp.append(line)\n",
        "  l_train.append(temp)\n",
        "curr_file1.close()\n",
        "\n",
        "f2=\"/content/sample_data/dakshina_dataset_v1.0/hi/romanized/hi.romanized.rejoined.dev.native.txt\"\n",
        "curr_file2 = open(f2, \"r\")\n",
        "i=0\n",
        "for line in curr_file2:\n",
        "  l_train[i].append(line)\n",
        "  i+=1\n",
        "curr_file2.close()\n",
        "\n",
        "f3=\"/content/sample_data/dakshina_dataset_v1.0/hi/romanized/hi.romanized.rejoined.test.native.txt\"\n",
        "curr_file3 = open(f3, \"r\")\n",
        "for line in curr_file3:\n",
        "  temp = []\n",
        "  temp.append(line)\n",
        "  l_test.append(temp)\n",
        "curr_file1.close()\n",
        "\n",
        "f4=\"/content/sample_data/dakshina_dataset_v1.0/hi/romanized/hi.romanized.rejoined.test.native.txt\"\n",
        "curr_file4 = open(f4, \"r\")\n",
        "i=0\n",
        "for line in curr_file4:\n",
        "  l_test[i].append(line)\n",
        "  i+=1\n",
        "curr_file2.close()"
      ]
    },
    {
      "cell_type": "code",
      "execution_count": null,
      "metadata": {
        "colab": {
          "base_uri": "https://localhost:8080/"
        },
        "id": "aXVMQHReiAm8",
        "outputId": "5c55a971-bdbd-4c11-effe-037b8192ab28"
      },
      "outputs": [
        {
          "name": "stdout",
          "output_type": "stream",
          "text": [
            "[['इसके आने से पूर्व ही लोग घरों की सफाई का कार्य शुरू कर देते हैं।\\n', 'iske aane se purva hi log gharon ki safai ka karya shuru kar dete hain.\\n'], ['विलुप्ति की कगार पर गुणकारी तीखुर\\n', 'vilupti ki kagaar par gunkaari tikhur\\n'], ['माइकल कामेन (द वॉल के वाद्यमय हिस्सों के लिए एक योगदानकर्ता) ने दोनों के बीच मध्यस्थता की और उस भूमिका को निभाया जिस पर पारंपरिक रूप से रिचर्ड राइट ने कब्जा किया हुआ था जो अब अनुपस्थित थे।\\n', 'Michael kamen (the wall ke vadyamaya hisso ke liye ek yogdanakarta) ne dono ke bich madhyasthata ki aur us bhumika ko nibhaya jis par paramparik rup se richard wright ne kabja kiya hua tha jo ab anupasthit the.\\n'], ['शाहनामा नौरोज़ के त्यौहार को महान जमशेद के शासनकाल से जोड़ता है।\\n', 'shahnama noroj ke tyohaar ko mahaan Jamshed ke shashankaal se jodta hai.\\n'], ['मेहरोत्रा, डॉ॰ एन.\\n', 'Mehrotra, Dr॰ N.\\n'], ['दुर्गा भाभी\\n', 'durga bhabhi\\n'], ['स्वामी बृहस्पति\\n', 'swami brhaspati\\n'], ['बॉलीवुड, हिन्दी चलचित्र उद्योग भी मुंबई में ही स्थित है।\\n', 'bollywood, hindi chalchitra udyog bhi mumbai me hi sthit hai.\\n'], ['क्योंकि ऐसे शब्द भाषा के मूल शब्द होते हैं।\\n', 'kyonki aise sabda bhasa ke mula sabda hote haim.\\n'], ['शार्ंगदेव (1210–1247) भारत के संगीतशास्त्री थे जिन्होने संगीतरत्नाकर नामक महत्वपूर्ण ग्रंथ की रचना की।\\n', 'Sharangdev (1210-1247) Bharat ke Sangeetshastri the jinhone Sangeetratankar Naamak mahatwpurn granth ki rachna ki.\\n']]\n",
            "[['कुंभ राशि में जन्मे लोग संभावनाओं से भरी एक जगह के रूप में दुनिया को देखते हैं।\\n', 'Kumbh rashi men janme log sambhavnaon se bhari ek jagah ke roop men duniya ko dekhte hain.\\n'], ['इसका उलट भी सत्य है।\\n', 'Iska ulat bhi satya hai.\\n'], ['कुछ देवता जो मुख्यत: नगर देवता थे, अपने संप्रदायवालों के चलते गुण और कार्य में विशिष्ट समझे गए और उनकी महत्ता सर्वोपरि समझी गई।\\n', 'kuch devta jo mukhyatah nagar devta the, apne sampradayvalon ke chalte gun aur karya mein vishisht samjhe gaye aur unki mahatta sarvopati samjhi gayi.\\n'], ['तेल के उत्पादन में संसार में रोमानिया का छठा स्थान है।\\n', 'Tel ke utpadan men sansar men Romania ka chhath sthan hai.\\n'], ['बनारसी लाल से मिलकर पुलिस ने सारा भेद प्राप्त कर लिया।\\n', 'Banarasi Lal se milkar police ne sara bhed praapt kar liya.\\n'], ['अन्य प्रकार की घटनाओं के प्रति बीमा के समान ही, बचाव निधि द्वारा अन्य निवेशक को मुद्रा निवेश के लिए भुगतान करना पड़ता है।\\n', 'Anya prakar ki ghatanaon ke prati beema ke samaan hi, bachav nidhi dwara anya niveshak ko mudra nivesh ke liye bhugtan karana padta hai.\\n'], ['पंडित शिवकुमार शर्मा\\n', 'Pandit Shivkumar Sharma\\n'], ['उन्हें एक समूह या एक समुदाय अच्छा लगता है, तो वे लगातार दूसरे लोगों से घिरे रहने का प्रयास करते हैं।\\n', 'Unhe ek samuh ya ek samuday achha lagta hai, to ve lagatar dusre login se ghire rahane ka prayas karte hain.\\n'], ['बीबीसी हिन्दी संवाददाता द्वारा वेंकटरामन रामकृष्णन का साक्षात्कार।\\n', 'beebeesee hindi sanwaddaata dwara Venkatraman Ramkrishnan ka saakshatkar.\\n'], ['हाँ, खोज का सिलसिला न रुके,\\n', 'haan, khoj kaa silsilaa na ruke,\\n']]\n"
          ]
        }
      ],
      "source": [
        "print(l_train[:10])\n",
        "print(l_test[:10])"
      ]
    },
    {
      "cell_type": "code",
      "execution_count": null,
      "metadata": {
        "colab": {
          "base_uri": "https://localhost:8080/",
          "height": 424
        },
        "id": "HZGXH0EKlnl0",
        "outputId": "f831afa6-3ae6-4e63-aa2a-a4714d934560"
      },
      "outputs": [
        {
          "data": {
            "text/html": [
              "<div>\n",
              "<style scoped>\n",
              "    .dataframe tbody tr th:only-of-type {\n",
              "        vertical-align: middle;\n",
              "    }\n",
              "\n",
              "    .dataframe tbody tr th {\n",
              "        vertical-align: top;\n",
              "    }\n",
              "\n",
              "    .dataframe thead th {\n",
              "        text-align: right;\n",
              "    }\n",
              "</style>\n",
              "<table border=\"1\" class=\"dataframe\">\n",
              "  <thead>\n",
              "    <tr style=\"text-align: right;\">\n",
              "      <th></th>\n",
              "      <th>roman</th>\n",
              "      <th>native</th>\n",
              "    </tr>\n",
              "  </thead>\n",
              "  <tbody>\n",
              "    <tr>\n",
              "      <th>0</th>\n",
              "      <td>इसके आने से पूर्व ही लोग घरों की सफाई का कार्य...</td>\n",
              "      <td>iske aane se purva hi log gharon ki safai ka k...</td>\n",
              "    </tr>\n",
              "    <tr>\n",
              "      <th>1</th>\n",
              "      <td>विलुप्ति की कगार पर गुणकारी तीखुर\\n</td>\n",
              "      <td>vilupti ki kagaar par gunkaari tikhur\\n</td>\n",
              "    </tr>\n",
              "    <tr>\n",
              "      <th>2</th>\n",
              "      <td>माइकल कामेन (द वॉल के वाद्यमय हिस्सों के लिए ए...</td>\n",
              "      <td>Michael kamen (the wall ke vadyamaya hisso ke ...</td>\n",
              "    </tr>\n",
              "    <tr>\n",
              "      <th>3</th>\n",
              "      <td>शाहनामा नौरोज़ के त्यौहार को महान जमशेद के शास...</td>\n",
              "      <td>shahnama noroj ke tyohaar ko mahaan Jamshed ke...</td>\n",
              "    </tr>\n",
              "    <tr>\n",
              "      <th>4</th>\n",
              "      <td>मेहरोत्रा, डॉ॰ एन.\\n</td>\n",
              "      <td>Mehrotra, Dr॰ N.\\n</td>\n",
              "    </tr>\n",
              "    <tr>\n",
              "      <th>...</th>\n",
              "      <td>...</td>\n",
              "      <td>...</td>\n",
              "    </tr>\n",
              "    <tr>\n",
              "      <th>4995</th>\n",
              "      <td>किन्तु लगता है कि यह मलयालम युक्तिभाषा के बाद ...</td>\n",
              "      <td>kintu lagata hai ki yaha malayalama yuktibhasa...</td>\n",
              "    </tr>\n",
              "    <tr>\n",
              "      <th>4996</th>\n",
              "      <td>अक्षांश\\n</td>\n",
              "      <td>akshansh\\n</td>\n",
              "    </tr>\n",
              "    <tr>\n",
              "      <th>4997</th>\n",
              "      <td>वह लापरवाही से एनामारिया, डेवी जोन्स और अन्य स...</td>\n",
              "      <td>vah laparvahi se enamaria, devi jons aur anya ...</td>\n",
              "    </tr>\n",
              "    <tr>\n",
              "      <th>4998</th>\n",
              "      <td>\"मैं सोचती हूँ कि असली वजह यह थी कि निर्देशक ज...</td>\n",
              "      <td>\"main sochti hun ki asli vajah yah thi ki nird...</td>\n",
              "    </tr>\n",
              "    <tr>\n",
              "      <th>4999</th>\n",
              "      <td>पटकाई भारत के पूर्वोत्तर में बर्मा के साथ लगी ...</td>\n",
              "      <td>Ptakai Bharat ke purvottar men Burma ke saath ...</td>\n",
              "    </tr>\n",
              "  </tbody>\n",
              "</table>\n",
              "<p>5000 rows × 2 columns</p>\n",
              "</div>"
            ],
            "text/plain": [
              "                                                  roman                                             native\n",
              "0     इसके आने से पूर्व ही लोग घरों की सफाई का कार्य...  iske aane se purva hi log gharon ki safai ka k...\n",
              "1                   विलुप्ति की कगार पर गुणकारी तीखुर\\n            vilupti ki kagaar par gunkaari tikhur\\n\n",
              "2     माइकल कामेन (द वॉल के वाद्यमय हिस्सों के लिए ए...  Michael kamen (the wall ke vadyamaya hisso ke ...\n",
              "3     शाहनामा नौरोज़ के त्यौहार को महान जमशेद के शास...  shahnama noroj ke tyohaar ko mahaan Jamshed ke...\n",
              "4                                  मेहरोत्रा, डॉ॰ एन.\\n                                 Mehrotra, Dr॰ N.\\n\n",
              "...                                                 ...                                                ...\n",
              "4995  किन्तु लगता है कि यह मलयालम युक्तिभाषा के बाद ...  kintu lagata hai ki yaha malayalama yuktibhasa...\n",
              "4996                                          अक्षांश\\n                                         akshansh\\n\n",
              "4997  वह लापरवाही से एनामारिया, डेवी जोन्स और अन्य स...  vah laparvahi se enamaria, devi jons aur anya ...\n",
              "4998  \"मैं सोचती हूँ कि असली वजह यह थी कि निर्देशक ज...  \"main sochti hun ki asli vajah yah thi ki nird...\n",
              "4999  पटकाई भारत के पूर्वोत्तर में बर्मा के साथ लगी ...  Ptakai Bharat ke purvottar men Burma ke saath ...\n",
              "\n",
              "[5000 rows x 2 columns]"
            ]
          },
          "execution_count": 142,
          "metadata": {},
          "output_type": "execute_result"
        }
      ],
      "source": [
        "df = pd.DataFrame(l_train, columns = ['native', 'roman'])\n",
        "df"
      ]
    },
    {
      "cell_type": "code",
      "execution_count": null,
      "metadata": {
        "colab": {
          "base_uri": "https://localhost:8080/"
        },
        "id": "Fnx-f1THTmV8",
        "outputId": "9ca39149-14aa-4bf7-816e-2605519072ae"
      },
      "outputs": [
        {
          "name": "stdout",
          "output_type": "stream",
          "text": [
            "{'<start>': 0, '<end>': 1, 'ऀ': 1, 'ँ': 2, 'ं': 3, 'ः': 4, 'ऄ': 5, 'अ': 6, 'आ': 7, 'इ': 8, 'ई': 9, 'उ': 10, 'ऊ': 11, 'ऋ': 12, 'ऌ': 13, 'ऍ': 14, 'ऎ': 15, 'ए': 16, 'ऐ': 17, 'ऑ': 18, 'ऒ': 19, 'ओ': 20, 'औ': 21, 'क': 22, 'ख': 23, 'ग': 24, 'घ': 25, 'ङ': 26, 'च': 27, 'छ': 28, 'ज': 29, 'झ': 30, 'ञ': 31, 'ट': 32, 'ठ': 33, 'ड': 34, 'ढ': 35, 'ण': 36, 'त': 37, 'थ': 38, 'द': 39, 'ध': 40, 'न': 41, 'ऩ': 42, 'प': 43, 'फ': 44, 'ब': 45, 'भ': 46, 'म': 47, 'य': 48, 'र': 49, 'ऱ': 50, 'ल': 51, 'ळ': 52, 'ऴ': 53, 'व': 54, 'श': 55, 'ष': 56, 'स': 57, 'ह': 58, 'ऺ': 59, 'ऻ': 60, '़': 61, 'ऽ': 62, 'ा': 63, 'ि': 64, 'ी': 65, 'ु': 66, 'ू': 67, 'ृ': 68, 'ॄ': 69, 'ॅ': 70, 'ॆ': 71, 'े': 72, 'ै': 73, 'ॉ': 74, 'ॊ': 75, 'ो': 76, 'ौ': 77, '्': 78, 'ॎ': 79, 'ॏ': 80, 'ॐ': 81, '॑': 82, '॒': 83, '॓': 84, '॔': 85, 'ॕ': 86, 'ॖ': 87, 'ॗ': 88, 'क़': 89, 'ख़': 90, 'ग़': 91, 'ज़': 92, 'ड़': 93, 'ढ़': 94, 'फ़': 95, 'य़': 96, 'ॠ': 97, 'ॡ': 98, 'ॢ': 99, 'ॣ': 100, '।': 101, '॥': 102, '०': 103, '१': 104, '२': 105, '३': 106, '४': 107, '५': 108, '६': 109, '७': 110, '८': 111, '९': 112, '॰': 113, 'ॱ': 114, 'ॲ': 115, 'ॳ': 116, 'ॴ': 117, 'ॵ': 118, 'ॶ': 119, 'ॷ': 120, 'ॸ': 121, 'ॹ': 122, 'ॺ': 123, 'ॻ': 124, 'ॼ': 125, 'ॽ': 126, 'ॾ': 127, 'ॿ': 128}\n"
          ]
        }
      ],
      "source": [
        "letters_native = [chr(letter) for letter in range(2304, 2432)]\n",
        "alphabet_size_native = len(letters_native)\n",
        "\n",
        "letter2ind_native = {'<start>': 0,'<end>' : 1}\n",
        "for index, letter in enumerate(letters_native):\n",
        "    letter2ind_native[letter] = index+1\n",
        "\n",
        "print(letter2ind_native)"
      ]
    },
    {
      "cell_type": "code",
      "execution_count": null,
      "metadata": {
        "id": "6AKNF5-8XznQ"
      },
      "outputs": [],
      "source": [
        "def preprocess_sentence_roman(w):\n",
        "    w = w.lower().strip()\n",
        "    ww = ''\n",
        "    # Remove all punctuations from the text\n",
        "    ww += ''.join(ch for ch in w if ch not in string.punctuation)\n",
        "    # Remove all numbers from text\n",
        "    remove_digits = str.maketrans('', '', digits)\n",
        "    ww = ww.translate(remove_digits)\n",
        "    ww = ww.rstrip().strip()\n",
        "    # Adding start and end tags\n",
        "    ww = '@' + ww + '#'\n",
        "    return ww\n",
        "\n",
        "def preprocess_sentence_native(w):\n",
        "    w = w.lower()\n",
        "    cleaned_line = ''\n",
        "    # Remove all punctuations from the text\n",
        "    cleaned_line += ''.join(ch for ch in w if ch not in string.punctuation)\n",
        "    # Remove all numbers from text\n",
        "    remove_digits = str.maketrans('', '', digits)\n",
        "    cleaned_line = cleaned_line.translate(remove_digits)\n",
        "    cleaned_line = re.sub(\"[२३०८१५७९४६।–]\", \"\", cleaned_line)\n",
        "    cleaned_line = cleaned_line.rstrip().strip()\n",
        "    # Adding start and end tags\n",
        "    cleaned_line = '@' + cleaned_line + '#'\n",
        "    return cleaned_line"
      ]
    },
    {
      "cell_type": "code",
      "execution_count": null,
      "metadata": {
        "id": "Cg8cEv-JVJ0C"
      },
      "outputs": [],
      "source": [
        "def create_dataset(l):\n",
        "  native_words, native_sents = [], []\n",
        "  roman_words, roman_sents = [], []\n",
        "\n",
        "  for i in range(len(df)):\n",
        "    l[i][0] = preprocess_sentence_native(l[i][0]) # clean native words.\n",
        "    wordlist1 = l[i][0].split()\n",
        "\n",
        "    l[i][1] = preprocess_sentence_roman(l[i][1]) # clean roman sentences.\n",
        "    wordlist2 = l[i][1].split() # clean roman words.\n",
        "\n",
        "    if len(wordlist1) != len(wordlist2):\n",
        "      print('Skipping: ',len(wordlist1),len(wordlist2), l[i][0], ' - ', l[i][1])\n",
        "      continue\n",
        "\n",
        "    native_words.extend(wordlist1)\n",
        "    roman_words.extend(wordlist2)\n",
        "\n",
        "    native_sents.append(wordlist1)\n",
        "    roman_sents.append(wordlist2)\n",
        "    \n",
        "  return [native_words,roman_words], [native_sents, roman_sents]"
      ]
    },
    {
      "cell_type": "code",
      "execution_count": null,
      "metadata": {
        "colab": {
          "base_uri": "https://localhost:8080/"
        },
        "id": "ZjE791HMqico",
        "outputId": "a4720c37-b14d-4cf5-eb63-46ea07ba9ef0"
      },
      "outputs": [
        {
          "name": "stdout",
          "output_type": "stream",
          "text": [
            "Skipping:  28 27 @तांत्रिक साधक पशु वीर दिव्य भावों के द्वारा महाशक्ति की अर्चना करता हुआ सकल ब्रह्म के शक्तिस्वरूप को अनादि चेतन और आनंदरूप समझकर आत्मविवेक की उपलब्धि करता है#  -  @tantrik sadhak pashu veer divya bhawon ke dwara mahashakti ki archana karata hua sakal bramh ke shaktiswaroop ko chetan aur aanandrup samajkar aatmvivek ki uplabdhi karta hai#\n",
            "Skipping:  22 21 @अतीत में भौतिक कागज का विनिमय होता था और इसमें एक चॅक के समाशोधन में पांच व्यावसायिक दिन तक लग जाते थे#  -  @ateet men bhautik kagaj ka winimay hota tha aur ismeanek chak ke samashodhan men panch vyavasayik din tak lag jaate the#\n",
            "Skipping:  16 15 @डॉ॰ वी पी मिरांशी के अनुसार वाकाटक वंश का सर्वश्रेष्ठ राजा विन्ध्यशक्ति का पुत्र प्रवरसेन था#  -  @dr vp  miranshi ke anusar vakatak vansh ka sarvashrestha raja vindhyasakti ka putra pravarasena tha#\n",
            "Skipping:  16 15 @वही परमात्मा सर्जन की इच्छा से अव्यक्त में प्रविष्ट होकर महत् तत्व की रचना करता है#  -  @vahi parmatma sarjan ki ichcha se avyakt mein pravisht hokar mahattva ki rachna karta hai#\n",
            "Skipping:  19 23 @भारतीय निर्वाचन आयोग के जालस्थलपर सांगली लोक सभा निर्वाचन क्षेत्रमें  से राजनैतिक दलोंके चुनाव परिणामोंका ब्यौरा अंग्रेजी भाषा में#  -  @bhartiya nirvachan aayog ke jaalsthal par sangli lok sabha nirvachan kshetr mein  se rajnaitik dalon ke chunav parinamon ka byaura angrezi bhasha mein#\n",
            "Skipping:  23 22 @गिल्मर ने भी अपनी झुंझलाहट व्यक्त की यह शिकायत करते हुए कि राइट के दिशा निर्देशन का अभाव हमें पागल कर रहा था#  -  @gilmar ne apni jhunjhulahat vyakt ki yah shikayat karte huye ki right ke disha nirdeshan ka abhav hamen pagal kar raha tha#\n",
            "Skipping:  10 11 @लडकिया और लड़को अपना सारा विकास  वर्षों मे होजाता हे#  -  @ladkiya aur ladko apna sara vikaas  varshon me ho jata hai#\n",
            "Skipping:  37 36 @में एक प्रचार विज्ञापन चलाया गया जिसमें अमेरिकन एक्सप्रेस कार्ड से की गई प्रत्येक खरीददारी पर अमेरिकन एक्सप्रेस द्वारा स्टेट्यू ऑफ़ लिबर्टी के नवीनीकरण के लिए एक पेनी का यो योगदान किए जाने की बात कही गई#  -  @men ek prachar vigyapan chalaya gaya jismen american express card se kigai pratyek kharidari par  american express dwara statute of liberty ke navinikaran ke liye ek penny ka yo yogdan kiye jane ki baat kahi gai#\n",
            "Skipping:  19 20 @पूरे भारवर्ष में हिमालय की पर्वतश्रेणी तथा कर्नाटक आंध्र प्रदेश राजस्थान गोवा इन प्रदेशमें पवित्र उपवन पाए जाते है#  -  @pure bharatvarsh men himalay ki parvatshreni tatha karnataka andhra pradesh rajasthan goa in pradesh men pavitra upvan paye jate hai#\n",
            "Skipping:  45 46 @न तो वाटर्स और ना मेसन संगीत पढ़ सकते थे और अपनी खुद की अंकन प्रणाली का आविष्कार करते हुए दोनों ने एल्बम के शीर्षक ट्रैक अ सॉसरफुल ऑफ़ सीक्रेट्स निर्मित किया जिस पर बाद में गिल्मर ने टिप्पणी की  एक वास्तुकला चित्रण के समान#  -  @na to waters na to mason sangit padh sakte the aur apni khud ki ankan pranali ka avishkar karte huye donon ne album ke shirshak track a saucerful of secrets nirtmit kiya jis par baad men gilmer ne tippani ki … ek vaastukala chitran ke samaan#\n",
            "Skipping:  27 26 @मोटे तौर पर भारत मे अहीर चरण गद्दी गौढ़ा गुर्जरघोष या घोसी घासी गोवारी गुज्जर गुर्जर ईडुयान कावुन्दन आदि गोपालकों के रूप मेन वर्गीकृत किए गए है#  -  @mote taur par bharat me ahir charan gaddi gaudha gurjarghosh ya ghosi ghasi govari gujjar iduyan kavundan aadi gopalkon ke roop men vargikrut kiye gaye hai#\n",
            "Skipping:  16 17 @ख सन्‌  में विद्रोही होने के अपराध में पटियाला जेल में साढे तीन वर्ष की कैद#  -  @b san १९२६ mein vidrohi hone ke apradh mein patiala jail mein sadhe teen varsh ki qaid#\n",
            "Skipping:  12 11 @मेसन गिल्मर और राइट मंच पर गए जब अंतिम बार रोजर वाटर्स#  -  @mesan gilmar aur right manch par jab antim baar rojer watars#\n",
            "Skipping:  9 10 @इसका उपयोग विस्फोटक तथा हिमकारी मिश्रण बनाने में कियाजाता#  -  @iska upyog visfotak tatha himkaari mishran banane mein kiya jaata#\n",
            "Skipping:  10 9 @वाणी शर्मा — सारिका शंकर सुराना समर की छोटी बहन#  -  @vani sharma  sarika shankar khurana samar ki chhoti bahan#\n",
            "Skipping:  8 7 @ब्रिटिश कंपनी बीएनएससीसुरे उपग्रह प्रौद्योगिकी लिमिटेड — यूकेडीएमसी#  -  @british company bnscsure upgrah praudyogiki limited  ukdmc#\n",
            "Skipping:  9 8 @याचित शर्मा — कबीर कार्तिक और शिखा का बेटा#  -  @yachit sharma  kabir kartik aur shikha ka beta#\n",
            "Skipping:  39 37 @दूसरी तरफ सबसे बड़े निवेश प्रबंधकों में से कुछ प्रबंधक जैसे ब्लैकरॉक blackrock और वैनगार्ड vanguard प्रबंधन टीमों को प्रभावित करने के लिए इंसेंटिव प्रोत्साहन को कम करके बस हरेक कंपनी पर स्वामित्व स्थापित करने की वकालत करते हैं#  -  @dusri taraf sabse bade nivesh prabandhakon men se kuch prabandhak jaise blackrock aur vanguard prabandhan teamon ko prabhavit karne ke liye incentive protsahan ko kam karke bas harek company par swamitwa sthapit karne ki vakalat karte hain#\n",
            "Skipping:  17 18 @इस्पातनिर्माण के समय निकलीं गैसों का उपयोग उर्जा के स्रोत के रूप में किया जा सकता है#  -  @ispaat nirmaan ke samay nikli gaison ka upyog urja ke srot ke roop mein kiya ja sakta hai#\n",
            "Skipping:  23 22 @द वॉल टूर के दौरान एक फीट  मी॰ ऊंची दीवार कार्डबोर्ड ईंटों से बनी बैंड और दर्शकों के बीच में निर्मित की गई#  -  @the wall tour ke dauran ek  feet  m unchi divarcardboard into se bani band aur darshako ke bich me nirmit ki gai#\n",
            "Skipping:  8 9 @दक्षिण अफ्रीकी महिला क्रिकेट टीम का न्यूज़ीलैंड दौरा#  -  @dakshin afriki mahila kriket teem ka new zealand dauraa#\n",
            "Skipping:  10 11 @वेस्टइंडीज ए ने टॉस जीता और मैदान में चुने गए#  -  @west indies a ne toss jita aur maidaan mein chune gaye#\n",
            "Skipping:  25 26 @ओवरव्हेल्मिंग पोस्टऑटो प्लीहा की शल्यक्रिया का संक्रमण opsi जो विवृत जीवों द्वारा प्रेरित कार्यात्मक प्लीहाभाव के कारण होता है जैसे स्ट्रेप्टोकोकस न्युमोनिया तथा हिमोफिलस इन्फ्लुएंजा#  -  @overweighting post auto plihaa ki shalyakriya ka sankraman opsi jo vivrit jivon dwara prerit kaaryaatmak plihaabhaav ke kaaran hota hai jaise streptococcus pneumoniae tatha haemophilus influenza#\n",
            "Skipping:  56 55 @यह ऐसी जाँच नहीं जो इस बात की पुष्टि करे कि कुत्ता में बीमारी है या नहीं है और न ही यह निश्चित तौर पर इस बीमारी की भविष्यवाणी करता है यहां ‍तक कि अगर कोई कुत्ता जेडीसी jdc वाहक है तो उसके शावक इस बीमारी से पीडि़त नहीं होंगे  इसकी भी गारंटी नहीं देता है#  -  @yah aisi janch nahi jo is baat ki prushti kare ki kutta men bimari hai ya nahin hai aur n hi yah nischit taur par is bimari ki bhavishyavani karta hai yahan tak ki agar koi kutta jdc vahak hai to uske shavak is bimari se pidit nahi honge  iski bhi gaurantee nahi deta hai#\n",
            "Skipping:  82 81 @राज्य के संविधान संयुक्त राज्य के संविधान के तहत दिए जाने वाले अधिकारों से परे और इनसे बढ़कर अधिकार प्रदान कर सकते हैं और साथ ही कराधान के संप्रभु अधिकार और सैन्य सेवा सहित अपने दायित्वों को भी अध्यारोपित कर सकते हैं हर राज्य कम से कम एक सैन्य बल रखता है जो राष्ट्रीय सैन्य स्थानान्तरण सेवा राज्य के नेशनल गार्ड के अधीन होता है जबकि कुछ अन्य राज्य एक दूसरा सैन्य बल रखते हैं जो राष्ट्रीयकरण के अधीन नहीं होता है#  -  @rajya ke sanvidhan sayukt rajya ke sanvidhan ke tahat diye jane wale adhikaron se pare aur inse badhkar adhikar pradhan kar sakte hain aur sath hi karadhan ke samprabhu aur sainya seva sahit apne dayitwon ko bhi adhyaropit kar sakte hain  har rajya kam se kam ek sainya bal rakhata hai jo rashtriy sainya sthananataran seva rajya ke national gard ke adhin hota hai jabki kuchh anya rajya ek dusra saiya bal rakhte hain jo rashtriyakaran ke adhin nahin hota hai#\n",
            "Skipping:  39 38 @लापुटा के उड़ान द्वीप के खिलाफ लिंडालीनो के सतही शहर के विद्रोह को बताने वाला भाग iii का छोटा एपिसोड पांच पैराग्राफ से युक्त ड्रेपियर्स लेटर्स के लिए स्पष्ट रूप से अन्योक्तिपरक था जिस पर स्विफ्ट को गर्व था#  -  @laputa ke udaan dwip ke khilap lidalino ke satahi shahar ke vidroh ko batane wala bhag  ka chhota episod panch pairagraf se yukt drepiyars letars ke liye spasht roop se anyoktiparak tha jis par swift ko garv tha#\n",
            "Skipping:  41 42 @इस उपवन की विशेषता यह है की यह उपवन जिस गाँवके करीब होता ही उस गाँवके लोग उसे संभालते है  शासकीय व्यवस्था का इस प्रक्रियामें सहभाग नहीं होता यह उपवन किसी देवताका निवासस्थान मानाजाता है और उसकी पवित्रता संभाली जाती है#  -  @is upavan ki visheshta yeh hai ki yeh upavan jis ganvke karib hota hi us ganvke log use sambhalte hai  shaskiy vyavastha ka is prakriyame sehbhag nahi hotayeh upavan kisi devta ka nivas sthana manajata hai aur uski pavitrta sambhali jati hai#\n",
            "Skipping:  15 14 @घोड़े की सवारी के दौरान उसके मन में इच्छा जगी काश यह घोड़ा मेरा होता#  -  @ghode sawaari ke dauran uske man men icchha jagi kash yah ghoda mera hota#\n",
            "Skipping:  23 22 @गाँव के अधिकतर लोग खाड़ी देशों में काम करते हैं तथा सरकारी नोकारियों में भी हैं जैसे शिक्षा सेना पुलिस और सिविल सर्विसेस#  -  @gaon ke adhiktar log khadi men kaam karte hain tatha sarkari nokariyon men bhi hain jaise shiksha sena police aur civil services#\n",
            "Skipping:  28 27 @टी वी श्रृंखला द रिटर्न ऑफ़ द एंटिलोप ग्रानाडा टेलिविज़न लिलिपुट के तीन नाविकों के रोमांच पर केन्द्रित है जिनका जहाज इंग्लैण्ड में तूफ़ान में डूब गया था#  -  @tv shrinkhla the return of the antilop granada television liliput ke teen navikon ke romanch par kendrit hai jinka jahaaj england men toofaan men dub gaya tha#\n",
            "Skipping:  28 29 @केफ्रांसीसी क्रांति ने सदियों पूर्व कुछ प्रश्नोँ और जोरदार राजनीतिक और सामाजिक बहस के बाद आम जनता द्वारा स्वीकारी गई मान्यताओं और संस्थानों को जड़ से उखाड़ दिया#  -  @ke fransisi kranti ne sadiyon poor kuchh prashon aur jordar rajnitik aur samajik bahas ke baad aam janta dwoara sweekari gai manytaaon aur sansthanon ko jad se ukhad diya#\n",
            "Skipping:  160 159 @जेरूशलम की घेराबंदी siege of jerusalem जेरूसलम की घेराबंदी एक सैन्य संघर्ष का हिसा थी जो वीजान्टिन साम्राज्य और रशीदुन खिलाफ के बीच  ईस्वी में हुई थी यह जब शुरू हुई जब रशीदुन सेना की कमान अबू उबैदाह के तहत नवंबर  ईस्वी में जेरूशलम के घेर लिया था जिके छः महीने बाद जेरूशलम शासक पैट्रिआर्क सोफ्रोनियस ने इस्लामी सेना को जेरूशलम में प्रवेस करने पर सहमति जताई जिसके बाद खलीफा उमर ने  ईस्वी में शहर को प्रस्तुत करने के लिए जेरूशलम की यात्रा की इसी तरह जेरूशलम शासक पेट्रिआर्क ने खलीफा उमर को आत्मसमर्पण कर दिया जो जेरूशलम की मुस्लिम विजय ने फिलिस्तीन पर अरब मुस्लिम नियंत्रण को मजबूत कर दिया जो  वीं शताब्दी के अंत में तक रहा  वीं शताब्दी में ईसाई धर्म योद्धाऔ ने ने आक्रमण कर मुस्लिमों से जीत लिया लेकिन कुछ समय के बाद उन्हें जेरूशलम से कुर्द शासक सलाउद्दीन के रूप में हार का समना करना पड़ा जो पुनः जेरूशलम मुस्लिमों के अधीन हो गया#  -  @jerusalama ki gherabandi siege of jerusalem jerusalama ki gherabandi eka sainya sangharsa ka hisa thi jo vijantina samrajya aura rasiduna khilapha ke bica  isvi mem hui thi yaha jaba suru hui jaba rasiduna sena ki kamana abu ubaidaha ke tahata navambara  isvi mem jerusalama ke ghera liya tha jike chah mahine bada jerusalama sasaka paitriarka sophroniyasa ne islami sena ko jerusalama mem pravesa karane para sahamati jatai jisake bada khalipha umara ne  isvi mem sahara ko prastuta karane ke lie jerusalama ki yatra ki isi taraha jerusalama sasaka petriarka ne khalipha umara ko atmasamarpana kara diya jo jerusalama ki muslima vijaya ne philistina para araba muslima niyantrana ko majabuta kara diya jo  vim satabdi ke anta mem taka raha  vim satabdi mem isai dharma yoddhaon ne akramana kara muslimom se jita liya lekina kucha samaya ke bada unhem jerusalama se kurda sasaka salauddina ke rupa mem hara ka samana karana para jo punah jerusalama muslimom ke adhina ho gaya#\n",
            "Skipping:  32 33 @इसके अतिरिक्त पूरे विश्व में जहाँजहाँ मनुष्य गया इसने उनका अनुकरण किया और अमरीका के अधिकतर स्थानों अफ्रीका के कुछ स्थानों न्यूज़ीलैंड और आस्ट्रेलिया तथा अन्य नगरीय बस्तियों में अपना घर बनाया#  -  @iske atirikt pure vishwa men jahanjahan manushya gaya isne unka anusaran kiya aur america ke adhikar sthanon africa ke kuch sthanon new zealand aur australia tatha anya nagariy bastiyon men apna ghar banaya#\n",
            "Skipping:  26 25 @यह अमरीका के आमेज़न नदी के जंगलों में उगता था और अब भारत के त्रावणकोर कोचीन मैसूर मलाबार कुर्ग सलेम और श्रीलंका में उगाया जाता है#  -  @yah america ke aamezon nadi ke janglon men ugta tha aur ab bharat ke travankor kochin malabar kurg salem aur shrilanka men ugaya jata hai#\n",
            "Skipping:  22 21 @कांचनाबुरी दो संस्कृत शब्दों का थाई भाषा रूप है कंचन और पुरी अर्थात कांचनाबुरी का अर्थ कंचनपुरी या सोने की नगरी है#  -  @kanchanaburi do sanskrut shabdon ka thai bhasha roop hai kanchan aur puri  arthat kanchanaburika arth kanchanpuri ya sone ki nagri hai#\n",
            "Skipping:  22 21 @लेकिन छात्रों का एक समूह तूफान की तरह इमारत में चढ़ने लगा था इस कारण पुलिस ने आग के गोले फैंकने लगे#  -  @lekin chhatron ka ek samuh toofan ki imarat men chadhane laga tha is karan police ne aag ke gole faikane lage#\n",
            "Skipping:  12 11 @इसमें भिन्न प्रकार की सीलें जलव्याघ्र सी लायन वाल्रस इत्यादि शामिल हैं#  -  @ismen bhinn prakar kee silen jalvyaghr see layan varlasityadi shamil hain#\n",
            "Skipping:  11 10 @सेवापेट रोड तमिल नाडु की राजधानी चेन्नई का एक क्षेत्र है#  -  @sevapet rod tamil naadu rajdhani chennai ka ek kshetr hai#\n",
            "Skipping:  26 25 @अनन्त राव सार देसाई जो कि मराठी और पुर्तगाली भाषाओ के रेडियों के नाटककार और लघुकथा लेखक जो मार्दोल में रहे और औषधिशास्त्र का अभ्यास किया#  -  @anant rao sardesai jo ki marathi aur purtgali bhasao ke radio ke natkaar aur laghukatha lekhak jo maardol mein rehe aur ausadhishastra ka abhyaas kiya#\n",
            "Skipping:  86 87 @हालांकि जैसा कि ऊपर उल्लेख किया गया है ब्रह्म सूत्र की शंकरकी व्याख्या की तरह माधव इस पर सहमत हैं कि उनके द्वारा किये गये अच्छे और बुरे कर्मों के अनुरूप जीवों को पुरस्कार और दंड भगवान द्वारा प्रदान किया जाता है और वह अपनी इच्छा से न्याय पर खुद को दृढ रखते हुए ऐसा करता है और मनुष्य के कर्मों द्वारा उसके कार्यों को नियंत्रित नहीं किया जा सकता और न ही उस पर पक्षपात या किसीके साथ क्रूरता का आरोप लगाया जा सकता है#  -  @halanki jaisa ki upar ullekh kiya gaya hai brahma sutra ki shankar ki vyakhya ki tarah madhav is par sehmat hai ki unke dvara kiye gaye acche aur bure karmo ke anurup jivo ko puraskar aur dand bhagvan dvara pradan kiya jata hai aur vah apni iccha se nyay par khud ko dridh rakhte hue aisa karta hai aur manushya ke karmo dvara uske karyo ko niyantrit nahi kiya ja sakta aur na hi us par pakshapaat ya kisike sath krurta ka aarop lagaya ja sakta hai#\n",
            "Skipping:  70 68 @संपत्ति अंतरण अधिनियम  की धारा a में बंधक mortgage को परिभाषित किया गया है i जिसके अनुसार बंधक का तात्पर्य किसी ऋण के रूप में अग्रिम तौर पर ली गई या ली जाने वाली राशी अथवा कोई विधमान या भविष्य ऋण अथवा किसी कार्य व्यवहार से उत्पन्न आर्थिक देनदारियों के दायित्व के भुगतान की सुरक्षा के उद्देश्य के लिए किसी विनिर्दिष्ट अचल संपत्ति में हित के अंतरण से हैं i#  -  @sampatti antran adhiniyam  ki dhara a mein bandhak mortgage ko paribhashit kiya gaya hai  jisake anusar bandhak ka tatparya kisi rin ke roop mein agrim taur par li gai ya ii jane vali rashee athava koi vidhman ya bhavishya rin athava kisi karya vyavhar se utpann arthik dendariyon ke dayitv ke bhugtan ki suraksha ke uddhesya ke liye kisi vinirdisht achal sampatti mein hit ke antran se hain#\n",
            "Skipping:  9 8 @नाइजीरियाआई राष्ट्रीय अन्तरिक्ष अनुसंधान एवं विकास एजेन्सी — नायजीरियासैट#  -  @nigeriai rashtriya antriksh anusandhan evam vikas ejensi  nigeriasat#\n",
            "Skipping:  37 38 @एजरिन वाटर्स के एकल एल्बम पर काम करने में असमर्थ थे और इसके बजाए उन्होंने गिल्मर के साथ काम करने का फैसला किया  डेव और मेरे लिए फ़्लॉइड रिकॉर्ड का हमारा संस्करण बनाना अपेक्षाकृत काफी आसान है#  -  @yejrin waters ke yekal album par kaam karne men asmarth the aur iske bajaye unhone gilmar ke sath kaam karne ka faisla kiya … dev aur mere liye flaid record ka hamara sanskaran banana apekshakrut kafi aasan hai#\n",
            "Skipping:  26 25 @महीने के भीतर एंटोनेस्क्यु antonescu ने आयरन गार्ड को कुचल डाला और अगले वर्ष में रोमानिया अक्षीय शक्तियों की तरफ से युद्ध में शामिल हो गया#  -  @mahine ke bhitar antonescu ne iron guard ko kuchal dala aur agle varsh men romania alshiiy shaktiyon ki taraf se yuddh men shamil ho gaya#\n",
            "Skipping:  30 31 @परीक्षा के पत्रों की संख्या तो  ही रही किंतु दूसरा पत्र ऐच्छिक जिसमें विभिन्न विषयों के छात्र अपनी रुची के अनुसार अलगअलग विषयों का चुनाव करते थे समाप्त करदिया गया#  -  @parikshaa ke patron ki sankhayaa to  hi rahi kintu dusaraa ptra aichchhik jismein vibhinn vishayon ke chhaatr apni ruchi ke anusaar alagalaga visyon ka chunaav karte the samaapt kar diya gaya#\n",
            "Skipping:  12 13 @ओलीटिक्स शब्दावली यिनके राजनैतिक दृढता एवम् राष्ट्रिय प्रतिज्ञाके खातिर चयन किया था#  -  @aulitiks shabdavali jinke rajnaitik dridhta evam rashtriya pratigya ke khatir chayan kiya tha#\n",
            "Skipping:  13 14 @भारत ने ऑस्ट्रेलिया और न्यूजीलैंड से जुड़े त्रिकोणीय वनडे टूर्नामेंट में हिस्सा लिया#  -  @bharat ne australia aur new zealand se jude trikoniy oneday tournament men hissa liya#\n",
            "Skipping:  13 12 @इसमें बीबीक्यू bbq सॉस जोड़कर जर्मनी में स्थायी रूप से बेचा जाता है#  -  @ismen bbq sauce jodkar germany mein sthayi rup se beja chata hai#\n",
            "Skipping:  7 6 @जो बिहारी एक तरफ लिखते हैं —#  -  @jo bihari ek taraf likhate hain#\n",
            "Skipping:  9 8 @डॉली चावला — ज्योति शंकर सुराना विजय की पत्नी#  -  @dolly chawla  jyoti shankar surana vijay ki patni#\n",
            "Skipping:  14 12 @कैरी ने  में युक् युक् टोरंटो ओंटारियो से कॉमेडी की शुरू आत की थी#  -  @carrey ne  mein uk toronto  ontario se comedy ki shuruaat ki thi#\n",
            "Skipping:  12 11 @रेवा rewa प्रशांत महासागर में स्थित फ़िजी देश का एक प्रान्त है#  -  @rewa rashant mahasagar men sthit fiji desh ka ek prant hai#\n",
            "Skipping:  15 16 @बोगरा का युद्ध भारत पाक युद्ध  का भाग था जो वर्तमान बांग्लादेश में हुआ था#  -  @bogra ka yudh bharat paak yudh १९७१ ka bhag tha jo vartaman bangladesh mein hua tha#\n",
            "Skipping:  16 17 @शिल्प और भाषा की दृष्टि से भी प्रेमचंद ने हिन्दी उपन्यास को विशिष्ट स्तर प्रदान किया#  -  @shilp aur bhasha ki drushti se bhi premchand ne hindi upnyaas ko vishisht star pradan kiya …#\n",
            "Skipping:  28 27 @एक अन्य परंपरा कालिदास के अभिज्ञान शाकुंतल से इस प्रकार मिलती है कि दुष्यंत के वंशज कुरु थे जिनके दूसरे पुत्र की शाखा में राजा उपरिचरवसु हुए थे#  -  @ek any parampara kalidaas ke  abhbihgyan shakuntal se is prakar milti hai dushyant ke vanshaj kuru the jinke dusre putr ki shakha men raja upricharwasu huye the#\n",
            "Skipping:  21 22 @कानपुर में हिन्दूमुस्लिम दंगा भड़क उठा जिसे शान्त करवाने की कोशिश में क्रान्तिकारियों के शुभचिन्तक गणेशशंकर विद्यार्थी भी शहीद हो गये#  -  @kanpur mein hindumuslim danga bhadak utha jise shaant karvaane ki koshish mein krantikariyon ke shubhchintak ganesh shankar vidyarthi bhi shaheed ho gaye#\n",
            "Skipping:  5 6 @इसके लेखकलाला श्रीनिवास दास हैं#  -  @iske lekhak lala shrinivaas das hain#\n",
            "Skipping:  23 22 @कई कुत्तों के बालों के मिश्रित पैटर्न होते हैं पूरे शरीर पर घुंघराले बाल लेकिन पूंछ और कान पर लहराते बाल होते हैं#  -  @kai kutton ke balon ke mishrit patern hote hain pure sharir par ghungrale baal lekin punchh aur kaan lahraate baal hote hain#\n",
            "Skipping:  19 20 @जब पैर में काँटा चुभता है तब आखोँ से पानी आता है और हाथ काँटा निकालनेके लिए जाता है#  -  @jab pair mein kaantaa chubhataa hai tab aakhon se pani aataa hai aur haath kaantaa nikalane ke liye jata hai#\n",
            "Skipping:  29 28 @यही नहीं इन प्रतिरूपों द्वारा क्रियावान पुरु ष के उन गणितीय संकल्पनाओं का बोध कराया जा सकता है जो गणित की अपूर्व प्रतिभावाले व्यक्ति के लिए स्वत बोधगम्य हों#  -  @yahi nahi in pratiroopon dvara kiryavaan purush ke un ganitiya sankapnaon ka bodh karaya jaa sakta hai jo ganit ki apurva pratibhavale vyakti ke liye swatah bodhgamya hon#\n",
            "Skipping:  25 24 @लेफ्टिनेंट उमर फ़ैयाज़ परे का  मई  की रात को जम्मू और कश्मीर के शोपियां जिले में उनके रिश्तेदार के घर से अपहरण कर लिया गया#  -  @lieunent omar faiyaz pare ka  may  kii raat jammu aur kashmir ke shopiyan jile men unke rishtedar ke ghar se apharan kar liya gaya#\n",
            "Skipping:  22 21 @स्नायु व्यायाम या न्युरोबिक्स neurobics मानसिक व्यायामों को कहते हैं जिनके करने से मस्तिष्क की क्षमता बढ़ने का दावा किया जाता है#  -  @snayu vyayam ya neurobics manasik vyayamon ko kahate hain jinke karne se mastishaka ki kshamata badhane ka dava kiya jata hai#\n",
            "Skipping:  19 20 @गंगोत्री ग्लेशियर संस्कृत नेपाली और हिन्दी गंगोत्री उत्तरकाशी जिला उत्तराखण्ड भारत में स्थित हैजिसकी सीमा तिब्बत से लगती है#  -  @gangotri glacier sanskrut nepali aur hindi gangitri uttarkashi zilla uttarakhand bharat men sthit hai jiski sima tiber se lagti hai#\n",
            "Skipping:  8 7 @लिली पटेल — सावित्री देवी जया की नानी#  -  @lili patel  savitri devi jaya ki nani#\n",
            "Skipping:  10 11 @वीडियो यू ट्यूब पर देखेंथानेश्वर महादेव मन्दिर कुरुक्षेत्र की यात्रा#  -  @vidiyo you tube pr dekhe thaneshwar mahadev mandir kurukshetra ki yatra#\n",
            "Skipping:  10 9 @तरुणा निरंकारी — रिचा शर्मा जया की दूसरी बड़ी बहन#  -  @taruna nirankari  richa sharma jaya ki dusri badi bahan#\n",
            "Skipping:  41 42 @ई सं  के लगभग बहुत से वैज्ञानिकों को विश्वास था कि विमिय एमसिद्धांत जिसे पाँच पर्टर्बेटिव विचलन परमस्ट्रिंग सिद्धांतों में से एक द्वारा कुछ सीमाओं के द्वारा व्याख्या की जाती है और अन्य अधिकतम परमसममितिय  विमिय परमगुरुत्व द्वारा सर्वतत्व सिद्धांत है#  -  @es  ke lagbhag bahut se vigyanikon ko vishwas that ki vimiya m siddhant jise panch perturbitive vichalan permstring siddhanton men se ek dwara kuch simaon ke dwara vyakhya ki jati hai aur anya adhiktam paramsammitay vimiya paran gurutwa dwara sarvatatva siddhant hai#\n",
            "Skipping:  11 10 @तीन वर्ष से ही बच्चों की भाषा का विकास होता है#  -  @teen varsh se bacchhon ki bhasha ka vikaas hota hai#\n",
            "Skipping:  10 11 @प्रधानमंत्री टॉम थाबाने सरकार के मुखिया है और कार्यकारी अधिकारहै#  -  @pradhanmantri tom thabane sarkar ke mukhiya hai aur karyakari adhikar hai#\n",
            "Skipping:  21 20 @संयोग से फारसी शब्द वार आक्रमण और अंग्रेजी शब्द war वार में उच्चारण और रूपसाम्य ही नहीं युद्धविषयक भावसाम्य भी है#  -  @sanyog se farsi shabd var akraman aur angreji shabd war men uchharan aur rupsamya hi nahi yuddhavishayak bhavsamya bhi hai#\n",
            "Skipping:  22 23 @में न्यूज़ीलैंड में अपनी अंतिम पारी में मैच जीतने वाले शानदार  रन बनाने के बाद उन्होंने अंतरराष्ट्रीय क्रिकेट से संन्यास ले लिया#  -  @men new zealand men apni antim pari men match jitne wale shandar  ran banane ke baad unhone antarrashtriy cricket se sannyas le liya#\n",
            "Skipping:  36 34 @शेयरसन लोएब रोड्स स्वयं ही  के दशक में कई विलयों का जनक था जिनमें  का वेइल्स हेडन स्टोन एंड कंपनी का शेयरसन हेडन स्टोन से शेयरसन हैम्मिल एंड कंपनी के साथ किया गया विलय शामिल है#  -  @sheyson loab rhods swaym hi  ke dashak men kaii vilayon ka janak tha jinmen  ka wedls heden stone  company ka sheyarson heden stone se sheyarson hammil  company ke sath kya gya vilay shamil hai#\n",
            "Skipping:  8 9 @वेस्टइंडीज टॉस जीता और मैदान पर चुने गए#  -  @west indies toss jeeta aur maindan par chune gaya#\n",
            "Skipping:  32 30 @गोया विशेषज्ञ पियरे गेसिअर  के अनुसार गोया की व्यक्तिगत एल्बम चित्रकला के केटलॉग रेसोने में गोया प्रत्यक्ष रूप से गुलिवर ट्रेवल्स के अध्याय i के भाग i से प्रेरित दिखाई देते हैं#  -  @goya vishash piyre gesiar  ke anusaar goya ki vyaktigat album chitrkala ke ketlog resone men goya pratyaksh roop se guliwar travals kee adhyay  ke bhag  se prerit dikhai dete hain#\n",
            "Skipping:  17 18 @में राबिनको शिमॉन पेरेझ और यासिर अराफ़ात के साथ नोबेल शांति पुरस्कार से सम्मानित किया गया था#  -  @mein robin ko shimon peres aur yasser arafat ke saath nobel shaanti puraskaar se sammanit kiya gaya tha#\n",
            "Skipping:  20 19 @गांगुली क्षितींद्र नाथ मजूमदार यामिनी राय तथा गगनेंद्र नाथ टैगोर के चित्रों का संग्रह इस संग्रहालय की अमूल्य निधि है#  -  @gangulishitindra nath majumdar yamini rai tatha gagnendra nath tagore ke chitron ka sangrah is sangralay ki amulya nidhi hai#\n",
            "Skipping:  11 10 @इसके तीन देष्काणों में उनके स्वामी ’शुक्रशुक्र” शुक्रबुध’ और शुक्रशनि हैं#  -  @iske teen deshkanon men unke swami shukrshukr  shukrbudhaur shukrshani hain#\n",
            "Skipping:  7 6 @सृष्टि जैन — जया समर की पत्नी#  -  @srushti jain  jaya samar ki patni#\n",
            "Skipping:  23 22 @बड़े उत्तरी मांसाहारी जानवरों जैसे वॉलरस आदि की एक चमकाई हुई और नक़्क़ाशीदार स्तंभास्थि को अलास्काई संस्कृति मे उसिक oosik कहा जाता है#  -  @bade uttari mansahari janvaron jaise walrus aadi ki ek chamkai hui aur makkashidar stambhsthi ko alaskai sanskruti men oosik kaha jata hai#\n",
            "Skipping:  27 28 @न्यूज़ीलैंड बैंकर्स एसोसिएशन उद्योग मानकों और कुछ मामलों में नीतियां स्थापित करता है लेकिन भुगतान सेवा संस्थाओं की अपनी शासन व्यवस्था व्यापार रणनीतियां और नियमें होती हैं#  -  @new zealand bankers association udyog manakon aur kuch mamlon men nitiyan sthapit karta hai lekin bhugtan seva sanasthaon ki apne shasan vyavastha vyapar rannitiyan aur niyamen hoti hain#\n",
            "Skipping:  27 26 @जोहड़बांध नदी के पुनर्जीवन कार्य में प्रयास करने वाली संस्थाएं तरुण भारत संघ राजीव गांधी फाउण्डेशन जल बिरादरी के साथ सपोटरा डांग की  ग्राम सभाओं के ग्रामवासी#  -  @johadbandh  nadi ke punrjivan kary men prayaas wali sansthayen tarun bharat sangh rajiv gandhi foundation jal biradari ke saath sapotara dang ki  gram sabhaon ke gramwasi#\n",
            "Skipping:  8 7 @सेना में पैदल अश्वारोही और हाथी होते थे#  -  @sena men paidal ashwaarohi aur hathi the#\n",
            "Skipping:  29 28 @यह विशेषकर विंडोज़  के लिये बनाया गया है हालाँकि यह विंडोज़ ऍक्सपी पर भी चलता है परन्तु ऍक्सपी के लिये यह इण्डिक ऍक्सपी प्लस में पहले से शामिल है#  -  @yah visheshkar windows  liye banaya gaya hai halanki yah windows xp par bhi chalta hai parantu xp ke liye yah indic xp plus men pahle se shamil hai#\n",
            "Skipping:  21 20 @दारु या जाइलम xylem पौधों में पाये जाने वाले दो संवहन ऊतको में से एक है दूसरा संवहन ऊतक फ्लोएम है#  -  @daru ya xylem paudhom men paye jane wale do sanvahan utakon men se ek hai dusra sanvahan utak floem hain#\n",
            "Skipping:  22 21 @रूपेश ने रुतु के साथ से शादी की है उनके पिता और चाचा रूपेश की तरह वह एक चित्रकार और कार्टूनिस्ट है#  -  @rupesh ne ritu ke sath shadi ki hai unake pita aur chacha rupesh ki tarah vah ek chitrakar aur kartunist hai#\n",
            "Skipping:  3 4 @भारतीय शिक्षाका इतिहास#  -  @bhartiya shiksha ka itihas#\n",
            "Skipping:  9 8 @माही शर्मा — शिखा शर्मा जया की बड़ी बहन#  -  @mahi sharma  sikha sharma jaya ki badi behan#\n",
            "Skipping:  42 43 @पवित्र उपवन  यह एक पर्यावरणीय संकल्पना है  इसे अंग्रेजी भाषा में sacred grove सेक्रेड ग्रोव थी मराठी भाषा में देवराई नामसे जाना जाता है  भारतमें तथा विदेश में भी इस उपवन की संकल्पना है  विदेशमें इसे चर्च फॉरेस्ट नामसे जाना जाता है#  -  @pavitra upvan  yah ek paryavaraniya sankalpna hai  ise angreji bhasha me sacred grove sacred grove thi marathi bhasha me devrai namse jana jata hai  bharat me tatha videsh me bhi is upvan ki sankalpna hai videsh mem isechurch forestnam se jana jata hai#\n",
            "Skipping:  19 20 @जानकी मन्दिर नेपाली  जानकी मन्दिर नेपाल के जनकपुर के केन्द्र में स्थित एक हिन्दू मन्दिर एवं ऐतिहासिक स्थल है#  -  @janki mandir nepali janki mandir mepal ke janak pur ke kendra men sthit ek hindu mandir evam aitihasik sthal hai#\n",
            "Skipping:  20 21 @जून  को भोपाल में आयोजित समारोह में मध्यप्रदेश के तत्कालीन मुख्यमंत्री कैलाश जोशी ने श्रीराय को ये सम्मान प्रदान किया#  -  @june  ko bhopal men ayojit samaroh men madhya pradesh ke tatkalin mukhyamantri kailas joshi ne shrirai ko ye samman pradan kiya#\n",
            "Skipping:  9 8 @हेमंत चौधरी — गौरी शंकर सुराना समर के पिता#  -  @hemant chaudhari  gauri shankar surana samar ke pita#\n",
            "Skipping:  10 9 @प्रिओम गुज्जर — विजय शंकर सुराना समर का चचेरा भाई#  -  @priyom gujjar  vijay shankar surana samar ka chacera bhai#\n",
            "Skipping:  59 58 @कुड़मी सम्पूर्ण झारखंड  जिला छोड़कर बंगाल के पुरूलिया बांकुड़ा व मिदनापुर उड़ीसा के क्योंझर मयूरभंज व सुंदरगढ वृहत् झारखंड क्षेत्र तथा असम एवं छत्तीसगढ़ के कुछ क्षेत्रों में निवासरत टोटेमिक गुस्टिधारी कुर्मी मूलत द्रविड़ प्रजाति के आदिवासि समुदाय के लोग हैं जिनकी अपनी स्वायत्त व समृद्धशाली भाषा कुड़मालि है एवं विशिष्ट आदि सभ्यतासंस्कृति परंपरा व रीतिरिवाजों के धारकवाहक हैं#  -  @kudmi sampurn zarkhand  jila chodkar bangal ke puruliya bankuda v midnapur ke kyojar mayurbhanj v sundargadh vakrut zarkhand shetra tatha asam yeon chhattisgadh ke kuch shetron men nivasarat  totemik gushtidhari kurmi mulat dravid prajati ke adiwasi samuday ke log hai jinki apni swayatt v samruddhshali bhasha kudmali hai yeon vishisht aadi sabhyatasanskruti parampara v ritiriwajo ke dharakvahak hain#\n"
          ]
        }
      ],
      "source": [
        "train_data, train_sents = create_dataset(l_train)\n",
        "test_data, test_sents = create_dataset(l_test)"
      ]
    },
    {
      "cell_type": "code",
      "execution_count": null,
      "metadata": {
        "colab": {
          "base_uri": "https://localhost:8080/"
        },
        "id": "RDp--DDk22_h",
        "outputId": "312663bf-82a8-4ac7-c2fc-93017571f16c"
      },
      "outputs": [
        {
          "data": {
            "text/plain": [
              "(['@इसके', 'आने', 'से', 'पूर्व', 'ही', 'लोग', 'घरों', 'की', 'सफाई', 'का'],\n",
              " ['@iske', 'aane', 'se', 'purva', 'hi', 'log', 'gharon', 'ki', 'safai', 'ka'])"
            ]
          },
          "execution_count": 148,
          "metadata": {},
          "output_type": "execute_result"
        }
      ],
      "source": [
        "train_data[0][:10],train_data[1][:10]"
      ]
    },
    {
      "cell_type": "code",
      "execution_count": null,
      "metadata": {
        "colab": {
          "base_uri": "https://localhost:8080/"
        },
        "id": "DDX5wiBy28vJ",
        "outputId": "aeacd9f9-cc16-4b39-e61e-115cbff9586a"
      },
      "outputs": [
        {
          "data": {
            "text/plain": [
              "(['@कुंभ',\n",
              "  'राशि',\n",
              "  'में',\n",
              "  'जन्मे',\n",
              "  'लोग',\n",
              "  'संभावनाओं',\n",
              "  'से',\n",
              "  'भरी',\n",
              "  'एक',\n",
              "  'जगह'],\n",
              " ['@kumbh',\n",
              "  'rashi',\n",
              "  'men',\n",
              "  'janme',\n",
              "  'log',\n",
              "  'sambhavnaon',\n",
              "  'se',\n",
              "  'bhari',\n",
              "  'ek',\n",
              "  'jagah'])"
            ]
          },
          "execution_count": 149,
          "metadata": {},
          "output_type": "execute_result"
        }
      ],
      "source": [
        "test_data[0][:10],test_data[1][:10]"
      ]
    },
    {
      "cell_type": "code",
      "execution_count": null,
      "metadata": {
        "colab": {
          "base_uri": "https://localhost:8080/"
        },
        "id": "Soj7fLrc4K1N",
        "outputId": "09b2b11e-1991-4fc1-db40-3e78ef24c1fb"
      },
      "outputs": [
        {
          "data": {
            "text/plain": [
              "(85161, 85161, 86526, 86526)"
            ]
          },
          "execution_count": 150,
          "metadata": {},
          "output_type": "execute_result"
        }
      ],
      "source": [
        "len(test_data[0]),len(test_data[1]),len(train_data[0]),len(train_data[1])"
      ]
    },
    {
      "cell_type": "markdown",
      "metadata": {
        "id": "w1qKXvZt4Whe"
      },
      "source": [
        "Combine the test and train data. So that we can split train and test set according to our needs."
      ]
    },
    {
      "cell_type": "code",
      "execution_count": null,
      "metadata": {
        "colab": {
          "base_uri": "https://localhost:8080/"
        },
        "id": "jO50_sOR4R-5",
        "outputId": "cc928195-ff67-4b63-cf61-d17ccabf1830"
      },
      "outputs": [
        {
          "name": "stdout",
          "output_type": "stream",
          "text": [
            "171687 171687\n"
          ]
        }
      ],
      "source": [
        "train_data[0].extend(test_data[0])\n",
        "train_data[1].extend(test_data[1])\n",
        "\n",
        "print(len(train_data[0]),len(train_data[1]))"
      ]
    },
    {
      "cell_type": "code",
      "execution_count": null,
      "metadata": {
        "colab": {
          "base_uri": "https://localhost:8080/"
        },
        "id": "zFOQQuTH4Yv7",
        "outputId": "335bd3a2-12c9-4c03-d265-2e1a48256603"
      },
      "outputs": [
        {
          "data": {
            "text/plain": [
              "('मल्होत्रा#', 'malhotra#')"
            ]
          },
          "execution_count": 152,
          "metadata": {},
          "output_type": "execute_result"
        }
      ],
      "source": [
        "train_data[0][-1],train_data[1][-1]"
      ]
    },
    {
      "cell_type": "code",
      "execution_count": null,
      "metadata": {
        "colab": {
          "base_uri": "https://localhost:8080/"
        },
        "id": "xmzafDk24aYE",
        "outputId": "06cecaf7-b7c9-4da6-9017-17a495818916"
      },
      "outputs": [
        {
          "data": {
            "text/plain": [
              "(171687, 171687)"
            ]
          },
          "execution_count": 153,
          "metadata": {},
          "output_type": "execute_result"
        }
      ],
      "source": [
        "len(train_data[0]),len(train_data[1])"
      ]
    },
    {
      "cell_type": "code",
      "execution_count": null,
      "metadata": {
        "id": "dMX2bnuN4cMZ"
      },
      "outputs": [],
      "source": [
        "# storing word2index and index2word mappings for both language.\n",
        "class WordIndex():\n",
        "  def __init__(self, lang):\n",
        "    self.lang = lang\n",
        "    self.word2idx = {}\n",
        "    self.idx2word = {}\n",
        "    self.vocab = set()\n",
        "    \n",
        "    self.create_index()\n",
        "    \n",
        "  def create_index(self):\n",
        "    for phrase in self.lang:\n",
        "      for l in phrase:\n",
        "        self.vocab.update(l)\n",
        "    \n",
        "    self.vocab = sorted(self.vocab)\n",
        "    \n",
        "    self.word2idx['<pad>'] = 0\n",
        "    for index, word in enumerate(self.vocab):\n",
        "      self.word2idx[word] = index + 1\n",
        "    \n",
        "    for word, index in self.word2idx.items():\n",
        "      self.idx2word[index] = word"
      ]
    },
    {
      "cell_type": "markdown",
      "metadata": {
        "id": "93ermi8R4rCH"
      },
      "source": [
        "Helper functions to create Lang vocab and tensors from words."
      ]
    },
    {
      "cell_type": "code",
      "execution_count": null,
      "metadata": {
        "id": "tPDET0wv4tVp"
      },
      "outputs": [],
      "source": [
        "def max_length(tensor):\n",
        "    return max(len(t) for t in tensor)\n",
        "\n",
        "def load_dataset(pairs):\n",
        "\n",
        "    # index language using the class defined above    \n",
        "    inp_lang = WordIndex(pairs[0])\n",
        "    targ_lang = WordIndex(pairs[1])\n",
        "    \n",
        "    # Vectorize the input and target languages\n",
        "    \n",
        "    # words in roman (eng)\n",
        "    input_tensor = [[inp_lang.word2idx[s] for s in en] for en in pairs[0]]\n",
        "    \n",
        "    # words in native (hin)\n",
        "    target_tensor = [[targ_lang.word2idx[s] for s in hn] for hn in pairs[1]]\n",
        "    \n",
        "    # Calculate max_length of input and output tensor\n",
        "    # Here, we'll set those to the longest sentence in the dataset\n",
        "    max_length_inp, max_length_tar = max_length(input_tensor), max_length(target_tensor)\n",
        "    \n",
        "    # Padding the input and output tensor to the maximum length\n",
        "    input_tensor = tf.keras.preprocessing.sequence.pad_sequences(input_tensor, \n",
        "                                                                 maxlen=max_length_inp,\n",
        "                                                                 padding='post')\n",
        "    \n",
        "    target_tensor = tf.keras.preprocessing.sequence.pad_sequences(target_tensor, \n",
        "                                                                  maxlen=max_length_tar, \n",
        "                                                                  padding='post')\n",
        "    \n",
        "    return input_tensor, target_tensor, inp_lang, targ_lang, max_length_inp, max_length_tar"
      ]
    },
    {
      "cell_type": "code",
      "execution_count": null,
      "metadata": {
        "id": "iAb8Lyf94znH"
      },
      "outputs": [],
      "source": [
        "input_tensor, target_tensor, inp_lang, targ_lang, max_length_inp, max_length_targ = load_dataset(train_data)"
      ]
    },
    {
      "cell_type": "code",
      "execution_count": null,
      "metadata": {
        "colab": {
          "base_uri": "https://localhost:8080/"
        },
        "id": "a7Z9qxp26IRt",
        "outputId": "c1e14d66-e7d5-45fb-afb4-35c8bad2ed35"
      },
      "outputs": [
        {
          "name": "stdout",
          "output_type": "stream",
          "text": [
            "171687 171687\n"
          ]
        }
      ],
      "source": [
        "print(len(input_tensor),len(target_tensor))"
      ]
    },
    {
      "cell_type": "markdown",
      "metadata": {
        "id": "6Ec3g-Dz5Srk"
      },
      "source": [
        "Function to convert tensor to word and print."
      ]
    },
    {
      "cell_type": "code",
      "execution_count": null,
      "metadata": {
        "id": "ka4fSi1a5TuR"
      },
      "outputs": [],
      "source": [
        "def convert(lang, tensor):\n",
        "  for t in tensor:\n",
        "    if t!=0:\n",
        "      print (\"%d ----> %s\" % (t, lang.idx2word[t]))"
      ]
    },
    {
      "cell_type": "code",
      "execution_count": null,
      "metadata": {
        "colab": {
          "base_uri": "https://localhost:8080/"
        },
        "id": "mJSdV97v5Vkc",
        "outputId": "f26630c0-b886-4123-eb8f-751e807e17f3"
      },
      "outputs": [
        {
          "name": "stdout",
          "output_type": "stream",
          "text": [
            "70 ----> म\n",
            "73 ----> ल\n",
            "96 ----> ्\n",
            "80 ----> ह\n",
            "94 ----> ो\n",
            "60 ----> त\n",
            "96 ----> ्\n",
            "72 ----> र\n",
            "82 ----> ा\n",
            "1 ----> #\n",
            "15 ----> m\n",
            "3 ----> a\n",
            "14 ----> l\n",
            "10 ----> h\n",
            "17 ----> o\n",
            "22 ----> t\n",
            "20 ----> r\n",
            "3 ----> a\n",
            "1 ----> #\n"
          ]
        }
      ],
      "source": [
        "convert(inp_lang,input_tensor[-1])\n",
        "convert(targ_lang,target_tensor[-1])"
      ]
    },
    {
      "cell_type": "markdown",
      "metadata": {
        "id": "RZYUGjVv5ZUj"
      },
      "source": [
        "Train and Test split."
      ]
    },
    {
      "cell_type": "code",
      "execution_count": null,
      "metadata": {
        "colab": {
          "base_uri": "https://localhost:8080/"
        },
        "id": "wB3dTfuH5XY_",
        "outputId": "8f621161-dec7-4fdf-f42a-ed6f3492aad1"
      },
      "outputs": [
        {
          "data": {
            "text/plain": [
              "(128765, 128765, 42922, 42922)"
            ]
          },
          "execution_count": 160,
          "metadata": {},
          "output_type": "execute_result"
        }
      ],
      "source": [
        "input_tensor = input_tensor[:200000]\n",
        "target_tensor = target_tensor[:200000]\n",
        "input_tensor_train, input_tensor_val, target_tensor_train, target_tensor_val = train_test_split(input_tensor, target_tensor, test_size=0.25)\n",
        "\n",
        "# Show length\n",
        "len(input_tensor_train), len(target_tensor_train), len(input_tensor_val), len(target_tensor_val)"
      ]
    },
    {
      "cell_type": "markdown",
      "metadata": {
        "id": "ffPl-hNJ5fD9"
      },
      "source": [
        "Some hyper-parameters."
      ]
    },
    {
      "cell_type": "code",
      "execution_count": null,
      "metadata": {
        "id": "B22OLUej5dSa"
      },
      "outputs": [],
      "source": [
        "BUFFER_SIZE = len(input_tensor_train)\n",
        "BATCH_SIZE = 256\n",
        "steps_per_epoch = len(input_tensor_train)//BATCH_SIZE\n",
        "val_steps_per_epoch = len(input_tensor_val)//BATCH_SIZE\n",
        "embedding_dim = 256\n",
        "units = 1024\n",
        "vocab_inp_size = len(inp_lang.word2idx)+1\n",
        "vocab_tar_size = len(targ_lang.word2idx)+1"
      ]
    },
    {
      "cell_type": "code",
      "execution_count": null,
      "metadata": {
        "id": "Jo6CXSgT5hJt"
      },
      "outputs": [],
      "source": [
        "dataset = tf.data.Dataset.from_tensor_slices((input_tensor_train, target_tensor_train)).shuffle(BUFFER_SIZE)\n",
        "dataset = dataset.batch(BATCH_SIZE, drop_remainder=True)\n",
        "val_dataset = tf.data.Dataset.from_tensor_slices((input_tensor_val, target_tensor_val))\n",
        "val_dataset = val_dataset.batch(BATCH_SIZE, drop_remainder=True)"
      ]
    },
    {
      "cell_type": "code",
      "execution_count": null,
      "metadata": {
        "colab": {
          "base_uri": "https://localhost:8080/"
        },
        "id": "bMNyZQab5jh6",
        "outputId": "fb8b80d6-386f-460b-8ca5-bccf2eea5236"
      },
      "outputs": [
        {
          "data": {
            "text/plain": [
              "(TensorShape([256, 32]), TensorShape([256, 35]))"
            ]
          },
          "execution_count": 163,
          "metadata": {},
          "output_type": "execute_result"
        }
      ],
      "source": [
        "example_input_batch, example_target_batch = next(iter(dataset))\n",
        "example_input_batch.shape, example_target_batch.shape"
      ]
    },
    {
      "cell_type": "markdown",
      "metadata": {
        "id": "NHE32ts35mlh"
      },
      "source": [
        "Let's build the model.\n",
        "The encoder : it will consume input and produce a thought vector which will be the input of the decoder."
      ]
    },
    {
      "cell_type": "code",
      "execution_count": null,
      "metadata": {
        "id": "oBVNw0x95lUx"
      },
      "outputs": [],
      "source": [
        "class Encoder(tf.keras.Model):\n",
        "  def __init__(self, vocab_size, embedding_dim, enc_units, batch_sz):\n",
        "    super(Encoder, self).__init__()\n",
        "    self.batch_sz = batch_sz\n",
        "    self.enc_units = enc_units\n",
        "    self.embedding = tf.keras.layers.Embedding(vocab_size, embedding_dim)\n",
        "    self.gru = tf.keras.layers.GRU(self.enc_units,\n",
        "                                   return_sequences=True,\n",
        "                                   return_state=True,\n",
        "                                   recurrent_initializer='glorot_uniform')\n",
        "    self.norm = tf.keras.layers.LayerNormalization()\n",
        "    self.layer = tf.keras.layers.Dropout(.1)\n",
        "    self.LSTM = tf.keras.layers.LSTM(self.enc_units,\n",
        "                                   return_sequences=True,\n",
        "                                   return_state=True,\n",
        "                                   recurrent_initializer='glorot_uniform',\n",
        "                                   trainable=True)\n",
        "\n",
        "  def call(self, x):\n",
        "    embedding = self.embedding(x)\n",
        "    outputs, hidden, cell = self.LSTM(embedding)\n",
        "    return hidden, cell\n",
        "\n"
      ]
    },
    {
      "cell_type": "code",
      "execution_count": null,
      "metadata": {
        "colab": {
          "base_uri": "https://localhost:8080/"
        },
        "id": "Q0CkK3WK5rVy",
        "outputId": "a8f3ed92-b3ae-49d3-ea5d-04d75f1db801"
      },
      "outputs": [
        {
          "name": "stdout",
          "output_type": "stream",
          "text": [
            "Encoder output shape: (batch size, sequence length, units) (256, 1024)\n",
            "Encoder Hidden state shape: (batch size, units) (256, 1024)\n"
          ]
        }
      ],
      "source": [
        "encoder = Encoder(vocab_inp_size, embedding_dim, units, BATCH_SIZE)\n",
        "\n",
        "# sample input\n",
        "sample_hidden, sample_cell = encoder(example_input_batch)\n",
        "print ('Encoder output shape: (batch size, sequence length, units) {}'.format(sample_cell.shape))\n",
        "print ('Encoder Hidden state shape: (batch size, units) {}'.format(sample_hidden.shape))"
      ]
    },
    {
      "cell_type": "markdown",
      "metadata": {
        "id": "GtmxfsMV50T5"
      },
      "source": [
        "The decoder : calculates the probablity of next character by taking encoder input."
      ]
    },
    {
      "cell_type": "code",
      "execution_count": null,
      "metadata": {
        "id": "BPziPaJu51FO"
      },
      "outputs": [],
      "source": [
        "class Decoder(tf.keras.Model):\n",
        "  def __init__(self, vocab_size, embedding_dim, dec_units, batch_sz):\n",
        "    super(Decoder, self).__init__()\n",
        "    self.batch_sz = batch_sz\n",
        "    self.dec_units = dec_units\n",
        "    self.embedding = tf.keras.layers.Embedding(vocab_size, embedding_dim)\n",
        "    self.gru = tf.keras.layers.GRU(self.dec_units,\n",
        "                                   return_sequences=True,\n",
        "                                   return_state=True,\n",
        "                                   recurrent_initializer='glorot_uniform')\n",
        "    self.fc = tf.keras.layers.Dense(vocab_size)\n",
        "    self.layer = tf.keras.layers.Dropout(.1)\n",
        "    self.norm = tf.keras.layers.LayerNormalization()\n",
        "    self.LSTM = tf.keras.layers.LSTM(self.dec_units,\n",
        "                                   return_sequences=True,\n",
        "                                   return_state=True,\n",
        "                                   recurrent_initializer='glorot_uniform', trainable=True)\n",
        "    #self.relu = tf.keras.activations.relu(x, alpha=0.0, max_value=None, threshold=0.0)\n",
        "\n",
        "  def call(self, x, hid_state, cell):\n",
        "\n",
        "    # x shape after passing through embedding == (batch_size, 1, embedding_dim)\n",
        "    x = self.layer(self.embedding(x))\n",
        "    #print(x.shape, self.dec_units, hid_state.shape)\n",
        "    encoder_test_states = [hid_state, cell]\n",
        "    output, state, cell = self.LSTM(x, initial_state=encoder_test_states)\n",
        "    #print(cell.shape)\n",
        "    prediction = self.fc(output)\n",
        "    return prediction, state, cell"
      ]
    },
    {
      "cell_type": "code",
      "execution_count": null,
      "metadata": {
        "colab": {
          "base_uri": "https://localhost:8080/"
        },
        "id": "EHJut2_Y53Nc",
        "outputId": "6fee4b0d-0bfd-4d00-f0b0-720fc71e16f6"
      },
      "outputs": [
        {
          "name": "stdout",
          "output_type": "stream",
          "text": [
            "(256, 1024) (256, 1024)\n",
            "Decoder output shape: (batch_size, vocab size) (256, 1, 45)\n"
          ]
        }
      ],
      "source": [
        "decoder = Decoder(vocab_tar_size, embedding_dim, units, BATCH_SIZE)\n",
        "print(sample_hidden.shape, sample_cell.shape)\n",
        "sample_decoder_output, _, _ = decoder(tf.random.uniform((256, 1)), sample_hidden, sample_cell)\n",
        "\n",
        "print ('Decoder output shape: (batch_size, vocab size) {}'.format(sample_decoder_output.shape))"
      ]
    },
    {
      "cell_type": "code",
      "execution_count": null,
      "metadata": {
        "id": "_TLy2S8z550n"
      },
      "outputs": [],
      "source": [
        "optimizer = tf.keras.optimizers.Adam(learning_rate=0.01, beta_1=0.9, beta_2=0.999, epsilon=1e-07, amsgrad=False, name='Adam')\n",
        "loss_object = tf.keras.losses.CategoricalCrossentropy( from_logits=True, reduction='none')\n",
        "\n",
        "def loss_function(real, pred):\n",
        "  mask = tf.math.logical_not(tf.math.equal(real, 0))\n",
        "  loss_ = loss_object(real, pred)\n",
        "\n",
        "  mask = tf.cast(mask, dtype=loss_.dtype)\n",
        "  loss_ *= mask\n",
        "\n",
        "  return tf.reduce_mean(loss_)"
      ]
    },
    {
      "cell_type": "markdown",
      "metadata": {
        "id": "fJVu3GMH57Xx"
      },
      "source": [
        "Adding checkpoints to store the model."
      ]
    },
    {
      "cell_type": "code",
      "execution_count": null,
      "metadata": {
        "id": "skKWM_Eb59hS"
      },
      "outputs": [],
      "source": [
        "checkpoint_dir = './training_checkpoints'\n",
        "checkpoint_prefix = os.path.join(checkpoint_dir, \"ckpt\")\n",
        "checkpoint = tf.train.Checkpoint(optimizer=optimizer,\n",
        "                                 encoder=encoder,\n",
        "                                 decoder=decoder)"
      ]
    },
    {
      "cell_type": "markdown",
      "metadata": {
        "id": "i7YkujRW5_xs"
      },
      "source": [
        "Training step function."
      ]
    },
    {
      "cell_type": "code",
      "execution_count": null,
      "metadata": {
        "id": "eiuEjKVnaZQS"
      },
      "outputs": [],
      "source": [
        "optimizer = tf.keras.optimizers.Adam(learning_rate=0.01, beta_1=0.9, beta_2=0.999, epsilon=1e-07, amsgrad=False, name='Adam')\n",
        "loss_object = tf.keras.losses.SparseCategoricalCrossentropy( from_logits=True, reduction='none')"
      ]
    },
    {
      "cell_type": "code",
      "execution_count": null,
      "metadata": {
        "id": "sino4tbT5_Lo"
      },
      "outputs": [],
      "source": [
        "@tf.function\n",
        "def train_step(inp, targ):\n",
        "  loss = 0\n",
        "\n",
        "  with tf.GradientTape() as tape:\n",
        "    state, cell = encoder(inp)\n",
        "\n",
        "    dec_state = state\n",
        "\n",
        "    dec_input = tf.expand_dims([targ_lang.word2idx['@']] * BATCH_SIZE, 1)\n",
        "    outputs = []\n",
        "    # Teacher forcing - feeding the target as the next input\n",
        "    for t in range(1, targ.shape[1]):\n",
        "      # passing enc_output to the decoder\n",
        "      predictions, dec_state, cell = decoder(dec_input, dec_state, cell)\n",
        "      outputs.append(predictions)\n",
        "\n",
        "      #loss += loss_function(targ[:, t], predictions)\n",
        "\n",
        "      # using teacher forcing\n",
        "      dec_input = tf.expand_dims(targ[:, t], 1)\n",
        "\n",
        "    outputs = tf.stack(outputs)\n",
        "    outputs = tf.squeeze(outputs,2)\n",
        "    outputs = tf.transpose(outputs, [1,0,2])\n",
        "    temp_targ = targ[:,1:targ.shape[1]]\n",
        "    temp_targ = tf.expand_dims(temp_targ, axis=2)\n",
        "    loss = loss_object(temp_targ, outputs)\n",
        "  batch_loss = (loss / int(targ.shape[1]))\n",
        "\n",
        "  variables = encoder.trainable_variables + decoder.trainable_variables\n",
        "\n",
        "  gradients = tape.gradient(loss, variables)\n",
        "\n",
        "  optimizer.apply_gradients(zip(gradients, variables))\n",
        "\n",
        "  return batch_loss"
      ]
    },
    {
      "cell_type": "code",
      "execution_count": null,
      "metadata": {
        "id": "SsGKxRkGlzZ5"
      },
      "outputs": [],
      "source": [
        "@tf.function\n",
        "def val_step(inp, targ):\n",
        "    loss = 0\n",
        "    state, cell = encoder(inp)\n",
        "\n",
        "    dec_state = state\n",
        "\n",
        "    dec_input = tf.expand_dims([targ_lang.word2idx['@']] * BATCH_SIZE, 1)\n",
        "    outputs = []\n",
        "    # Teacher forcing - feeding the target as the next input\n",
        "    for t in range(1, targ.shape[1]):\n",
        "        # passing enc_output to the decoder\n",
        "        predictions, dec_state, cell = decoder(dec_input, dec_state, cell)\n",
        "        outputs.append(predictions)\n",
        "\n",
        "        #loss += loss_function(targ[:, t], predictions)\n",
        "\n",
        "        # using teacher forcing\n",
        "        dec_input = tf.expand_dims(targ[:, t], 1)\n",
        "\n",
        "    outputs = tf.stack(outputs)\n",
        "    outputs = tf.squeeze(outputs,2)\n",
        "    outputs = tf.transpose(outputs, [1,0,2])\n",
        "    temp_targ = targ[:,1:targ.shape[1]]\n",
        "    temp_targ = tf.expand_dims(temp_targ, axis=2)\n",
        "    loss = loss_object(temp_targ, outputs)\n",
        "    batch_loss = (loss / int(targ.shape[1]))\n",
        "\n",
        "    return batch_loss"
      ]
    },
    {
      "cell_type": "code",
      "execution_count": null,
      "metadata": {
        "colab": {
          "base_uri": "https://localhost:8080/"
        },
        "id": "i2eQ0uoW-Sa2",
        "outputId": "82bfeadd-e4a4-4fa2-cdb2-264944c258b9"
      },
      "outputs": [
        {
          "name": "stdout",
          "output_type": "stream",
          "text": [
            "502\n"
          ]
        }
      ],
      "source": [
        "print(len(dataset.take(steps_per_epoch)))"
      ]
    },
    {
      "cell_type": "markdown",
      "metadata": {
        "id": "y17yLhZS6DtP"
      },
      "source": [
        "Training loop"
      ]
    },
    {
      "cell_type": "code",
      "execution_count": null,
      "metadata": {
        "id": "kEXHlXEx6FZp"
      },
      "outputs": [],
      "source": [
        "EPOCHS = 20\n",
        "loss_values = []\n",
        "val_loss_values = []\n",
        "\n",
        "for epoch in range(EPOCHS):\n",
        "    start = time.time()\n",
        "\n",
        "    #enc_hidden = encoder.initialize_hidden_state()\n",
        "    total_loss = 0\n",
        "    val_total_loss = 0\n",
        "\n",
        "    for (batch, (inp, targ)) in enumerate(dataset.take(steps_per_epoch)):\n",
        "        batch_loss = train_step(inp, targ)\n",
        "        total_loss += batch_loss\n",
        "\n",
        "    for (batch, (inp, targ)) in enumerate(val_dataset.take(val_steps_per_epoch)):\n",
        "        val_batch_loss = val_step(inp, targ)\n",
        "        val_total_loss += val_batch_loss\n",
        "\n",
        "    if batch % 100 == 0:\n",
        "        print('Epoch {} Batch {} Loss {:.4f}'.format(epoch + 1,\n",
        "                                                     batch,\n",
        "                                                     batch_loss.numpy()))\n",
        "    # saving (checkpoint) the model every 2 epochs\n",
        "    if (epoch + 1) % 2 == 0:\n",
        "        checkpoint.save(file_prefix = checkpoint_prefix)\n",
        "  \n",
        "    ep_loss = total_loss/steps_per_epoch\n",
        "    loss_values.append( tf.math.reduce_sum(ep_loss))\n",
        "    val_ep_loss = val_total_loss/val_steps_per_epoch\n",
        "    val_loss_values.append( tf.math.reduce_sum(val_ep_loss))\n",
        "\n",
        "    print('Epoch {} Train Loss {:.4f} Val Loss {:.4f}'.format(epoch + 1, tf.math.reduce_sum(ep_loss),tf.math.reduce_sum(val_ep_loss)))\n",
        "    print('Time taken for 1 epoch {} sec\\n'.format(time.time() - start))"
      ]
    },
    {
      "cell_type": "code",
      "execution_count": null,
      "metadata": {
        "colab": {
          "base_uri": "https://localhost:8080/"
        },
        "id": "OTlenFwgkqay",
        "outputId": "0bf3c8d0-29b0-4ce3-d97b-2d78589890da"
      },
      "outputs": [
        {
          "name": "stdout",
          "output_type": "stream",
          "text": [
            "tf.Tensor(11.194823, shape=(), dtype=float32)\n"
          ]
        }
      ],
      "source": [
        "print(tf.math.reduce_sum(ep_loss))"
      ]
    },
    {
      "cell_type": "code",
      "execution_count": null,
      "metadata": {
        "colab": {
          "base_uri": "https://localhost:8080/"
        },
        "id": "mY5HzNlGp-xe",
        "outputId": "d0260c78-f1e2-48fb-a352-c475839bbdf0"
      },
      "outputs": [
        {
          "name": "stdout",
          "output_type": "stream",
          "text": [
            "tf.Tensor(83.471794, shape=(), dtype=float32)\n",
            "tf.Tensor(37.73526, shape=(), dtype=float32)\n",
            "tf.Tensor(21.639324, shape=(), dtype=float32)\n",
            "tf.Tensor(16.245232, shape=(), dtype=float32)\n",
            "tf.Tensor(13.521946, shape=(), dtype=float32)\n",
            "tf.Tensor(12.213117, shape=(), dtype=float32)\n",
            "tf.Tensor(11.694338, shape=(), dtype=float32)\n",
            "tf.Tensor(11.360147, shape=(), dtype=float32)\n",
            "tf.Tensor(11.221128, shape=(), dtype=float32)\n",
            "tf.Tensor(11.126045, shape=(), dtype=float32)\n",
            "tf.Tensor(11.148183, shape=(), dtype=float32)\n",
            "tf.Tensor(10.971771, shape=(), dtype=float32)\n",
            "tf.Tensor(10.985806, shape=(), dtype=float32)\n",
            "tf.Tensor(11.03358, shape=(), dtype=float32)\n",
            "tf.Tensor(10.973411, shape=(), dtype=float32)\n",
            "tf.Tensor(10.993552, shape=(), dtype=float32)\n",
            "tf.Tensor(11.006184, shape=(), dtype=float32)\n",
            "tf.Tensor(11.10872, shape=(), dtype=float32)\n",
            "tf.Tensor(11.251514, shape=(), dtype=float32)\n",
            "tf.Tensor(11.194823, shape=(), dtype=float32)\n"
          ]
        }
      ],
      "source": [
        "fin_loss_values = []\n",
        "for i in loss_values :\n",
        "    print( tf.math.reduce_sum(i))\n",
        "    fin_loss_values.append( tf.math.reduce_sum(i))"
      ]
    },
    {
      "cell_type": "code",
      "execution_count": null,
      "metadata": {
        "colab": {
          "base_uri": "https://localhost:8080/",
          "height": 295
        },
        "id": "wz8Wy_jaI6oN",
        "outputId": "0f512317-53b3-4d42-c344-a887f83e49e4"
      },
      "outputs": [
        {
          "data": {
            "image/png": "[encoded data removed]",
            "text/plain": [
              "<Figure size 432x288 with 1 Axes>"
            ]
          },
          "metadata": {},
          "output_type": "display_data"
        }
      ],
      "source": [
        "plt.plot(fin_loss_values)\n",
        "plt.title('Train Loss vs Epoch')\n",
        "plt.xlabel('Epochs')\n",
        "plt.ylabel('Loss')\n",
        "plt.show()"
      ]
    },
    {
      "cell_type": "code",
      "execution_count": null,
      "metadata": {
        "colab": {
          "base_uri": "https://localhost:8080/"
        },
        "id": "dtLlYiVcqa14",
        "outputId": "110c2904-3e83-4261-c8b4-29ba24def506"
      },
      "outputs": [
        {
          "name": "stdout",
          "output_type": "stream",
          "text": [
            "tf.Tensor(55.00875, shape=(), dtype=float32)\n",
            "tf.Tensor(27.328793, shape=(), dtype=float32)\n",
            "tf.Tensor(18.529135, shape=(), dtype=float32)\n",
            "tf.Tensor(15.711255, shape=(), dtype=float32)\n",
            "tf.Tensor(14.373295, shape=(), dtype=float32)\n",
            "tf.Tensor(13.803789, shape=(), dtype=float32)\n",
            "tf.Tensor(13.626005, shape=(), dtype=float32)\n",
            "tf.Tensor(13.535666, shape=(), dtype=float32)\n",
            "tf.Tensor(13.405974, shape=(), dtype=float32)\n",
            "tf.Tensor(13.404148, shape=(), dtype=float32)\n",
            "tf.Tensor(13.328728, shape=(), dtype=float32)\n",
            "tf.Tensor(13.233696, shape=(), dtype=float32)\n",
            "tf.Tensor(13.270341, shape=(), dtype=float32)\n",
            "tf.Tensor(13.480684, shape=(), dtype=float32)\n",
            "tf.Tensor(13.3746, shape=(), dtype=float32)\n",
            "tf.Tensor(13.551226, shape=(), dtype=float32)\n",
            "tf.Tensor(13.266811, shape=(), dtype=float32)\n",
            "tf.Tensor(13.57432, shape=(), dtype=float32)\n",
            "tf.Tensor(13.586222, shape=(), dtype=float32)\n",
            "tf.Tensor(13.39279, shape=(), dtype=float32)\n"
          ]
        }
      ],
      "source": [
        "fin_val_loss_values = []\n",
        "for i in val_loss_values :\n",
        "    print( tf.math.reduce_sum(i))\n",
        "    fin_val_loss_values.append( tf.math.reduce_sum(i))"
      ]
    },
    {
      "cell_type": "code",
      "execution_count": null,
      "metadata": {
        "colab": {
          "base_uri": "https://localhost:8080/",
          "height": 295
        },
        "id": "w4A04-Ybu4yL",
        "outputId": "33c0d33c-a7c8-4fb1-e763-93f458cfe547"
      },
      "outputs": [
        {
          "data": {
            "image/png": "[encoded data removed]",
            "text/plain": [
              "<Figure size 432x288 with 1 Axes>"
            ]
          },
          "metadata": {},
          "output_type": "display_data"
        }
      ],
      "source": [
        "plt.plot(fin_loss_values)\n",
        "plt.plot(fin_val_loss_values)\n",
        "plt.title('Train Loss vs Epoch and Val Loss vs Epoch')\n",
        "plt.xlabel('Epochs')\n",
        "plt.ylabel('Loss')\n",
        "plt.show()"
      ]
    },
    {
      "cell_type": "code",
      "execution_count": null,
      "metadata": {
        "colab": {
          "base_uri": "https://localhost:8080/"
        },
        "id": "RglGvLH1Naaf",
        "outputId": "bbb2e44e-ff7d-43f9-be04-4978c201aee4"
      },
      "outputs": [
        {
          "name": "stdout",
          "output_type": "stream",
          "text": [
            "  adding: content/training_checkpoints/ (stored 0%)\n",
            "  adding: content/training_checkpoints/ckpt-9.data-00000-of-00001 (deflated 7%)\n",
            "  adding: content/training_checkpoints/ckpt-4.data-00000-of-00001 (deflated 7%)\n",
            "  adding: content/training_checkpoints/ckpt-2.data-00000-of-00001 (deflated 7%)\n",
            "  adding: content/training_checkpoints/ckpt-9.index (deflated 55%)\n",
            "  adding: content/training_checkpoints/ckpt-7.data-00000-of-00001 (deflated 7%)\n",
            "  adding: content/training_checkpoints/ckpt-1.index (deflated 55%)\n",
            "  adding: content/training_checkpoints/ckpt-4.index (deflated 55%)\n",
            "  adding: content/training_checkpoints/ckpt-3.data-00000-of-00001 (deflated 7%)\n",
            "  adding: content/training_checkpoints/ckpt-10.data-00000-of-00001 (deflated 7%)\n",
            "  adding: content/training_checkpoints/ckpt-6.index (deflated 55%)\n",
            "  adding: content/training_checkpoints/ckpt-2.index (deflated 55%)\n",
            "  adding: content/training_checkpoints/ckpt-3.index (deflated 55%)\n",
            "  adding: content/training_checkpoints/ckpt-8.index (deflated 55%)\n",
            "  adding: content/training_checkpoints/ckpt-5.data-00000-of-00001 (deflated 7%)\n",
            "  adding: content/training_checkpoints/ckpt-5.index (deflated 55%)\n",
            "  adding: content/training_checkpoints/ckpt-8.data-00000-of-00001 (deflated 7%)\n",
            "  adding: content/training_checkpoints/ckpt-6.data-00000-of-00001 (deflated 7%)\n",
            "  adding: content/training_checkpoints/ckpt-1.data-00000-of-00001 (deflated 8%)\n",
            "  adding: content/training_checkpoints/ckpt-10.index (deflated 55%)\n",
            "  adding: content/training_checkpoints/ckpt-7.index (deflated 55%)\n",
            "  adding: content/training_checkpoints/checkpoint (deflated 38%)\n"
          ]
        }
      ],
      "source": [
        "!zip -r /content/checkpoints.zip /content/training_checkpoints"
      ]
    },
    {
      "cell_type": "code",
      "execution_count": null,
      "metadata": {
        "id": "puYH-RDsQR2Z"
      },
      "outputs": [],
      "source": [
        "# !cp -r training_checkpoints /content/drive/MyDrive/NLP/Project/outputs/\n",
        "!cp -r checkpoints.zip /content/drive/MyDrive/Adv_NLP_Project/"
      ]
    },
    {
      "cell_type": "markdown",
      "metadata": {
        "id": "TVr8GZyhJLUs"
      },
      "source": [
        "### Evaluation"
      ]
    },
    {
      "cell_type": "code",
      "execution_count": null,
      "metadata": {
        "id": "vYjTvLQKLUqT"
      },
      "outputs": [],
      "source": [
        "def evaluate(sentence):\n",
        "    #attention_plot = np.zeros((max_length_targ, max_length_inp))\n",
        "\n",
        "    sentence = preprocess_sentence_native(sentence)\n",
        "\n",
        "    inputs = [inp_lang.word2idx[i] for i in sentence]\n",
        "\n",
        "    inputs = tf.keras.preprocessing.sequence.pad_sequences([inputs],\n",
        "                                                           maxlen=max_length_inp,\n",
        "                                                           padding='post')\n",
        "    inputs = tf.convert_to_tensor(inputs)\n",
        "\n",
        "    result = ''\n",
        "\n",
        "    enc_states, cells = encoder(inputs)\n",
        "\n",
        "    dec_states = enc_states\n",
        "    dec_input = tf.expand_dims([targ_lang.word2idx['@']], 0)\n",
        "\n",
        "    for t in range(max_length_targ):\n",
        "        predictions, dec_states, cells = decoder(dec_input, dec_states, cells)\n",
        "        #print(\"pred :\", predictions.shape)\n",
        "        predicted_id = tf.argmax(predictions[0][0]).numpy()\n",
        "        #print(\"pd :\", predicted_id.shape)\n",
        "\n",
        "        result += targ_lang.idx2word[predicted_id] + ' '\n",
        "\n",
        "        if targ_lang.idx2word[predicted_id] == '#':\n",
        "            return result, sentence\n",
        "\n",
        "        # the predicted ID is fed back into the model\n",
        "        dec_input = tf.expand_dims([predicted_id], 0)\n",
        "\n",
        "    return result, sentence"
      ]
    },
    {
      "cell_type": "code",
      "execution_count": null,
      "metadata": {
        "id": "6fItdhWcJTBD"
      },
      "outputs": [],
      "source": [
        "def transliterate(sentence):\n",
        "    # print(\"Input: \", sentence)\n",
        "    all_words = sentence.split()\n",
        "    final_result = \"\"\n",
        "    for word in all_words:\n",
        "        result, word = evaluate(word)\n",
        "        temp = \"\".join(result.split(\" \"))+\" \"\n",
        "        temp = temp.replace(\"<pad>\", \"\")\n",
        "        final_result+=temp\n",
        "    # print(\"Output: \", final_result)\n",
        "    return final_result"
      ]
    },
    {
      "cell_type": "code",
      "execution_count": null,
      "metadata": {
        "id": "1ATzpVcuS-58"
      },
      "outputs": [],
      "source": [
        "from tqdm.notebook import tqdm\n",
        "\n",
        "def calc_accuracy(test_data, n):\n",
        "    correct = 0\n",
        "    for i in tqdm(range(len(test_data[0][:n]))):\n",
        "        hindi, eng = test_data[0][i], test_data[1][i]\n",
        "\n",
        "        res, _ = evaluate(hindi)\n",
        "        res = ''.join(res.split(' '))\n",
        "\n",
        "        # print(res,eng)\n",
        "        \n",
        "        eng = eng.replace(\"@\", \"\")\n",
        "        eng = eng.replace(\"#\", \"\")\n",
        "        res = res.replace(\"@\", \"\")\n",
        "        res = res.replace(\"#\", \"\")\n",
        "\n",
        "        # print(eng, res)\n",
        "        if eng == res:\n",
        "            # print(\"Yes\\n\")\n",
        "            correct += 1\n",
        "\n",
        "    # accuracy = correct / len(test_data[0])\n",
        "    accuracy = correct / n\n",
        "    return accuracy"
      ]
    },
    {
      "cell_type": "code",
      "execution_count": null,
      "metadata": {
        "colab": {
          "base_uri": "https://localhost:8080/",
          "height": 351,
          "referenced_widgets": [
            "4f85915bcc064d278e7922073535e2cb",
            "2036696f39e44798b2e28044c99a2361",
            "ece54db86d2e4c37a1951a5edfce12e2",
            "95556db8ef524504ac2e5c28111a23d2",
            "31b8e6efcc4d4bf499bf28289beefab7",
            "7ac8f29208be4193a182ada2f3f8962d",
            "19b4424202364dd08939fe90eaa1d862",
            "76ff6f75480241a488dac2ef940562ca",
            "5e4b70e099c44c13ba08321f549d32b8",
            "9be5e964d2e348f59cea0e52a0447d6e",
            "d5c68d72a35a40d99c2481e280797042",
            "063320664ccb424f84adb534028308a2",
            "e0de13e2914e41dbb8ada2e94a093f34",
            "359c7a15b38743b2884922d10ed65d38",
            "8da350bd31284a9bb9d305983a08c758",
            "fdf707f1c30249e0be0b11f75879c7ff",
            "26dd7c8ee2394fc1b964b2c6d4db1e29",
            "b708fcba25014d3fa92add38bd06aad6",
            "306a460167fd4186a908ff90fcf05e48",
            "c867b79e8de346b2a9024953238be803",
            "da04ad4cf7dd4164b3d382027e08a6fe",
            "5a30aefede61429186e46aceeae8877e",
            "1a5b4a0525aa473891f99580c6b774e1",
            "b578b04ccf2c4f5fba6efeaba1a22f9c",
            "1792cce76f00441e9c4b79e9659dff5d",
            "1a34624ad17f44628f528cc5f49ae3ea",
            "ed8ea87653314cba956017247bbe8e54",
            "24ca0c7549fe45ad88f42ed25d75c137",
            "359fa23fb26440eca68572b5d8e4abc1",
            "346dde21d4764e389e484d7e65b425eb",
            "1c8287c176394d618aa9eb4093714d38",
            "fde2a12c2a4c4f818743790726a93c93",
            "bb8c5820225f4361bf5e7c98f3337735",
            "e2970faa6ba946cdbedfba9a4d5fef1d",
            "f7020e8f2d064e52af5c2fe1c4febe91",
            "cb217cfb68ff48fb8bc8710be5b0e350",
            "fa08736ec605457fabb54ae23411e159",
            "4b6495f09d3b46fcb9a8e6ae7fce690a",
            "8b00e45da0404210aee82f87817a941d",
            "5ff7d88f2e8d40ddb435ed07ba873ad1",
            "29a19a90871542e7b5c1d9b026865a03",
            "361a383002f04d4b9206e924266bf5ed",
            "570356cf7bed4957ac834e3ed16121f8",
            "b70643e63c3742c0b6e8ee84dbb2f717",
            "aef081a40cbc4897bdb5aba144e5abd5",
            "3907c5fa5f64431894f2d3145b9263d4",
            "890a942ff2484adcaea6005fac3d07e8",
            "097989c99daf42c9a3e2c4fa7da45d2e",
            "b965da838b6745c3bfe1daead409998b",
            "e5893a558d094a09966e6ccd50621ee5",
            "e565e1f5abbb4d27baf085d51e3bdc6f",
            "014efa875b84439990603492ebe5ed14",
            "df126fffbaa94b61a9ee85941f073067",
            "93e9552b447146e8b025718feb754f2c",
            "4a3ffdd5ca11434488ca2b5f8cfa54e7"
          ]
        },
        "id": "VGewHFOdTWNs",
        "outputId": "d1a98463-42a3-486b-b90f-cca4b2f8ea36"
      },
      "outputs": [
        {
          "data": {
            "application/vnd.jupyter.widget-view+json": {
              "model_id": "4f85915bcc064d278e7922073535e2cb",
              "version_major": 2,
              "version_minor": 0
            },
            "text/plain": [
              "  0%|          | 0/10 [00:00<?, ?it/s]"
            ]
          },
          "metadata": {},
          "output_type": "display_data"
        },
        {
          "name": "stdout",
          "output_type": "stream",
          "text": [
            "Accuracy on 10 test words: 0.7 \n",
            "\n"
          ]
        },
        {
          "data": {
            "application/vnd.jupyter.widget-view+json": {
              "model_id": "063320664ccb424f84adb534028308a2",
              "version_major": 2,
              "version_minor": 0
            },
            "text/plain": [
              "  0%|          | 0/100 [00:00<?, ?it/s]"
            ]
          },
          "metadata": {},
          "output_type": "display_data"
        },
        {
          "name": "stdout",
          "output_type": "stream",
          "text": [
            "Accuracy on 100 test words: 0.51 \n",
            "\n"
          ]
        },
        {
          "data": {
            "application/vnd.jupyter.widget-view+json": {
              "model_id": "1a5b4a0525aa473891f99580c6b774e1",
              "version_major": 2,
              "version_minor": 0
            },
            "text/plain": [
              "  0%|          | 0/500 [00:00<?, ?it/s]"
            ]
          },
          "metadata": {},
          "output_type": "display_data"
        },
        {
          "name": "stdout",
          "output_type": "stream",
          "text": [
            "Accuracy on 500 test words: 0.434 \n",
            "\n"
          ]
        },
        {
          "data": {
            "application/vnd.jupyter.widget-view+json": {
              "model_id": "e2970faa6ba946cdbedfba9a4d5fef1d",
              "version_major": 2,
              "version_minor": 0
            },
            "text/plain": [
              "  0%|          | 0/1000 [00:00<?, ?it/s]"
            ]
          },
          "metadata": {},
          "output_type": "display_data"
        },
        {
          "name": "stdout",
          "output_type": "stream",
          "text": [
            "Accuracy on 1000 test words: 0.415 \n",
            "\n"
          ]
        },
        {
          "data": {
            "application/vnd.jupyter.widget-view+json": {
              "model_id": "aef081a40cbc4897bdb5aba144e5abd5",
              "version_major": 2,
              "version_minor": 0
            },
            "text/plain": [
              "  0%|          | 0/5000 [00:00<?, ?it/s]"
            ]
          },
          "metadata": {},
          "output_type": "display_data"
        },
        {
          "name": "stdout",
          "output_type": "stream",
          "text": [
            "Accuracy on 5000 test words: 0.4224 \n",
            "\n"
          ]
        }
      ],
      "source": [
        "acc = calc_accuracy(test_data, 10)\n",
        "print(\"Accuracy on 10 test words:\", acc, \"\\n\")\n",
        "\n",
        "acc = calc_accuracy(test_data, 100)\n",
        "print(\"Accuracy on 100 test words:\", acc, \"\\n\")\n",
        "\n",
        "acc = calc_accuracy(test_data, 500)\n",
        "print(\"Accuracy on 500 test words:\", acc, \"\\n\")\n",
        "\n",
        "acc = calc_accuracy(test_data, 1000)\n",
        "print(\"Accuracy on 1000 test words:\", acc, \"\\n\")\n",
        "\n",
        "acc = calc_accuracy(test_data, 5000)\n",
        "print(\"Accuracy on 5000 test words:\", acc, \"\\n\")"
      ]
    },
    {
      "cell_type": "code",
      "execution_count": null,
      "metadata": {
        "id": "kESM_2LkLHkk"
      },
      "outputs": [],
      "source": [
        "from nltk.translate.bleu_score import SmoothingFunction\n",
        "\n",
        "def calc_bleu(test_sens, n):\n",
        "    blue_score = 0\n",
        "\n",
        "    for i in range(len(test_sens[0][:n])):\n",
        "        inp_sent, trg_sent = test_sens[0][i], test_sens[1][i]\n",
        "\n",
        "        res = \"\"\n",
        "        for i in inp_sent:\n",
        "            res += i+\" \"\n",
        "        res = transliterate(res)\n",
        "\n",
        "        tmp = \"\"\n",
        "        for i in trg_sent:\n",
        "            tmp += i+\" \"\n",
        "        trg_sent = tmp\n",
        "        trg_sent = trg_sent.replace(\"@\", \"\")\n",
        "        trg_sent = trg_sent.replace(\"#\", \"\")\n",
        "        res = res.replace(\"@\", \"\")\n",
        "        res = res.replace(\"#\", \"\")\n",
        "\n",
        "        reference = [trg_sent.split()]\n",
        "        candidate = res.split()\n",
        "\n",
        "        smoothie = SmoothingFunction().method4\n",
        "        blue_score += sentence_bleu(reference, candidate, smoothing_function=smoothie)\n",
        "    \n",
        "    if (len(test_sens[0][:n])!=0):\n",
        "        return blue_score / len(test_sens[0][:n])"
      ]
    },
    {
      "cell_type": "code",
      "execution_count": null,
      "metadata": {
        "id": "zwV0BZ-o5XnC"
      },
      "outputs": [],
      "source": [
        "def calc_rouge(test_sents, n):\n",
        "    precision, recall, f1score = 0, 0, 0\n",
        "    scorer = rouge_scorer.RougeScorer(['rouge1'], use_stemmer=True)\n",
        "    \n",
        "    for i in range(len(test_sents[0][:n])):\n",
        "        inp_sent, reference = test_sents[0][i], test_sents[1][i]\n",
        "\n",
        "        res = \"\"\n",
        "        for i in inp_sent:\n",
        "            res += i+\" \"\n",
        "        res = transliterate(res)\n",
        "\n",
        "        tmp = \"\"\n",
        "        for i in reference:\n",
        "            tmp += i+\" \"\n",
        "        reference = tmp\n",
        "        candidate = res.replace(\"@\", \"\")\n",
        "        candidate = res.replace(\"#\", \"\")\n",
        "        reference = reference.replace(\"@\", \"\")\n",
        "        reference = reference.replace(\"#\", \"\")\n",
        "        \n",
        "        tmp_p, tmp_r, tmp_f = scorer.score(reference, candidate)['rouge1']\n",
        "        precision += tmp_p\n",
        "        recall += tmp_r\n",
        "        f1score += tmp_f\n",
        "\n",
        "    precision /= len(test_sents[0][:n])\n",
        "    recall /= len(test_sents[0][:n])\n",
        "    f1score /= len(test_sents[0][:n])\n",
        "    \n",
        "    return (precision, recall, f1score)"
      ]
    },
    {
      "cell_type": "code",
      "execution_count": null,
      "metadata": {
        "colab": {
          "base_uri": "https://localhost:8080/"
        },
        "id": "A62gqu2-jn5x",
        "outputId": "2a662bf4-a663-4eec-d5ac-23174e9d8c27"
      },
      "outputs": [
        {
          "name": "stdout",
          "output_type": "stream",
          "text": [
            "Bleu score on 1000 test sentences: 0.22525991214632998 \n",
            "\n",
            "Rouge score on 1000 test sentences: (0.4387891778934867, 0.4387891778934867, 0.4387891778934867) \n",
            "\n"
          ]
        }
      ],
      "source": [
        "bleu = calc_bleu(test_sents, 1000)\n",
        "print(\"Bleu score on 1000 test sentences:\", bleu, \"\\n\")\n",
        "rouge = calc_rouge(test_sents, 1000)\n",
        "print(\"Rouge score on 1000 test sentences:\", rouge, \"\\n\")"
      ]
    },
    {
      "cell_type": "markdown",
      "metadata": {
        "id": "bOvhXgt1Z6na"
      },
      "source": [
        "### Testing on various input words\n"
      ]
    },
    {
      "cell_type": "code",
      "execution_count": null,
      "metadata": {
        "colab": {
          "base_uri": "https://localhost:8080/",
          "height": 70
        },
        "id": "cSEgKxhaJVV-",
        "outputId": "130da8d9-e458-446c-c0fa-409ca9c96cb7"
      },
      "outputs": [
        {
          "name": "stdout",
          "output_type": "stream",
          "text": [
            "Input:  संस्थागत\n",
            "Output:  sansthaar# \n"
          ]
        },
        {
          "data": {
            "application/vnd.google.colaboratory.intrinsic+json": {
              "type": "string"
            },
            "text/plain": [
              "'sansthaar# '"
            ]
          },
          "execution_count": 260,
          "metadata": {},
          "output_type": "execute_result"
        }
      ],
      "source": [
        "transliterate('संस्थागत')"
      ]
    },
    {
      "cell_type": "code",
      "execution_count": null,
      "metadata": {
        "colab": {
          "base_uri": "https://localhost:8080/",
          "height": 70
        },
        "id": "H1MhOmNDRwZI",
        "outputId": "7bf9127c-8c48-4da0-f3b4-df0bb60fec4e"
      },
      "outputs": [
        {
          "name": "stdout",
          "output_type": "stream",
          "text": [
            "Input:  गुणदोषों\n",
            "Output:  guandarashon# \n"
          ]
        },
        {
          "data": {
            "application/vnd.google.colaboratory.intrinsic+json": {
              "type": "string"
            },
            "text/plain": [
              "'guandarashon# '"
            ]
          },
          "execution_count": 261,
          "metadata": {},
          "output_type": "execute_result"
        }
      ],
      "source": [
        "transliterate('गुणदोषों')"
      ]
    },
    {
      "cell_type": "code",
      "execution_count": null,
      "metadata": {
        "colab": {
          "base_uri": "https://localhost:8080/",
          "height": 70
        },
        "id": "3AkF7ab2b6mH",
        "outputId": "47aa4036-ae2d-4962-fb2f-a56bfb164cb1"
      },
      "outputs": [
        {
          "name": "stdout",
          "output_type": "stream",
          "text": [
            "Input:  कायदा\n",
            "Output:  yadayaa \n"
          ]
        },
        {
          "data": {
            "application/vnd.google.colaboratory.intrinsic+json": {
              "type": "string"
            },
            "text/plain": [
              "'yadayaa '"
            ]
          },
          "execution_count": 262,
          "metadata": {},
          "output_type": "execute_result"
        }
      ],
      "source": [
        "transliterate('कायदा')"
      ]
    },
    {
      "cell_type": "code",
      "execution_count": null,
      "metadata": {
        "colab": {
          "base_uri": "https://localhost:8080/",
          "height": 70
        },
        "id": "44v9SPyDcC2Z",
        "outputId": "d17386a0-2848-4ca0-d24d-840e226f297f"
      },
      "outputs": [
        {
          "name": "stdout",
          "output_type": "stream",
          "text": [
            "Input:  ऐडसेंस\n",
            "Output:  edcems# \n"
          ]
        },
        {
          "data": {
            "application/vnd.google.colaboratory.intrinsic+json": {
              "type": "string"
            },
            "text/plain": [
              "'edcems# '"
            ]
          },
          "execution_count": 263,
          "metadata": {},
          "output_type": "execute_result"
        }
      ],
      "source": [
        "transliterate('ऐडसेंस')"
      ]
    },
    {
      "cell_type": "code",
      "execution_count": null,
      "metadata": {
        "colab": {
          "base_uri": "https://localhost:8080/",
          "height": 70
        },
        "id": "JtltmiUZcJzt",
        "outputId": "6b4531ba-1c18-4065-8c0f-611f6fd8db65"
      },
      "outputs": [
        {
          "name": "stdout",
          "output_type": "stream",
          "text": [
            "Input:  वाम\n",
            "Output:  vam# \n"
          ]
        },
        {
          "data": {
            "application/vnd.google.colaboratory.intrinsic+json": {
              "type": "string"
            },
            "text/plain": [
              "'vam# '"
            ]
          },
          "execution_count": 264,
          "metadata": {},
          "output_type": "execute_result"
        }
      ],
      "source": [
        "transliterate('वाम')"
      ]
    },
    {
      "cell_type": "code",
      "execution_count": null,
      "metadata": {
        "colab": {
          "base_uri": "https://localhost:8080/",
          "height": 105
        },
        "id": "k3jJATHecbKC",
        "outputId": "8914409b-381c-426a-f493-d5581ab30578"
      },
      "outputs": [
        {
          "name": "stdout",
          "output_type": "stream",
          "text": [
            "\n",
            "\n",
            "\n",
            "\n"
          ]
        },
        {
          "data": {
            "application/vnd.google.colaboratory.intrinsic+json": {
              "type": "string"
            },
            "text/plain": [
              "'is# yuddh# men# rana# sanga# ka# saath# mahmud# loydi# de# rahe# the# '"
            ]
          },
          "execution_count": 299,
          "metadata": {},
          "output_type": "execute_result"
        }
      ],
      "source": [
        "transliterate('इसके आने से पूर्व ही लोग घरों की सफाई का कार्य शुरू कर देते हैं।') \n",
        "print()\n",
        "transliterate('शाहनामा नौरोज़ के त्यौहार को महान जमशेद के शासनकाल से जोड़ता है।')\n",
        "print()\n",
        "transliterate('सारे लहलहाते खेत, पेड़-पौधे, महल और झोपड़ियाँ- सब की सब उजड़ जाएँगी।')\n",
        "print()\n",
        "transliterate('माना जाता है की मरीज की अपनी ही प्रतिरक्षा प्रणाली के क्षति की जाती है।')\n",
        "print()\n",
        "transliterate('इस युद्ध में राणा सांगा का साथ महमूद लोदी दे रहे थे।')"
      ]
    },
    {
      "cell_type": "code",
      "execution_count": null,
      "metadata": {
        "id": "VE1t-vfLu0c_"
      },
      "outputs": [],
      "source": [
        "result=[]\n",
        "for i in range(len(l_test)):\n",
        "    if(i==100):\n",
        "        break\n",
        "    output = transliterate(l_test[i][0])\n",
        "    temp = [l_test[i][0],output,l_test[i][1]]\n",
        "    result.append(temp)"
      ]
    },
    {
      "cell_type": "code",
      "execution_count": null,
      "metadata": {
        "colab": {
          "base_uri": "https://localhost:8080/",
          "height": 424
        },
        "id": "UxFNa1FaeJOR",
        "outputId": "b2bb0fbb-217c-4cf0-b29a-5baca3340025"
      },
      "outputs": [
        {
          "data": {
            "text/html": [
              "<div>\n",
              "<style scoped>\n",
              "    .dataframe tbody tr th:only-of-type {\n",
              "        vertical-align: middle;\n",
              "    }\n",
              "\n",
              "    .dataframe tbody tr th {\n",
              "        vertical-align: top;\n",
              "    }\n",
              "\n",
              "    .dataframe thead th {\n",
              "        text-align: right;\n",
              "    }\n",
              "</style>\n",
              "<table border=\"1\" class=\"dataframe\">\n",
              "  <thead>\n",
              "    <tr style=\"text-align: right;\">\n",
              "      <th></th>\n",
              "      <th>input</th>\n",
              "      <th>output</th>\n",
              "      <th>expected</th>\n",
              "    </tr>\n",
              "  </thead>\n",
              "  <tbody>\n",
              "    <tr>\n",
              "      <th>0</th>\n",
              "      <td>@कुंभ राशि में जन्मे लोग संभावनाओं से भरी एक ज...</td>\n",
              "      <td>kumbh# rashi# men# janmen# loga# manbhavanaon ...</td>\n",
              "      <td>@kumbh rashi men janme log sambhavnaon se bhar...</td>\n",
              "    </tr>\n",
              "    <tr>\n",
              "      <th>1</th>\n",
              "      <td>@इसका उलट भी सत्य है#</td>\n",
              "      <td>iskaa# ulta# bhi# satya# ha#</td>\n",
              "      <td>@iska ulat bhi satya hai#</td>\n",
              "    </tr>\n",
              "    <tr>\n",
              "      <th>2</th>\n",
              "      <td>@कुछ देवता जो मुख्यत नगर देवता थे अपने संप्रदा...</td>\n",
              "      <td>kuch# devata jo# mushaakt# nagar# devata the# ...</td>\n",
              "      <td>@kuch devta jo mukhyatah nagar devta the apne ...</td>\n",
              "    </tr>\n",
              "    <tr>\n",
              "      <th>3</th>\n",
              "      <td>@तेल के उत्पादन में संसार में रोमानिया का छठा ...</td>\n",
              "      <td>tel# ken# uptapan# men# sansar# men# romania k...</td>\n",
              "      <td>@tel ke utpadan men sansar men romania ka chha...</td>\n",
              "    </tr>\n",
              "    <tr>\n",
              "      <th>4</th>\n",
              "      <td>@बनारसी लाल से मिलकर पुलिस ने सारा भेद प्राप्त...</td>\n",
              "      <td>banasari# lal# se# milakar# pusili# ne# sara# ...</td>\n",
              "      <td>@banarasi lal se milkar police ne sara bhed pr...</td>\n",
              "    </tr>\n",
              "    <tr>\n",
              "      <th>...</th>\n",
              "      <td>...</td>\n",
              "      <td>...</td>\n",
              "      <td>...</td>\n",
              "    </tr>\n",
              "    <tr>\n",
              "      <th>95</th>\n",
              "      <td>@जिसके कारण हृदपेशीविकृति या अतालता हो सकती है#</td>\n",
              "      <td>jiske# karan# heernevretikrishin ya# atalta# h...</td>\n",
              "      <td>@jiske karan hrdapeshivikriti ya atalata ho sa...</td>\n",
              "    </tr>\n",
              "    <tr>\n",
              "      <th>96</th>\n",
              "      <td>@उत्तर प्रदेश विधान सभा चुनाव में इन्होंने उत्...</td>\n",
              "      <td>uttar pradesha# vidhan# sabhaar chunava# men# ...</td>\n",
              "      <td>@uttar pradesh vidhan sabha chunav men inhone ...</td>\n",
              "    </tr>\n",
              "    <tr>\n",
              "      <th>97</th>\n",
              "      <td>@नेपाली उपन्यास का आधारहरू नेपाली भाषा के विख्...</td>\n",
              "      <td>nepali# upanyas# ka# adharurah# nepali# bhasha...</td>\n",
              "      <td>@nepali upanyas ka shadharhu nepali bhasha ke ...</td>\n",
              "    </tr>\n",
              "    <tr>\n",
              "      <th>98</th>\n",
              "      <td>@लेकिन मगही साहित्येतिहासकारों के अनुसार मगही ...</td>\n",
              "      <td>lekin# magahi# sagethyakariyo# ken# anusara# m...</td>\n",
              "      <td>@lekin maghi sahityetihaskaron ke anusar maghi...</td>\n",
              "    </tr>\n",
              "    <tr>\n",
              "      <th>99</th>\n",
              "      <td>@विलियम होवर टाफ्ट संयुक्त राज्य अमरीका के राष...</td>\n",
              "      <td>viliam# hovar# tatant sanyust# rajy# amarikara...</td>\n",
              "      <td>@wiliam hover taft sanyukt rajya america ke ra...</td>\n",
              "    </tr>\n",
              "  </tbody>\n",
              "</table>\n",
              "<p>100 rows × 3 columns</p>\n",
              "</div>"
            ],
            "text/plain": [
              "                                                input  ...                                           expected\n",
              "0   @कुंभ राशि में जन्मे लोग संभावनाओं से भरी एक ज...  ...  @kumbh rashi men janme log sambhavnaon se bhar...\n",
              "1                               @इसका उलट भी सत्य है#  ...                          @iska ulat bhi satya hai#\n",
              "2   @कुछ देवता जो मुख्यत नगर देवता थे अपने संप्रदा...  ...  @kuch devta jo mukhyatah nagar devta the apne ...\n",
              "3   @तेल के उत्पादन में संसार में रोमानिया का छठा ...  ...  @tel ke utpadan men sansar men romania ka chha...\n",
              "4   @बनारसी लाल से मिलकर पुलिस ने सारा भेद प्राप्त...  ...  @banarasi lal se milkar police ne sara bhed pr...\n",
              "..                                                ...  ...                                                ...\n",
              "95    @जिसके कारण हृदपेशीविकृति या अतालता हो सकती है#  ...  @jiske karan hrdapeshivikriti ya atalata ho sa...\n",
              "96  @उत्तर प्रदेश विधान सभा चुनाव में इन्होंने उत्...  ...  @uttar pradesh vidhan sabha chunav men inhone ...\n",
              "97  @नेपाली उपन्यास का आधारहरू नेपाली भाषा के विख्...  ...  @nepali upanyas ka shadharhu nepali bhasha ke ...\n",
              "98  @लेकिन मगही साहित्येतिहासकारों के अनुसार मगही ...  ...  @lekin maghi sahityetihaskaron ke anusar maghi...\n",
              "99  @विलियम होवर टाफ्ट संयुक्त राज्य अमरीका के राष...  ...  @wiliam hover taft sanyukt rajya america ke ra...\n",
              "\n",
              "[100 rows x 3 columns]"
            ]
          },
          "execution_count": 273,
          "metadata": {},
          "output_type": "execute_result"
        }
      ],
      "source": [
        "res = pd.DataFrame(result, columns = ['input', 'output', 'expected'])\n",
        "res"
      ]
    },
    {
      "cell_type": "code",
      "execution_count": null,
      "metadata": {
        "id": "KbvUEN4Nes2W"
      },
      "outputs": [],
      "source": [
        "res.to_csv('file1.csv')"
      ]
    }
  ],
  "metadata": {
    "accelerator": "GPU",
    "colab": {
      "collapsed_sections": [],
      "name": "LSTM_ANLP-Project1.ipynb",
      "provenance": []
    },
    "kernelspec": {
      "display_name": "Python 3",
      "name": "python3"
    },
    "language_info": {
      "name": "python"
    },
    "widgets": {
      "application/vnd.jupyter.widget-state+json": {
        "014efa875b84439990603492ebe5ed14": {
          "model_module": "@jupyter-widgets/controls",
          "model_module_version": "1.5.0",
          "model_name": "ProgressStyleModel",
          "state": {
            "_model_module": "@jupyter-widgets/controls",
            "_model_module_version": "1.5.0",
            "_model_name": "ProgressStyleModel",
            "_view_count": null,
            "_view_module": "@jupyter-widgets/base",
            "_view_module_version": "1.2.0",
            "_view_name": "StyleView",
            "bar_color": null,
            "description_width": ""
          }
        },
        "063320664ccb424f84adb534028308a2": {
          "model_module": "@jupyter-widgets/controls",
          "model_module_version": "1.5.0",
          "model_name": "HBoxModel",
          "state": {
            "_dom_classes": [],
            "_model_module": "@jupyter-widgets/controls",
            "_model_module_version": "1.5.0",
            "_model_name": "HBoxModel",
            "_view_count": null,
            "_view_module": "@jupyter-widgets/controls",
            "_view_module_version": "1.5.0",
            "_view_name": "HBoxView",
            "box_style": "",
            "children": [
              "IPY_MODEL_359c7a15b38743b2884922d10ed65d38",
              "IPY_MODEL_8da350bd31284a9bb9d305983a08c758",
              "IPY_MODEL_fdf707f1c30249e0be0b11f75879c7ff"
            ],
            "layout": "IPY_MODEL_e0de13e2914e41dbb8ada2e94a093f34"
          }
        },
        "097989c99daf42c9a3e2c4fa7da45d2e": {
          "model_module": "@jupyter-widgets/controls",
          "model_module_version": "1.5.0",
          "model_name": "FloatProgressModel",
          "state": {
            "_dom_classes": [],
            "_model_module": "@jupyter-widgets/controls",
            "_model_module_version": "1.5.0",
            "_model_name": "FloatProgressModel",
            "_view_count": null,
            "_view_module": "@jupyter-widgets/controls",
            "_view_module_version": "1.5.0",
            "_view_name": "ProgressView",
            "bar_style": "success",
            "description": "",
            "description_tooltip": null,
            "layout": "IPY_MODEL_df126fffbaa94b61a9ee85941f073067",
            "max": 5000,
            "min": 0,
            "orientation": "horizontal",
            "style": "IPY_MODEL_014efa875b84439990603492ebe5ed14",
            "value": 5000
          }
        },
        "1792cce76f00441e9c4b79e9659dff5d": {
          "model_module": "@jupyter-widgets/controls",
          "model_module_version": "1.5.0",
          "model_name": "HTMLModel",
          "state": {
            "_dom_classes": [],
            "_model_module": "@jupyter-widgets/controls",
            "_model_module_version": "1.5.0",
            "_model_name": "HTMLModel",
            "_view_count": null,
            "_view_module": "@jupyter-widgets/controls",
            "_view_module_version": "1.5.0",
            "_view_name": "HTMLView",
            "description": "",
            "description_tooltip": null,
            "layout": "IPY_MODEL_359fa23fb26440eca68572b5d8e4abc1",
            "placeholder": "​",
            "style": "IPY_MODEL_24ca0c7549fe45ad88f42ed25d75c137",
            "value": "100%"
          }
        },
        "19b4424202364dd08939fe90eaa1d862": {
          "model_module": "@jupyter-widgets/base",
          "model_module_version": "1.2.0",
          "model_name": "LayoutModel",
          "state": {
            "_model_module": "@jupyter-widgets/base",
            "_model_module_version": "1.2.0",
            "_model_name": "LayoutModel",
            "_view_count": null,
            "_view_module": "@jupyter-widgets/base",
            "_view_module_version": "1.2.0",
            "_view_name": "LayoutView",
            "align_content": null,
            "align_items": null,
            "align_self": null,
            "border": null,
            "bottom": null,
            "display": null,
            "flex": null,
            "flex_flow": null,
            "grid_area": null,
            "grid_auto_columns": null,
            "grid_auto_flow": null,
            "grid_auto_rows": null,
            "grid_column": null,
            "grid_gap": null,
            "grid_row": null,
            "grid_template_areas": null,
            "grid_template_columns": null,
            "grid_template_rows": null,
            "height": null,
            "justify_content": null,
            "justify_items": null,
            "left": null,
            "margin": null,
            "max_height": null,
            "max_width": null,
            "min_height": null,
            "min_width": null,
            "object_fit": null,
            "object_position": null,
            "order": null,
            "overflow": null,
            "overflow_x": null,
            "overflow_y": null,
            "padding": null,
            "right": null,
            "top": null,
            "visibility": null,
            "width": null
          }
        },
        "1a34624ad17f44628f528cc5f49ae3ea": {
          "model_module": "@jupyter-widgets/controls",
          "model_module_version": "1.5.0",
          "model_name": "FloatProgressModel",
          "state": {
            "_dom_classes": [],
            "_model_module": "@jupyter-widgets/controls",
            "_model_module_version": "1.5.0",
            "_model_name": "FloatProgressModel",
            "_view_count": null,
            "_view_module": "@jupyter-widgets/controls",
            "_view_module_version": "1.5.0",
            "_view_name": "ProgressView",
            "bar_style": "success",
            "description": "",
            "description_tooltip": null,
            "layout": "IPY_MODEL_1c8287c176394d618aa9eb4093714d38",
            "max": 500,
            "min": 0,
            "orientation": "horizontal",
            "style": "IPY_MODEL_346dde21d4764e389e484d7e65b425eb",
            "value": 500
          }
        },
        "1a5b4a0525aa473891f99580c6b774e1": {
          "model_module": "@jupyter-widgets/controls",
          "model_module_version": "1.5.0",
          "model_name": "HBoxModel",
          "state": {
            "_dom_classes": [],
            "_model_module": "@jupyter-widgets/controls",
            "_model_module_version": "1.5.0",
            "_model_name": "HBoxModel",
            "_view_count": null,
            "_view_module": "@jupyter-widgets/controls",
            "_view_module_version": "1.5.0",
            "_view_name": "HBoxView",
            "box_style": "",
            "children": [
              "IPY_MODEL_1792cce76f00441e9c4b79e9659dff5d",
              "IPY_MODEL_1a34624ad17f44628f528cc5f49ae3ea",
              "IPY_MODEL_ed8ea87653314cba956017247bbe8e54"
            ],
            "layout": "IPY_MODEL_b578b04ccf2c4f5fba6efeaba1a22f9c"
          }
        },
        "1c8287c176394d618aa9eb4093714d38": {
          "model_module": "@jupyter-widgets/base",
          "model_module_version": "1.2.0",
          "model_name": "LayoutModel",
          "state": {
            "_model_module": "@jupyter-widgets/base",
            "_model_module_version": "1.2.0",
            "_model_name": "LayoutModel",
            "_view_count": null,
            "_view_module": "@jupyter-widgets/base",
            "_view_module_version": "1.2.0",
            "_view_name": "LayoutView",
            "align_content": null,
            "align_items": null,
            "align_self": null,
            "border": null,
            "bottom": null,
            "display": null,
            "flex": null,
            "flex_flow": null,
            "grid_area": null,
            "grid_auto_columns": null,
            "grid_auto_flow": null,
            "grid_auto_rows": null,
            "grid_column": null,
            "grid_gap": null,
            "grid_row": null,
            "grid_template_areas": null,
            "grid_template_columns": null,
            "grid_template_rows": null,
            "height": null,
            "justify_content": null,
            "justify_items": null,
            "left": null,
            "margin": null,
            "max_height": null,
            "max_width": null,
            "min_height": null,
            "min_width": null,
            "object_fit": null,
            "object_position": null,
            "order": null,
            "overflow": null,
            "overflow_x": null,
            "overflow_y": null,
            "padding": null,
            "right": null,
            "top": null,
            "visibility": null,
            "width": null
          }
        },
        "2036696f39e44798b2e28044c99a2361": {
          "model_module": "@jupyter-widgets/base",
          "model_module_version": "1.2.0",
          "model_name": "LayoutModel",
          "state": {
            "_model_module": "@jupyter-widgets/base",
            "_model_module_version": "1.2.0",
            "_model_name": "LayoutModel",
            "_view_count": null,
            "_view_module": "@jupyter-widgets/base",
            "_view_module_version": "1.2.0",
            "_view_name": "LayoutView",
            "align_content": null,
            "align_items": null,
            "align_self": null,
            "border": null,
            "bottom": null,
            "display": null,
            "flex": null,
            "flex_flow": null,
            "grid_area": null,
            "grid_auto_columns": null,
            "grid_auto_flow": null,
            "grid_auto_rows": null,
            "grid_column": null,
            "grid_gap": null,
            "grid_row": null,
            "grid_template_areas": null,
            "grid_template_columns": null,
            "grid_template_rows": null,
            "height": null,
            "justify_content": null,
            "justify_items": null,
            "left": null,
            "margin": null,
            "max_height": null,
            "max_width": null,
            "min_height": null,
            "min_width": null,
            "object_fit": null,
            "object_position": null,
            "order": null,
            "overflow": null,
            "overflow_x": null,
            "overflow_y": null,
            "padding": null,
            "right": null,
            "top": null,
            "visibility": null,
            "width": null
          }
        },
        "24ca0c7549fe45ad88f42ed25d75c137": {
          "model_module": "@jupyter-widgets/controls",
          "model_module_version": "1.5.0",
          "model_name": "DescriptionStyleModel",
          "state": {
            "_model_module": "@jupyter-widgets/controls",
            "_model_module_version": "1.5.0",
            "_model_name": "DescriptionStyleModel",
            "_view_count": null,
            "_view_module": "@jupyter-widgets/base",
            "_view_module_version": "1.2.0",
            "_view_name": "StyleView",
            "description_width": ""
          }
        },
        "26dd7c8ee2394fc1b964b2c6d4db1e29": {
          "model_module": "@jupyter-widgets/controls",
          "model_module_version": "1.5.0",
          "model_name": "DescriptionStyleModel",
          "state": {
            "_model_module": "@jupyter-widgets/controls",
            "_model_module_version": "1.5.0",
            "_model_name": "DescriptionStyleModel",
            "_view_count": null,
            "_view_module": "@jupyter-widgets/base",
            "_view_module_version": "1.2.0",
            "_view_name": "StyleView",
            "description_width": ""
          }
        },
        "29a19a90871542e7b5c1d9b026865a03": {
          "model_module": "@jupyter-widgets/controls",
          "model_module_version": "1.5.0",
          "model_name": "ProgressStyleModel",
          "state": {
            "_model_module": "@jupyter-widgets/controls",
            "_model_module_version": "1.5.0",
            "_model_name": "ProgressStyleModel",
            "_view_count": null,
            "_view_module": "@jupyter-widgets/base",
            "_view_module_version": "1.2.0",
            "_view_name": "StyleView",
            "bar_color": null,
            "description_width": ""
          }
        },
        "306a460167fd4186a908ff90fcf05e48": {
          "model_module": "@jupyter-widgets/controls",
          "model_module_version": "1.5.0",
          "model_name": "ProgressStyleModel",
          "state": {
            "_model_module": "@jupyter-widgets/controls",
            "_model_module_version": "1.5.0",
            "_model_name": "ProgressStyleModel",
            "_view_count": null,
            "_view_module": "@jupyter-widgets/base",
            "_view_module_version": "1.2.0",
            "_view_name": "StyleView",
            "bar_color": null,
            "description_width": ""
          }
        },
        "31b8e6efcc4d4bf499bf28289beefab7": {
          "model_module": "@jupyter-widgets/controls",
          "model_module_version": "1.5.0",
          "model_name": "HTMLModel",
          "state": {
            "_dom_classes": [],
            "_model_module": "@jupyter-widgets/controls",
            "_model_module_version": "1.5.0",
            "_model_name": "HTMLModel",
            "_view_count": null,
            "_view_module": "@jupyter-widgets/controls",
            "_view_module_version": "1.5.0",
            "_view_name": "HTMLView",
            "description": "",
            "description_tooltip": null,
            "layout": "IPY_MODEL_d5c68d72a35a40d99c2481e280797042",
            "placeholder": "​",
            "style": "IPY_MODEL_9be5e964d2e348f59cea0e52a0447d6e",
            "value": " 10/10 [00:00&lt;00:00, 13.57it/s]"
          }
        },
        "346dde21d4764e389e484d7e65b425eb": {
          "model_module": "@jupyter-widgets/controls",
          "model_module_version": "1.5.0",
          "model_name": "ProgressStyleModel",
          "state": {
            "_model_module": "@jupyter-widgets/controls",
            "_model_module_version": "1.5.0",
            "_model_name": "ProgressStyleModel",
            "_view_count": null,
            "_view_module": "@jupyter-widgets/base",
            "_view_module_version": "1.2.0",
            "_view_name": "StyleView",
            "bar_color": null,
            "description_width": ""
          }
        },
        "359c7a15b38743b2884922d10ed65d38": {
          "model_module": "@jupyter-widgets/controls",
          "model_module_version": "1.5.0",
          "model_name": "HTMLModel",
          "state": {
            "_dom_classes": [],
            "_model_module": "@jupyter-widgets/controls",
            "_model_module_version": "1.5.0",
            "_model_name": "HTMLModel",
            "_view_count": null,
            "_view_module": "@jupyter-widgets/controls",
            "_view_module_version": "1.5.0",
            "_view_name": "HTMLView",
            "description": "",
            "description_tooltip": null,
            "layout": "IPY_MODEL_b708fcba25014d3fa92add38bd06aad6",
            "placeholder": "​",
            "style": "IPY_MODEL_26dd7c8ee2394fc1b964b2c6d4db1e29",
            "value": "100%"
          }
        },
        "359fa23fb26440eca68572b5d8e4abc1": {
          "model_module": "@jupyter-widgets/base",
          "model_module_version": "1.2.0",
          "model_name": "LayoutModel",
          "state": {
            "_model_module": "@jupyter-widgets/base",
            "_model_module_version": "1.2.0",
            "_model_name": "LayoutModel",
            "_view_count": null,
            "_view_module": "@jupyter-widgets/base",
            "_view_module_version": "1.2.0",
            "_view_name": "LayoutView",
            "align_content": null,
            "align_items": null,
            "align_self": null,
            "border": null,
            "bottom": null,
            "display": null,
            "flex": null,
            "flex_flow": null,
            "grid_area": null,
            "grid_auto_columns": null,
            "grid_auto_flow": null,
            "grid_auto_rows": null,
            "grid_column": null,
            "grid_gap": null,
            "grid_row": null,
            "grid_template_areas": null,
            "grid_template_columns": null,
            "grid_template_rows": null,
            "height": null,
            "justify_content": null,
            "justify_items": null,
            "left": null,
            "margin": null,
            "max_height": null,
            "max_width": null,
            "min_height": null,
            "min_width": null,
            "object_fit": null,
            "object_position": null,
            "order": null,
            "overflow": null,
            "overflow_x": null,
            "overflow_y": null,
            "padding": null,
            "right": null,
            "top": null,
            "visibility": null,
            "width": null
          }
        },
        "361a383002f04d4b9206e924266bf5ed": {
          "model_module": "@jupyter-widgets/base",
          "model_module_version": "1.2.0",
          "model_name": "LayoutModel",
          "state": {
            "_model_module": "@jupyter-widgets/base",
            "_model_module_version": "1.2.0",
            "_model_name": "LayoutModel",
            "_view_count": null,
            "_view_module": "@jupyter-widgets/base",
            "_view_module_version": "1.2.0",
            "_view_name": "LayoutView",
            "align_content": null,
            "align_items": null,
            "align_self": null,
            "border": null,
            "bottom": null,
            "display": null,
            "flex": null,
            "flex_flow": null,
            "grid_area": null,
            "grid_auto_columns": null,
            "grid_auto_flow": null,
            "grid_auto_rows": null,
            "grid_column": null,
            "grid_gap": null,
            "grid_row": null,
            "grid_template_areas": null,
            "grid_template_columns": null,
            "grid_template_rows": null,
            "height": null,
            "justify_content": null,
            "justify_items": null,
            "left": null,
            "margin": null,
            "max_height": null,
            "max_width": null,
            "min_height": null,
            "min_width": null,
            "object_fit": null,
            "object_position": null,
            "order": null,
            "overflow": null,
            "overflow_x": null,
            "overflow_y": null,
            "padding": null,
            "right": null,
            "top": null,
            "visibility": null,
            "width": null
          }
        },
        "3907c5fa5f64431894f2d3145b9263d4": {
          "model_module": "@jupyter-widgets/base",
          "model_module_version": "1.2.0",
          "model_name": "LayoutModel",
          "state": {
            "_model_module": "@jupyter-widgets/base",
            "_model_module_version": "1.2.0",
            "_model_name": "LayoutModel",
            "_view_count": null,
            "_view_module": "@jupyter-widgets/base",
            "_view_module_version": "1.2.0",
            "_view_name": "LayoutView",
            "align_content": null,
            "align_items": null,
            "align_self": null,
            "border": null,
            "bottom": null,
            "display": null,
            "flex": null,
            "flex_flow": null,
            "grid_area": null,
            "grid_auto_columns": null,
            "grid_auto_flow": null,
            "grid_auto_rows": null,
            "grid_column": null,
            "grid_gap": null,
            "grid_row": null,
            "grid_template_areas": null,
            "grid_template_columns": null,
            "grid_template_rows": null,
            "height": null,
            "justify_content": null,
            "justify_items": null,
            "left": null,
            "margin": null,
            "max_height": null,
            "max_width": null,
            "min_height": null,
            "min_width": null,
            "object_fit": null,
            "object_position": null,
            "order": null,
            "overflow": null,
            "overflow_x": null,
            "overflow_y": null,
            "padding": null,
            "right": null,
            "top": null,
            "visibility": null,
            "width": null
          }
        },
        "4a3ffdd5ca11434488ca2b5f8cfa54e7": {
          "model_module": "@jupyter-widgets/base",
          "model_module_version": "1.2.0",
          "model_name": "LayoutModel",
          "state": {
            "_model_module": "@jupyter-widgets/base",
            "_model_module_version": "1.2.0",
            "_model_name": "LayoutModel",
            "_view_count": null,
            "_view_module": "@jupyter-widgets/base",
            "_view_module_version": "1.2.0",
            "_view_name": "LayoutView",
            "align_content": null,
            "align_items": null,
            "align_self": null,
            "border": null,
            "bottom": null,
            "display": null,
            "flex": null,
            "flex_flow": null,
            "grid_area": null,
            "grid_auto_columns": null,
            "grid_auto_flow": null,
            "grid_auto_rows": null,
            "grid_column": null,
            "grid_gap": null,
            "grid_row": null,
            "grid_template_areas": null,
            "grid_template_columns": null,
            "grid_template_rows": null,
            "height": null,
            "justify_content": null,
            "justify_items": null,
            "left": null,
            "margin": null,
            "max_height": null,
            "max_width": null,
            "min_height": null,
            "min_width": null,
            "object_fit": null,
            "object_position": null,
            "order": null,
            "overflow": null,
            "overflow_x": null,
            "overflow_y": null,
            "padding": null,
            "right": null,
            "top": null,
            "visibility": null,
            "width": null
          }
        },
        "4b6495f09d3b46fcb9a8e6ae7fce690a": {
          "model_module": "@jupyter-widgets/controls",
          "model_module_version": "1.5.0",
          "model_name": "HTMLModel",
          "state": {
            "_dom_classes": [],
            "_model_module": "@jupyter-widgets/controls",
            "_model_module_version": "1.5.0",
            "_model_name": "HTMLModel",
            "_view_count": null,
            "_view_module": "@jupyter-widgets/controls",
            "_view_module_version": "1.5.0",
            "_view_name": "HTMLView",
            "description": "",
            "description_tooltip": null,
            "layout": "IPY_MODEL_b70643e63c3742c0b6e8ee84dbb2f717",
            "placeholder": "​",
            "style": "IPY_MODEL_570356cf7bed4957ac834e3ed16121f8",
            "value": " 1000/1000 [01:05&lt;00:00, 14.87it/s]"
          }
        },
        "4f85915bcc064d278e7922073535e2cb": {
          "model_module": "@jupyter-widgets/controls",
          "model_module_version": "1.5.0",
          "model_name": "HBoxModel",
          "state": {
            "_dom_classes": [],
            "_model_module": "@jupyter-widgets/controls",
            "_model_module_version": "1.5.0",
            "_model_name": "HBoxModel",
            "_view_count": null,
            "_view_module": "@jupyter-widgets/controls",
            "_view_module_version": "1.5.0",
            "_view_name": "HBoxView",
            "box_style": "",
            "children": [
              "IPY_MODEL_ece54db86d2e4c37a1951a5edfce12e2",
              "IPY_MODEL_95556db8ef524504ac2e5c28111a23d2",
              "IPY_MODEL_31b8e6efcc4d4bf499bf28289beefab7"
            ],
            "layout": "IPY_MODEL_2036696f39e44798b2e28044c99a2361"
          }
        },
        "570356cf7bed4957ac834e3ed16121f8": {
          "model_module": "@jupyter-widgets/controls",
          "model_module_version": "1.5.0",
          "model_name": "DescriptionStyleModel",
          "state": {
            "_model_module": "@jupyter-widgets/controls",
            "_model_module_version": "1.5.0",
            "_model_name": "DescriptionStyleModel",
            "_view_count": null,
            "_view_module": "@jupyter-widgets/base",
            "_view_module_version": "1.2.0",
            "_view_name": "StyleView",
            "description_width": ""
          }
        },
        "5a30aefede61429186e46aceeae8877e": {
          "model_module": "@jupyter-widgets/base",
          "model_module_version": "1.2.0",
          "model_name": "LayoutModel",
          "state": {
            "_model_module": "@jupyter-widgets/base",
            "_model_module_version": "1.2.0",
            "_model_name": "LayoutModel",
            "_view_count": null,
            "_view_module": "@jupyter-widgets/base",
            "_view_module_version": "1.2.0",
            "_view_name": "LayoutView",
            "align_content": null,
            "align_items": null,
            "align_self": null,
            "border": null,
            "bottom": null,
            "display": null,
            "flex": null,
            "flex_flow": null,
            "grid_area": null,
            "grid_auto_columns": null,
            "grid_auto_flow": null,
            "grid_auto_rows": null,
            "grid_column": null,
            "grid_gap": null,
            "grid_row": null,
            "grid_template_areas": null,
            "grid_template_columns": null,
            "grid_template_rows": null,
            "height": null,
            "justify_content": null,
            "justify_items": null,
            "left": null,
            "margin": null,
            "max_height": null,
            "max_width": null,
            "min_height": null,
            "min_width": null,
            "object_fit": null,
            "object_position": null,
            "order": null,
            "overflow": null,
            "overflow_x": null,
            "overflow_y": null,
            "padding": null,
            "right": null,
            "top": null,
            "visibility": null,
            "width": null
          }
        },
        "5e4b70e099c44c13ba08321f549d32b8": {
          "model_module": "@jupyter-widgets/base",
          "model_module_version": "1.2.0",
          "model_name": "LayoutModel",
          "state": {
            "_model_module": "@jupyter-widgets/base",
            "_model_module_version": "1.2.0",
            "_model_name": "LayoutModel",
            "_view_count": null,
            "_view_module": "@jupyter-widgets/base",
            "_view_module_version": "1.2.0",
            "_view_name": "LayoutView",
            "align_content": null,
            "align_items": null,
            "align_self": null,
            "border": null,
            "bottom": null,
            "display": null,
            "flex": null,
            "flex_flow": null,
            "grid_area": null,
            "grid_auto_columns": null,
            "grid_auto_flow": null,
            "grid_auto_rows": null,
            "grid_column": null,
            "grid_gap": null,
            "grid_row": null,
            "grid_template_areas": null,
            "grid_template_columns": null,
            "grid_template_rows": null,
            "height": null,
            "justify_content": null,
            "justify_items": null,
            "left": null,
            "margin": null,
            "max_height": null,
            "max_width": null,
            "min_height": null,
            "min_width": null,
            "object_fit": null,
            "object_position": null,
            "order": null,
            "overflow": null,
            "overflow_x": null,
            "overflow_y": null,
            "padding": null,
            "right": null,
            "top": null,
            "visibility": null,
            "width": null
          }
        },
        "5ff7d88f2e8d40ddb435ed07ba873ad1": {
          "model_module": "@jupyter-widgets/base",
          "model_module_version": "1.2.0",
          "model_name": "LayoutModel",
          "state": {
            "_model_module": "@jupyter-widgets/base",
            "_model_module_version": "1.2.0",
            "_model_name": "LayoutModel",
            "_view_count": null,
            "_view_module": "@jupyter-widgets/base",
            "_view_module_version": "1.2.0",
            "_view_name": "LayoutView",
            "align_content": null,
            "align_items": null,
            "align_self": null,
            "border": null,
            "bottom": null,
            "display": null,
            "flex": null,
            "flex_flow": null,
            "grid_area": null,
            "grid_auto_columns": null,
            "grid_auto_flow": null,
            "grid_auto_rows": null,
            "grid_column": null,
            "grid_gap": null,
            "grid_row": null,
            "grid_template_areas": null,
            "grid_template_columns": null,
            "grid_template_rows": null,
            "height": null,
            "justify_content": null,
            "justify_items": null,
            "left": null,
            "margin": null,
            "max_height": null,
            "max_width": null,
            "min_height": null,
            "min_width": null,
            "object_fit": null,
            "object_position": null,
            "order": null,
            "overflow": null,
            "overflow_x": null,
            "overflow_y": null,
            "padding": null,
            "right": null,
            "top": null,
            "visibility": null,
            "width": null
          }
        },
        "76ff6f75480241a488dac2ef940562ca": {
          "model_module": "@jupyter-widgets/controls",
          "model_module_version": "1.5.0",
          "model_name": "ProgressStyleModel",
          "state": {
            "_model_module": "@jupyter-widgets/controls",
            "_model_module_version": "1.5.0",
            "_model_name": "ProgressStyleModel",
            "_view_count": null,
            "_view_module": "@jupyter-widgets/base",
            "_view_module_version": "1.2.0",
            "_view_name": "StyleView",
            "bar_color": null,
            "description_width": ""
          }
        },
        "7ac8f29208be4193a182ada2f3f8962d": {
          "model_module": "@jupyter-widgets/controls",
          "model_module_version": "1.5.0",
          "model_name": "DescriptionStyleModel",
          "state": {
            "_model_module": "@jupyter-widgets/controls",
            "_model_module_version": "1.5.0",
            "_model_name": "DescriptionStyleModel",
            "_view_count": null,
            "_view_module": "@jupyter-widgets/base",
            "_view_module_version": "1.2.0",
            "_view_name": "StyleView",
            "description_width": ""
          }
        },
        "890a942ff2484adcaea6005fac3d07e8": {
          "model_module": "@jupyter-widgets/controls",
          "model_module_version": "1.5.0",
          "model_name": "HTMLModel",
          "state": {
            "_dom_classes": [],
            "_model_module": "@jupyter-widgets/controls",
            "_model_module_version": "1.5.0",
            "_model_name": "HTMLModel",
            "_view_count": null,
            "_view_module": "@jupyter-widgets/controls",
            "_view_module_version": "1.5.0",
            "_view_name": "HTMLView",
            "description": "",
            "description_tooltip": null,
            "layout": "IPY_MODEL_e565e1f5abbb4d27baf085d51e3bdc6f",
            "placeholder": "​",
            "style": "IPY_MODEL_e5893a558d094a09966e6ccd50621ee5",
            "value": "100%"
          }
        },
        "8b00e45da0404210aee82f87817a941d": {
          "model_module": "@jupyter-widgets/controls",
          "model_module_version": "1.5.0",
          "model_name": "DescriptionStyleModel",
          "state": {
            "_model_module": "@jupyter-widgets/controls",
            "_model_module_version": "1.5.0",
            "_model_name": "DescriptionStyleModel",
            "_view_count": null,
            "_view_module": "@jupyter-widgets/base",
            "_view_module_version": "1.2.0",
            "_view_name": "StyleView",
            "description_width": ""
          }
        },
        "8da350bd31284a9bb9d305983a08c758": {
          "model_module": "@jupyter-widgets/controls",
          "model_module_version": "1.5.0",
          "model_name": "FloatProgressModel",
          "state": {
            "_dom_classes": [],
            "_model_module": "@jupyter-widgets/controls",
            "_model_module_version": "1.5.0",
            "_model_name": "FloatProgressModel",
            "_view_count": null,
            "_view_module": "@jupyter-widgets/controls",
            "_view_module_version": "1.5.0",
            "_view_name": "ProgressView",
            "bar_style": "success",
            "description": "",
            "description_tooltip": null,
            "layout": "IPY_MODEL_c867b79e8de346b2a9024953238be803",
            "max": 100,
            "min": 0,
            "orientation": "horizontal",
            "style": "IPY_MODEL_306a460167fd4186a908ff90fcf05e48",
            "value": 100
          }
        },
        "93e9552b447146e8b025718feb754f2c": {
          "model_module": "@jupyter-widgets/controls",
          "model_module_version": "1.5.0",
          "model_name": "DescriptionStyleModel",
          "state": {
            "_model_module": "@jupyter-widgets/controls",
            "_model_module_version": "1.5.0",
            "_model_name": "DescriptionStyleModel",
            "_view_count": null,
            "_view_module": "@jupyter-widgets/base",
            "_view_module_version": "1.2.0",
            "_view_name": "StyleView",
            "description_width": ""
          }
        },
        "95556db8ef524504ac2e5c28111a23d2": {
          "model_module": "@jupyter-widgets/controls",
          "model_module_version": "1.5.0",
          "model_name": "FloatProgressModel",
          "state": {
            "_dom_classes": [],
            "_model_module": "@jupyter-widgets/controls",
            "_model_module_version": "1.5.0",
            "_model_name": "FloatProgressModel",
            "_view_count": null,
            "_view_module": "@jupyter-widgets/controls",
            "_view_module_version": "1.5.0",
            "_view_name": "ProgressView",
            "bar_style": "success",
            "description": "",
            "description_tooltip": null,
            "layout": "IPY_MODEL_5e4b70e099c44c13ba08321f549d32b8",
            "max": 10,
            "min": 0,
            "orientation": "horizontal",
            "style": "IPY_MODEL_76ff6f75480241a488dac2ef940562ca",
            "value": 10
          }
        },
        "9be5e964d2e348f59cea0e52a0447d6e": {
          "model_module": "@jupyter-widgets/controls",
          "model_module_version": "1.5.0",
          "model_name": "DescriptionStyleModel",
          "state": {
            "_model_module": "@jupyter-widgets/controls",
            "_model_module_version": "1.5.0",
            "_model_name": "DescriptionStyleModel",
            "_view_count": null,
            "_view_module": "@jupyter-widgets/base",
            "_view_module_version": "1.2.0",
            "_view_name": "StyleView",
            "description_width": ""
          }
        },
        "aef081a40cbc4897bdb5aba144e5abd5": {
          "model_module": "@jupyter-widgets/controls",
          "model_module_version": "1.5.0",
          "model_name": "HBoxModel",
          "state": {
            "_dom_classes": [],
            "_model_module": "@jupyter-widgets/controls",
            "_model_module_version": "1.5.0",
            "_model_name": "HBoxModel",
            "_view_count": null,
            "_view_module": "@jupyter-widgets/controls",
            "_view_module_version": "1.5.0",
            "_view_name": "HBoxView",
            "box_style": "",
            "children": [
              "IPY_MODEL_890a942ff2484adcaea6005fac3d07e8",
              "IPY_MODEL_097989c99daf42c9a3e2c4fa7da45d2e",
              "IPY_MODEL_b965da838b6745c3bfe1daead409998b"
            ],
            "layout": "IPY_MODEL_3907c5fa5f64431894f2d3145b9263d4"
          }
        },
        "b578b04ccf2c4f5fba6efeaba1a22f9c": {
          "model_module": "@jupyter-widgets/base",
          "model_module_version": "1.2.0",
          "model_name": "LayoutModel",
          "state": {
            "_model_module": "@jupyter-widgets/base",
            "_model_module_version": "1.2.0",
            "_model_name": "LayoutModel",
            "_view_count": null,
            "_view_module": "@jupyter-widgets/base",
            "_view_module_version": "1.2.0",
            "_view_name": "LayoutView",
            "align_content": null,
            "align_items": null,
            "align_self": null,
            "border": null,
            "bottom": null,
            "display": null,
            "flex": null,
            "flex_flow": null,
            "grid_area": null,
            "grid_auto_columns": null,
            "grid_auto_flow": null,
            "grid_auto_rows": null,
            "grid_column": null,
            "grid_gap": null,
            "grid_row": null,
            "grid_template_areas": null,
            "grid_template_columns": null,
            "grid_template_rows": null,
            "height": null,
            "justify_content": null,
            "justify_items": null,
            "left": null,
            "margin": null,
            "max_height": null,
            "max_width": null,
            "min_height": null,
            "min_width": null,
            "object_fit": null,
            "object_position": null,
            "order": null,
            "overflow": null,
            "overflow_x": null,
            "overflow_y": null,
            "padding": null,
            "right": null,
            "top": null,
            "visibility": null,
            "width": null
          }
        },
        "b70643e63c3742c0b6e8ee84dbb2f717": {
          "model_module": "@jupyter-widgets/base",
          "model_module_version": "1.2.0",
          "model_name": "LayoutModel",
          "state": {
            "_model_module": "@jupyter-widgets/base",
            "_model_module_version": "1.2.0",
            "_model_name": "LayoutModel",
            "_view_count": null,
            "_view_module": "@jupyter-widgets/base",
            "_view_module_version": "1.2.0",
            "_view_name": "LayoutView",
            "align_content": null,
            "align_items": null,
            "align_self": null,
            "border": null,
            "bottom": null,
            "display": null,
            "flex": null,
            "flex_flow": null,
            "grid_area": null,
            "grid_auto_columns": null,
            "grid_auto_flow": null,
            "grid_auto_rows": null,
            "grid_column": null,
            "grid_gap": null,
            "grid_row": null,
            "grid_template_areas": null,
            "grid_template_columns": null,
            "grid_template_rows": null,
            "height": null,
            "justify_content": null,
            "justify_items": null,
            "left": null,
            "margin": null,
            "max_height": null,
            "max_width": null,
            "min_height": null,
            "min_width": null,
            "object_fit": null,
            "object_position": null,
            "order": null,
            "overflow": null,
            "overflow_x": null,
            "overflow_y": null,
            "padding": null,
            "right": null,
            "top": null,
            "visibility": null,
            "width": null
          }
        },
        "b708fcba25014d3fa92add38bd06aad6": {
          "model_module": "@jupyter-widgets/base",
          "model_module_version": "1.2.0",
          "model_name": "LayoutModel",
          "state": {
            "_model_module": "@jupyter-widgets/base",
            "_model_module_version": "1.2.0",
            "_model_name": "LayoutModel",
            "_view_count": null,
            "_view_module": "@jupyter-widgets/base",
            "_view_module_version": "1.2.0",
            "_view_name": "LayoutView",
            "align_content": null,
            "align_items": null,
            "align_self": null,
            "border": null,
            "bottom": null,
            "display": null,
            "flex": null,
            "flex_flow": null,
            "grid_area": null,
            "grid_auto_columns": null,
            "grid_auto_flow": null,
            "grid_auto_rows": null,
            "grid_column": null,
            "grid_gap": null,
            "grid_row": null,
            "grid_template_areas": null,
            "grid_template_columns": null,
            "grid_template_rows": null,
            "height": null,
            "justify_content": null,
            "justify_items": null,
            "left": null,
            "margin": null,
            "max_height": null,
            "max_width": null,
            "min_height": null,
            "min_width": null,
            "object_fit": null,
            "object_position": null,
            "order": null,
            "overflow": null,
            "overflow_x": null,
            "overflow_y": null,
            "padding": null,
            "right": null,
            "top": null,
            "visibility": null,
            "width": null
          }
        },
        "b965da838b6745c3bfe1daead409998b": {
          "model_module": "@jupyter-widgets/controls",
          "model_module_version": "1.5.0",
          "model_name": "HTMLModel",
          "state": {
            "_dom_classes": [],
            "_model_module": "@jupyter-widgets/controls",
            "_model_module_version": "1.5.0",
            "_model_name": "HTMLModel",
            "_view_count": null,
            "_view_module": "@jupyter-widgets/controls",
            "_view_module_version": "1.5.0",
            "_view_name": "HTMLView",
            "description": "",
            "description_tooltip": null,
            "layout": "IPY_MODEL_4a3ffdd5ca11434488ca2b5f8cfa54e7",
            "placeholder": "​",
            "style": "IPY_MODEL_93e9552b447146e8b025718feb754f2c",
            "value": " 5000/5000 [05:21&lt;00:00, 17.68it/s]"
          }
        },
        "bb8c5820225f4361bf5e7c98f3337735": {
          "model_module": "@jupyter-widgets/base",
          "model_module_version": "1.2.0",
          "model_name": "LayoutModel",
          "state": {
            "_model_module": "@jupyter-widgets/base",
            "_model_module_version": "1.2.0",
            "_model_name": "LayoutModel",
            "_view_count": null,
            "_view_module": "@jupyter-widgets/base",
            "_view_module_version": "1.2.0",
            "_view_name": "LayoutView",
            "align_content": null,
            "align_items": null,
            "align_self": null,
            "border": null,
            "bottom": null,
            "display": null,
            "flex": null,
            "flex_flow": null,
            "grid_area": null,
            "grid_auto_columns": null,
            "grid_auto_flow": null,
            "grid_auto_rows": null,
            "grid_column": null,
            "grid_gap": null,
            "grid_row": null,
            "grid_template_areas": null,
            "grid_template_columns": null,
            "grid_template_rows": null,
            "height": null,
            "justify_content": null,
            "justify_items": null,
            "left": null,
            "margin": null,
            "max_height": null,
            "max_width": null,
            "min_height": null,
            "min_width": null,
            "object_fit": null,
            "object_position": null,
            "order": null,
            "overflow": null,
            "overflow_x": null,
            "overflow_y": null,
            "padding": null,
            "right": null,
            "top": null,
            "visibility": null,
            "width": null
          }
        },
        "c867b79e8de346b2a9024953238be803": {
          "model_module": "@jupyter-widgets/base",
          "model_module_version": "1.2.0",
          "model_name": "LayoutModel",
          "state": {
            "_model_module": "@jupyter-widgets/base",
            "_model_module_version": "1.2.0",
            "_model_name": "LayoutModel",
            "_view_count": null,
            "_view_module": "@jupyter-widgets/base",
            "_view_module_version": "1.2.0",
            "_view_name": "LayoutView",
            "align_content": null,
            "align_items": null,
            "align_self": null,
            "border": null,
            "bottom": null,
            "display": null,
            "flex": null,
            "flex_flow": null,
            "grid_area": null,
            "grid_auto_columns": null,
            "grid_auto_flow": null,
            "grid_auto_rows": null,
            "grid_column": null,
            "grid_gap": null,
            "grid_row": null,
            "grid_template_areas": null,
            "grid_template_columns": null,
            "grid_template_rows": null,
            "height": null,
            "justify_content": null,
            "justify_items": null,
            "left": null,
            "margin": null,
            "max_height": null,
            "max_width": null,
            "min_height": null,
            "min_width": null,
            "object_fit": null,
            "object_position": null,
            "order": null,
            "overflow": null,
            "overflow_x": null,
            "overflow_y": null,
            "padding": null,
            "right": null,
            "top": null,
            "visibility": null,
            "width": null
          }
        },
        "cb217cfb68ff48fb8bc8710be5b0e350": {
          "model_module": "@jupyter-widgets/controls",
          "model_module_version": "1.5.0",
          "model_name": "HTMLModel",
          "state": {
            "_dom_classes": [],
            "_model_module": "@jupyter-widgets/controls",
            "_model_module_version": "1.5.0",
            "_model_name": "HTMLModel",
            "_view_count": null,
            "_view_module": "@jupyter-widgets/controls",
            "_view_module_version": "1.5.0",
            "_view_name": "HTMLView",
            "description": "",
            "description_tooltip": null,
            "layout": "IPY_MODEL_5ff7d88f2e8d40ddb435ed07ba873ad1",
            "placeholder": "​",
            "style": "IPY_MODEL_8b00e45da0404210aee82f87817a941d",
            "value": "100%"
          }
        },
        "d5c68d72a35a40d99c2481e280797042": {
          "model_module": "@jupyter-widgets/base",
          "model_module_version": "1.2.0",
          "model_name": "LayoutModel",
          "state": {
            "_model_module": "@jupyter-widgets/base",
            "_model_module_version": "1.2.0",
            "_model_name": "LayoutModel",
            "_view_count": null,
            "_view_module": "@jupyter-widgets/base",
            "_view_module_version": "1.2.0",
            "_view_name": "LayoutView",
            "align_content": null,
            "align_items": null,
            "align_self": null,
            "border": null,
            "bottom": null,
            "display": null,
            "flex": null,
            "flex_flow": null,
            "grid_area": null,
            "grid_auto_columns": null,
            "grid_auto_flow": null,
            "grid_auto_rows": null,
            "grid_column": null,
            "grid_gap": null,
            "grid_row": null,
            "grid_template_areas": null,
            "grid_template_columns": null,
            "grid_template_rows": null,
            "height": null,
            "justify_content": null,
            "justify_items": null,
            "left": null,
            "margin": null,
            "max_height": null,
            "max_width": null,
            "min_height": null,
            "min_width": null,
            "object_fit": null,
            "object_position": null,
            "order": null,
            "overflow": null,
            "overflow_x": null,
            "overflow_y": null,
            "padding": null,
            "right": null,
            "top": null,
            "visibility": null,
            "width": null
          }
        },
        "da04ad4cf7dd4164b3d382027e08a6fe": {
          "model_module": "@jupyter-widgets/controls",
          "model_module_version": "1.5.0",
          "model_name": "DescriptionStyleModel",
          "state": {
            "_model_module": "@jupyter-widgets/controls",
            "_model_module_version": "1.5.0",
            "_model_name": "DescriptionStyleModel",
            "_view_count": null,
            "_view_module": "@jupyter-widgets/base",
            "_view_module_version": "1.2.0",
            "_view_name": "StyleView",
            "description_width": ""
          }
        },
        "df126fffbaa94b61a9ee85941f073067": {
          "model_module": "@jupyter-widgets/base",
          "model_module_version": "1.2.0",
          "model_name": "LayoutModel",
          "state": {
            "_model_module": "@jupyter-widgets/base",
            "_model_module_version": "1.2.0",
            "_model_name": "LayoutModel",
            "_view_count": null,
            "_view_module": "@jupyter-widgets/base",
            "_view_module_version": "1.2.0",
            "_view_name": "LayoutView",
            "align_content": null,
            "align_items": null,
            "align_self": null,
            "border": null,
            "bottom": null,
            "display": null,
            "flex": null,
            "flex_flow": null,
            "grid_area": null,
            "grid_auto_columns": null,
            "grid_auto_flow": null,
            "grid_auto_rows": null,
            "grid_column": null,
            "grid_gap": null,
            "grid_row": null,
            "grid_template_areas": null,
            "grid_template_columns": null,
            "grid_template_rows": null,
            "height": null,
            "justify_content": null,
            "justify_items": null,
            "left": null,
            "margin": null,
            "max_height": null,
            "max_width": null,
            "min_height": null,
            "min_width": null,
            "object_fit": null,
            "object_position": null,
            "order": null,
            "overflow": null,
            "overflow_x": null,
            "overflow_y": null,
            "padding": null,
            "right": null,
            "top": null,
            "visibility": null,
            "width": null
          }
        },
        "e0de13e2914e41dbb8ada2e94a093f34": {
          "model_module": "@jupyter-widgets/base",
          "model_module_version": "1.2.0",
          "model_name": "LayoutModel",
          "state": {
            "_model_module": "@jupyter-widgets/base",
            "_model_module_version": "1.2.0",
            "_model_name": "LayoutModel",
            "_view_count": null,
            "_view_module": "@jupyter-widgets/base",
            "_view_module_version": "1.2.0",
            "_view_name": "LayoutView",
            "align_content": null,
            "align_items": null,
            "align_self": null,
            "border": null,
            "bottom": null,
            "display": null,
            "flex": null,
            "flex_flow": null,
            "grid_area": null,
            "grid_auto_columns": null,
            "grid_auto_flow": null,
            "grid_auto_rows": null,
            "grid_column": null,
            "grid_gap": null,
            "grid_row": null,
            "grid_template_areas": null,
            "grid_template_columns": null,
            "grid_template_rows": null,
            "height": null,
            "justify_content": null,
            "justify_items": null,
            "left": null,
            "margin": null,
            "max_height": null,
            "max_width": null,
            "min_height": null,
            "min_width": null,
            "object_fit": null,
            "object_position": null,
            "order": null,
            "overflow": null,
            "overflow_x": null,
            "overflow_y": null,
            "padding": null,
            "right": null,
            "top": null,
            "visibility": null,
            "width": null
          }
        },
        "e2970faa6ba946cdbedfba9a4d5fef1d": {
          "model_module": "@jupyter-widgets/controls",
          "model_module_version": "1.5.0",
          "model_name": "HBoxModel",
          "state": {
            "_dom_classes": [],
            "_model_module": "@jupyter-widgets/controls",
            "_model_module_version": "1.5.0",
            "_model_name": "HBoxModel",
            "_view_count": null,
            "_view_module": "@jupyter-widgets/controls",
            "_view_module_version": "1.5.0",
            "_view_name": "HBoxView",
            "box_style": "",
            "children": [
              "IPY_MODEL_cb217cfb68ff48fb8bc8710be5b0e350",
              "IPY_MODEL_fa08736ec605457fabb54ae23411e159",
              "IPY_MODEL_4b6495f09d3b46fcb9a8e6ae7fce690a"
            ],
            "layout": "IPY_MODEL_f7020e8f2d064e52af5c2fe1c4febe91"
          }
        },
        "e565e1f5abbb4d27baf085d51e3bdc6f": {
          "model_module": "@jupyter-widgets/base",
          "model_module_version": "1.2.0",
          "model_name": "LayoutModel",
          "state": {
            "_model_module": "@jupyter-widgets/base",
            "_model_module_version": "1.2.0",
            "_model_name": "LayoutModel",
            "_view_count": null,
            "_view_module": "@jupyter-widgets/base",
            "_view_module_version": "1.2.0",
            "_view_name": "LayoutView",
            "align_content": null,
            "align_items": null,
            "align_self": null,
            "border": null,
            "bottom": null,
            "display": null,
            "flex": null,
            "flex_flow": null,
            "grid_area": null,
            "grid_auto_columns": null,
            "grid_auto_flow": null,
            "grid_auto_rows": null,
            "grid_column": null,
            "grid_gap": null,
            "grid_row": null,
            "grid_template_areas": null,
            "grid_template_columns": null,
            "grid_template_rows": null,
            "height": null,
            "justify_content": null,
            "justify_items": null,
            "left": null,
            "margin": null,
            "max_height": null,
            "max_width": null,
            "min_height": null,
            "min_width": null,
            "object_fit": null,
            "object_position": null,
            "order": null,
            "overflow": null,
            "overflow_x": null,
            "overflow_y": null,
            "padding": null,
            "right": null,
            "top": null,
            "visibility": null,
            "width": null
          }
        },
        "e5893a558d094a09966e6ccd50621ee5": {
          "model_module": "@jupyter-widgets/controls",
          "model_module_version": "1.5.0",
          "model_name": "DescriptionStyleModel",
          "state": {
            "_model_module": "@jupyter-widgets/controls",
            "_model_module_version": "1.5.0",
            "_model_name": "DescriptionStyleModel",
            "_view_count": null,
            "_view_module": "@jupyter-widgets/base",
            "_view_module_version": "1.2.0",
            "_view_name": "StyleView",
            "description_width": ""
          }
        },
        "ece54db86d2e4c37a1951a5edfce12e2": {
          "model_module": "@jupyter-widgets/controls",
          "model_module_version": "1.5.0",
          "model_name": "HTMLModel",
          "state": {
            "_dom_classes": [],
            "_model_module": "@jupyter-widgets/controls",
            "_model_module_version": "1.5.0",
            "_model_name": "HTMLModel",
            "_view_count": null,
            "_view_module": "@jupyter-widgets/controls",
            "_view_module_version": "1.5.0",
            "_view_name": "HTMLView",
            "description": "",
            "description_tooltip": null,
            "layout": "IPY_MODEL_19b4424202364dd08939fe90eaa1d862",
            "placeholder": "​",
            "style": "IPY_MODEL_7ac8f29208be4193a182ada2f3f8962d",
            "value": "100%"
          }
        },
        "ed8ea87653314cba956017247bbe8e54": {
          "model_module": "@jupyter-widgets/controls",
          "model_module_version": "1.5.0",
          "model_name": "HTMLModel",
          "state": {
            "_dom_classes": [],
            "_model_module": "@jupyter-widgets/controls",
            "_model_module_version": "1.5.0",
            "_model_name": "HTMLModel",
            "_view_count": null,
            "_view_module": "@jupyter-widgets/controls",
            "_view_module_version": "1.5.0",
            "_view_name": "HTMLView",
            "description": "",
            "description_tooltip": null,
            "layout": "IPY_MODEL_bb8c5820225f4361bf5e7c98f3337735",
            "placeholder": "​",
            "style": "IPY_MODEL_fde2a12c2a4c4f818743790726a93c93",
            "value": " 500/500 [00:32&lt;00:00, 19.16it/s]"
          }
        },
        "f7020e8f2d064e52af5c2fe1c4febe91": {
          "model_module": "@jupyter-widgets/base",
          "model_module_version": "1.2.0",
          "model_name": "LayoutModel",
          "state": {
            "_model_module": "@jupyter-widgets/base",
            "_model_module_version": "1.2.0",
            "_model_name": "LayoutModel",
            "_view_count": null,
            "_view_module": "@jupyter-widgets/base",
            "_view_module_version": "1.2.0",
            "_view_name": "LayoutView",
            "align_content": null,
            "align_items": null,
            "align_self": null,
            "border": null,
            "bottom": null,
            "display": null,
            "flex": null,
            "flex_flow": null,
            "grid_area": null,
            "grid_auto_columns": null,
            "grid_auto_flow": null,
            "grid_auto_rows": null,
            "grid_column": null,
            "grid_gap": null,
            "grid_row": null,
            "grid_template_areas": null,
            "grid_template_columns": null,
            "grid_template_rows": null,
            "height": null,
            "justify_content": null,
            "justify_items": null,
            "left": null,
            "margin": null,
            "max_height": null,
            "max_width": null,
            "min_height": null,
            "min_width": null,
            "object_fit": null,
            "object_position": null,
            "order": null,
            "overflow": null,
            "overflow_x": null,
            "overflow_y": null,
            "padding": null,
            "right": null,
            "top": null,
            "visibility": null,
            "width": null
          }
        },
        "fa08736ec605457fabb54ae23411e159": {
          "model_module": "@jupyter-widgets/controls",
          "model_module_version": "1.5.0",
          "model_name": "FloatProgressModel",
          "state": {
            "_dom_classes": [],
            "_model_module": "@jupyter-widgets/controls",
            "_model_module_version": "1.5.0",
            "_model_name": "FloatProgressModel",
            "_view_count": null,
            "_view_module": "@jupyter-widgets/controls",
            "_view_module_version": "1.5.0",
            "_view_name": "ProgressView",
            "bar_style": "success",
            "description": "",
            "description_tooltip": null,
            "layout": "IPY_MODEL_361a383002f04d4b9206e924266bf5ed",
            "max": 1000,
            "min": 0,
            "orientation": "horizontal",
            "style": "IPY_MODEL_29a19a90871542e7b5c1d9b026865a03",
            "value": 1000
          }
        },
        "fde2a12c2a4c4f818743790726a93c93": {
          "model_module": "@jupyter-widgets/controls",
          "model_module_version": "1.5.0",
          "model_name": "DescriptionStyleModel",
          "state": {
            "_model_module": "@jupyter-widgets/controls",
            "_model_module_version": "1.5.0",
            "_model_name": "DescriptionStyleModel",
            "_view_count": null,
            "_view_module": "@jupyter-widgets/base",
            "_view_module_version": "1.2.0",
            "_view_name": "StyleView",
            "description_width": ""
          }
        },
        "fdf707f1c30249e0be0b11f75879c7ff": {
          "model_module": "@jupyter-widgets/controls",
          "model_module_version": "1.5.0",
          "model_name": "HTMLModel",
          "state": {
            "_dom_classes": [],
            "_model_module": "@jupyter-widgets/controls",
            "_model_module_version": "1.5.0",
            "_model_name": "HTMLModel",
            "_view_count": null,
            "_view_module": "@jupyter-widgets/controls",
            "_view_module_version": "1.5.0",
            "_view_name": "HTMLView",
            "description": "",
            "description_tooltip": null,
            "layout": "IPY_MODEL_5a30aefede61429186e46aceeae8877e",
            "placeholder": "​",
            "style": "IPY_MODEL_da04ad4cf7dd4164b3d382027e08a6fe",
            "value": " 100/100 [00:06&lt;00:00, 17.98it/s]"
          }
        }
      }
    }
  },
  "nbformat": 4,
  "nbformat_minor": 0
}
