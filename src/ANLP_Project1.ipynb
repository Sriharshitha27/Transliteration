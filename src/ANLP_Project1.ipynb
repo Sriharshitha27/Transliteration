{
  "cells": [
    {
      "cell_type": "code",
      "execution_count": null,
      "metadata": {
        "colab": {
          "base_uri": "https://localhost:8080/"
        },
        "id": "9OFres0fbxBB",
        "outputId": "7f3c86d8-c1a5-42ce-cf6a-06a201c2f032"
      },
      "outputs": [
        {
          "output_type": "stream",
          "name": "stdout",
          "text": [
            "Colab only includes TensorFlow 2.x; %tensorflow_version has no effect.\n",
            "2.8.2\n"
          ]
        }
      ],
      "source": [
        "import os\n",
        "import pathlib\n",
        "import re\n",
        "import collections\n",
        "import scipy.spatial.distance as ds\n",
        "import pickle\n",
        "import numpy as np\n",
        "import random\n",
        "import string\n",
        "from string import digits\n",
        "import pandas as pd\n",
        "import unicodedata\n",
        "import torch\n",
        "import torch.nn as nn\n",
        "import torch.optim as optim\n",
        "import torch.nn.functional as f\n",
        "import matplotlib.pyplot as plt\n",
        "import seaborn as sns\n",
        "\n",
        "sns.set_style(\"darkgrid\")\n",
        "\n",
        "import matplotlib.ticker as ticker\n",
        "from nltk.translate.bleu_score import sentence_bleu\n",
        "from __future__ import absolute_import, division, print_function\n",
        "try:\n",
        "  # %tensorflow_version only exists in Colab.\n",
        "  %tensorflow_version 2.x\n",
        "except Exception:\n",
        "  pass\n",
        "import tensorflow as tf\n",
        "print(tf.__version__)\n",
        "import io\n",
        "import time\n",
        "from sklearn.model_selection import train_test_split"
      ]
    },
    {
      "cell_type": "code",
      "execution_count": null,
      "metadata": {
        "colab": {
          "base_uri": "https://localhost:8080/"
        },
        "id": "UGg7VDvDcHRM",
        "outputId": "bc7a175e-c335-4925-85a1-6cc99fa01cb5"
      },
      "outputs": [
        {
          "output_type": "stream",
          "name": "stdout",
          "text": [
            "Mounted at /content/drive\n"
          ]
        }
      ],
      "source": [
        "from google.colab import drive\n",
        "drive.mount(\"/content/drive\")"
      ]
    },
    {
      "cell_type": "code",
      "execution_count": null,
      "metadata": {
        "id": "HKj3hIMrcPVh"
      },
      "outputs": [],
      "source": [
        "!tar -xvf  \"/content/drive/My Drive/Adv_NLP_Project/dakshina_dataset_v1.0.tar\" -C \"/content/sample_data/\" \n",
        "# !tar -xvf  \"/content/drive/MyDrive/NLP/Project/Dataset/dakshina_dataset_v1.0.tar\" -C \"/content/sample_data/\""
      ]
    },
    {
      "cell_type": "code",
      "execution_count": null,
      "metadata": {
        "id": "_184dB5cch43"
      },
      "outputs": [],
      "source": [
        "l_train = []\n",
        "l_test = []\n",
        "\n",
        "f1=\"/content/sample_data/dakshina_dataset_v1.0/hi/romanized/hi.romanized.rejoined.dev.native.txt\"\n",
        "curr_file1 = open(f1, \"r\")\n",
        "for line in curr_file1:\n",
        "  temp = []\n",
        "  temp.append(line)\n",
        "  l_train.append(temp)\n",
        "curr_file1.close()\n",
        "\n",
        "f2=\"/content/sample_data/dakshina_dataset_v1.0/hi/romanized/hi.romanized.rejoined.dev.roman.txt\"\n",
        "curr_file2 = open(f2, \"r\")\n",
        "i=0\n",
        "for line in curr_file2:\n",
        "  l_train[i].append(line)\n",
        "  i+=1\n",
        "curr_file2.close()\n",
        "\n",
        "f3=\"/content/sample_data/dakshina_dataset_v1.0/hi/romanized/hi.romanized.rejoined.test.native.txt\"\n",
        "curr_file3 = open(f3, \"r\")\n",
        "for line in curr_file3:\n",
        "  temp = []\n",
        "  temp.append(line)\n",
        "  l_test.append(temp)\n",
        "curr_file1.close()\n",
        "\n",
        "f4=\"/content/sample_data/dakshina_dataset_v1.0/hi/romanized/hi.romanized.rejoined.test.roman.txt\"\n",
        "curr_file4 = open(f4, \"r\")\n",
        "i=0\n",
        "for line in curr_file4:\n",
        "  l_test[i].append(line)\n",
        "  i+=1\n",
        "curr_file2.close()"
      ]
    },
    {
      "cell_type": "code",
      "execution_count": null,
      "metadata": {
        "colab": {
          "base_uri": "https://localhost:8080/"
        },
        "id": "aXVMQHReiAm8",
        "outputId": "940e59e3-0a8d-4ec7-c9ed-2fe7e805059d"
      },
      "outputs": [
        {
          "output_type": "stream",
          "name": "stdout",
          "text": [
            "[['इसके आने से पूर्व ही लोग घरों की सफाई का कार्य शुरू कर देते हैं।\\n', 'iske aane se purva hi log gharon ki safai ka karya shuru kar dete hain.\\n'], ['विलुप्ति की कगार पर गुणकारी तीखुर\\n', 'vilupti ki kagaar par gunkaari tikhur\\n'], ['माइकल कामेन (द वॉल के वाद्यमय हिस्सों के लिए एक योगदानकर्ता) ने दोनों के बीच मध्यस्थता की और उस भूमिका को निभाया जिस पर पारंपरिक रूप से रिचर्ड राइट ने कब्जा किया हुआ था जो अब अनुपस्थित थे।\\n', 'Michael kamen (the wall ke vadyamaya hisso ke liye ek yogdanakarta) ne dono ke bich madhyasthata ki aur us bhumika ko nibhaya jis par paramparik rup se richard wright ne kabja kiya hua tha jo ab anupasthit the.\\n'], ['शाहनामा नौरोज़ के त्यौहार को महान जमशेद के शासनकाल से जोड़ता है।\\n', 'shahnama noroj ke tyohaar ko mahaan Jamshed ke shashankaal se jodta hai.\\n'], ['मेहरोत्रा, डॉ॰ एन.\\n', 'Mehrotra, Dr॰ N.\\n'], ['दुर्गा भाभी\\n', 'durga bhabhi\\n'], ['स्वामी बृहस्पति\\n', 'swami brhaspati\\n'], ['बॉलीवुड, हिन्दी चलचित्र उद्योग भी मुंबई में ही स्थित है।\\n', 'bollywood, hindi chalchitra udyog bhi mumbai me hi sthit hai.\\n'], ['क्योंकि ऐसे शब्द भाषा के मूल शब्द होते हैं।\\n', 'kyonki aise sabda bhasa ke mula sabda hote haim.\\n'], ['शार्ंगदेव (1210–1247) भारत के संगीतशास्त्री थे जिन्होने संगीतरत्नाकर नामक महत्वपूर्ण ग्रंथ की रचना की।\\n', 'Sharangdev (1210-1247) Bharat ke Sangeetshastri the jinhone Sangeetratankar Naamak mahatwpurn granth ki rachna ki.\\n']]\n",
            "[['कुंभ राशि में जन्मे लोग संभावनाओं से भरी एक जगह के रूप में दुनिया को देखते हैं।\\n', 'Kumbh rashi men janme log sambhavnaon se bhari ek jagah ke roop men duniya ko dekhte hain.\\n'], ['इसका उलट भी सत्य है।\\n', 'Iska ulat bhi satya hai.\\n'], ['कुछ देवता जो मुख्यत: नगर देवता थे, अपने संप्रदायवालों के चलते गुण और कार्य में विशिष्ट समझे गए और उनकी महत्ता सर्वोपरि समझी गई।\\n', 'kuch devta jo mukhyatah nagar devta the, apne sampradayvalon ke chalte gun aur karya mein vishisht samjhe gaye aur unki mahatta sarvopati samjhi gayi.\\n'], ['तेल के उत्पादन में संसार में रोमानिया का छठा स्थान है।\\n', 'Tel ke utpadan men sansar men Romania ka chhath sthan hai.\\n'], ['बनारसी लाल से मिलकर पुलिस ने सारा भेद प्राप्त कर लिया।\\n', 'Banarasi Lal se milkar police ne sara bhed praapt kar liya.\\n'], ['अन्य प्रकार की घटनाओं के प्रति बीमा के समान ही, बचाव निधि द्वारा अन्य निवेशक को मुद्रा निवेश के लिए भुगतान करना पड़ता है।\\n', 'Anya prakar ki ghatanaon ke prati beema ke samaan hi, bachav nidhi dwara anya niveshak ko mudra nivesh ke liye bhugtan karana padta hai.\\n'], ['पंडित शिवकुमार शर्मा\\n', 'Pandit Shivkumar Sharma\\n'], ['उन्हें एक समूह या एक समुदाय अच्छा लगता है, तो वे लगातार दूसरे लोगों से घिरे रहने का प्रयास करते हैं।\\n', 'Unhe ek samuh ya ek samuday achha lagta hai, to ve lagatar dusre login se ghire rahane ka prayas karte hain.\\n'], ['बीबीसी हिन्दी संवाददाता द्वारा वेंकटरामन रामकृष्णन का साक्षात्कार।\\n', 'beebeesee hindi sanwaddaata dwara Venkatraman Ramkrishnan ka saakshatkar.\\n'], ['हाँ, खोज का सिलसिला न रुके,\\n', 'haan, khoj kaa silsilaa na ruke,\\n']]\n"
          ]
        }
      ],
      "source": [
        "print(l_train[:10])\n",
        "print(l_test[:10])"
      ]
    },
    {
      "cell_type": "code",
      "execution_count": null,
      "metadata": {
        "colab": {
          "base_uri": "https://localhost:8080/",
          "height": 424
        },
        "id": "HZGXH0EKlnl0",
        "outputId": "171883f9-74ef-42e6-c728-ba191f9e175e"
      },
      "outputs": [
        {
          "output_type": "execute_result",
          "data": {
            "text/plain": [
              "                                                 native  \\\n",
              "0     @इसके आने से पूर्व ही लोग घरों की सफाई का कार्...   \n",
              "1                   @विलुप्ति की कगार पर गुणकारी तीखुर#   \n",
              "2     @माइकल कामेन द वॉल के वाद्यमय हिस्सों के लिए ए...   \n",
              "3     @शाहनामा नौरोज़ के त्यौहार को महान जमशेद के शा...   \n",
              "4                                    @मेहरोत्रा डॉ॰ एन#   \n",
              "...                                                 ...   \n",
              "4995  @किन्तु लगता है कि यह मलयालम युक्तिभाषा के बाद...   \n",
              "4996                                          @अक्षांश#   \n",
              "4997  @वह लापरवाही से एनामारिया डेवी जोन्स और अन्य स...   \n",
              "4998  @मैं सोचती हूँ कि असली वजह यह थी कि निर्देशक ज...   \n",
              "4999  @पटकाई भारत के पूर्वोत्तर में बर्मा के साथ लगी...   \n",
              "\n",
              "                                                  roman  \n",
              "0     @iske aane se purva hi log gharon ki safai ka ...  \n",
              "1               @vilupti ki kagaar par gunkaari tikhur#  \n",
              "2     @michael kamen the wall ke vadyamaya hisso ke ...  \n",
              "3     @shahnama noroj ke tyohaar ko mahaan jamshed k...  \n",
              "4                                      @mehrotra dr॰ n#  \n",
              "...                                                 ...  \n",
              "4995  @kintu lagata hai ki yaha malayalama yuktibhas...  \n",
              "4996                                         @akshansh#  \n",
              "4997  @vah laparvahi se enamaria devi jons aur anya ...  \n",
              "4998  @main sochti hun ki asli vajah yah thi ki nird...  \n",
              "4999  @ptakai bharat ke purvottar men burma ke saath...  \n",
              "\n",
              "[5000 rows x 2 columns]"
            ],
            "text/html": [
              "\n",
              "  <div id=\"df-b920c206-1e63-4044-a9f9-957efe1b986e\">\n",
              "    <div class=\"colab-df-container\">\n",
              "      <div>\n",
              "<style scoped>\n",
              "    .dataframe tbody tr th:only-of-type {\n",
              "        vertical-align: middle;\n",
              "    }\n",
              "\n",
              "    .dataframe tbody tr th {\n",
              "        vertical-align: top;\n",
              "    }\n",
              "\n",
              "    .dataframe thead th {\n",
              "        text-align: right;\n",
              "    }\n",
              "</style>\n",
              "<table border=\"1\" class=\"dataframe\">\n",
              "  <thead>\n",
              "    <tr style=\"text-align: right;\">\n",
              "      <th></th>\n",
              "      <th>native</th>\n",
              "      <th>roman</th>\n",
              "    </tr>\n",
              "  </thead>\n",
              "  <tbody>\n",
              "    <tr>\n",
              "      <th>0</th>\n",
              "      <td>@इसके आने से पूर्व ही लोग घरों की सफाई का कार्...</td>\n",
              "      <td>@iske aane se purva hi log gharon ki safai ka ...</td>\n",
              "    </tr>\n",
              "    <tr>\n",
              "      <th>1</th>\n",
              "      <td>@विलुप्ति की कगार पर गुणकारी तीखुर#</td>\n",
              "      <td>@vilupti ki kagaar par gunkaari tikhur#</td>\n",
              "    </tr>\n",
              "    <tr>\n",
              "      <th>2</th>\n",
              "      <td>@माइकल कामेन द वॉल के वाद्यमय हिस्सों के लिए ए...</td>\n",
              "      <td>@michael kamen the wall ke vadyamaya hisso ke ...</td>\n",
              "    </tr>\n",
              "    <tr>\n",
              "      <th>3</th>\n",
              "      <td>@शाहनामा नौरोज़ के त्यौहार को महान जमशेद के शा...</td>\n",
              "      <td>@shahnama noroj ke tyohaar ko mahaan jamshed k...</td>\n",
              "    </tr>\n",
              "    <tr>\n",
              "      <th>4</th>\n",
              "      <td>@मेहरोत्रा डॉ॰ एन#</td>\n",
              "      <td>@mehrotra dr॰ n#</td>\n",
              "    </tr>\n",
              "    <tr>\n",
              "      <th>...</th>\n",
              "      <td>...</td>\n",
              "      <td>...</td>\n",
              "    </tr>\n",
              "    <tr>\n",
              "      <th>4995</th>\n",
              "      <td>@किन्तु लगता है कि यह मलयालम युक्तिभाषा के बाद...</td>\n",
              "      <td>@kintu lagata hai ki yaha malayalama yuktibhas...</td>\n",
              "    </tr>\n",
              "    <tr>\n",
              "      <th>4996</th>\n",
              "      <td>@अक्षांश#</td>\n",
              "      <td>@akshansh#</td>\n",
              "    </tr>\n",
              "    <tr>\n",
              "      <th>4997</th>\n",
              "      <td>@वह लापरवाही से एनामारिया डेवी जोन्स और अन्य स...</td>\n",
              "      <td>@vah laparvahi se enamaria devi jons aur anya ...</td>\n",
              "    </tr>\n",
              "    <tr>\n",
              "      <th>4998</th>\n",
              "      <td>@मैं सोचती हूँ कि असली वजह यह थी कि निर्देशक ज...</td>\n",
              "      <td>@main sochti hun ki asli vajah yah thi ki nird...</td>\n",
              "    </tr>\n",
              "    <tr>\n",
              "      <th>4999</th>\n",
              "      <td>@पटकाई भारत के पूर्वोत्तर में बर्मा के साथ लगी...</td>\n",
              "      <td>@ptakai bharat ke purvottar men burma ke saath...</td>\n",
              "    </tr>\n",
              "  </tbody>\n",
              "</table>\n",
              "<p>5000 rows × 2 columns</p>\n",
              "</div>\n",
              "      <button class=\"colab-df-convert\" onclick=\"convertToInteractive('df-b920c206-1e63-4044-a9f9-957efe1b986e')\"\n",
              "              title=\"Convert this dataframe to an interactive table.\"\n",
              "              style=\"display:none;\">\n",
              "        \n",
              "  <svg xmlns=\"http://www.w3.org/2000/svg\" height=\"24px\"viewBox=\"0 0 24 24\"\n",
              "       width=\"24px\">\n",
              "    <path d=\"M0 0h24v24H0V0z\" fill=\"none\"/>\n",
              "    <path d=\"M18.56 5.44l.94 2.06.94-2.06 2.06-.94-2.06-.94-.94-2.06-.94 2.06-2.06.94zm-11 1L8.5 8.5l.94-2.06 2.06-.94-2.06-.94L8.5 2.5l-.94 2.06-2.06.94zm10 10l.94 2.06.94-2.06 2.06-.94-2.06-.94-.94-2.06-.94 2.06-2.06.94z\"/><path d=\"M17.41 7.96l-1.37-1.37c-.4-.4-.92-.59-1.43-.59-.52 0-1.04.2-1.43.59L10.3 9.45l-7.72 7.72c-.78.78-.78 2.05 0 2.83L4 21.41c.39.39.9.59 1.41.59.51 0 1.02-.2 1.41-.59l7.78-7.78 2.81-2.81c.8-.78.8-2.07 0-2.86zM5.41 20L4 18.59l7.72-7.72 1.47 1.35L5.41 20z\"/>\n",
              "  </svg>\n",
              "      </button>\n",
              "      \n",
              "  <style>\n",
              "    .colab-df-container {\n",
              "      display:flex;\n",
              "      flex-wrap:wrap;\n",
              "      gap: 12px;\n",
              "    }\n",
              "\n",
              "    .colab-df-convert {\n",
              "      background-color: #E8F0FE;\n",
              "      border: none;\n",
              "      border-radius: 50%;\n",
              "      cursor: pointer;\n",
              "      display: none;\n",
              "      fill: #1967D2;\n",
              "      height: 32px;\n",
              "      padding: 0 0 0 0;\n",
              "      width: 32px;\n",
              "    }\n",
              "\n",
              "    .colab-df-convert:hover {\n",
              "      background-color: #E2EBFA;\n",
              "      box-shadow: 0px 1px 2px rgba(60, 64, 67, 0.3), 0px 1px 3px 1px rgba(60, 64, 67, 0.15);\n",
              "      fill: #174EA6;\n",
              "    }\n",
              "\n",
              "    [theme=dark] .colab-df-convert {\n",
              "      background-color: #3B4455;\n",
              "      fill: #D2E3FC;\n",
              "    }\n",
              "\n",
              "    [theme=dark] .colab-df-convert:hover {\n",
              "      background-color: #434B5C;\n",
              "      box-shadow: 0px 1px 3px 1px rgba(0, 0, 0, 0.15);\n",
              "      filter: drop-shadow(0px 1px 2px rgba(0, 0, 0, 0.3));\n",
              "      fill: #FFFFFF;\n",
              "    }\n",
              "  </style>\n",
              "\n",
              "      <script>\n",
              "        const buttonEl =\n",
              "          document.querySelector('#df-b920c206-1e63-4044-a9f9-957efe1b986e button.colab-df-convert');\n",
              "        buttonEl.style.display =\n",
              "          google.colab.kernel.accessAllowed ? 'block' : 'none';\n",
              "\n",
              "        async function convertToInteractive(key) {\n",
              "          const element = document.querySelector('#df-b920c206-1e63-4044-a9f9-957efe1b986e');\n",
              "          const dataTable =\n",
              "            await google.colab.kernel.invokeFunction('convertToInteractive',\n",
              "                                                     [key], {});\n",
              "          if (!dataTable) return;\n",
              "\n",
              "          const docLinkHtml = 'Like what you see? Visit the ' +\n",
              "            '<a target=\"_blank\" href=https://colab.research.google.com/notebooks/data_table.ipynb>data table notebook</a>'\n",
              "            + ' to learn more about interactive tables.';\n",
              "          element.innerHTML = '';\n",
              "          dataTable['output_type'] = 'display_data';\n",
              "          await google.colab.output.renderOutput(dataTable, element);\n",
              "          const docLink = document.createElement('div');\n",
              "          docLink.innerHTML = docLinkHtml;\n",
              "          element.appendChild(docLink);\n",
              "        }\n",
              "      </script>\n",
              "    </div>\n",
              "  </div>\n",
              "  "
            ]
          },
          "metadata": {},
          "execution_count": 31
        }
      ],
      "source": [
        "df = pd.DataFrame(l_train, columns = ['native', 'roman'])\n",
        "df"
      ]
    },
    {
      "cell_type": "code",
      "execution_count": null,
      "metadata": {
        "colab": {
          "base_uri": "https://localhost:8080/"
        },
        "id": "Fnx-f1THTmV8",
        "outputId": "9ca39149-14aa-4bf7-816e-2605519072ae"
      },
      "outputs": [
        {
          "name": "stdout",
          "output_type": "stream",
          "text": [
            "{'<start>': 0, '<end>': 1, 'ऀ': 1, 'ँ': 2, 'ं': 3, 'ः': 4, 'ऄ': 5, 'अ': 6, 'आ': 7, 'इ': 8, 'ई': 9, 'उ': 10, 'ऊ': 11, 'ऋ': 12, 'ऌ': 13, 'ऍ': 14, 'ऎ': 15, 'ए': 16, 'ऐ': 17, 'ऑ': 18, 'ऒ': 19, 'ओ': 20, 'औ': 21, 'क': 22, 'ख': 23, 'ग': 24, 'घ': 25, 'ङ': 26, 'च': 27, 'छ': 28, 'ज': 29, 'झ': 30, 'ञ': 31, 'ट': 32, 'ठ': 33, 'ड': 34, 'ढ': 35, 'ण': 36, 'त': 37, 'थ': 38, 'द': 39, 'ध': 40, 'न': 41, 'ऩ': 42, 'प': 43, 'फ': 44, 'ब': 45, 'भ': 46, 'म': 47, 'य': 48, 'र': 49, 'ऱ': 50, 'ल': 51, 'ळ': 52, 'ऴ': 53, 'व': 54, 'श': 55, 'ष': 56, 'स': 57, 'ह': 58, 'ऺ': 59, 'ऻ': 60, '़': 61, 'ऽ': 62, 'ा': 63, 'ि': 64, 'ी': 65, 'ु': 66, 'ू': 67, 'ृ': 68, 'ॄ': 69, 'ॅ': 70, 'ॆ': 71, 'े': 72, 'ै': 73, 'ॉ': 74, 'ॊ': 75, 'ो': 76, 'ौ': 77, '्': 78, 'ॎ': 79, 'ॏ': 80, 'ॐ': 81, '॑': 82, '॒': 83, '॓': 84, '॔': 85, 'ॕ': 86, 'ॖ': 87, 'ॗ': 88, 'क़': 89, 'ख़': 90, 'ग़': 91, 'ज़': 92, 'ड़': 93, 'ढ़': 94, 'फ़': 95, 'य़': 96, 'ॠ': 97, 'ॡ': 98, 'ॢ': 99, 'ॣ': 100, '।': 101, '॥': 102, '०': 103, '१': 104, '२': 105, '३': 106, '४': 107, '५': 108, '६': 109, '७': 110, '८': 111, '९': 112, '॰': 113, 'ॱ': 114, 'ॲ': 115, 'ॳ': 116, 'ॴ': 117, 'ॵ': 118, 'ॶ': 119, 'ॷ': 120, 'ॸ': 121, 'ॹ': 122, 'ॺ': 123, 'ॻ': 124, 'ॼ': 125, 'ॽ': 126, 'ॾ': 127, 'ॿ': 128}\n"
          ]
        }
      ],
      "source": [
        "letters_native = [chr(letter) for letter in range(2304, 2432)]\n",
        "alphabet_size_native = len(letters_native)\n",
        "\n",
        "letter2ind_native = {'<start>': 0,'<end>' : 1}\n",
        "for index, letter in enumerate(letters_native):\n",
        "    letter2ind_native[letter] = index+1\n",
        "\n",
        "print(letter2ind_native)"
      ]
    },
    {
      "cell_type": "code",
      "execution_count": null,
      "metadata": {
        "id": "6AKNF5-8XznQ"
      },
      "outputs": [],
      "source": [
        "def preprocess_sentence_roman(w):\n",
        "    w = w.lower().strip()\n",
        "    ww = ''\n",
        "    # Remove all punctuations from the text\n",
        "    ww += ''.join(ch for ch in w if ch not in string.punctuation)\n",
        "    # Remove all numbers from text\n",
        "    remove_digits = str.maketrans('', '', digits)\n",
        "    ww = ww.translate(remove_digits)\n",
        "    ww = ww.rstrip().strip()\n",
        "    # Adding start and end tags\n",
        "    ww = '@' + ww + '#'\n",
        "    return ww\n",
        "\n",
        "def preprocess_sentence_native(w):\n",
        "    w = w.lower()\n",
        "    cleaned_line = ''\n",
        "    # Remove all punctuations from the text\n",
        "    cleaned_line += ''.join(ch for ch in w if ch not in string.punctuation)\n",
        "    # Remove all numbers from text\n",
        "    remove_digits = str.maketrans('', '', digits)\n",
        "    cleaned_line = cleaned_line.translate(remove_digits)\n",
        "    cleaned_line = re.sub(\"[२३०८१५७९४६।–]\", \"\", cleaned_line)\n",
        "    cleaned_line = cleaned_line.rstrip().strip()\n",
        "    # Adding start and end tags\n",
        "    cleaned_line = '@' + cleaned_line + '#'\n",
        "    return cleaned_line"
      ]
    },
    {
      "cell_type": "code",
      "execution_count": null,
      "metadata": {
        "id": "Cg8cEv-JVJ0C"
      },
      "outputs": [],
      "source": [
        "def create_dataset(l):\n",
        "  native_words, native_sents = [], []\n",
        "  roman_words, roman_sents = [], []\n",
        "\n",
        "  for i in range(len(df)):\n",
        "    l[i][0] = preprocess_sentence_native(l[i][0]) # clean native words.\n",
        "    wordlist1 = l[i][0].split()\n",
        "\n",
        "    l[i][1] = preprocess_sentence_roman(l[i][1]) # clean roman sentences.\n",
        "    wordlist2 = l[i][1].split() # clean roman words.\n",
        "\n",
        "    if len(wordlist1) != len(wordlist2):\n",
        "      print('Skipping: ',len(wordlist1),len(wordlist2), l[i][0], ' - ', l[i][1])\n",
        "      continue\n",
        "\n",
        "    native_words.extend(wordlist1)\n",
        "    roman_words.extend(wordlist2)\n",
        "\n",
        "    native_sents.append(wordlist1)\n",
        "    roman_sents.append(wordlist2)\n",
        "    \n",
        "  return [native_words,roman_words], [native_sents, roman_sents]"
      ]
    },
    {
      "cell_type": "code",
      "execution_count": null,
      "metadata": {
        "id": "ZjE791HMqico"
      },
      "outputs": [],
      "source": [
        "train_data, train_sents = create_dataset(l_train)\n",
        "test_data, test_sents = create_dataset(l_test)"
      ]
    },
    {
      "cell_type": "code",
      "execution_count": null,
      "metadata": {
        "colab": {
          "base_uri": "https://localhost:8080/"
        },
        "id": "RDp--DDk22_h",
        "outputId": "312663bf-82a8-4ac7-c2fc-93017571f16c"
      },
      "outputs": [
        {
          "data": {
            "text/plain": [
              "(['@इसके', 'आने', 'से', 'पूर्व', 'ही', 'लोग', 'घरों', 'की', 'सफाई', 'का'],\n",
              " ['@iske', 'aane', 'se', 'purva', 'hi', 'log', 'gharon', 'ki', 'safai', 'ka'])"
            ]
          },
          "execution_count": 148,
          "metadata": {},
          "output_type": "execute_result"
        }
      ],
      "source": [
        "train_data[0][:10],train_data[1][:10]"
      ]
    },
    {
      "cell_type": "code",
      "source": [
        "test_data[0][:10],test_data[1][:10]0"
      ],
      "metadata": {
        "colab": {
          "base_uri": "https://localhost:8080/"
        },
        "id": "UlBkgbCs0uoA",
        "outputId": "e9755a51-e7f7-4cba-fe81-3420508a19d0"
      },
      "execution_count": null,
      "outputs": [
        {
          "output_type": "execute_result",
          "data": {
            "text/plain": [
              "(['@कुंभ',\n",
              "  'राशि',\n",
              "  'में',\n",
              "  'जन्मे',\n",
              "  'लोग',\n",
              "  'संभावनाओं',\n",
              "  'से',\n",
              "  'भरी',\n",
              "  'एक',\n",
              "  'जगह'],\n",
              " ['@kumbh',\n",
              "  'rashi',\n",
              "  'men',\n",
              "  'janme',\n",
              "  'log',\n",
              "  'sambhavnaon',\n",
              "  'se',\n",
              "  'bhari',\n",
              "  'ek',\n",
              "  'jagah'])"
            ]
          },
          "metadata": {},
          "execution_count": 25
        }
      ]
    },
    {
      "cell_type": "code",
      "execution_count": null,
      "metadata": {
        "colab": {
          "base_uri": "https://localhost:8080/"
        },
        "id": "Soj7fLrc4K1N",
        "outputId": "4d186510-f937-4c93-cbda-01f8b411bd8b"
      },
      "outputs": [
        {
          "output_type": "execute_result",
          "data": {
            "text/plain": [
              "(85161, 85161, 86526, 86526)"
            ]
          },
          "metadata": {},
          "execution_count": 26
        }
      ],
      "source": [
        "len(test_data[0]),len(test_data[1]),len(train_data[0]),len(train_data[1])"
      ]
    },
    {
      "cell_type": "markdown",
      "metadata": {
        "id": "w1qKXvZt4Whe"
      },
      "source": [
        "Combine the test and train data. So that we can split train and test set according to our needs."
      ]
    },
    {
      "cell_type": "code",
      "execution_count": null,
      "metadata": {
        "colab": {
          "base_uri": "https://localhost:8080/"
        },
        "id": "jO50_sOR4R-5",
        "outputId": "3e169e91-5d87-4225-eb9e-e8e9b1e49fac"
      },
      "outputs": [
        {
          "output_type": "stream",
          "name": "stdout",
          "text": [
            "171687 171687\n"
          ]
        }
      ],
      "source": [
        "train_data[0].extend(test_data[0])\n",
        "train_data[1].extend(test_data[1])\n",
        "\n",
        "print(len(train_data[0]),len(train_data[1]))"
      ]
    },
    {
      "cell_type": "code",
      "execution_count": null,
      "metadata": {
        "colab": {
          "base_uri": "https://localhost:8080/"
        },
        "id": "zFOQQuTH4Yv7",
        "outputId": "f071fa93-21ac-4a61-83f2-47137440e6b6"
      },
      "outputs": [
        {
          "output_type": "execute_result",
          "data": {
            "text/plain": [
              "('मल्होत्रा#', 'malhotra#')"
            ]
          },
          "metadata": {},
          "execution_count": 28
        }
      ],
      "source": [
        "train_data[0][-1],train_data[1][-1]"
      ]
    },
    {
      "cell_type": "code",
      "execution_count": null,
      "metadata": {
        "colab": {
          "base_uri": "https://localhost:8080/"
        },
        "id": "xmzafDk24aYE",
        "outputId": "210f6a97-8ea0-4553-d1c0-28e0de62004a"
      },
      "outputs": [
        {
          "output_type": "execute_result",
          "data": {
            "text/plain": [
              "(171687, 171687)"
            ]
          },
          "metadata": {},
          "execution_count": 29
        }
      ],
      "source": [
        "len(train_data[0]),len(train_data[1])"
      ]
    },
    {
      "cell_type": "code",
      "execution_count": null,
      "metadata": {
        "id": "dMX2bnuN4cMZ"
      },
      "outputs": [],
      "source": [
        "# storing word2index and index2word mappings for both language.\n",
        "class WordIndex():\n",
        "  def __init__(self, lang):\n",
        "    self.lang = lang\n",
        "    self.word2idx = {}\n",
        "    self.idx2word = {}\n",
        "    self.vocab = set()\n",
        "    \n",
        "    self.create_index()\n",
        "    \n",
        "  def create_index(self):\n",
        "    for phrase in self.lang:\n",
        "      for l in phrase:\n",
        "        self.vocab.update(l)\n",
        "    \n",
        "    self.vocab = sorted(self.vocab)\n",
        "    \n",
        "    self.word2idx['<pad>'] = 0\n",
        "    for index, word in enumerate(self.vocab):\n",
        "      self.word2idx[word] = index + 1\n",
        "    \n",
        "    for word, index in self.word2idx.items():\n",
        "      self.idx2word[index] = word"
      ]
    },
    {
      "cell_type": "markdown",
      "metadata": {
        "id": "93ermi8R4rCH"
      },
      "source": [
        "Helper functions to create Lang vocab and tensors from words."
      ]
    },
    {
      "cell_type": "code",
      "execution_count": null,
      "metadata": {
        "id": "tPDET0wv4tVp"
      },
      "outputs": [],
      "source": [
        "def max_length(tensor):\n",
        "    return max(len(t) for t in tensor)\n",
        "\n",
        "def load_dataset(pairs):\n",
        "\n",
        "    # index language using the class defined above    \n",
        "    inp_lang = WordIndex(pairs[0])\n",
        "    targ_lang = WordIndex(pairs[1])\n",
        "    \n",
        "    # Vectorize the input and target languages\n",
        "    \n",
        "    # words in native (hin)\n",
        "    input_tensor = [[inp_lang.word2idx[s] for s in hn] for hn in pairs[0]]\n",
        "    \n",
        "    # words in roman (eng)\n",
        "    target_tensor = [[targ_lang.word2idx[s] for s in en] for en in pairs[1]]\n",
        "    \n",
        "    # Calculate max_length of input and output tensor\n",
        "    # Here, we'll set those to the longest sentence in the dataset\n",
        "    max_length_inp, max_length_tar = max_length(input_tensor), max_length(target_tensor)\n",
        "    \n",
        "    # Padding the input and output tensor to the maximum length\n",
        "    input_tensor = tf.keras.preprocessing.sequence.pad_sequences(input_tensor, \n",
        "                                                                 maxlen=max_length_inp,\n",
        "                                                                 padding='post')\n",
        "    \n",
        "    target_tensor = tf.keras.preprocessing.sequence.pad_sequences(target_tensor, \n",
        "                                                                  maxlen=max_length_tar, \n",
        "                                                                  padding='post')\n",
        "    \n",
        "    return input_tensor, target_tensor, inp_lang, targ_lang, max_length_inp, max_length_tar"
      ]
    },
    {
      "cell_type": "code",
      "execution_count": null,
      "metadata": {
        "id": "iAb8Lyf94znH"
      },
      "outputs": [],
      "source": [
        "input_tensor, target_tensor, inp_lang, targ_lang, max_length_inp, max_length_targ = load_dataset(train_data)"
      ]
    },
    {
      "cell_type": "code",
      "execution_count": null,
      "metadata": {
        "colab": {
          "base_uri": "https://localhost:8080/"
        },
        "id": "a7Z9qxp26IRt",
        "outputId": "7094320c-e9a8-4c80-dfd6-4c1133718c46"
      },
      "outputs": [
        {
          "output_type": "stream",
          "name": "stdout",
          "text": [
            "171687 171687\n"
          ]
        }
      ],
      "source": [
        "print(len(input_tensor),len(target_tensor))"
      ]
    },
    {
      "cell_type": "markdown",
      "metadata": {
        "id": "6Ec3g-Dz5Srk"
      },
      "source": [
        "Function to convert tensor to word and print."
      ]
    },
    {
      "cell_type": "code",
      "execution_count": null,
      "metadata": {
        "id": "ka4fSi1a5TuR"
      },
      "outputs": [],
      "source": [
        "def convert(lang, tensor):\n",
        "  for t in tensor:\n",
        "    if t!=0:\n",
        "      print (\"%d ----> %s\" % (t, lang.idx2word[t]))"
      ]
    },
    {
      "cell_type": "code",
      "execution_count": null,
      "metadata": {
        "colab": {
          "base_uri": "https://localhost:8080/"
        },
        "id": "mJSdV97v5Vkc",
        "outputId": "1d95fe1a-e440-405f-91ca-5493a016a108"
      },
      "outputs": [
        {
          "output_type": "stream",
          "name": "stdout",
          "text": [
            "70 ----> म\n",
            "73 ----> ल\n",
            "96 ----> ्\n",
            "80 ----> ह\n",
            "94 ----> ो\n",
            "60 ----> त\n",
            "96 ----> ्\n",
            "72 ----> र\n",
            "82 ----> ा\n",
            "1 ----> #\n",
            "15 ----> m\n",
            "3 ----> a\n",
            "14 ----> l\n",
            "10 ----> h\n",
            "17 ----> o\n",
            "22 ----> t\n",
            "20 ----> r\n",
            "3 ----> a\n",
            "1 ----> #\n"
          ]
        }
      ],
      "source": [
        "convert(inp_lang,input_tensor[-1])\n",
        "convert(targ_lang,target_tensor[-1])"
      ]
    },
    {
      "cell_type": "markdown",
      "metadata": {
        "id": "RZYUGjVv5ZUj"
      },
      "source": [
        "Train and Test split."
      ]
    },
    {
      "cell_type": "code",
      "execution_count": null,
      "metadata": {
        "colab": {
          "base_uri": "https://localhost:8080/"
        },
        "id": "wB3dTfuH5XY_",
        "outputId": "8f621161-dec7-4fdf-f42a-ed6f3492aad1"
      },
      "outputs": [
        {
          "data": {
            "text/plain": [
              "(128765, 128765, 42922, 42922)"
            ]
          },
          "execution_count": 160,
          "metadata": {},
          "output_type": "execute_result"
        }
      ],
      "source": [
        "input_tensor = input_tensor[:200000]\n",
        "target_tensor = target_tensor[:200000]\n",
        "input_tensor_train, input_tensor_val, target_tensor_train, target_tensor_val = train_test_split(input_tensor, target_tensor, test_size=0.25)\n",
        "\n",
        "# Show length\n",
        "len(input_tensor_train), len(target_tensor_train), len(input_tensor_val), len(target_tensor_val)"
      ]
    },
    {
      "cell_type": "markdown",
      "metadata": {
        "id": "ffPl-hNJ5fD9"
      },
      "source": [
        "Some hyper-parameters."
      ]
    },
    {
      "cell_type": "code",
      "execution_count": null,
      "metadata": {
        "id": "B22OLUej5dSa"
      },
      "outputs": [],
      "source": [
        "BUFFER_SIZE = len(input_tensor_train)\n",
        "BATCH_SIZE = 256\n",
        "steps_per_epoch = len(input_tensor_train)//BATCH_SIZE\n",
        "val_steps_per_epoch = len(input_tensor_val)//BATCH_SIZE\n",
        "embedding_dim = 256\n",
        "units = 1024\n",
        "vocab_inp_size = len(inp_lang.word2idx)+1\n",
        "vocab_tar_size = len(targ_lang.word2idx)+1"
      ]
    },
    {
      "cell_type": "code",
      "execution_count": null,
      "metadata": {
        "id": "Jo6CXSgT5hJt"
      },
      "outputs": [],
      "source": [
        "dataset = tf.data.Dataset.from_tensor_slices((input_tensor_train, target_tensor_train)).shuffle(BUFFER_SIZE)\n",
        "dataset = dataset.batch(BATCH_SIZE, drop_remainder=True)\n",
        "val_dataset = tf.data.Dataset.from_tensor_slices((input_tensor_val, target_tensor_val))\n",
        "val_dataset = val_dataset.batch(BATCH_SIZE, drop_remainder=True)"
      ]
    },
    {
      "cell_type": "code",
      "execution_count": null,
      "metadata": {
        "colab": {
          "base_uri": "https://localhost:8080/"
        },
        "id": "bMNyZQab5jh6",
        "outputId": "fb8b80d6-386f-460b-8ca5-bccf2eea5236"
      },
      "outputs": [
        {
          "data": {
            "text/plain": [
              "(TensorShape([256, 32]), TensorShape([256, 35]))"
            ]
          },
          "execution_count": 163,
          "metadata": {},
          "output_type": "execute_result"
        }
      ],
      "source": [
        "example_input_batch, example_target_batch = next(iter(dataset))\n",
        "example_input_batch.shape, example_target_batch.shape"
      ]
    },
    {
      "cell_type": "markdown",
      "metadata": {
        "id": "NHE32ts35mlh"
      },
      "source": [
        "Let's build the model.\n",
        "The encoder : it will consume input and produce a thought vector which will be the input of the decoder."
      ]
    },
    {
      "cell_type": "code",
      "execution_count": null,
      "metadata": {
        "id": "oBVNw0x95lUx"
      },
      "outputs": [],
      "source": [
        "class Encoder(tf.keras.Model):\n",
        "  def __init__(self, vocab_size, embedding_dim, enc_units, batch_sz):\n",
        "    super(Encoder, self).__init__()\n",
        "    self.batch_sz = batch_sz\n",
        "    self.enc_units = enc_units\n",
        "    self.embedding = tf.keras.layers.Embedding(vocab_size, embedding_dim)\n",
        "    self.gru = tf.keras.layers.GRU(self.enc_units,\n",
        "                                   return_sequences=True,\n",
        "                                   return_state=True,\n",
        "                                   recurrent_initializer='glorot_uniform')\n",
        "    self.norm = tf.keras.layers.LayerNormalization()\n",
        "    self.layer = tf.keras.layers.Dropout(.1)\n",
        "    self.LSTM = tf.keras.layers.LSTM(self.enc_units,\n",
        "                                   return_sequences=True,\n",
        "                                   return_state=True,\n",
        "                                   recurrent_initializer='glorot_uniform',\n",
        "                                   trainable=True)\n",
        "\n",
        "  def call(self, x):\n",
        "    embedding = self.embedding(x)\n",
        "    outputs, hidden, cell = self.LSTM(embedding)\n",
        "    return hidden, cell\n",
        "\n"
      ]
    },
    {
      "cell_type": "code",
      "execution_count": null,
      "metadata": {
        "colab": {
          "base_uri": "https://localhost:8080/"
        },
        "id": "Q0CkK3WK5rVy",
        "outputId": "a8f3ed92-b3ae-49d3-ea5d-04d75f1db801"
      },
      "outputs": [
        {
          "name": "stdout",
          "output_type": "stream",
          "text": [
            "Encoder output shape: (batch size, sequence length, units) (256, 1024)\n",
            "Encoder Hidden state shape: (batch size, units) (256, 1024)\n"
          ]
        }
      ],
      "source": [
        "encoder = Encoder(vocab_inp_size, embedding_dim, units, BATCH_SIZE)\n",
        "\n",
        "# sample input\n",
        "sample_hidden, sample_cell = encoder(example_input_batch)\n",
        "print ('Encoder output shape: (batch size, sequence length, units) {}'.format(sample_cell.shape))\n",
        "print ('Encoder Hidden state shape: (batch size, units) {}'.format(sample_hidden.shape))"
      ]
    },
    {
      "cell_type": "markdown",
      "metadata": {
        "id": "GtmxfsMV50T5"
      },
      "source": [
        "The decoder : calculates the probablity of next character by taking encoder input."
      ]
    },
    {
      "cell_type": "code",
      "execution_count": null,
      "metadata": {
        "id": "BPziPaJu51FO"
      },
      "outputs": [],
      "source": [
        "class Decoder(tf.keras.Model):\n",
        "  def __init__(self, vocab_size, embedding_dim, dec_units, batch_sz):\n",
        "    super(Decoder, self).__init__()\n",
        "    self.batch_sz = batch_sz\n",
        "    self.dec_units = dec_units\n",
        "    self.embedding = tf.keras.layers.Embedding(vocab_size, embedding_dim)\n",
        "    self.gru = tf.keras.layers.GRU(self.dec_units,\n",
        "                                   return_sequences=True,\n",
        "                                   return_state=True,\n",
        "                                   recurrent_initializer='glorot_uniform')\n",
        "    self.fc = tf.keras.layers.Dense(vocab_size)\n",
        "    self.layer = tf.keras.layers.Dropout(.1)\n",
        "    self.norm = tf.keras.layers.LayerNormalization()\n",
        "    self.LSTM = tf.keras.layers.LSTM(self.dec_units,\n",
        "                                   return_sequences=True,\n",
        "                                   return_state=True,\n",
        "                                   recurrent_initializer='glorot_uniform', trainable=True)\n",
        "    #self.relu = tf.keras.activations.relu(x, alpha=0.0, max_value=None, threshold=0.0)\n",
        "\n",
        "  def call(self, x, hid_state, cell):\n",
        "\n",
        "    # x shape after passing through embedding == (batch_size, 1, embedding_dim)\n",
        "    x = self.layer(self.embedding(x))\n",
        "    #print(x.shape, self.dec_units, hid_state.shape)\n",
        "    encoder_test_states = [hid_state, cell]\n",
        "    output, state, cell = self.LSTM(x, initial_state=encoder_test_states)\n",
        "    #print(cell.shape)\n",
        "    prediction = self.fc(output)\n",
        "    return prediction, state, cell"
      ]
    },
    {
      "cell_type": "code",
      "execution_count": null,
      "metadata": {
        "colab": {
          "base_uri": "https://localhost:8080/"
        },
        "id": "EHJut2_Y53Nc",
        "outputId": "6fee4b0d-0bfd-4d00-f0b0-720fc71e16f6"
      },
      "outputs": [
        {
          "name": "stdout",
          "output_type": "stream",
          "text": [
            "(256, 1024) (256, 1024)\n",
            "Decoder output shape: (batch_size, vocab size) (256, 1, 45)\n"
          ]
        }
      ],
      "source": [
        "decoder = Decoder(vocab_tar_size, embedding_dim, units, BATCH_SIZE)\n",
        "print(sample_hidden.shape, sample_cell.shape)\n",
        "sample_decoder_output, _, _ = decoder(tf.random.uniform((256, 1)), sample_hidden, sample_cell)\n",
        "\n",
        "print ('Decoder output shape: (batch_size, vocab size) {}'.format(sample_decoder_output.shape))"
      ]
    },
    {
      "cell_type": "code",
      "execution_count": null,
      "metadata": {
        "id": "_TLy2S8z550n"
      },
      "outputs": [],
      "source": [
        "optimizer = tf.keras.optimizers.Adam(learning_rate=0.01, beta_1=0.9, beta_2=0.999, epsilon=1e-07, amsgrad=False, name='Adam')\n",
        "loss_object = tf.keras.losses.CategoricalCrossentropy( from_logits=True, reduction='none')\n",
        "\n",
        "def loss_function(real, pred):\n",
        "  mask = tf.math.logical_not(tf.math.equal(real, 0))\n",
        "  loss_ = loss_object(real, pred)\n",
        "\n",
        "  mask = tf.cast(mask, dtype=loss_.dtype)\n",
        "  loss_ *= mask\n",
        "\n",
        "  return tf.reduce_mean(loss_)"
      ]
    },
    {
      "cell_type": "markdown",
      "metadata": {
        "id": "fJVu3GMH57Xx"
      },
      "source": [
        "Adding checkpoints to store the model."
      ]
    },
    {
      "cell_type": "code",
      "execution_count": null,
      "metadata": {
        "id": "skKWM_Eb59hS"
      },
      "outputs": [],
      "source": [
        "checkpoint_dir = './training_checkpoints'\n",
        "checkpoint_prefix = os.path.join(checkpoint_dir, \"ckpt\")\n",
        "checkpoint = tf.train.Checkpoint(optimizer=optimizer,\n",
        "                                 encoder=encoder,\n",
        "                                 decoder=decoder)"
      ]
    },
    {
      "cell_type": "markdown",
      "metadata": {
        "id": "i7YkujRW5_xs"
      },
      "source": [
        "Training step function."
      ]
    },
    {
      "cell_type": "code",
      "execution_count": null,
      "metadata": {
        "id": "eiuEjKVnaZQS"
      },
      "outputs": [],
      "source": [
        "optimizer = tf.keras.optimizers.Adam(learning_rate=0.01, beta_1=0.9, beta_2=0.999, epsilon=1e-07, amsgrad=False, name='Adam')\n",
        "loss_object = tf.keras.losses.SparseCategoricalCrossentropy( from_logits=True, reduction='none')"
      ]
    },
    {
      "cell_type": "code",
      "execution_count": null,
      "metadata": {
        "id": "sino4tbT5_Lo"
      },
      "outputs": [],
      "source": [
        "@tf.function\n",
        "def train_step(inp, targ):\n",
        "  loss = 0\n",
        "\n",
        "  with tf.GradientTape() as tape:\n",
        "    state, cell = encoder(inp)\n",
        "\n",
        "    dec_state = state\n",
        "\n",
        "    dec_input = tf.expand_dims([targ_lang.word2idx['@']] * BATCH_SIZE, 1)\n",
        "    outputs = []\n",
        "    # Teacher forcing - feeding the target as the next input\n",
        "    for t in range(1, targ.shape[1]):\n",
        "      # passing enc_output to the decoder\n",
        "      predictions, dec_state, cell = decoder(dec_input, dec_state, cell)\n",
        "      outputs.append(predictions)\n",
        "\n",
        "      #loss += loss_function(targ[:, t], predictions)\n",
        "\n",
        "      # using teacher forcing\n",
        "      dec_input = tf.expand_dims(targ[:, t], 1)\n",
        "\n",
        "    outputs = tf.stack(outputs)\n",
        "    outputs = tf.squeeze(outputs,2)\n",
        "    outputs = tf.transpose(outputs, [1,0,2])\n",
        "    temp_targ = targ[:,1:targ.shape[1]]\n",
        "    temp_targ = tf.expand_dims(temp_targ, axis=2)\n",
        "    loss = loss_object(temp_targ, outputs)\n",
        "  batch_loss = (loss / int(targ.shape[1]))\n",
        "\n",
        "  variables = encoder.trainable_variables + decoder.trainable_variables\n",
        "\n",
        "  gradients = tape.gradient(loss, variables)\n",
        "\n",
        "  optimizer.apply_gradients(zip(gradients, variables))\n",
        "\n",
        "  return batch_loss"
      ]
    },
    {
      "cell_type": "code",
      "execution_count": null,
      "metadata": {
        "id": "SsGKxRkGlzZ5"
      },
      "outputs": [],
      "source": [
        "@tf.function\n",
        "def val_step(inp, targ):\n",
        "    loss = 0\n",
        "    state, cell = encoder(inp)\n",
        "\n",
        "    dec_state = state\n",
        "\n",
        "    dec_input = tf.expand_dims([targ_lang.word2idx['@']] * BATCH_SIZE, 1)\n",
        "    outputs = []\n",
        "    # Teacher forcing - feeding the target as the next input\n",
        "    for t in range(1, targ.shape[1]):\n",
        "        # passing enc_output to the decoder\n",
        "        predictions, dec_state, cell = decoder(dec_input, dec_state, cell)\n",
        "        outputs.append(predictions)\n",
        "\n",
        "        #loss += loss_function(targ[:, t], predictions)\n",
        "\n",
        "        # using teacher forcing\n",
        "        dec_input = tf.expand_dims(targ[:, t], 1)\n",
        "\n",
        "    outputs = tf.stack(outputs)\n",
        "    outputs = tf.squeeze(outputs,2)\n",
        "    outputs = tf.transpose(outputs, [1,0,2])\n",
        "    temp_targ = targ[:,1:targ.shape[1]]\n",
        "    temp_targ = tf.expand_dims(temp_targ, axis=2)\n",
        "    loss = loss_object(temp_targ, outputs)\n",
        "    batch_loss = (loss / int(targ.shape[1]))\n",
        "\n",
        "    return batch_loss"
      ]
    },
    {
      "cell_type": "code",
      "execution_count": null,
      "metadata": {
        "colab": {
          "base_uri": "https://localhost:8080/"
        },
        "id": "i2eQ0uoW-Sa2",
        "outputId": "82bfeadd-e4a4-4fa2-cdb2-264944c258b9"
      },
      "outputs": [
        {
          "name": "stdout",
          "output_type": "stream",
          "text": [
            "502\n"
          ]
        }
      ],
      "source": [
        "print(len(dataset.take(steps_per_epoch)))"
      ]
    },
    {
      "cell_type": "markdown",
      "metadata": {
        "id": "y17yLhZS6DtP"
      },
      "source": [
        "Training loop"
      ]
    },
    {
      "cell_type": "code",
      "execution_count": null,
      "metadata": {
        "id": "kEXHlXEx6FZp"
      },
      "outputs": [],
      "source": [
        "EPOCHS = 20\n",
        "loss_values = []\n",
        "val_loss_values = []\n",
        "\n",
        "for epoch in range(EPOCHS):\n",
        "    start = time.time()\n",
        "\n",
        "    #enc_hidden = encoder.initialize_hidden_state()\n",
        "    total_loss = 0\n",
        "    val_total_loss = 0\n",
        "\n",
        "    for (batch, (inp, targ)) in enumerate(dataset.take(steps_per_epoch)):\n",
        "        batch_loss = train_step(inp, targ)\n",
        "        total_loss += batch_loss\n",
        "\n",
        "    for (batch, (inp, targ)) in enumerate(val_dataset.take(val_steps_per_epoch)):\n",
        "        val_batch_loss = val_step(inp, targ)\n",
        "        val_total_loss += val_batch_loss\n",
        "\n",
        "    if batch % 100 == 0:\n",
        "        print('Epoch {} Batch {} Loss {:.4f}'.format(epoch + 1,\n",
        "                                                     batch,\n",
        "                                                     batch_loss.numpy()))\n",
        "    # saving (checkpoint) the model every 2 epochs\n",
        "    if (epoch + 1) % 2 == 0:\n",
        "        checkpoint.save(file_prefix = checkpoint_prefix)\n",
        "  \n",
        "    ep_loss = total_loss/steps_per_epoch\n",
        "    loss_values.append( tf.math.reduce_sum(ep_loss))\n",
        "    val_ep_loss = val_total_loss/val_steps_per_epoch\n",
        "    val_loss_values.append( tf.math.reduce_sum(val_ep_loss))\n",
        "\n",
        "    print('Epoch {} Train Loss {:.4f} Val Loss {:.4f}'.format(epoch + 1, tf.math.reduce_sum(ep_loss),tf.math.reduce_sum(val_ep_loss)))\n",
        "    print('Time taken for 1 epoch {} sec\\n'.format(time.time() - start))"
      ]
    },
    {
      "cell_type": "code",
      "execution_count": null,
      "metadata": {
        "colab": {
          "base_uri": "https://localhost:8080/"
        },
        "id": "OTlenFwgkqay",
        "outputId": "0bf3c8d0-29b0-4ce3-d97b-2d78589890da"
      },
      "outputs": [
        {
          "name": "stdout",
          "output_type": "stream",
          "text": [
            "tf.Tensor(11.194823, shape=(), dtype=float32)\n"
          ]
        }
      ],
      "source": [
        "print(tf.math.reduce_sum(ep_loss))"
      ]
    },
    {
      "cell_type": "code",
      "execution_count": null,
      "metadata": {
        "colab": {
          "base_uri": "https://localhost:8080/"
        },
        "id": "mY5HzNlGp-xe",
        "outputId": "d0260c78-f1e2-48fb-a352-c475839bbdf0"
      },
      "outputs": [
        {
          "name": "stdout",
          "output_type": "stream",
          "text": [
            "tf.Tensor(83.471794, shape=(), dtype=float32)\n",
            "tf.Tensor(37.73526, shape=(), dtype=float32)\n",
            "tf.Tensor(21.639324, shape=(), dtype=float32)\n",
            "tf.Tensor(16.245232, shape=(), dtype=float32)\n",
            "tf.Tensor(13.521946, shape=(), dtype=float32)\n",
            "tf.Tensor(12.213117, shape=(), dtype=float32)\n",
            "tf.Tensor(11.694338, shape=(), dtype=float32)\n",
            "tf.Tensor(11.360147, shape=(), dtype=float32)\n",
            "tf.Tensor(11.221128, shape=(), dtype=float32)\n",
            "tf.Tensor(11.126045, shape=(), dtype=float32)\n",
            "tf.Tensor(11.148183, shape=(), dtype=float32)\n",
            "tf.Tensor(10.971771, shape=(), dtype=float32)\n",
            "tf.Tensor(10.985806, shape=(), dtype=float32)\n",
            "tf.Tensor(11.03358, shape=(), dtype=float32)\n",
            "tf.Tensor(10.973411, shape=(), dtype=float32)\n",
            "tf.Tensor(10.993552, shape=(), dtype=float32)\n",
            "tf.Tensor(11.006184, shape=(), dtype=float32)\n",
            "tf.Tensor(11.10872, shape=(), dtype=float32)\n",
            "tf.Tensor(11.251514, shape=(), dtype=float32)\n",
            "tf.Tensor(11.194823, shape=(), dtype=float32)\n"
          ]
        }
      ],
      "source": [
        "fin_loss_values = []\n",
        "for i in loss_values :\n",
        "    print( tf.math.reduce_sum(i))\n",
        "    fin_loss_values.append( tf.math.reduce_sum(i))"
      ]
    },
    {
      "cell_type": "code",
      "execution_count": null,
      "metadata": {
        "colab": {
          "base_uri": "https://localhost:8080/",
          "height": 295
        },
        "id": "wz8Wy_jaI6oN",
        "outputId": "0f512317-53b3-4d42-c344-a887f83e49e4"
      },
      "outputs": [
        {
          "data": {
            "image/png": "[encoded data removed]",
            "text/plain": [
              "<Figure size 432x288 with 1 Axes>"
            ]
          },
          "metadata": {},
          "output_type": "display_data"
        }
      ],
      "source": [
        "plt.plot(fin_loss_values)\n",
        "plt.title('Train Loss vs Epoch')\n",
        "plt.xlabel('Epochs')\n",
        "plt.ylabel('Loss')\n",
        "plt.show()"
      ]
    },
    {
      "cell_type": "code",
      "execution_count": null,
      "metadata": {
        "colab": {
          "base_uri": "https://localhost:8080/"
        },
        "id": "dtLlYiVcqa14",
        "outputId": "110c2904-3e83-4261-c8b4-29ba24def506"
      },
      "outputs": [
        {
          "name": "stdout",
          "output_type": "stream",
          "text": [
            "tf.Tensor(55.00875, shape=(), dtype=float32)\n",
            "tf.Tensor(27.328793, shape=(), dtype=float32)\n",
            "tf.Tensor(18.529135, shape=(), dtype=float32)\n",
            "tf.Tensor(15.711255, shape=(), dtype=float32)\n",
            "tf.Tensor(14.373295, shape=(), dtype=float32)\n",
            "tf.Tensor(13.803789, shape=(), dtype=float32)\n",
            "tf.Tensor(13.626005, shape=(), dtype=float32)\n",
            "tf.Tensor(13.535666, shape=(), dtype=float32)\n",
            "tf.Tensor(13.405974, shape=(), dtype=float32)\n",
            "tf.Tensor(13.404148, shape=(), dtype=float32)\n",
            "tf.Tensor(13.328728, shape=(), dtype=float32)\n",
            "tf.Tensor(13.233696, shape=(), dtype=float32)\n",
            "tf.Tensor(13.270341, shape=(), dtype=float32)\n",
            "tf.Tensor(13.480684, shape=(), dtype=float32)\n",
            "tf.Tensor(13.3746, shape=(), dtype=float32)\n",
            "tf.Tensor(13.551226, shape=(), dtype=float32)\n",
            "tf.Tensor(13.266811, shape=(), dtype=float32)\n",
            "tf.Tensor(13.57432, shape=(), dtype=float32)\n",
            "tf.Tensor(13.586222, shape=(), dtype=float32)\n",
            "tf.Tensor(13.39279, shape=(), dtype=float32)\n"
          ]
        }
      ],
      "source": [
        "fin_val_loss_values = []\n",
        "for i in val_loss_values :\n",
        "    print( tf.math.reduce_sum(i))\n",
        "    fin_val_loss_values.append( tf.math.reduce_sum(i))"
      ]
    },
    {
      "cell_type": "code",
      "execution_count": null,
      "metadata": {
        "colab": {
          "base_uri": "https://localhost:8080/",
          "height": 295
        },
        "id": "w4A04-Ybu4yL",
        "outputId": "33c0d33c-a7c8-4fb1-e763-93f458cfe547"
      },
      "outputs": [
        {
          "data": {
            "image/png": "[encoded data removed]",
            "text/plain": [
              "<Figure size 432x288 with 1 Axes>"
            ]
          },
          "metadata": {},
          "output_type": "display_data"
        }
      ],
      "source": [
        "plt.plot(fin_loss_values)\n",
        "plt.plot(fin_val_loss_values)\n",
        "plt.title('Train Loss vs Epoch and Val Loss vs Epoch')\n",
        "plt.xlabel('Epochs')\n",
        "plt.ylabel('Loss')\n",
        "plt.show()"
      ]
    },
    {
      "cell_type": "code",
      "execution_count": null,
      "metadata": {
        "colab": {
          "base_uri": "https://localhost:8080/"
        },
        "id": "RglGvLH1Naaf",
        "outputId": "bbb2e44e-ff7d-43f9-be04-4978c201aee4"
      },
      "outputs": [
        {
          "name": "stdout",
          "output_type": "stream",
          "text": [
            "  adding: content/training_checkpoints/ (stored 0%)\n",
            "  adding: content/training_checkpoints/ckpt-9.data-00000-of-00001 (deflated 7%)\n",
            "  adding: content/training_checkpoints/ckpt-4.data-00000-of-00001 (deflated 7%)\n",
            "  adding: content/training_checkpoints/ckpt-2.data-00000-of-00001 (deflated 7%)\n",
            "  adding: content/training_checkpoints/ckpt-9.index (deflated 55%)\n",
            "  adding: content/training_checkpoints/ckpt-7.data-00000-of-00001 (deflated 7%)\n",
            "  adding: content/training_checkpoints/ckpt-1.index (deflated 55%)\n",
            "  adding: content/training_checkpoints/ckpt-4.index (deflated 55%)\n",
            "  adding: content/training_checkpoints/ckpt-3.data-00000-of-00001 (deflated 7%)\n",
            "  adding: content/training_checkpoints/ckpt-10.data-00000-of-00001 (deflated 7%)\n",
            "  adding: content/training_checkpoints/ckpt-6.index (deflated 55%)\n",
            "  adding: content/training_checkpoints/ckpt-2.index (deflated 55%)\n",
            "  adding: content/training_checkpoints/ckpt-3.index (deflated 55%)\n",
            "  adding: content/training_checkpoints/ckpt-8.index (deflated 55%)\n",
            "  adding: content/training_checkpoints/ckpt-5.data-00000-of-00001 (deflated 7%)\n",
            "  adding: content/training_checkpoints/ckpt-5.index (deflated 55%)\n",
            "  adding: content/training_checkpoints/ckpt-8.data-00000-of-00001 (deflated 7%)\n",
            "  adding: content/training_checkpoints/ckpt-6.data-00000-of-00001 (deflated 7%)\n",
            "  adding: content/training_checkpoints/ckpt-1.data-00000-of-00001 (deflated 8%)\n",
            "  adding: content/training_checkpoints/ckpt-10.index (deflated 55%)\n",
            "  adding: content/training_checkpoints/ckpt-7.index (deflated 55%)\n",
            "  adding: content/training_checkpoints/checkpoint (deflated 38%)\n"
          ]
        }
      ],
      "source": [
        "!zip -r /content/checkpoints.zip /content/training_checkpoints"
      ]
    },
    {
      "cell_type": "code",
      "execution_count": null,
      "metadata": {
        "id": "puYH-RDsQR2Z"
      },
      "outputs": [],
      "source": [
        "# !cp -r training_checkpoints /content/drive/MyDrive/NLP/Project/outputs/\n",
        "!cp -r checkpoints.zip /content/drive/MyDrive/Adv_NLP_Project/"
      ]
    },
    {
      "cell_type": "markdown",
      "metadata": {
        "id": "TVr8GZyhJLUs"
      },
      "source": [
        "### Evaluation"
      ]
    },
    {
      "cell_type": "code",
      "execution_count": null,
      "metadata": {
        "id": "vYjTvLQKLUqT"
      },
      "outputs": [],
      "source": [
        "def evaluate(sentence):\n",
        "    #attention_plot = np.zeros((max_length_targ, max_length_inp))\n",
        "\n",
        "    sentence = preprocess_sentence_native(sentence)\n",
        "\n",
        "    inputs = [inp_lang.word2idx[i] for i in sentence]\n",
        "\n",
        "    inputs = tf.keras.preprocessing.sequence.pad_sequences([inputs],\n",
        "                                                           maxlen=max_length_inp,\n",
        "                                                           padding='post')\n",
        "    inputs = tf.convert_to_tensor(inputs)\n",
        "\n",
        "    result = ''\n",
        "\n",
        "    enc_states, cells = encoder(inputs)\n",
        "\n",
        "    dec_states = enc_states\n",
        "    dec_input = tf.expand_dims([targ_lang.word2idx['@']], 0)\n",
        "\n",
        "    for t in range(max_length_targ):\n",
        "        predictions, dec_states, cells = decoder(dec_input, dec_states, cells)\n",
        "        #print(\"pred :\", predictions.shape)\n",
        "        predicted_id = tf.argmax(predictions[0][0]).numpy()\n",
        "        #print(\"pd :\", predicted_id.shape)\n",
        "\n",
        "        result += targ_lang.idx2word[predicted_id] + ' '\n",
        "\n",
        "        if targ_lang.idx2word[predicted_id] == '#':\n",
        "            return result, sentence\n",
        "\n",
        "        # the predicted ID is fed back into the model\n",
        "        dec_input = tf.expand_dims([predicted_id], 0)\n",
        "\n",
        "    return result, sentence"
      ]
    },
    {
      "cell_type": "code",
      "execution_count": null,
      "metadata": {
        "id": "6fItdhWcJTBD"
      },
      "outputs": [],
      "source": [
        "def transliterate(sentence):\n",
        "    # print(\"Input: \", sentence)\n",
        "    all_words = sentence.split()\n",
        "    final_result = \"\"\n",
        "    for word in all_words:\n",
        "        result, word = evaluate(word)\n",
        "        temp = \"\".join(result.split(\" \"))+\" \"\n",
        "        temp = temp.replace(\"<pad>\", \"\")\n",
        "        final_result+=temp\n",
        "    # print(\"Output: \", final_result)\n",
        "    return final_result"
      ]
    },
    {
      "cell_type": "code",
      "execution_count": null,
      "metadata": {
        "id": "1ATzpVcuS-58"
      },
      "outputs": [],
      "source": [
        "from tqdm.notebook import tqdm\n",
        "\n",
        "def calc_accuracy(test_data, n):\n",
        "    correct = 0\n",
        "    for i in tqdm(range(len(test_data[0][:n]))):\n",
        "        hindi, eng = test_data[0][i], test_data[1][i]\n",
        "\n",
        "        res, _ = evaluate(hindi)\n",
        "        res = ''.join(res.split(' '))\n",
        "\n",
        "        # print(res,eng)\n",
        "        \n",
        "        eng = eng.replace(\"@\", \"\")\n",
        "        eng = eng.replace(\"#\", \"\")\n",
        "        res = res.replace(\"@\", \"\")\n",
        "        res = res.replace(\"#\", \"\")\n",
        "\n",
        "        # print(eng, res)\n",
        "        if eng == res:\n",
        "            # print(\"Yes\\n\")\n",
        "            correct += 1\n",
        "\n",
        "    # accuracy = correct / len(test_data[0])\n",
        "    accuracy = correct / n\n",
        "    return accuracy"
      ]
    },
    {
      "cell_type": "code",
      "execution_count": null,
      "metadata": {
        "colab": {
          "base_uri": "https://localhost:8080/",
          "height": 351,
          "referenced_widgets": [
            "4f85915bcc064d278e7922073535e2cb",
            "2036696f39e44798b2e28044c99a2361",
            "ece54db86d2e4c37a1951a5edfce12e2",
            "95556db8ef524504ac2e5c28111a23d2",
            "31b8e6efcc4d4bf499bf28289beefab7",
            "7ac8f29208be4193a182ada2f3f8962d",
            "19b4424202364dd08939fe90eaa1d862",
            "76ff6f75480241a488dac2ef940562ca",
            "5e4b70e099c44c13ba08321f549d32b8",
            "9be5e964d2e348f59cea0e52a0447d6e",
            "d5c68d72a35a40d99c2481e280797042",
            "063320664ccb424f84adb534028308a2",
            "e0de13e2914e41dbb8ada2e94a093f34",
            "359c7a15b38743b2884922d10ed65d38",
            "8da350bd31284a9bb9d305983a08c758",
            "fdf707f1c30249e0be0b11f75879c7ff",
            "26dd7c8ee2394fc1b964b2c6d4db1e29",
            "b708fcba25014d3fa92add38bd06aad6",
            "306a460167fd4186a908ff90fcf05e48",
            "c867b79e8de346b2a9024953238be803",
            "da04ad4cf7dd4164b3d382027e08a6fe",
            "5a30aefede61429186e46aceeae8877e",
            "1a5b4a0525aa473891f99580c6b774e1",
            "b578b04ccf2c4f5fba6efeaba1a22f9c",
            "1792cce76f00441e9c4b79e9659dff5d",
            "1a34624ad17f44628f528cc5f49ae3ea",
            "ed8ea87653314cba956017247bbe8e54",
            "24ca0c7549fe45ad88f42ed25d75c137",
            "359fa23fb26440eca68572b5d8e4abc1",
            "346dde21d4764e389e484d7e65b425eb",
            "1c8287c176394d618aa9eb4093714d38",
            "fde2a12c2a4c4f818743790726a93c93",
            "bb8c5820225f4361bf5e7c98f3337735",
            "e2970faa6ba946cdbedfba9a4d5fef1d",
            "f7020e8f2d064e52af5c2fe1c4febe91",
            "cb217cfb68ff48fb8bc8710be5b0e350",
            "fa08736ec605457fabb54ae23411e159",
            "4b6495f09d3b46fcb9a8e6ae7fce690a",
            "8b00e45da0404210aee82f87817a941d",
            "5ff7d88f2e8d40ddb435ed07ba873ad1",
            "29a19a90871542e7b5c1d9b026865a03",
            "361a383002f04d4b9206e924266bf5ed",
            "570356cf7bed4957ac834e3ed16121f8",
            "b70643e63c3742c0b6e8ee84dbb2f717",
            "aef081a40cbc4897bdb5aba144e5abd5",
            "3907c5fa5f64431894f2d3145b9263d4",
            "890a942ff2484adcaea6005fac3d07e8",
            "097989c99daf42c9a3e2c4fa7da45d2e",
            "b965da838b6745c3bfe1daead409998b",
            "e5893a558d094a09966e6ccd50621ee5",
            "e565e1f5abbb4d27baf085d51e3bdc6f",
            "014efa875b84439990603492ebe5ed14",
            "df126fffbaa94b61a9ee85941f073067",
            "93e9552b447146e8b025718feb754f2c",
            "4a3ffdd5ca11434488ca2b5f8cfa54e7"
          ]
        },
        "id": "VGewHFOdTWNs",
        "outputId": "d1a98463-42a3-486b-b90f-cca4b2f8ea36"
      },
      "outputs": [
        {
          "data": {
            "application/vnd.jupyter.widget-view+json": {
              "model_id": "4f85915bcc064d278e7922073535e2cb",
              "version_major": 2,
              "version_minor": 0
            },
            "text/plain": [
              "  0%|          | 0/10 [00:00<?, ?it/s]"
            ]
          },
          "metadata": {},
          "output_type": "display_data"
        },
        {
          "name": "stdout",
          "output_type": "stream",
          "text": [
            "Accuracy on 10 test words: 0.7 \n",
            "\n"
          ]
        },
        {
          "data": {
            "application/vnd.jupyter.widget-view+json": {
              "model_id": "063320664ccb424f84adb534028308a2",
              "version_major": 2,
              "version_minor": 0
            },
            "text/plain": [
              "  0%|          | 0/100 [00:00<?, ?it/s]"
            ]
          },
          "metadata": {},
          "output_type": "display_data"
        },
        {
          "name": "stdout",
          "output_type": "stream",
          "text": [
            "Accuracy on 100 test words: 0.51 \n",
            "\n"
          ]
        },
        {
          "data": {
            "application/vnd.jupyter.widget-view+json": {
              "model_id": "1a5b4a0525aa473891f99580c6b774e1",
              "version_major": 2,
              "version_minor": 0
            },
            "text/plain": [
              "  0%|          | 0/500 [00:00<?, ?it/s]"
            ]
          },
          "metadata": {},
          "output_type": "display_data"
        },
        {
          "name": "stdout",
          "output_type": "stream",
          "text": [
            "Accuracy on 500 test words: 0.434 \n",
            "\n"
          ]
        },
        {
          "data": {
            "application/vnd.jupyter.widget-view+json": {
              "model_id": "e2970faa6ba946cdbedfba9a4d5fef1d",
              "version_major": 2,
              "version_minor": 0
            },
            "text/plain": [
              "  0%|          | 0/1000 [00:00<?, ?it/s]"
            ]
          },
          "metadata": {},
          "output_type": "display_data"
        },
        {
          "name": "stdout",
          "output_type": "stream",
          "text": [
            "Accuracy on 1000 test words: 0.415 \n",
            "\n"
          ]
        },
        {
          "data": {
            "application/vnd.jupyter.widget-view+json": {
              "model_id": "aef081a40cbc4897bdb5aba144e5abd5",
              "version_major": 2,
              "version_minor": 0
            },
            "text/plain": [
              "  0%|          | 0/5000 [00:00<?, ?it/s]"
            ]
          },
          "metadata": {},
          "output_type": "display_data"
        },
        {
          "name": "stdout",
          "output_type": "stream",
          "text": [
            "Accuracy on 5000 test words: 0.4224 \n",
            "\n"
          ]
        }
      ],
      "source": [
        "acc = calc_accuracy(test_data, 10)\n",
        "print(\"Accuracy on 10 test words:\", acc, \"\\n\")\n",
        "\n",
        "acc = calc_accuracy(test_data, 100)\n",
        "print(\"Accuracy on 100 test words:\", acc, \"\\n\")\n",
        "\n",
        "acc = calc_accuracy(test_data, 500)\n",
        "print(\"Accuracy on 500 test words:\", acc, \"\\n\")\n",
        "\n",
        "acc = calc_accuracy(test_data, 1000)\n",
        "print(\"Accuracy on 1000 test words:\", acc, \"\\n\")\n",
        "\n",
        "acc = calc_accuracy(test_data, 5000)\n",
        "print(\"Accuracy on 5000 test words:\", acc, \"\\n\")"
      ]
    },
    {
      "cell_type": "code",
      "execution_count": null,
      "metadata": {
        "id": "kESM_2LkLHkk"
      },
      "outputs": [],
      "source": [
        "from nltk.translate.bleu_score import SmoothingFunction\n",
        "\n",
        "def calc_bleu(test_sens, n):\n",
        "    blue_score = 0\n",
        "\n",
        "    for i in range(len(test_sens[0][:n])):\n",
        "        inp_sent, trg_sent = test_sens[0][i], test_sens[1][i]\n",
        "\n",
        "        res = \"\"\n",
        "        for i in inp_sent:\n",
        "            res += i+\" \"\n",
        "        res = transliterate(res)\n",
        "\n",
        "        tmp = \"\"\n",
        "        for i in trg_sent:\n",
        "            tmp += i+\" \"\n",
        "        trg_sent = tmp\n",
        "        trg_sent = trg_sent.replace(\"@\", \"\")\n",
        "        trg_sent = trg_sent.replace(\"#\", \"\")\n",
        "        res = res.replace(\"@\", \"\")\n",
        "        res = res.replace(\"#\", \"\")\n",
        "\n",
        "        reference = [trg_sent.split()]\n",
        "        candidate = res.split()\n",
        "\n",
        "        smoothie = SmoothingFunction().method4\n",
        "        blue_score += sentence_bleu(reference, candidate, smoothing_function=smoothie)\n",
        "    \n",
        "    if (len(test_sens[0][:n])!=0):\n",
        "        return blue_score / len(test_sens[0][:n])"
      ]
    },
    {
      "cell_type": "code",
      "execution_count": null,
      "metadata": {
        "id": "zwV0BZ-o5XnC"
      },
      "outputs": [],
      "source": [
        "def calc_rouge(test_sents, n):\n",
        "    precision, recall, f1score = 0, 0, 0\n",
        "    scorer = rouge_scorer.RougeScorer(['rouge1'], use_stemmer=True)\n",
        "    \n",
        "    for i in range(len(test_sents[0][:n])):\n",
        "        inp_sent, reference = test_sents[0][i], test_sents[1][i]\n",
        "\n",
        "        res = \"\"\n",
        "        for i in inp_sent:\n",
        "            res += i+\" \"\n",
        "        res = transliterate(res)\n",
        "\n",
        "        tmp = \"\"\n",
        "        for i in reference:\n",
        "            tmp += i+\" \"\n",
        "        reference = tmp\n",
        "        candidate = res.replace(\"@\", \"\")\n",
        "        candidate = res.replace(\"#\", \"\")\n",
        "        reference = reference.replace(\"@\", \"\")\n",
        "        reference = reference.replace(\"#\", \"\")\n",
        "        \n",
        "        tmp_p, tmp_r, tmp_f = scorer.score(reference, candidate)['rouge1']\n",
        "        precision += tmp_p\n",
        "        recall += tmp_r\n",
        "        f1score += tmp_f\n",
        "\n",
        "    precision /= len(test_sents[0][:n])\n",
        "    recall /= len(test_sents[0][:n])\n",
        "    f1score /= len(test_sents[0][:n])\n",
        "    \n",
        "    return (precision, recall, f1score)"
      ]
    },
    {
      "cell_type": "code",
      "execution_count": null,
      "metadata": {
        "colab": {
          "base_uri": "https://localhost:8080/"
        },
        "id": "A62gqu2-jn5x",
        "outputId": "2a662bf4-a663-4eec-d5ac-23174e9d8c27"
      },
      "outputs": [
        {
          "name": "stdout",
          "output_type": "stream",
          "text": [
            "Bleu score on 1000 test sentences: 0.22525991214632998 \n",
            "\n",
            "Rouge score on 1000 test sentences: (0.4387891778934867, 0.4387891778934867, 0.4387891778934867) \n",
            "\n"
          ]
        }
      ],
      "source": [
        "bleu = calc_bleu(test_sents, 1000)\n",
        "print(\"Bleu score on 1000 test sentences:\", bleu, \"\\n\")\n",
        "rouge = calc_rouge(test_sents, 1000)\n",
        "print(\"Rouge score on 1000 test sentences:\", rouge, \"\\n\")"
      ]
    },
    {
      "cell_type": "markdown",
      "metadata": {
        "id": "bOvhXgt1Z6na"
      },
      "source": [
        "### Testing on various input words\n"
      ]
    },
    {
      "cell_type": "code",
      "execution_count": null,
      "metadata": {
        "colab": {
          "base_uri": "https://localhost:8080/",
          "height": 70
        },
        "id": "cSEgKxhaJVV-",
        "outputId": "130da8d9-e458-446c-c0fa-409ca9c96cb7"
      },
      "outputs": [
        {
          "name": "stdout",
          "output_type": "stream",
          "text": [
            "Input:  संस्थागत\n",
            "Output:  sansthaar# \n"
          ]
        },
        {
          "data": {
            "application/vnd.google.colaboratory.intrinsic+json": {
              "type": "string"
            },
            "text/plain": [
              "'sansthaar# '"
            ]
          },
          "execution_count": 260,
          "metadata": {},
          "output_type": "execute_result"
        }
      ],
      "source": [
        "transliterate('संस्थागत')"
      ]
    },
    {
      "cell_type": "code",
      "execution_count": null,
      "metadata": {
        "colab": {
          "base_uri": "https://localhost:8080/",
          "height": 70
        },
        "id": "H1MhOmNDRwZI",
        "outputId": "7bf9127c-8c48-4da0-f3b4-df0bb60fec4e"
      },
      "outputs": [
        {
          "name": "stdout",
          "output_type": "stream",
          "text": [
            "Input:  गुणदोषों\n",
            "Output:  guandarashon# \n"
          ]
        },
        {
          "data": {
            "application/vnd.google.colaboratory.intrinsic+json": {
              "type": "string"
            },
            "text/plain": [
              "'guandarashon# '"
            ]
          },
          "execution_count": 261,
          "metadata": {},
          "output_type": "execute_result"
        }
      ],
      "source": [
        "transliterate('गुणदोषों')"
      ]
    },
    {
      "cell_type": "code",
      "execution_count": null,
      "metadata": {
        "colab": {
          "base_uri": "https://localhost:8080/",
          "height": 70
        },
        "id": "3AkF7ab2b6mH",
        "outputId": "47aa4036-ae2d-4962-fb2f-a56bfb164cb1"
      },
      "outputs": [
        {
          "name": "stdout",
          "output_type": "stream",
          "text": [
            "Input:  कायदा\n",
            "Output:  yadayaa \n"
          ]
        },
        {
          "data": {
            "application/vnd.google.colaboratory.intrinsic+json": {
              "type": "string"
            },
            "text/plain": [
              "'yadayaa '"
            ]
          },
          "execution_count": 262,
          "metadata": {},
          "output_type": "execute_result"
        }
      ],
      "source": [
        "transliterate('कायदा')"
      ]
    },
    {
      "cell_type": "code",
      "execution_count": null,
      "metadata": {
        "colab": {
          "base_uri": "https://localhost:8080/",
          "height": 70
        },
        "id": "44v9SPyDcC2Z",
        "outputId": "d17386a0-2848-4ca0-d24d-840e226f297f"
      },
      "outputs": [
        {
          "name": "stdout",
          "output_type": "stream",
          "text": [
            "Input:  ऐडसेंस\n",
            "Output:  edcems# \n"
          ]
        },
        {
          "data": {
            "application/vnd.google.colaboratory.intrinsic+json": {
              "type": "string"
            },
            "text/plain": [
              "'edcems# '"
            ]
          },
          "execution_count": 263,
          "metadata": {},
          "output_type": "execute_result"
        }
      ],
      "source": [
        "transliterate('ऐडसेंस')"
      ]
    },
    {
      "cell_type": "code",
      "execution_count": null,
      "metadata": {
        "colab": {
          "base_uri": "https://localhost:8080/",
          "height": 70
        },
        "id": "JtltmiUZcJzt",
        "outputId": "6b4531ba-1c18-4065-8c0f-611f6fd8db65"
      },
      "outputs": [
        {
          "name": "stdout",
          "output_type": "stream",
          "text": [
            "Input:  वाम\n",
            "Output:  vam# \n"
          ]
        },
        {
          "data": {
            "application/vnd.google.colaboratory.intrinsic+json": {
              "type": "string"
            },
            "text/plain": [
              "'vam# '"
            ]
          },
          "execution_count": 264,
          "metadata": {},
          "output_type": "execute_result"
        }
      ],
      "source": [
        "transliterate('वाम')"
      ]
    },
    {
      "cell_type": "code",
      "execution_count": null,
      "metadata": {
        "colab": {
          "base_uri": "https://localhost:8080/",
          "height": 105
        },
        "id": "k3jJATHecbKC",
        "outputId": "8914409b-381c-426a-f493-d5581ab30578"
      },
      "outputs": [
        {
          "name": "stdout",
          "output_type": "stream",
          "text": [
            "\n",
            "\n",
            "\n",
            "\n"
          ]
        },
        {
          "data": {
            "application/vnd.google.colaboratory.intrinsic+json": {
              "type": "string"
            },
            "text/plain": [
              "'is# yuddh# men# rana# sanga# ka# saath# mahmud# loydi# de# rahe# the# '"
            ]
          },
          "execution_count": 299,
          "metadata": {},
          "output_type": "execute_result"
        }
      ],
      "source": [
        "transliterate('इसके आने से पूर्व ही लोग घरों की सफाई का कार्य शुरू कर देते हैं।') \n",
        "print()\n",
        "transliterate('शाहनामा नौरोज़ के त्यौहार को महान जमशेद के शासनकाल से जोड़ता है।')\n",
        "print()\n",
        "transliterate('सारे लहलहाते खेत, पेड़-पौधे, महल और झोपड़ियाँ- सब की सब उजड़ जाएँगी।')\n",
        "print()\n",
        "transliterate('माना जाता है की मरीज की अपनी ही प्रतिरक्षा प्रणाली के क्षति की जाती है।')\n",
        "print()\n",
        "transliterate('इस युद्ध में राणा सांगा का साथ महमूद लोदी दे रहे थे।')"
      ]
    },
    {
      "cell_type": "code",
      "execution_count": null,
      "metadata": {
        "id": "VE1t-vfLu0c_"
      },
      "outputs": [],
      "source": [
        "result=[]\n",
        "for i in range(len(l_test)):\n",
        "    if(i==100):\n",
        "        break\n",
        "    output = transliterate(l_test[i][0])\n",
        "    temp = [l_test[i][0],output,l_test[i][1]]\n",
        "    result.append(temp)"
      ]
    },
    {
      "cell_type": "code",
      "execution_count": null,
      "metadata": {
        "colab": {
          "base_uri": "https://localhost:8080/",
          "height": 424
        },
        "id": "UxFNa1FaeJOR",
        "outputId": "b2bb0fbb-217c-4cf0-b29a-5baca3340025"
      },
      "outputs": [
        {
          "data": {
            "text/html": [
              "<div>\n",
              "<style scoped>\n",
              "    .dataframe tbody tr th:only-of-type {\n",
              "        vertical-align: middle;\n",
              "    }\n",
              "\n",
              "    .dataframe tbody tr th {\n",
              "        vertical-align: top;\n",
              "    }\n",
              "\n",
              "    .dataframe thead th {\n",
              "        text-align: right;\n",
              "    }\n",
              "</style>\n",
              "<table border=\"1\" class=\"dataframe\">\n",
              "  <thead>\n",
              "    <tr style=\"text-align: right;\">\n",
              "      <th></th>\n",
              "      <th>input</th>\n",
              "      <th>output</th>\n",
              "      <th>expected</th>\n",
              "    </tr>\n",
              "  </thead>\n",
              "  <tbody>\n",
              "    <tr>\n",
              "      <th>0</th>\n",
              "      <td>@कुंभ राशि में जन्मे लोग संभावनाओं से भरी एक ज...</td>\n",
              "      <td>kumbh# rashi# men# janmen# loga# manbhavanaon ...</td>\n",
              "      <td>@kumbh rashi men janme log sambhavnaon se bhar...</td>\n",
              "    </tr>\n",
              "    <tr>\n",
              "      <th>1</th>\n",
              "      <td>@इसका उलट भी सत्य है#</td>\n",
              "      <td>iskaa# ulta# bhi# satya# ha#</td>\n",
              "      <td>@iska ulat bhi satya hai#</td>\n",
              "    </tr>\n",
              "    <tr>\n",
              "      <th>2</th>\n",
              "      <td>@कुछ देवता जो मुख्यत नगर देवता थे अपने संप्रदा...</td>\n",
              "      <td>kuch# devata jo# mushaakt# nagar# devata the# ...</td>\n",
              "      <td>@kuch devta jo mukhyatah nagar devta the apne ...</td>\n",
              "    </tr>\n",
              "    <tr>\n",
              "      <th>3</th>\n",
              "      <td>@तेल के उत्पादन में संसार में रोमानिया का छठा ...</td>\n",
              "      <td>tel# ken# uptapan# men# sansar# men# romania k...</td>\n",
              "      <td>@tel ke utpadan men sansar men romania ka chha...</td>\n",
              "    </tr>\n",
              "    <tr>\n",
              "      <th>4</th>\n",
              "      <td>@बनारसी लाल से मिलकर पुलिस ने सारा भेद प्राप्त...</td>\n",
              "      <td>banasari# lal# se# milakar# pusili# ne# sara# ...</td>\n",
              "      <td>@banarasi lal se milkar police ne sara bhed pr...</td>\n",
              "    </tr>\n",
              "    <tr>\n",
              "      <th>...</th>\n",
              "      <td>...</td>\n",
              "      <td>...</td>\n",
              "      <td>...</td>\n",
              "    </tr>\n",
              "    <tr>\n",
              "      <th>95</th>\n",
              "      <td>@जिसके कारण हृदपेशीविकृति या अतालता हो सकती है#</td>\n",
              "      <td>jiske# karan# heernevretikrishin ya# atalta# h...</td>\n",
              "      <td>@jiske karan hrdapeshivikriti ya atalata ho sa...</td>\n",
              "    </tr>\n",
              "    <tr>\n",
              "      <th>96</th>\n",
              "      <td>@उत्तर प्रदेश विधान सभा चुनाव में इन्होंने उत्...</td>\n",
              "      <td>uttar pradesha# vidhan# sabhaar chunava# men# ...</td>\n",
              "      <td>@uttar pradesh vidhan sabha chunav men inhone ...</td>\n",
              "    </tr>\n",
              "    <tr>\n",
              "      <th>97</th>\n",
              "      <td>@नेपाली उपन्यास का आधारहरू नेपाली भाषा के विख्...</td>\n",
              "      <td>nepali# upanyas# ka# adharurah# nepali# bhasha...</td>\n",
              "      <td>@nepali upanyas ka shadharhu nepali bhasha ke ...</td>\n",
              "    </tr>\n",
              "    <tr>\n",
              "      <th>98</th>\n",
              "      <td>@लेकिन मगही साहित्येतिहासकारों के अनुसार मगही ...</td>\n",
              "      <td>lekin# magahi# sagethyakariyo# ken# anusara# m...</td>\n",
              "      <td>@lekin maghi sahityetihaskaron ke anusar maghi...</td>\n",
              "    </tr>\n",
              "    <tr>\n",
              "      <th>99</th>\n",
              "      <td>@विलियम होवर टाफ्ट संयुक्त राज्य अमरीका के राष...</td>\n",
              "      <td>viliam# hovar# tatant sanyust# rajy# amarikara...</td>\n",
              "      <td>@wiliam hover taft sanyukt rajya america ke ra...</td>\n",
              "    </tr>\n",
              "  </tbody>\n",
              "</table>\n",
              "<p>100 rows × 3 columns</p>\n",
              "</div>"
            ],
            "text/plain": [
              "                                                input  ...                                           expected\n",
              "0   @कुंभ राशि में जन्मे लोग संभावनाओं से भरी एक ज...  ...  @kumbh rashi men janme log sambhavnaon se bhar...\n",
              "1                               @इसका उलट भी सत्य है#  ...                          @iska ulat bhi satya hai#\n",
              "2   @कुछ देवता जो मुख्यत नगर देवता थे अपने संप्रदा...  ...  @kuch devta jo mukhyatah nagar devta the apne ...\n",
              "3   @तेल के उत्पादन में संसार में रोमानिया का छठा ...  ...  @tel ke utpadan men sansar men romania ka chha...\n",
              "4   @बनारसी लाल से मिलकर पुलिस ने सारा भेद प्राप्त...  ...  @banarasi lal se milkar police ne sara bhed pr...\n",
              "..                                                ...  ...                                                ...\n",
              "95    @जिसके कारण हृदपेशीविकृति या अतालता हो सकती है#  ...  @jiske karan hrdapeshivikriti ya atalata ho sa...\n",
              "96  @उत्तर प्रदेश विधान सभा चुनाव में इन्होंने उत्...  ...  @uttar pradesh vidhan sabha chunav men inhone ...\n",
              "97  @नेपाली उपन्यास का आधारहरू नेपाली भाषा के विख्...  ...  @nepali upanyas ka shadharhu nepali bhasha ke ...\n",
              "98  @लेकिन मगही साहित्येतिहासकारों के अनुसार मगही ...  ...  @lekin maghi sahityetihaskaron ke anusar maghi...\n",
              "99  @विलियम होवर टाफ्ट संयुक्त राज्य अमरीका के राष...  ...  @wiliam hover taft sanyukt rajya america ke ra...\n",
              "\n",
              "[100 rows x 3 columns]"
            ]
          },
          "execution_count": 273,
          "metadata": {},
          "output_type": "execute_result"
        }
      ],
      "source": [
        "res = pd.DataFrame(result, columns = ['input', 'output', 'expected'])\n",
        "res"
      ]
    },
    {
      "cell_type": "code",
      "execution_count": null,
      "metadata": {
        "id": "KbvUEN4Nes2W"
      },
      "outputs": [],
      "source": [
        "res.to_csv('file1.csv')"
      ]
    }
  ],
  "metadata": {
    "accelerator": "GPU",
    "colab": {
      "collapsed_sections": [],
      "name": "ANLP_Project1.ipynb",
      "provenance": []
    },
    "kernelspec": {
      "display_name": "Python 3",
      "language": "python",
      "name": "python3"
    },
    "language_info": {
      "codemirror_mode": {
        "name": "ipython",
        "version": 3
      },
      "file_extension": ".py",
      "mimetype": "text/x-python",
      "name": "python",
      "nbconvert_exporter": "python",
      "pygments_lexer": "ipython3",
      "version": "3.6.9"
    },
    "widgets": {
      "application/vnd.jupyter.widget-state+json": {
        "014efa875b84439990603492ebe5ed14": {
          "model_module": "@jupyter-widgets/controls",
          "model_module_version": "1.5.0",
          "model_name": "ProgressStyleModel",
          "state": {
            "_model_module": "@jupyter-widgets/controls",
            "_model_module_version": "1.5.0",
            "_model_name": "ProgressStyleModel",
            "_view_count": null,
            "_view_module": "@jupyter-widgets/base",
            "_view_module_version": "1.2.0",
            "_view_name": "StyleView",
            "bar_color": null,
            "description_width": ""
          }
        },
        "063320664ccb424f84adb534028308a2": {
          "model_module": "@jupyter-widgets/controls",
          "model_module_version": "1.5.0",
          "model_name": "HBoxModel",
          "state": {
            "_dom_classes": [],
            "_model_module": "@jupyter-widgets/controls",
            "_model_module_version": "1.5.0",
            "_model_name": "HBoxModel",
            "_view_count": null,
            "_view_module": "@jupyter-widgets/controls",
            "_view_module_version": "1.5.0",
            "_view_name": "HBoxView",
            "box_style": "",
            "children": [
              "IPY_MODEL_359c7a15b38743b2884922d10ed65d38",
              "IPY_MODEL_8da350bd31284a9bb9d305983a08c758",
              "IPY_MODEL_fdf707f1c30249e0be0b11f75879c7ff"
            ],
            "layout": "IPY_MODEL_e0de13e2914e41dbb8ada2e94a093f34"
          }
        },
        "097989c99daf42c9a3e2c4fa7da45d2e": {
          "model_module": "@jupyter-widgets/controls",
          "model_module_version": "1.5.0",
          "model_name": "FloatProgressModel",
          "state": {
            "_dom_classes": [],
            "_model_module": "@jupyter-widgets/controls",
            "_model_module_version": "1.5.0",
            "_model_name": "FloatProgressModel",
            "_view_count": null,
            "_view_module": "@jupyter-widgets/controls",
            "_view_module_version": "1.5.0",
            "_view_name": "ProgressView",
            "bar_style": "success",
            "description": "",
            "description_tooltip": null,
            "layout": "IPY_MODEL_df126fffbaa94b61a9ee85941f073067",
            "max": 5000,
            "min": 0,
            "orientation": "horizontal",
            "style": "IPY_MODEL_014efa875b84439990603492ebe5ed14",
            "value": 5000
          }
        },
        "1792cce76f00441e9c4b79e9659dff5d": {
          "model_module": "@jupyter-widgets/controls",
          "model_module_version": "1.5.0",
          "model_name": "HTMLModel",
          "state": {
            "_dom_classes": [],
            "_model_module": "@jupyter-widgets/controls",
            "_model_module_version": "1.5.0",
            "_model_name": "HTMLModel",
            "_view_count": null,
            "_view_module": "@jupyter-widgets/controls",
            "_view_module_version": "1.5.0",
            "_view_name": "HTMLView",
            "description": "",
            "description_tooltip": null,
            "layout": "IPY_MODEL_359fa23fb26440eca68572b5d8e4abc1",
            "placeholder": "​",
            "style": "IPY_MODEL_24ca0c7549fe45ad88f42ed25d75c137",
            "value": "100%"
          }
        },
        "19b4424202364dd08939fe90eaa1d862": {
          "model_module": "@jupyter-widgets/base",
          "model_module_version": "1.2.0",
          "model_name": "LayoutModel",
          "state": {
            "_model_module": "@jupyter-widgets/base",
            "_model_module_version": "1.2.0",
            "_model_name": "LayoutModel",
            "_view_count": null,
            "_view_module": "@jupyter-widgets/base",
            "_view_module_version": "1.2.0",
            "_view_name": "LayoutView",
            "align_content": null,
            "align_items": null,
            "align_self": null,
            "border": null,
            "bottom": null,
            "display": null,
            "flex": null,
            "flex_flow": null,
            "grid_area": null,
            "grid_auto_columns": null,
            "grid_auto_flow": null,
            "grid_auto_rows": null,
            "grid_column": null,
            "grid_gap": null,
            "grid_row": null,
            "grid_template_areas": null,
            "grid_template_columns": null,
            "grid_template_rows": null,
            "height": null,
            "justify_content": null,
            "justify_items": null,
            "left": null,
            "margin": null,
            "max_height": null,
            "max_width": null,
            "min_height": null,
            "min_width": null,
            "object_fit": null,
            "object_position": null,
            "order": null,
            "overflow": null,
            "overflow_x": null,
            "overflow_y": null,
            "padding": null,
            "right": null,
            "top": null,
            "visibility": null,
            "width": null
          }
        },
        "1a34624ad17f44628f528cc5f49ae3ea": {
          "model_module": "@jupyter-widgets/controls",
          "model_module_version": "1.5.0",
          "model_name": "FloatProgressModel",
          "state": {
            "_dom_classes": [],
            "_model_module": "@jupyter-widgets/controls",
            "_model_module_version": "1.5.0",
            "_model_name": "FloatProgressModel",
            "_view_count": null,
            "_view_module": "@jupyter-widgets/controls",
            "_view_module_version": "1.5.0",
            "_view_name": "ProgressView",
            "bar_style": "success",
            "description": "",
            "description_tooltip": null,
            "layout": "IPY_MODEL_1c8287c176394d618aa9eb4093714d38",
            "max": 500,
            "min": 0,
            "orientation": "horizontal",
            "style": "IPY_MODEL_346dde21d4764e389e484d7e65b425eb",
            "value": 500
          }
        },
        "1a5b4a0525aa473891f99580c6b774e1": {
          "model_module": "@jupyter-widgets/controls",
          "model_module_version": "1.5.0",
          "model_name": "HBoxModel",
          "state": {
            "_dom_classes": [],
            "_model_module": "@jupyter-widgets/controls",
            "_model_module_version": "1.5.0",
            "_model_name": "HBoxModel",
            "_view_count": null,
            "_view_module": "@jupyter-widgets/controls",
            "_view_module_version": "1.5.0",
            "_view_name": "HBoxView",
            "box_style": "",
            "children": [
              "IPY_MODEL_1792cce76f00441e9c4b79e9659dff5d",
              "IPY_MODEL_1a34624ad17f44628f528cc5f49ae3ea",
              "IPY_MODEL_ed8ea87653314cba956017247bbe8e54"
            ],
            "layout": "IPY_MODEL_b578b04ccf2c4f5fba6efeaba1a22f9c"
          }
        },
        "1c8287c176394d618aa9eb4093714d38": {
          "model_module": "@jupyter-widgets/base",
          "model_module_version": "1.2.0",
          "model_name": "LayoutModel",
          "state": {
            "_model_module": "@jupyter-widgets/base",
            "_model_module_version": "1.2.0",
            "_model_name": "LayoutModel",
            "_view_count": null,
            "_view_module": "@jupyter-widgets/base",
            "_view_module_version": "1.2.0",
            "_view_name": "LayoutView",
            "align_content": null,
            "align_items": null,
            "align_self": null,
            "border": null,
            "bottom": null,
            "display": null,
            "flex": null,
            "flex_flow": null,
            "grid_area": null,
            "grid_auto_columns": null,
            "grid_auto_flow": null,
            "grid_auto_rows": null,
            "grid_column": null,
            "grid_gap": null,
            "grid_row": null,
            "grid_template_areas": null,
            "grid_template_columns": null,
            "grid_template_rows": null,
            "height": null,
            "justify_content": null,
            "justify_items": null,
            "left": null,
            "margin": null,
            "max_height": null,
            "max_width": null,
            "min_height": null,
            "min_width": null,
            "object_fit": null,
            "object_position": null,
            "order": null,
            "overflow": null,
            "overflow_x": null,
            "overflow_y": null,
            "padding": null,
            "right": null,
            "top": null,
            "visibility": null,
            "width": null
          }
        },
        "2036696f39e44798b2e28044c99a2361": {
          "model_module": "@jupyter-widgets/base",
          "model_module_version": "1.2.0",
          "model_name": "LayoutModel",
          "state": {
            "_model_module": "@jupyter-widgets/base",
            "_model_module_version": "1.2.0",
            "_model_name": "LayoutModel",
            "_view_count": null,
            "_view_module": "@jupyter-widgets/base",
            "_view_module_version": "1.2.0",
            "_view_name": "LayoutView",
            "align_content": null,
            "align_items": null,
            "align_self": null,
            "border": null,
            "bottom": null,
            "display": null,
            "flex": null,
            "flex_flow": null,
            "grid_area": null,
            "grid_auto_columns": null,
            "grid_auto_flow": null,
            "grid_auto_rows": null,
            "grid_column": null,
            "grid_gap": null,
            "grid_row": null,
            "grid_template_areas": null,
            "grid_template_columns": null,
            "grid_template_rows": null,
            "height": null,
            "justify_content": null,
            "justify_items": null,
            "left": null,
            "margin": null,
            "max_height": null,
            "max_width": null,
            "min_height": null,
            "min_width": null,
            "object_fit": null,
            "object_position": null,
            "order": null,
            "overflow": null,
            "overflow_x": null,
            "overflow_y": null,
            "padding": null,
            "right": null,
            "top": null,
            "visibility": null,
            "width": null
          }
        },
        "24ca0c7549fe45ad88f42ed25d75c137": {
          "model_module": "@jupyter-widgets/controls",
          "model_module_version": "1.5.0",
          "model_name": "DescriptionStyleModel",
          "state": {
            "_model_module": "@jupyter-widgets/controls",
            "_model_module_version": "1.5.0",
            "_model_name": "DescriptionStyleModel",
            "_view_count": null,
            "_view_module": "@jupyter-widgets/base",
            "_view_module_version": "1.2.0",
            "_view_name": "StyleView",
            "description_width": ""
          }
        },
        "26dd7c8ee2394fc1b964b2c6d4db1e29": {
          "model_module": "@jupyter-widgets/controls",
          "model_module_version": "1.5.0",
          "model_name": "DescriptionStyleModel",
          "state": {
            "_model_module": "@jupyter-widgets/controls",
            "_model_module_version": "1.5.0",
            "_model_name": "DescriptionStyleModel",
            "_view_count": null,
            "_view_module": "@jupyter-widgets/base",
            "_view_module_version": "1.2.0",
            "_view_name": "StyleView",
            "description_width": ""
          }
        },
        "29a19a90871542e7b5c1d9b026865a03": {
          "model_module": "@jupyter-widgets/controls",
          "model_module_version": "1.5.0",
          "model_name": "ProgressStyleModel",
          "state": {
            "_model_module": "@jupyter-widgets/controls",
            "_model_module_version": "1.5.0",
            "_model_name": "ProgressStyleModel",
            "_view_count": null,
            "_view_module": "@jupyter-widgets/base",
            "_view_module_version": "1.2.0",
            "_view_name": "StyleView",
            "bar_color": null,
            "description_width": ""
          }
        },
        "306a460167fd4186a908ff90fcf05e48": {
          "model_module": "@jupyter-widgets/controls",
          "model_module_version": "1.5.0",
          "model_name": "ProgressStyleModel",
          "state": {
            "_model_module": "@jupyter-widgets/controls",
            "_model_module_version": "1.5.0",
            "_model_name": "ProgressStyleModel",
            "_view_count": null,
            "_view_module": "@jupyter-widgets/base",
            "_view_module_version": "1.2.0",
            "_view_name": "StyleView",
            "bar_color": null,
            "description_width": ""
          }
        },
        "31b8e6efcc4d4bf499bf28289beefab7": {
          "model_module": "@jupyter-widgets/controls",
          "model_module_version": "1.5.0",
          "model_name": "HTMLModel",
          "state": {
            "_dom_classes": [],
            "_model_module": "@jupyter-widgets/controls",
            "_model_module_version": "1.5.0",
            "_model_name": "HTMLModel",
            "_view_count": null,
            "_view_module": "@jupyter-widgets/controls",
            "_view_module_version": "1.5.0",
            "_view_name": "HTMLView",
            "description": "",
            "description_tooltip": null,
            "layout": "IPY_MODEL_d5c68d72a35a40d99c2481e280797042",
            "placeholder": "​",
            "style": "IPY_MODEL_9be5e964d2e348f59cea0e52a0447d6e",
            "value": " 10/10 [00:00&lt;00:00, 13.57it/s]"
          }
        },
        "346dde21d4764e389e484d7e65b425eb": {
          "model_module": "@jupyter-widgets/controls",
          "model_module_version": "1.5.0",
          "model_name": "ProgressStyleModel",
          "state": {
            "_model_module": "@jupyter-widgets/controls",
            "_model_module_version": "1.5.0",
            "_model_name": "ProgressStyleModel",
            "_view_count": null,
            "_view_module": "@jupyter-widgets/base",
            "_view_module_version": "1.2.0",
            "_view_name": "StyleView",
            "bar_color": null,
            "description_width": ""
          }
        },
        "359c7a15b38743b2884922d10ed65d38": {
          "model_module": "@jupyter-widgets/controls",
          "model_module_version": "1.5.0",
          "model_name": "HTMLModel",
          "state": {
            "_dom_classes": [],
            "_model_module": "@jupyter-widgets/controls",
            "_model_module_version": "1.5.0",
            "_model_name": "HTMLModel",
            "_view_count": null,
            "_view_module": "@jupyter-widgets/controls",
            "_view_module_version": "1.5.0",
            "_view_name": "HTMLView",
            "description": "",
            "description_tooltip": null,
            "layout": "IPY_MODEL_b708fcba25014d3fa92add38bd06aad6",
            "placeholder": "​",
            "style": "IPY_MODEL_26dd7c8ee2394fc1b964b2c6d4db1e29",
            "value": "100%"
          }
        },
        "359fa23fb26440eca68572b5d8e4abc1": {
          "model_module": "@jupyter-widgets/base",
          "model_module_version": "1.2.0",
          "model_name": "LayoutModel",
          "state": {
            "_model_module": "@jupyter-widgets/base",
            "_model_module_version": "1.2.0",
            "_model_name": "LayoutModel",
            "_view_count": null,
            "_view_module": "@jupyter-widgets/base",
            "_view_module_version": "1.2.0",
            "_view_name": "LayoutView",
            "align_content": null,
            "align_items": null,
            "align_self": null,
            "border": null,
            "bottom": null,
            "display": null,
            "flex": null,
            "flex_flow": null,
            "grid_area": null,
            "grid_auto_columns": null,
            "grid_auto_flow": null,
            "grid_auto_rows": null,
            "grid_column": null,
            "grid_gap": null,
            "grid_row": null,
            "grid_template_areas": null,
            "grid_template_columns": null,
            "grid_template_rows": null,
            "height": null,
            "justify_content": null,
            "justify_items": null,
            "left": null,
            "margin": null,
            "max_height": null,
            "max_width": null,
            "min_height": null,
            "min_width": null,
            "object_fit": null,
            "object_position": null,
            "order": null,
            "overflow": null,
            "overflow_x": null,
            "overflow_y": null,
            "padding": null,
            "right": null,
            "top": null,
            "visibility": null,
            "width": null
          }
        },
        "361a383002f04d4b9206e924266bf5ed": {
          "model_module": "@jupyter-widgets/base",
          "model_module_version": "1.2.0",
          "model_name": "LayoutModel",
          "state": {
            "_model_module": "@jupyter-widgets/base",
            "_model_module_version": "1.2.0",
            "_model_name": "LayoutModel",
            "_view_count": null,
            "_view_module": "@jupyter-widgets/base",
            "_view_module_version": "1.2.0",
            "_view_name": "LayoutView",
            "align_content": null,
            "align_items": null,
            "align_self": null,
            "border": null,
            "bottom": null,
            "display": null,
            "flex": null,
            "flex_flow": null,
            "grid_area": null,
            "grid_auto_columns": null,
            "grid_auto_flow": null,
            "grid_auto_rows": null,
            "grid_column": null,
            "grid_gap": null,
            "grid_row": null,
            "grid_template_areas": null,
            "grid_template_columns": null,
            "grid_template_rows": null,
            "height": null,
            "justify_content": null,
            "justify_items": null,
            "left": null,
            "margin": null,
            "max_height": null,
            "max_width": null,
            "min_height": null,
            "min_width": null,
            "object_fit": null,
            "object_position": null,
            "order": null,
            "overflow": null,
            "overflow_x": null,
            "overflow_y": null,
            "padding": null,
            "right": null,
            "top": null,
            "visibility": null,
            "width": null
          }
        },
        "3907c5fa5f64431894f2d3145b9263d4": {
          "model_module": "@jupyter-widgets/base",
          "model_module_version": "1.2.0",
          "model_name": "LayoutModel",
          "state": {
            "_model_module": "@jupyter-widgets/base",
            "_model_module_version": "1.2.0",
            "_model_name": "LayoutModel",
            "_view_count": null,
            "_view_module": "@jupyter-widgets/base",
            "_view_module_version": "1.2.0",
            "_view_name": "LayoutView",
            "align_content": null,
            "align_items": null,
            "align_self": null,
            "border": null,
            "bottom": null,
            "display": null,
            "flex": null,
            "flex_flow": null,
            "grid_area": null,
            "grid_auto_columns": null,
            "grid_auto_flow": null,
            "grid_auto_rows": null,
            "grid_column": null,
            "grid_gap": null,
            "grid_row": null,
            "grid_template_areas": null,
            "grid_template_columns": null,
            "grid_template_rows": null,
            "height": null,
            "justify_content": null,
            "justify_items": null,
            "left": null,
            "margin": null,
            "max_height": null,
            "max_width": null,
            "min_height": null,
            "min_width": null,
            "object_fit": null,
            "object_position": null,
            "order": null,
            "overflow": null,
            "overflow_x": null,
            "overflow_y": null,
            "padding": null,
            "right": null,
            "top": null,
            "visibility": null,
            "width": null
          }
        },
        "4a3ffdd5ca11434488ca2b5f8cfa54e7": {
          "model_module": "@jupyter-widgets/base",
          "model_module_version": "1.2.0",
          "model_name": "LayoutModel",
          "state": {
            "_model_module": "@jupyter-widgets/base",
            "_model_module_version": "1.2.0",
            "_model_name": "LayoutModel",
            "_view_count": null,
            "_view_module": "@jupyter-widgets/base",
            "_view_module_version": "1.2.0",
            "_view_name": "LayoutView",
            "align_content": null,
            "align_items": null,
            "align_self": null,
            "border": null,
            "bottom": null,
            "display": null,
            "flex": null,
            "flex_flow": null,
            "grid_area": null,
            "grid_auto_columns": null,
            "grid_auto_flow": null,
            "grid_auto_rows": null,
            "grid_column": null,
            "grid_gap": null,
            "grid_row": null,
            "grid_template_areas": null,
            "grid_template_columns": null,
            "grid_template_rows": null,
            "height": null,
            "justify_content": null,
            "justify_items": null,
            "left": null,
            "margin": null,
            "max_height": null,
            "max_width": null,
            "min_height": null,
            "min_width": null,
            "object_fit": null,
            "object_position": null,
            "order": null,
            "overflow": null,
            "overflow_x": null,
            "overflow_y": null,
            "padding": null,
            "right": null,
            "top": null,
            "visibility": null,
            "width": null
          }
        },
        "4b6495f09d3b46fcb9a8e6ae7fce690a": {
          "model_module": "@jupyter-widgets/controls",
          "model_module_version": "1.5.0",
          "model_name": "HTMLModel",
          "state": {
            "_dom_classes": [],
            "_model_module": "@jupyter-widgets/controls",
            "_model_module_version": "1.5.0",
            "_model_name": "HTMLModel",
            "_view_count": null,
            "_view_module": "@jupyter-widgets/controls",
            "_view_module_version": "1.5.0",
            "_view_name": "HTMLView",
            "description": "",
            "description_tooltip": null,
            "layout": "IPY_MODEL_b70643e63c3742c0b6e8ee84dbb2f717",
            "placeholder": "​",
            "style": "IPY_MODEL_570356cf7bed4957ac834e3ed16121f8",
            "value": " 1000/1000 [01:05&lt;00:00, 14.87it/s]"
          }
        },
        "4f85915bcc064d278e7922073535e2cb": {
          "model_module": "@jupyter-widgets/controls",
          "model_module_version": "1.5.0",
          "model_name": "HBoxModel",
          "state": {
            "_dom_classes": [],
            "_model_module": "@jupyter-widgets/controls",
            "_model_module_version": "1.5.0",
            "_model_name": "HBoxModel",
            "_view_count": null,
            "_view_module": "@jupyter-widgets/controls",
            "_view_module_version": "1.5.0",
            "_view_name": "HBoxView",
            "box_style": "",
            "children": [
              "IPY_MODEL_ece54db86d2e4c37a1951a5edfce12e2",
              "IPY_MODEL_95556db8ef524504ac2e5c28111a23d2",
              "IPY_MODEL_31b8e6efcc4d4bf499bf28289beefab7"
            ],
            "layout": "IPY_MODEL_2036696f39e44798b2e28044c99a2361"
          }
        },
        "570356cf7bed4957ac834e3ed16121f8": {
          "model_module": "@jupyter-widgets/controls",
          "model_module_version": "1.5.0",
          "model_name": "DescriptionStyleModel",
          "state": {
            "_model_module": "@jupyter-widgets/controls",
            "_model_module_version": "1.5.0",
            "_model_name": "DescriptionStyleModel",
            "_view_count": null,
            "_view_module": "@jupyter-widgets/base",
            "_view_module_version": "1.2.0",
            "_view_name": "StyleView",
            "description_width": ""
          }
        },
        "5a30aefede61429186e46aceeae8877e": {
          "model_module": "@jupyter-widgets/base",
          "model_module_version": "1.2.0",
          "model_name": "LayoutModel",
          "state": {
            "_model_module": "@jupyter-widgets/base",
            "_model_module_version": "1.2.0",
            "_model_name": "LayoutModel",
            "_view_count": null,
            "_view_module": "@jupyter-widgets/base",
            "_view_module_version": "1.2.0",
            "_view_name": "LayoutView",
            "align_content": null,
            "align_items": null,
            "align_self": null,
            "border": null,
            "bottom": null,
            "display": null,
            "flex": null,
            "flex_flow": null,
            "grid_area": null,
            "grid_auto_columns": null,
            "grid_auto_flow": null,
            "grid_auto_rows": null,
            "grid_column": null,
            "grid_gap": null,
            "grid_row": null,
            "grid_template_areas": null,
            "grid_template_columns": null,
            "grid_template_rows": null,
            "height": null,
            "justify_content": null,
            "justify_items": null,
            "left": null,
            "margin": null,
            "max_height": null,
            "max_width": null,
            "min_height": null,
            "min_width": null,
            "object_fit": null,
            "object_position": null,
            "order": null,
            "overflow": null,
            "overflow_x": null,
            "overflow_y": null,
            "padding": null,
            "right": null,
            "top": null,
            "visibility": null,
            "width": null
          }
        },
        "5e4b70e099c44c13ba08321f549d32b8": {
          "model_module": "@jupyter-widgets/base",
          "model_module_version": "1.2.0",
          "model_name": "LayoutModel",
          "state": {
            "_model_module": "@jupyter-widgets/base",
            "_model_module_version": "1.2.0",
            "_model_name": "LayoutModel",
            "_view_count": null,
            "_view_module": "@jupyter-widgets/base",
            "_view_module_version": "1.2.0",
            "_view_name": "LayoutView",
            "align_content": null,
            "align_items": null,
            "align_self": null,
            "border": null,
            "bottom": null,
            "display": null,
            "flex": null,
            "flex_flow": null,
            "grid_area": null,
            "grid_auto_columns": null,
            "grid_auto_flow": null,
            "grid_auto_rows": null,
            "grid_column": null,
            "grid_gap": null,
            "grid_row": null,
            "grid_template_areas": null,
            "grid_template_columns": null,
            "grid_template_rows": null,
            "height": null,
            "justify_content": null,
            "justify_items": null,
            "left": null,
            "margin": null,
            "max_height": null,
            "max_width": null,
            "min_height": null,
            "min_width": null,
            "object_fit": null,
            "object_position": null,
            "order": null,
            "overflow": null,
            "overflow_x": null,
            "overflow_y": null,
            "padding": null,
            "right": null,
            "top": null,
            "visibility": null,
            "width": null
          }
        },
        "5ff7d88f2e8d40ddb435ed07ba873ad1": {
          "model_module": "@jupyter-widgets/base",
          "model_module_version": "1.2.0",
          "model_name": "LayoutModel",
          "state": {
            "_model_module": "@jupyter-widgets/base",
            "_model_module_version": "1.2.0",
            "_model_name": "LayoutModel",
            "_view_count": null,
            "_view_module": "@jupyter-widgets/base",
            "_view_module_version": "1.2.0",
            "_view_name": "LayoutView",
            "align_content": null,
            "align_items": null,
            "align_self": null,
            "border": null,
            "bottom": null,
            "display": null,
            "flex": null,
            "flex_flow": null,
            "grid_area": null,
            "grid_auto_columns": null,
            "grid_auto_flow": null,
            "grid_auto_rows": null,
            "grid_column": null,
            "grid_gap": null,
            "grid_row": null,
            "grid_template_areas": null,
            "grid_template_columns": null,
            "grid_template_rows": null,
            "height": null,
            "justify_content": null,
            "justify_items": null,
            "left": null,
            "margin": null,
            "max_height": null,
            "max_width": null,
            "min_height": null,
            "min_width": null,
            "object_fit": null,
            "object_position": null,
            "order": null,
            "overflow": null,
            "overflow_x": null,
            "overflow_y": null,
            "padding": null,
            "right": null,
            "top": null,
            "visibility": null,
            "width": null
          }
        },
        "76ff6f75480241a488dac2ef940562ca": {
          "model_module": "@jupyter-widgets/controls",
          "model_module_version": "1.5.0",
          "model_name": "ProgressStyleModel",
          "state": {
            "_model_module": "@jupyter-widgets/controls",
            "_model_module_version": "1.5.0",
            "_model_name": "ProgressStyleModel",
            "_view_count": null,
            "_view_module": "@jupyter-widgets/base",
            "_view_module_version": "1.2.0",
            "_view_name": "StyleView",
            "bar_color": null,
            "description_width": ""
          }
        },
        "7ac8f29208be4193a182ada2f3f8962d": {
          "model_module": "@jupyter-widgets/controls",
          "model_module_version": "1.5.0",
          "model_name": "DescriptionStyleModel",
          "state": {
            "_model_module": "@jupyter-widgets/controls",
            "_model_module_version": "1.5.0",
            "_model_name": "DescriptionStyleModel",
            "_view_count": null,
            "_view_module": "@jupyter-widgets/base",
            "_view_module_version": "1.2.0",
            "_view_name": "StyleView",
            "description_width": ""
          }
        },
        "890a942ff2484adcaea6005fac3d07e8": {
          "model_module": "@jupyter-widgets/controls",
          "model_module_version": "1.5.0",
          "model_name": "HTMLModel",
          "state": {
            "_dom_classes": [],
            "_model_module": "@jupyter-widgets/controls",
            "_model_module_version": "1.5.0",
            "_model_name": "HTMLModel",
            "_view_count": null,
            "_view_module": "@jupyter-widgets/controls",
            "_view_module_version": "1.5.0",
            "_view_name": "HTMLView",
            "description": "",
            "description_tooltip": null,
            "layout": "IPY_MODEL_e565e1f5abbb4d27baf085d51e3bdc6f",
            "placeholder": "​",
            "style": "IPY_MODEL_e5893a558d094a09966e6ccd50621ee5",
            "value": "100%"
          }
        },
        "8b00e45da0404210aee82f87817a941d": {
          "model_module": "@jupyter-widgets/controls",
          "model_module_version": "1.5.0",
          "model_name": "DescriptionStyleModel",
          "state": {
            "_model_module": "@jupyter-widgets/controls",
            "_model_module_version": "1.5.0",
            "_model_name": "DescriptionStyleModel",
            "_view_count": null,
            "_view_module": "@jupyter-widgets/base",
            "_view_module_version": "1.2.0",
            "_view_name": "StyleView",
            "description_width": ""
          }
        },
        "8da350bd31284a9bb9d305983a08c758": {
          "model_module": "@jupyter-widgets/controls",
          "model_module_version": "1.5.0",
          "model_name": "FloatProgressModel",
          "state": {
            "_dom_classes": [],
            "_model_module": "@jupyter-widgets/controls",
            "_model_module_version": "1.5.0",
            "_model_name": "FloatProgressModel",
            "_view_count": null,
            "_view_module": "@jupyter-widgets/controls",
            "_view_module_version": "1.5.0",
            "_view_name": "ProgressView",
            "bar_style": "success",
            "description": "",
            "description_tooltip": null,
            "layout": "IPY_MODEL_c867b79e8de346b2a9024953238be803",
            "max": 100,
            "min": 0,
            "orientation": "horizontal",
            "style": "IPY_MODEL_306a460167fd4186a908ff90fcf05e48",
            "value": 100
          }
        },
        "93e9552b447146e8b025718feb754f2c": {
          "model_module": "@jupyter-widgets/controls",
          "model_module_version": "1.5.0",
          "model_name": "DescriptionStyleModel",
          "state": {
            "_model_module": "@jupyter-widgets/controls",
            "_model_module_version": "1.5.0",
            "_model_name": "DescriptionStyleModel",
            "_view_count": null,
            "_view_module": "@jupyter-widgets/base",
            "_view_module_version": "1.2.0",
            "_view_name": "StyleView",
            "description_width": ""
          }
        },
        "95556db8ef524504ac2e5c28111a23d2": {
          "model_module": "@jupyter-widgets/controls",
          "model_module_version": "1.5.0",
          "model_name": "FloatProgressModel",
          "state": {
            "_dom_classes": [],
            "_model_module": "@jupyter-widgets/controls",
            "_model_module_version": "1.5.0",
            "_model_name": "FloatProgressModel",
            "_view_count": null,
            "_view_module": "@jupyter-widgets/controls",
            "_view_module_version": "1.5.0",
            "_view_name": "ProgressView",
            "bar_style": "success",
            "description": "",
            "description_tooltip": null,
            "layout": "IPY_MODEL_5e4b70e099c44c13ba08321f549d32b8",
            "max": 10,
            "min": 0,
            "orientation": "horizontal",
            "style": "IPY_MODEL_76ff6f75480241a488dac2ef940562ca",
            "value": 10
          }
        },
        "9be5e964d2e348f59cea0e52a0447d6e": {
          "model_module": "@jupyter-widgets/controls",
          "model_module_version": "1.5.0",
          "model_name": "DescriptionStyleModel",
          "state": {
            "_model_module": "@jupyter-widgets/controls",
            "_model_module_version": "1.5.0",
            "_model_name": "DescriptionStyleModel",
            "_view_count": null,
            "_view_module": "@jupyter-widgets/base",
            "_view_module_version": "1.2.0",
            "_view_name": "StyleView",
            "description_width": ""
          }
        },
        "aef081a40cbc4897bdb5aba144e5abd5": {
          "model_module": "@jupyter-widgets/controls",
          "model_module_version": "1.5.0",
          "model_name": "HBoxModel",
          "state": {
            "_dom_classes": [],
            "_model_module": "@jupyter-widgets/controls",
            "_model_module_version": "1.5.0",
            "_model_name": "HBoxModel",
            "_view_count": null,
            "_view_module": "@jupyter-widgets/controls",
            "_view_module_version": "1.5.0",
            "_view_name": "HBoxView",
            "box_style": "",
            "children": [
              "IPY_MODEL_890a942ff2484adcaea6005fac3d07e8",
              "IPY_MODEL_097989c99daf42c9a3e2c4fa7da45d2e",
              "IPY_MODEL_b965da838b6745c3bfe1daead409998b"
            ],
            "layout": "IPY_MODEL_3907c5fa5f64431894f2d3145b9263d4"
          }
        },
        "b578b04ccf2c4f5fba6efeaba1a22f9c": {
          "model_module": "@jupyter-widgets/base",
          "model_module_version": "1.2.0",
          "model_name": "LayoutModel",
          "state": {
            "_model_module": "@jupyter-widgets/base",
            "_model_module_version": "1.2.0",
            "_model_name": "LayoutModel",
            "_view_count": null,
            "_view_module": "@jupyter-widgets/base",
            "_view_module_version": "1.2.0",
            "_view_name": "LayoutView",
            "align_content": null,
            "align_items": null,
            "align_self": null,
            "border": null,
            "bottom": null,
            "display": null,
            "flex": null,
            "flex_flow": null,
            "grid_area": null,
            "grid_auto_columns": null,
            "grid_auto_flow": null,
            "grid_auto_rows": null,
            "grid_column": null,
            "grid_gap": null,
            "grid_row": null,
            "grid_template_areas": null,
            "grid_template_columns": null,
            "grid_template_rows": null,
            "height": null,
            "justify_content": null,
            "justify_items": null,
            "left": null,
            "margin": null,
            "max_height": null,
            "max_width": null,
            "min_height": null,
            "min_width": null,
            "object_fit": null,
            "object_position": null,
            "order": null,
            "overflow": null,
            "overflow_x": null,
            "overflow_y": null,
            "padding": null,
            "right": null,
            "top": null,
            "visibility": null,
            "width": null
          }
        },
        "b70643e63c3742c0b6e8ee84dbb2f717": {
          "model_module": "@jupyter-widgets/base",
          "model_module_version": "1.2.0",
          "model_name": "LayoutModel",
          "state": {
            "_model_module": "@jupyter-widgets/base",
            "_model_module_version": "1.2.0",
            "_model_name": "LayoutModel",
            "_view_count": null,
            "_view_module": "@jupyter-widgets/base",
            "_view_module_version": "1.2.0",
            "_view_name": "LayoutView",
            "align_content": null,
            "align_items": null,
            "align_self": null,
            "border": null,
            "bottom": null,
            "display": null,
            "flex": null,
            "flex_flow": null,
            "grid_area": null,
            "grid_auto_columns": null,
            "grid_auto_flow": null,
            "grid_auto_rows": null,
            "grid_column": null,
            "grid_gap": null,
            "grid_row": null,
            "grid_template_areas": null,
            "grid_template_columns": null,
            "grid_template_rows": null,
            "height": null,
            "justify_content": null,
            "justify_items": null,
            "left": null,
            "margin": null,
            "max_height": null,
            "max_width": null,
            "min_height": null,
            "min_width": null,
            "object_fit": null,
            "object_position": null,
            "order": null,
            "overflow": null,
            "overflow_x": null,
            "overflow_y": null,
            "padding": null,
            "right": null,
            "top": null,
            "visibility": null,
            "width": null
          }
        },
        "b708fcba25014d3fa92add38bd06aad6": {
          "model_module": "@jupyter-widgets/base",
          "model_module_version": "1.2.0",
          "model_name": "LayoutModel",
          "state": {
            "_model_module": "@jupyter-widgets/base",
            "_model_module_version": "1.2.0",
            "_model_name": "LayoutModel",
            "_view_count": null,
            "_view_module": "@jupyter-widgets/base",
            "_view_module_version": "1.2.0",
            "_view_name": "LayoutView",
            "align_content": null,
            "align_items": null,
            "align_self": null,
            "border": null,
            "bottom": null,
            "display": null,
            "flex": null,
            "flex_flow": null,
            "grid_area": null,
            "grid_auto_columns": null,
            "grid_auto_flow": null,
            "grid_auto_rows": null,
            "grid_column": null,
            "grid_gap": null,
            "grid_row": null,
            "grid_template_areas": null,
            "grid_template_columns": null,
            "grid_template_rows": null,
            "height": null,
            "justify_content": null,
            "justify_items": null,
            "left": null,
            "margin": null,
            "max_height": null,
            "max_width": null,
            "min_height": null,
            "min_width": null,
            "object_fit": null,
            "object_position": null,
            "order": null,
            "overflow": null,
            "overflow_x": null,
            "overflow_y": null,
            "padding": null,
            "right": null,
            "top": null,
            "visibility": null,
            "width": null
          }
        },
        "b965da838b6745c3bfe1daead409998b": {
          "model_module": "@jupyter-widgets/controls",
          "model_module_version": "1.5.0",
          "model_name": "HTMLModel",
          "state": {
            "_dom_classes": [],
            "_model_module": "@jupyter-widgets/controls",
            "_model_module_version": "1.5.0",
            "_model_name": "HTMLModel",
            "_view_count": null,
            "_view_module": "@jupyter-widgets/controls",
            "_view_module_version": "1.5.0",
            "_view_name": "HTMLView",
            "description": "",
            "description_tooltip": null,
            "layout": "IPY_MODEL_4a3ffdd5ca11434488ca2b5f8cfa54e7",
            "placeholder": "​",
            "style": "IPY_MODEL_93e9552b447146e8b025718feb754f2c",
            "value": " 5000/5000 [05:21&lt;00:00, 17.68it/s]"
          }
        },
        "bb8c5820225f4361bf5e7c98f3337735": {
          "model_module": "@jupyter-widgets/base",
          "model_module_version": "1.2.0",
          "model_name": "LayoutModel",
          "state": {
            "_model_module": "@jupyter-widgets/base",
            "_model_module_version": "1.2.0",
            "_model_name": "LayoutModel",
            "_view_count": null,
            "_view_module": "@jupyter-widgets/base",
            "_view_module_version": "1.2.0",
            "_view_name": "LayoutView",
            "align_content": null,
            "align_items": null,
            "align_self": null,
            "border": null,
            "bottom": null,
            "display": null,
            "flex": null,
            "flex_flow": null,
            "grid_area": null,
            "grid_auto_columns": null,
            "grid_auto_flow": null,
            "grid_auto_rows": null,
            "grid_column": null,
            "grid_gap": null,
            "grid_row": null,
            "grid_template_areas": null,
            "grid_template_columns": null,
            "grid_template_rows": null,
            "height": null,
            "justify_content": null,
            "justify_items": null,
            "left": null,
            "margin": null,
            "max_height": null,
            "max_width": null,
            "min_height": null,
            "min_width": null,
            "object_fit": null,
            "object_position": null,
            "order": null,
            "overflow": null,
            "overflow_x": null,
            "overflow_y": null,
            "padding": null,
            "right": null,
            "top": null,
            "visibility": null,
            "width": null
          }
        },
        "c867b79e8de346b2a9024953238be803": {
          "model_module": "@jupyter-widgets/base",
          "model_module_version": "1.2.0",
          "model_name": "LayoutModel",
          "state": {
            "_model_module": "@jupyter-widgets/base",
            "_model_module_version": "1.2.0",
            "_model_name": "LayoutModel",
            "_view_count": null,
            "_view_module": "@jupyter-widgets/base",
            "_view_module_version": "1.2.0",
            "_view_name": "LayoutView",
            "align_content": null,
            "align_items": null,
            "align_self": null,
            "border": null,
            "bottom": null,
            "display": null,
            "flex": null,
            "flex_flow": null,
            "grid_area": null,
            "grid_auto_columns": null,
            "grid_auto_flow": null,
            "grid_auto_rows": null,
            "grid_column": null,
            "grid_gap": null,
            "grid_row": null,
            "grid_template_areas": null,
            "grid_template_columns": null,
            "grid_template_rows": null,
            "height": null,
            "justify_content": null,
            "justify_items": null,
            "left": null,
            "margin": null,
            "max_height": null,
            "max_width": null,
            "min_height": null,
            "min_width": null,
            "object_fit": null,
            "object_position": null,
            "order": null,
            "overflow": null,
            "overflow_x": null,
            "overflow_y": null,
            "padding": null,
            "right": null,
            "top": null,
            "visibility": null,
            "width": null
          }
        },
        "cb217cfb68ff48fb8bc8710be5b0e350": {
          "model_module": "@jupyter-widgets/controls",
          "model_module_version": "1.5.0",
          "model_name": "HTMLModel",
          "state": {
            "_dom_classes": [],
            "_model_module": "@jupyter-widgets/controls",
            "_model_module_version": "1.5.0",
            "_model_name": "HTMLModel",
            "_view_count": null,
            "_view_module": "@jupyter-widgets/controls",
            "_view_module_version": "1.5.0",
            "_view_name": "HTMLView",
            "description": "",
            "description_tooltip": null,
            "layout": "IPY_MODEL_5ff7d88f2e8d40ddb435ed07ba873ad1",
            "placeholder": "​",
            "style": "IPY_MODEL_8b00e45da0404210aee82f87817a941d",
            "value": "100%"
          }
        },
        "d5c68d72a35a40d99c2481e280797042": {
          "model_module": "@jupyter-widgets/base",
          "model_module_version": "1.2.0",
          "model_name": "LayoutModel",
          "state": {
            "_model_module": "@jupyter-widgets/base",
            "_model_module_version": "1.2.0",
            "_model_name": "LayoutModel",
            "_view_count": null,
            "_view_module": "@jupyter-widgets/base",
            "_view_module_version": "1.2.0",
            "_view_name": "LayoutView",
            "align_content": null,
            "align_items": null,
            "align_self": null,
            "border": null,
            "bottom": null,
            "display": null,
            "flex": null,
            "flex_flow": null,
            "grid_area": null,
            "grid_auto_columns": null,
            "grid_auto_flow": null,
            "grid_auto_rows": null,
            "grid_column": null,
            "grid_gap": null,
            "grid_row": null,
            "grid_template_areas": null,
            "grid_template_columns": null,
            "grid_template_rows": null,
            "height": null,
            "justify_content": null,
            "justify_items": null,
            "left": null,
            "margin": null,
            "max_height": null,
            "max_width": null,
            "min_height": null,
            "min_width": null,
            "object_fit": null,
            "object_position": null,
            "order": null,
            "overflow": null,
            "overflow_x": null,
            "overflow_y": null,
            "padding": null,
            "right": null,
            "top": null,
            "visibility": null,
            "width": null
          }
        },
        "da04ad4cf7dd4164b3d382027e08a6fe": {
          "model_module": "@jupyter-widgets/controls",
          "model_module_version": "1.5.0",
          "model_name": "DescriptionStyleModel",
          "state": {
            "_model_module": "@jupyter-widgets/controls",
            "_model_module_version": "1.5.0",
            "_model_name": "DescriptionStyleModel",
            "_view_count": null,
            "_view_module": "@jupyter-widgets/base",
            "_view_module_version": "1.2.0",
            "_view_name": "StyleView",
            "description_width": ""
          }
        },
        "df126fffbaa94b61a9ee85941f073067": {
          "model_module": "@jupyter-widgets/base",
          "model_module_version": "1.2.0",
          "model_name": "LayoutModel",
          "state": {
            "_model_module": "@jupyter-widgets/base",
            "_model_module_version": "1.2.0",
            "_model_name": "LayoutModel",
            "_view_count": null,
            "_view_module": "@jupyter-widgets/base",
            "_view_module_version": "1.2.0",
            "_view_name": "LayoutView",
            "align_content": null,
            "align_items": null,
            "align_self": null,
            "border": null,
            "bottom": null,
            "display": null,
            "flex": null,
            "flex_flow": null,
            "grid_area": null,
            "grid_auto_columns": null,
            "grid_auto_flow": null,
            "grid_auto_rows": null,
            "grid_column": null,
            "grid_gap": null,
            "grid_row": null,
            "grid_template_areas": null,
            "grid_template_columns": null,
            "grid_template_rows": null,
            "height": null,
            "justify_content": null,
            "justify_items": null,
            "left": null,
            "margin": null,
            "max_height": null,
            "max_width": null,
            "min_height": null,
            "min_width": null,
            "object_fit": null,
            "object_position": null,
            "order": null,
            "overflow": null,
            "overflow_x": null,
            "overflow_y": null,
            "padding": null,
            "right": null,
            "top": null,
            "visibility": null,
            "width": null
          }
        },
        "e0de13e2914e41dbb8ada2e94a093f34": {
          "model_module": "@jupyter-widgets/base",
          "model_module_version": "1.2.0",
          "model_name": "LayoutModel",
          "state": {
            "_model_module": "@jupyter-widgets/base",
            "_model_module_version": "1.2.0",
            "_model_name": "LayoutModel",
            "_view_count": null,
            "_view_module": "@jupyter-widgets/base",
            "_view_module_version": "1.2.0",
            "_view_name": "LayoutView",
            "align_content": null,
            "align_items": null,
            "align_self": null,
            "border": null,
            "bottom": null,
            "display": null,
            "flex": null,
            "flex_flow": null,
            "grid_area": null,
            "grid_auto_columns": null,
            "grid_auto_flow": null,
            "grid_auto_rows": null,
            "grid_column": null,
            "grid_gap": null,
            "grid_row": null,
            "grid_template_areas": null,
            "grid_template_columns": null,
            "grid_template_rows": null,
            "height": null,
            "justify_content": null,
            "justify_items": null,
            "left": null,
            "margin": null,
            "max_height": null,
            "max_width": null,
            "min_height": null,
            "min_width": null,
            "object_fit": null,
            "object_position": null,
            "order": null,
            "overflow": null,
            "overflow_x": null,
            "overflow_y": null,
            "padding": null,
            "right": null,
            "top": null,
            "visibility": null,
            "width": null
          }
        },
        "e2970faa6ba946cdbedfba9a4d5fef1d": {
          "model_module": "@jupyter-widgets/controls",
          "model_module_version": "1.5.0",
          "model_name": "HBoxModel",
          "state": {
            "_dom_classes": [],
            "_model_module": "@jupyter-widgets/controls",
            "_model_module_version": "1.5.0",
            "_model_name": "HBoxModel",
            "_view_count": null,
            "_view_module": "@jupyter-widgets/controls",
            "_view_module_version": "1.5.0",
            "_view_name": "HBoxView",
            "box_style": "",
            "children": [
              "IPY_MODEL_cb217cfb68ff48fb8bc8710be5b0e350",
              "IPY_MODEL_fa08736ec605457fabb54ae23411e159",
              "IPY_MODEL_4b6495f09d3b46fcb9a8e6ae7fce690a"
            ],
            "layout": "IPY_MODEL_f7020e8f2d064e52af5c2fe1c4febe91"
          }
        },
        "e565e1f5abbb4d27baf085d51e3bdc6f": {
          "model_module": "@jupyter-widgets/base",
          "model_module_version": "1.2.0",
          "model_name": "LayoutModel",
          "state": {
            "_model_module": "@jupyter-widgets/base",
            "_model_module_version": "1.2.0",
            "_model_name": "LayoutModel",
            "_view_count": null,
            "_view_module": "@jupyter-widgets/base",
            "_view_module_version": "1.2.0",
            "_view_name": "LayoutView",
            "align_content": null,
            "align_items": null,
            "align_self": null,
            "border": null,
            "bottom": null,
            "display": null,
            "flex": null,
            "flex_flow": null,
            "grid_area": null,
            "grid_auto_columns": null,
            "grid_auto_flow": null,
            "grid_auto_rows": null,
            "grid_column": null,
            "grid_gap": null,
            "grid_row": null,
            "grid_template_areas": null,
            "grid_template_columns": null,
            "grid_template_rows": null,
            "height": null,
            "justify_content": null,
            "justify_items": null,
            "left": null,
            "margin": null,
            "max_height": null,
            "max_width": null,
            "min_height": null,
            "min_width": null,
            "object_fit": null,
            "object_position": null,
            "order": null,
            "overflow": null,
            "overflow_x": null,
            "overflow_y": null,
            "padding": null,
            "right": null,
            "top": null,
            "visibility": null,
            "width": null
          }
        },
        "e5893a558d094a09966e6ccd50621ee5": {
          "model_module": "@jupyter-widgets/controls",
          "model_module_version": "1.5.0",
          "model_name": "DescriptionStyleModel",
          "state": {
            "_model_module": "@jupyter-widgets/controls",
            "_model_module_version": "1.5.0",
            "_model_name": "DescriptionStyleModel",
            "_view_count": null,
            "_view_module": "@jupyter-widgets/base",
            "_view_module_version": "1.2.0",
            "_view_name": "StyleView",
            "description_width": ""
          }
        },
        "ece54db86d2e4c37a1951a5edfce12e2": {
          "model_module": "@jupyter-widgets/controls",
          "model_module_version": "1.5.0",
          "model_name": "HTMLModel",
          "state": {
            "_dom_classes": [],
            "_model_module": "@jupyter-widgets/controls",
            "_model_module_version": "1.5.0",
            "_model_name": "HTMLModel",
            "_view_count": null,
            "_view_module": "@jupyter-widgets/controls",
            "_view_module_version": "1.5.0",
            "_view_name": "HTMLView",
            "description": "",
            "description_tooltip": null,
            "layout": "IPY_MODEL_19b4424202364dd08939fe90eaa1d862",
            "placeholder": "​",
            "style": "IPY_MODEL_7ac8f29208be4193a182ada2f3f8962d",
            "value": "100%"
          }
        },
        "ed8ea87653314cba956017247bbe8e54": {
          "model_module": "@jupyter-widgets/controls",
          "model_module_version": "1.5.0",
          "model_name": "HTMLModel",
          "state": {
            "_dom_classes": [],
            "_model_module": "@jupyter-widgets/controls",
            "_model_module_version": "1.5.0",
            "_model_name": "HTMLModel",
            "_view_count": null,
            "_view_module": "@jupyter-widgets/controls",
            "_view_module_version": "1.5.0",
            "_view_name": "HTMLView",
            "description": "",
            "description_tooltip": null,
            "layout": "IPY_MODEL_bb8c5820225f4361bf5e7c98f3337735",
            "placeholder": "​",
            "style": "IPY_MODEL_fde2a12c2a4c4f818743790726a93c93",
            "value": " 500/500 [00:32&lt;00:00, 19.16it/s]"
          }
        },
        "f7020e8f2d064e52af5c2fe1c4febe91": {
          "model_module": "@jupyter-widgets/base",
          "model_module_version": "1.2.0",
          "model_name": "LayoutModel",
          "state": {
            "_model_module": "@jupyter-widgets/base",
            "_model_module_version": "1.2.0",
            "_model_name": "LayoutModel",
            "_view_count": null,
            "_view_module": "@jupyter-widgets/base",
            "_view_module_version": "1.2.0",
            "_view_name": "LayoutView",
            "align_content": null,
            "align_items": null,
            "align_self": null,
            "border": null,
            "bottom": null,
            "display": null,
            "flex": null,
            "flex_flow": null,
            "grid_area": null,
            "grid_auto_columns": null,
            "grid_auto_flow": null,
            "grid_auto_rows": null,
            "grid_column": null,
            "grid_gap": null,
            "grid_row": null,
            "grid_template_areas": null,
            "grid_template_columns": null,
            "grid_template_rows": null,
            "height": null,
            "justify_content": null,
            "justify_items": null,
            "left": null,
            "margin": null,
            "max_height": null,
            "max_width": null,
            "min_height": null,
            "min_width": null,
            "object_fit": null,
            "object_position": null,
            "order": null,
            "overflow": null,
            "overflow_x": null,
            "overflow_y": null,
            "padding": null,
            "right": null,
            "top": null,
            "visibility": null,
            "width": null
          }
        },
        "fa08736ec605457fabb54ae23411e159": {
          "model_module": "@jupyter-widgets/controls",
          "model_module_version": "1.5.0",
          "model_name": "FloatProgressModel",
          "state": {
            "_dom_classes": [],
            "_model_module": "@jupyter-widgets/controls",
            "_model_module_version": "1.5.0",
            "_model_name": "FloatProgressModel",
            "_view_count": null,
            "_view_module": "@jupyter-widgets/controls",
            "_view_module_version": "1.5.0",
            "_view_name": "ProgressView",
            "bar_style": "success",
            "description": "",
            "description_tooltip": null,
            "layout": "IPY_MODEL_361a383002f04d4b9206e924266bf5ed",
            "max": 1000,
            "min": 0,
            "orientation": "horizontal",
            "style": "IPY_MODEL_29a19a90871542e7b5c1d9b026865a03",
            "value": 1000
          }
        },
        "fde2a12c2a4c4f818743790726a93c93": {
          "model_module": "@jupyter-widgets/controls",
          "model_module_version": "1.5.0",
          "model_name": "DescriptionStyleModel",
          "state": {
            "_model_module": "@jupyter-widgets/controls",
            "_model_module_version": "1.5.0",
            "_model_name": "DescriptionStyleModel",
            "_view_count": null,
            "_view_module": "@jupyter-widgets/base",
            "_view_module_version": "1.2.0",
            "_view_name": "StyleView",
            "description_width": ""
          }
        },
        "fdf707f1c30249e0be0b11f75879c7ff": {
          "model_module": "@jupyter-widgets/controls",
          "model_module_version": "1.5.0",
          "model_name": "HTMLModel",
          "state": {
            "_dom_classes": [],
            "_model_module": "@jupyter-widgets/controls",
            "_model_module_version": "1.5.0",
            "_model_name": "HTMLModel",
            "_view_count": null,
            "_view_module": "@jupyter-widgets/controls",
            "_view_module_version": "1.5.0",
            "_view_name": "HTMLView",
            "description": "",
            "description_tooltip": null,
            "layout": "IPY_MODEL_5a30aefede61429186e46aceeae8877e",
            "placeholder": "​",
            "style": "IPY_MODEL_da04ad4cf7dd4164b3d382027e08a6fe",
            "value": " 100/100 [00:06&lt;00:00, 17.98it/s]"
          }
        }
      }
    }
  },
  "nbformat": 4,
  "nbformat_minor": 0
}