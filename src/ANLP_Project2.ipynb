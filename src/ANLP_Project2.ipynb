{
  "cells": [
    {
      "cell_type": "code",
      "execution_count": null,
      "metadata": {
        "colab": {
          "base_uri": "https://localhost:8080/"
        },
        "id": "9OFres0fbxBB",
        "outputId": "d598717c-8bad-482b-c766-8cb5a3e9ecd3"
      },
      "outputs": [
        {
          "name": "stdout",
          "output_type": "stream",
          "text": [
            "2.7.0\n"
          ]
        }
      ],
      "source": [
        "import os\n",
        "import pathlib\n",
        "import re\n",
        "import collections\n",
        "import scipy.spatial.distance as ds\n",
        "import pickle\n",
        "import numpy as np\n",
        "import random\n",
        "import string\n",
        "from string import digits\n",
        "import pandas as pd\n",
        "import unicodedata\n",
        "import torch\n",
        "import torch.nn as nn\n",
        "import torch.optim as optim\n",
        "import torch.nn.functional as f\n",
        "import matplotlib.pyplot as plt\n",
        "import seaborn as sns\n",
        "\n",
        "sns.set_style(\"darkgrid\")\n",
        "\n",
        "import matplotlib.ticker as ticker\n",
        "from nltk.translate.bleu_score import sentence_bleu\n",
        "from __future__ import absolute_import, division, print_function\n",
        "try:\n",
        "  # %tensorflow_version only exists in Colab.\n",
        "  %tensorflow_version 2.x\n",
        "except Exception:\n",
        "  pass\n",
        "import tensorflow as tf\n",
        "print(tf.__version__)\n",
        "import io\n",
        "import time\n",
        "from sklearn.model_selection import train_test_split"
      ]
    },
    {
      "cell_type": "code",
      "execution_count": null,
      "metadata": {
        "colab": {
          "base_uri": "https://localhost:8080/"
        },
        "id": "UGg7VDvDcHRM",
        "outputId": "2301efa2-20f1-4a4d-9d94-7c3887bf3ae0"
      },
      "outputs": [
        {
          "name": "stdout",
          "output_type": "stream",
          "text": [
            "Drive already mounted at /content/drive; to attempt to forcibly remount, call drive.mount(\"/content/drive\", force_remount=True).\n"
          ]
        }
      ],
      "source": [
        "from google.colab import drive\n",
        "drive.mount(\"/content/drive\")"
      ]
    },
    {
      "cell_type": "code",
      "execution_count": null,
      "metadata": {
        "id": "HKj3hIMrcPVh"
      },
      "outputs": [],
      "source": [
        "!tar -xvf  \"/content/drive/My Drive/Adv_NLP_Project/dakshina_dataset_v1.0.tar\" -C \"/content/sample_data/\" \n",
        "# !tar -xvf  \"/content/drive/MyDrive/NLP/Project/Dataset/dakshina_dataset_v1.0.tar\" -C \"/content/sample_data/\""
      ]
    },
    {
      "cell_type": "code",
      "execution_count": null,
      "metadata": {
        "id": "_184dB5cch43"
      },
      "outputs": [],
      "source": [
        "l_train = []\n",
        "l_test = []\n",
        "\n",
        "f1=\"/content/sample_data/dakshina_dataset_v1.0/hi/romanized/hi.romanized.rejoined.dev.native.txt\"\n",
        "curr_file1 = open(f1, \"r\")\n",
        "for line in curr_file1:\n",
        "  temp = []\n",
        "  temp.append(line)\n",
        "  l_train.append(temp)\n",
        "curr_file1.close()\n",
        "\n",
        "f2=\"/content/sample_data/dakshina_dataset_v1.0/hi/romanized/hi.romanized.rejoined.dev.native.txt\"\n",
        "curr_file2 = open(f2, \"r\")\n",
        "i=0\n",
        "for line in curr_file2:\n",
        "  l_train[i].append(line)\n",
        "  i+=1\n",
        "curr_file2.close()\n",
        "\n",
        "f3=\"/content/sample_data/dakshina_dataset_v1.0/hi/romanized/hi.romanized.rejoined.test.native.txt\"\n",
        "curr_file3 = open(f3, \"r\")\n",
        "for line in curr_file3:\n",
        "  temp = []\n",
        "  temp.append(line)\n",
        "  l_test.append(temp)\n",
        "curr_file1.close()\n",
        "\n",
        "f4=\"/content/sample_data/dakshina_dataset_v1.0/hi/romanized/hi.romanized.rejoined.test.native.txt\"\n",
        "curr_file4 = open(f4, \"r\")\n",
        "i=0\n",
        "for line in curr_file4:\n",
        "  l_test[i].append(line)\n",
        "  i+=1\n",
        "curr_file2.close()"
      ]
    },
    {
      "cell_type": "code",
      "execution_count": null,
      "metadata": {
        "colab": {
          "base_uri": "https://localhost:8080/"
        },
        "id": "aXVMQHReiAm8",
        "outputId": "6fcc309b-7c93-4201-852e-4f1e2a6fc581"
      },
      "outputs": [
        {
          "name": "stdout",
          "output_type": "stream",
          "text": [
            "[['इसके आने से पूर्व ही लोग घरों की सफाई का कार्य शुरू कर देते हैं।\\n', 'iske aane se purva hi log gharon ki safai ka karya shuru kar dete hain.\\n'], ['विलुप्ति की कगार पर गुणकारी तीखुर\\n', 'vilupti ki kagaar par gunkaari tikhur\\n'], ['माइकल कामेन (द वॉल के वाद्यमय हिस्सों के लिए एक योगदानकर्ता) ने दोनों के बीच मध्यस्थता की और उस भूमिका को निभाया जिस पर पारंपरिक रूप से रिचर्ड राइट ने कब्जा किया हुआ था जो अब अनुपस्थित थे।\\n', 'Michael kamen (the wall ke vadyamaya hisso ke liye ek yogdanakarta) ne dono ke bich madhyasthata ki aur us bhumika ko nibhaya jis par paramparik rup se richard wright ne kabja kiya hua tha jo ab anupasthit the.\\n'], ['शाहनामा नौरोज़ के त्यौहार को महान जमशेद के शासनकाल से जोड़ता है।\\n', 'shahnama noroj ke tyohaar ko mahaan Jamshed ke shashankaal se jodta hai.\\n'], ['मेहरोत्रा, डॉ॰ एन.\\n', 'Mehrotra, Dr॰ N.\\n'], ['दुर्गा भाभी\\n', 'durga bhabhi\\n'], ['स्वामी बृहस्पति\\n', 'swami brhaspati\\n'], ['बॉलीवुड, हिन्दी चलचित्र उद्योग भी मुंबई में ही स्थित है।\\n', 'bollywood, hindi chalchitra udyog bhi mumbai me hi sthit hai.\\n'], ['क्योंकि ऐसे शब्द भाषा के मूल शब्द होते हैं।\\n', 'kyonki aise sabda bhasa ke mula sabda hote haim.\\n'], ['शार्ंगदेव (1210–1247) भारत के संगीतशास्त्री थे जिन्होने संगीतरत्नाकर नामक महत्वपूर्ण ग्रंथ की रचना की।\\n', 'Sharangdev (1210-1247) Bharat ke Sangeetshastri the jinhone Sangeetratankar Naamak mahatwpurn granth ki rachna ki.\\n']]\n",
            "[['कुंभ राशि में जन्मे लोग संभावनाओं से भरी एक जगह के रूप में दुनिया को देखते हैं।\\n', 'Kumbh rashi men janme log sambhavnaon se bhari ek jagah ke roop men duniya ko dekhte hain.\\n'], ['इसका उलट भी सत्य है।\\n', 'Iska ulat bhi satya hai.\\n'], ['कुछ देवता जो मुख्यत: नगर देवता थे, अपने संप्रदायवालों के चलते गुण और कार्य में विशिष्ट समझे गए और उनकी महत्ता सर्वोपरि समझी गई।\\n', 'kuch devta jo mukhyatah nagar devta the, apne sampradayvalon ke chalte gun aur karya mein vishisht samjhe gaye aur unki mahatta sarvopati samjhi gayi.\\n'], ['तेल के उत्पादन में संसार में रोमानिया का छठा स्थान है।\\n', 'Tel ke utpadan men sansar men Romania ka chhath sthan hai.\\n'], ['बनारसी लाल से मिलकर पुलिस ने सारा भेद प्राप्त कर लिया।\\n', 'Banarasi Lal se milkar police ne sara bhed praapt kar liya.\\n'], ['अन्य प्रकार की घटनाओं के प्रति बीमा के समान ही, बचाव निधि द्वारा अन्य निवेशक को मुद्रा निवेश के लिए भुगतान करना पड़ता है।\\n', 'Anya prakar ki ghatanaon ke prati beema ke samaan hi, bachav nidhi dwara anya niveshak ko mudra nivesh ke liye bhugtan karana padta hai.\\n'], ['पंडित शिवकुमार शर्मा\\n', 'Pandit Shivkumar Sharma\\n'], ['उन्हें एक समूह या एक समुदाय अच्छा लगता है, तो वे लगातार दूसरे लोगों से घिरे रहने का प्रयास करते हैं।\\n', 'Unhe ek samuh ya ek samuday achha lagta hai, to ve lagatar dusre login se ghire rahane ka prayas karte hain.\\n'], ['बीबीसी हिन्दी संवाददाता द्वारा वेंकटरामन रामकृष्णन का साक्षात्कार।\\n', 'beebeesee hindi sanwaddaata dwara Venkatraman Ramkrishnan ka saakshatkar.\\n'], ['हाँ, खोज का सिलसिला न रुके,\\n', 'haan, khoj kaa silsilaa na ruke,\\n']]\n"
          ]
        }
      ],
      "source": [
        "print(l_train[:10])\n",
        "print(l_test[:10])"
      ]
    },
    {
      "cell_type": "code",
      "execution_count": null,
      "metadata": {
        "colab": {
          "base_uri": "https://localhost:8080/",
          "height": 424
        },
        "id": "HZGXH0EKlnl0",
        "outputId": "d6d33392-69f0-4d4d-e1c1-69c11fa53142"
      },
      "outputs": [
        {
          "data": {
            "text/html": [
              "<div>\n",
              "<style scoped>\n",
              "    .dataframe tbody tr th:only-of-type {\n",
              "        vertical-align: middle;\n",
              "    }\n",
              "\n",
              "    .dataframe tbody tr th {\n",
              "        vertical-align: top;\n",
              "    }\n",
              "\n",
              "    .dataframe thead th {\n",
              "        text-align: right;\n",
              "    }\n",
              "</style>\n",
              "<table border=\"1\" class=\"dataframe\">\n",
              "  <thead>\n",
              "    <tr style=\"text-align: right;\">\n",
              "      <th></th>\n",
              "      <th>roman</th>\n",
              "      <th>native</th>\n",
              "    </tr>\n",
              "  </thead>\n",
              "  <tbody>\n",
              "    <tr>\n",
              "      <th>0</th>\n",
              "      <td>इसके आने से पूर्व ही लोग घरों की सफाई का कार्य...</td>\n",
              "      <td>iske aane se purva hi log gharon ki safai ka k...</td>\n",
              "    </tr>\n",
              "    <tr>\n",
              "      <th>1</th>\n",
              "      <td>विलुप्ति की कगार पर गुणकारी तीखुर\\n</td>\n",
              "      <td>vilupti ki kagaar par gunkaari tikhur\\n</td>\n",
              "    </tr>\n",
              "    <tr>\n",
              "      <th>2</th>\n",
              "      <td>माइकल कामेन (द वॉल के वाद्यमय हिस्सों के लिए ए...</td>\n",
              "      <td>Michael kamen (the wall ke vadyamaya hisso ke ...</td>\n",
              "    </tr>\n",
              "    <tr>\n",
              "      <th>3</th>\n",
              "      <td>शाहनामा नौरोज़ के त्यौहार को महान जमशेद के शास...</td>\n",
              "      <td>shahnama noroj ke tyohaar ko mahaan Jamshed ke...</td>\n",
              "    </tr>\n",
              "    <tr>\n",
              "      <th>4</th>\n",
              "      <td>मेहरोत्रा, डॉ॰ एन.\\n</td>\n",
              "      <td>Mehrotra, Dr॰ N.\\n</td>\n",
              "    </tr>\n",
              "    <tr>\n",
              "      <th>...</th>\n",
              "      <td>...</td>\n",
              "      <td>...</td>\n",
              "    </tr>\n",
              "    <tr>\n",
              "      <th>4995</th>\n",
              "      <td>किन्तु लगता है कि यह मलयालम युक्तिभाषा के बाद ...</td>\n",
              "      <td>kintu lagata hai ki yaha malayalama yuktibhasa...</td>\n",
              "    </tr>\n",
              "    <tr>\n",
              "      <th>4996</th>\n",
              "      <td>अक्षांश\\n</td>\n",
              "      <td>akshansh\\n</td>\n",
              "    </tr>\n",
              "    <tr>\n",
              "      <th>4997</th>\n",
              "      <td>वह लापरवाही से एनामारिया, डेवी जोन्स और अन्य स...</td>\n",
              "      <td>vah laparvahi se enamaria, devi jons aur anya ...</td>\n",
              "    </tr>\n",
              "    <tr>\n",
              "      <th>4998</th>\n",
              "      <td>\"मैं सोचती हूँ कि असली वजह यह थी कि निर्देशक ज...</td>\n",
              "      <td>\"main sochti hun ki asli vajah yah thi ki nird...</td>\n",
              "    </tr>\n",
              "    <tr>\n",
              "      <th>4999</th>\n",
              "      <td>पटकाई भारत के पूर्वोत्तर में बर्मा के साथ लगी ...</td>\n",
              "      <td>Ptakai Bharat ke purvottar men Burma ke saath ...</td>\n",
              "    </tr>\n",
              "  </tbody>\n",
              "</table>\n",
              "<p>5000 rows × 2 columns</p>\n",
              "</div>"
            ],
            "text/plain": [
              "                                                  roman                                             native\n",
              "0     इसके आने से पूर्व ही लोग घरों की सफाई का कार्य...  iske aane se purva hi log gharon ki safai ka k...\n",
              "1                   विलुप्ति की कगार पर गुणकारी तीखुर\\n            vilupti ki kagaar par gunkaari tikhur\\n\n",
              "2     माइकल कामेन (द वॉल के वाद्यमय हिस्सों के लिए ए...  Michael kamen (the wall ke vadyamaya hisso ke ...\n",
              "3     शाहनामा नौरोज़ के त्यौहार को महान जमशेद के शास...  shahnama noroj ke tyohaar ko mahaan Jamshed ke...\n",
              "4                                  मेहरोत्रा, डॉ॰ एन.\\n                                 Mehrotra, Dr॰ N.\\n\n",
              "...                                                 ...                                                ...\n",
              "4995  किन्तु लगता है कि यह मलयालम युक्तिभाषा के बाद ...  kintu lagata hai ki yaha malayalama yuktibhasa...\n",
              "4996                                          अक्षांश\\n                                         akshansh\\n\n",
              "4997  वह लापरवाही से एनामारिया, डेवी जोन्स और अन्य स...  vah laparvahi se enamaria, devi jons aur anya ...\n",
              "4998  \"मैं सोचती हूँ कि असली वजह यह थी कि निर्देशक ज...  \"main sochti hun ki asli vajah yah thi ki nird...\n",
              "4999  पटकाई भारत के पूर्वोत्तर में बर्मा के साथ लगी ...  Ptakai Bharat ke purvottar men Burma ke saath ...\n",
              "\n",
              "[5000 rows x 2 columns]"
            ]
          },
          "execution_count": 6,
          "metadata": {},
          "output_type": "execute_result"
        }
      ],
      "source": [
        "df = pd.DataFrame(l_train, columns = ['native', 'roman'])\n",
        "df"
      ]
    },
    {
      "cell_type": "code",
      "execution_count": null,
      "metadata": {
        "colab": {
          "base_uri": "https://localhost:8080/"
        },
        "id": "Fnx-f1THTmV8",
        "outputId": "dace4b93-e75b-43b2-e012-01cd7d9d22af"
      },
      "outputs": [
        {
          "name": "stdout",
          "output_type": "stream",
          "text": [
            "{'<start>': 0, '<end>': 1, 'ऀ': 1, 'ँ': 2, 'ं': 3, 'ः': 4, 'ऄ': 5, 'अ': 6, 'आ': 7, 'इ': 8, 'ई': 9, 'उ': 10, 'ऊ': 11, 'ऋ': 12, 'ऌ': 13, 'ऍ': 14, 'ऎ': 15, 'ए': 16, 'ऐ': 17, 'ऑ': 18, 'ऒ': 19, 'ओ': 20, 'औ': 21, 'क': 22, 'ख': 23, 'ग': 24, 'घ': 25, 'ङ': 26, 'च': 27, 'छ': 28, 'ज': 29, 'झ': 30, 'ञ': 31, 'ट': 32, 'ठ': 33, 'ड': 34, 'ढ': 35, 'ण': 36, 'त': 37, 'थ': 38, 'द': 39, 'ध': 40, 'न': 41, 'ऩ': 42, 'प': 43, 'फ': 44, 'ब': 45, 'भ': 46, 'म': 47, 'य': 48, 'र': 49, 'ऱ': 50, 'ल': 51, 'ळ': 52, 'ऴ': 53, 'व': 54, 'श': 55, 'ष': 56, 'स': 57, 'ह': 58, 'ऺ': 59, 'ऻ': 60, '़': 61, 'ऽ': 62, 'ा': 63, 'ि': 64, 'ी': 65, 'ु': 66, 'ू': 67, 'ृ': 68, 'ॄ': 69, 'ॅ': 70, 'ॆ': 71, 'े': 72, 'ै': 73, 'ॉ': 74, 'ॊ': 75, 'ो': 76, 'ौ': 77, '्': 78, 'ॎ': 79, 'ॏ': 80, 'ॐ': 81, '॑': 82, '॒': 83, '॓': 84, '॔': 85, 'ॕ': 86, 'ॖ': 87, 'ॗ': 88, 'क़': 89, 'ख़': 90, 'ग़': 91, 'ज़': 92, 'ड़': 93, 'ढ़': 94, 'फ़': 95, 'य़': 96, 'ॠ': 97, 'ॡ': 98, 'ॢ': 99, 'ॣ': 100, '।': 101, '॥': 102, '०': 103, '१': 104, '२': 105, '३': 106, '४': 107, '५': 108, '६': 109, '७': 110, '८': 111, '९': 112, '॰': 113, 'ॱ': 114, 'ॲ': 115, 'ॳ': 116, 'ॴ': 117, 'ॵ': 118, 'ॶ': 119, 'ॷ': 120, 'ॸ': 121, 'ॹ': 122, 'ॺ': 123, 'ॻ': 124, 'ॼ': 125, 'ॽ': 126, 'ॾ': 127, 'ॿ': 128}\n"
          ]
        }
      ],
      "source": [
        "letters_native = [chr(letter) for letter in range(2304, 2432)]\n",
        "alphabet_size_native = len(letters_native)\n",
        "\n",
        "letter2ind_native = {'<start>': 0,'<end>' : 1}\n",
        "for index, letter in enumerate(letters_native):\n",
        "    letter2ind_native[letter] = index+1\n",
        "\n",
        "print(letter2ind_native)"
      ]
    },
    {
      "cell_type": "code",
      "execution_count": null,
      "metadata": {
        "id": "6AKNF5-8XznQ"
      },
      "outputs": [],
      "source": [
        "def preprocess_sentence_roman(w):\n",
        "    w = w.lower().strip()\n",
        "    ww = ''\n",
        "    # Remove all punctuations from the text\n",
        "    ww += ''.join(ch for ch in w if ch not in string.punctuation)\n",
        "    # Remove all numbers from text\n",
        "    remove_digits = str.maketrans('', '', digits)\n",
        "    ww = ww.translate(remove_digits)\n",
        "    ww = ww.rstrip().strip()\n",
        "    # Adding start and end tags\n",
        "    ww = '@' + ww + '#'\n",
        "    return ww\n",
        "\n",
        "def preprocess_sentence_native(w):\n",
        "    w = w.lower()\n",
        "    cleaned_line = ''\n",
        "    # Remove all punctuations from the text\n",
        "    cleaned_line += ''.join(ch for ch in w if ch not in string.punctuation)\n",
        "    # Remove all numbers from text\n",
        "    remove_digits = str.maketrans('', '', digits)\n",
        "    cleaned_line = cleaned_line.translate(remove_digits)\n",
        "    cleaned_line = re.sub(\"[२३०८१५७९४६।–]\", \"\", cleaned_line)\n",
        "    cleaned_line = cleaned_line.rstrip().strip()\n",
        "    # Adding start and end tags\n",
        "    cleaned_line = '@' + cleaned_line + '#'\n",
        "    return cleaned_line"
      ]
    },
    {
      "cell_type": "code",
      "execution_count": null,
      "metadata": {
        "id": "Cg8cEv-JVJ0C"
      },
      "outputs": [],
      "source": [
        "def create_dataset(l):\n",
        "  native_words, native_sents = [], []\n",
        "  roman_words, roman_sents = [], []\n",
        "\n",
        "  for i in range(len(df)):\n",
        "    l[i][0] = preprocess_sentence_native(l[i][0]) # clean native words.\n",
        "    wordlist1 = l[i][0].split()\n",
        "\n",
        "    l[i][1] = preprocess_sentence_roman(l[i][1]) # clean roman sentences.\n",
        "    wordlist2 = l[i][1].split() # clean roman words.\n",
        "\n",
        "    if len(wordlist1) != len(wordlist2):\n",
        "      print('Skipping: ',len(wordlist1),len(wordlist2), l[i][0], ' - ', l[i][1])\n",
        "      continue\n",
        "\n",
        "    native_words.extend(wordlist1)\n",
        "    roman_words.extend(wordlist2)\n",
        "\n",
        "    native_sents.append(wordlist1)\n",
        "    roman_sents.append(wordlist2)\n",
        "    \n",
        "  return [roman_words,native_words], [roman_sents, native_sents]"
      ]
    },
    {
      "cell_type": "code",
      "execution_count": null,
      "metadata": {
        "colab": {
          "base_uri": "https://localhost:8080/"
        },
        "id": "ZjE791HMqico",
        "outputId": "be59e90c-a321-4fea-d11d-02af77b1aea0"
      },
      "outputs": [
        {
          "name": "stdout",
          "output_type": "stream",
          "text": [
            "Skipping:  28 27 @तांत्रिक साधक पशु वीर दिव्य भावों के द्वारा महाशक्ति की अर्चना करता हुआ सकल ब्रह्म के शक्तिस्वरूप को अनादि चेतन और आनंदरूप समझकर आत्मविवेक की उपलब्धि करता है#  -  @tantrik sadhak pashu veer divya bhawon ke dwara mahashakti ki archana karata hua sakal bramh ke shaktiswaroop ko chetan aur aanandrup samajkar aatmvivek ki uplabdhi karta hai#\n",
            "Skipping:  22 21 @अतीत में भौतिक कागज का विनिमय होता था और इसमें एक चॅक के समाशोधन में पांच व्यावसायिक दिन तक लग जाते थे#  -  @ateet men bhautik kagaj ka winimay hota tha aur ismeanek chak ke samashodhan men panch vyavasayik din tak lag jaate the#\n",
            "Skipping:  16 15 @डॉ॰ वी पी मिरांशी के अनुसार वाकाटक वंश का सर्वश्रेष्ठ राजा विन्ध्यशक्ति का पुत्र प्रवरसेन था#  -  @dr vp  miranshi ke anusar vakatak vansh ka sarvashrestha raja vindhyasakti ka putra pravarasena tha#\n",
            "Skipping:  16 15 @वही परमात्मा सर्जन की इच्छा से अव्यक्त में प्रविष्ट होकर महत् तत्व की रचना करता है#  -  @vahi parmatma sarjan ki ichcha se avyakt mein pravisht hokar mahattva ki rachna karta hai#\n",
            "Skipping:  19 23 @भारतीय निर्वाचन आयोग के जालस्थलपर सांगली लोक सभा निर्वाचन क्षेत्रमें  से राजनैतिक दलोंके चुनाव परिणामोंका ब्यौरा अंग्रेजी भाषा में#  -  @bhartiya nirvachan aayog ke jaalsthal par sangli lok sabha nirvachan kshetr mein  se rajnaitik dalon ke chunav parinamon ka byaura angrezi bhasha mein#\n",
            "Skipping:  23 22 @गिल्मर ने भी अपनी झुंझलाहट व्यक्त की यह शिकायत करते हुए कि राइट के दिशा निर्देशन का अभाव हमें पागल कर रहा था#  -  @gilmar ne apni jhunjhulahat vyakt ki yah shikayat karte huye ki right ke disha nirdeshan ka abhav hamen pagal kar raha tha#\n",
            "Skipping:  10 11 @लडकिया और लड़को अपना सारा विकास  वर्षों मे होजाता हे#  -  @ladkiya aur ladko apna sara vikaas  varshon me ho jata hai#\n",
            "Skipping:  37 36 @में एक प्रचार विज्ञापन चलाया गया जिसमें अमेरिकन एक्सप्रेस कार्ड से की गई प्रत्येक खरीददारी पर अमेरिकन एक्सप्रेस द्वारा स्टेट्यू ऑफ़ लिबर्टी के नवीनीकरण के लिए एक पेनी का यो योगदान किए जाने की बात कही गई#  -  @men ek prachar vigyapan chalaya gaya jismen american express card se kigai pratyek kharidari par  american express dwara statute of liberty ke navinikaran ke liye ek penny ka yo yogdan kiye jane ki baat kahi gai#\n",
            "Skipping:  19 20 @पूरे भारवर्ष में हिमालय की पर्वतश्रेणी तथा कर्नाटक आंध्र प्रदेश राजस्थान गोवा इन प्रदेशमें पवित्र उपवन पाए जाते है#  -  @pure bharatvarsh men himalay ki parvatshreni tatha karnataka andhra pradesh rajasthan goa in pradesh men pavitra upvan paye jate hai#\n",
            "Skipping:  45 46 @न तो वाटर्स और ना मेसन संगीत पढ़ सकते थे और अपनी खुद की अंकन प्रणाली का आविष्कार करते हुए दोनों ने एल्बम के शीर्षक ट्रैक अ सॉसरफुल ऑफ़ सीक्रेट्स निर्मित किया जिस पर बाद में गिल्मर ने टिप्पणी की  एक वास्तुकला चित्रण के समान#  -  @na to waters na to mason sangit padh sakte the aur apni khud ki ankan pranali ka avishkar karte huye donon ne album ke shirshak track a saucerful of secrets nirtmit kiya jis par baad men gilmer ne tippani ki … ek vaastukala chitran ke samaan#\n",
            "Skipping:  27 26 @मोटे तौर पर भारत मे अहीर चरण गद्दी गौढ़ा गुर्जरघोष या घोसी घासी गोवारी गुज्जर गुर्जर ईडुयान कावुन्दन आदि गोपालकों के रूप मेन वर्गीकृत किए गए है#  -  @mote taur par bharat me ahir charan gaddi gaudha gurjarghosh ya ghosi ghasi govari gujjar iduyan kavundan aadi gopalkon ke roop men vargikrut kiye gaye hai#\n",
            "Skipping:  16 17 @ख सन्‌  में विद्रोही होने के अपराध में पटियाला जेल में साढे तीन वर्ष की कैद#  -  @b san १९२६ mein vidrohi hone ke apradh mein patiala jail mein sadhe teen varsh ki qaid#\n",
            "Skipping:  12 11 @मेसन गिल्मर और राइट मंच पर गए जब अंतिम बार रोजर वाटर्स#  -  @mesan gilmar aur right manch par jab antim baar rojer watars#\n",
            "Skipping:  9 10 @इसका उपयोग विस्फोटक तथा हिमकारी मिश्रण बनाने में कियाजाता#  -  @iska upyog visfotak tatha himkaari mishran banane mein kiya jaata#\n",
            "Skipping:  10 9 @वाणी शर्मा — सारिका शंकर सुराना समर की छोटी बहन#  -  @vani sharma  sarika shankar khurana samar ki chhoti bahan#\n",
            "Skipping:  8 7 @ब्रिटिश कंपनी बीएनएससीसुरे उपग्रह प्रौद्योगिकी लिमिटेड — यूकेडीएमसी#  -  @british company bnscsure upgrah praudyogiki limited  ukdmc#\n",
            "Skipping:  9 8 @याचित शर्मा — कबीर कार्तिक और शिखा का बेटा#  -  @yachit sharma  kabir kartik aur shikha ka beta#\n",
            "Skipping:  39 37 @दूसरी तरफ सबसे बड़े निवेश प्रबंधकों में से कुछ प्रबंधक जैसे ब्लैकरॉक blackrock और वैनगार्ड vanguard प्रबंधन टीमों को प्रभावित करने के लिए इंसेंटिव प्रोत्साहन को कम करके बस हरेक कंपनी पर स्वामित्व स्थापित करने की वकालत करते हैं#  -  @dusri taraf sabse bade nivesh prabandhakon men se kuch prabandhak jaise blackrock aur vanguard prabandhan teamon ko prabhavit karne ke liye incentive protsahan ko kam karke bas harek company par swamitwa sthapit karne ki vakalat karte hain#\n",
            "Skipping:  17 18 @इस्पातनिर्माण के समय निकलीं गैसों का उपयोग उर्जा के स्रोत के रूप में किया जा सकता है#  -  @ispaat nirmaan ke samay nikli gaison ka upyog urja ke srot ke roop mein kiya ja sakta hai#\n",
            "Skipping:  23 22 @द वॉल टूर के दौरान एक फीट  मी॰ ऊंची दीवार कार्डबोर्ड ईंटों से बनी बैंड और दर्शकों के बीच में निर्मित की गई#  -  @the wall tour ke dauran ek  feet  m unchi divarcardboard into se bani band aur darshako ke bich me nirmit ki gai#\n",
            "Skipping:  8 9 @दक्षिण अफ्रीकी महिला क्रिकेट टीम का न्यूज़ीलैंड दौरा#  -  @dakshin afriki mahila kriket teem ka new zealand dauraa#\n",
            "Skipping:  10 11 @वेस्टइंडीज ए ने टॉस जीता और मैदान में चुने गए#  -  @west indies a ne toss jita aur maidaan mein chune gaye#\n",
            "Skipping:  25 26 @ओवरव्हेल्मिंग पोस्टऑटो प्लीहा की शल्यक्रिया का संक्रमण opsi जो विवृत जीवों द्वारा प्रेरित कार्यात्मक प्लीहाभाव के कारण होता है जैसे स्ट्रेप्टोकोकस न्युमोनिया तथा हिमोफिलस इन्फ्लुएंजा#  -  @overweighting post auto plihaa ki shalyakriya ka sankraman opsi jo vivrit jivon dwara prerit kaaryaatmak plihaabhaav ke kaaran hota hai jaise streptococcus pneumoniae tatha haemophilus influenza#\n",
            "Skipping:  56 55 @यह ऐसी जाँच नहीं जो इस बात की पुष्टि करे कि कुत्ता में बीमारी है या नहीं है और न ही यह निश्चित तौर पर इस बीमारी की भविष्यवाणी करता है यहां ‍तक कि अगर कोई कुत्ता जेडीसी jdc वाहक है तो उसके शावक इस बीमारी से पीडि़त नहीं होंगे  इसकी भी गारंटी नहीं देता है#  -  @yah aisi janch nahi jo is baat ki prushti kare ki kutta men bimari hai ya nahin hai aur n hi yah nischit taur par is bimari ki bhavishyavani karta hai yahan tak ki agar koi kutta jdc vahak hai to uske shavak is bimari se pidit nahi honge  iski bhi gaurantee nahi deta hai#\n",
            "Skipping:  82 81 @राज्य के संविधान संयुक्त राज्य के संविधान के तहत दिए जाने वाले अधिकारों से परे और इनसे बढ़कर अधिकार प्रदान कर सकते हैं और साथ ही कराधान के संप्रभु अधिकार और सैन्य सेवा सहित अपने दायित्वों को भी अध्यारोपित कर सकते हैं हर राज्य कम से कम एक सैन्य बल रखता है जो राष्ट्रीय सैन्य स्थानान्तरण सेवा राज्य के नेशनल गार्ड के अधीन होता है जबकि कुछ अन्य राज्य एक दूसरा सैन्य बल रखते हैं जो राष्ट्रीयकरण के अधीन नहीं होता है#  -  @rajya ke sanvidhan sayukt rajya ke sanvidhan ke tahat diye jane wale adhikaron se pare aur inse badhkar adhikar pradhan kar sakte hain aur sath hi karadhan ke samprabhu aur sainya seva sahit apne dayitwon ko bhi adhyaropit kar sakte hain  har rajya kam se kam ek sainya bal rakhata hai jo rashtriy sainya sthananataran seva rajya ke national gard ke adhin hota hai jabki kuchh anya rajya ek dusra saiya bal rakhte hain jo rashtriyakaran ke adhin nahin hota hai#\n",
            "Skipping:  39 38 @लापुटा के उड़ान द्वीप के खिलाफ लिंडालीनो के सतही शहर के विद्रोह को बताने वाला भाग iii का छोटा एपिसोड पांच पैराग्राफ से युक्त ड्रेपियर्स लेटर्स के लिए स्पष्ट रूप से अन्योक्तिपरक था जिस पर स्विफ्ट को गर्व था#  -  @laputa ke udaan dwip ke khilap lidalino ke satahi shahar ke vidroh ko batane wala bhag  ka chhota episod panch pairagraf se yukt drepiyars letars ke liye spasht roop se anyoktiparak tha jis par swift ko garv tha#\n",
            "Skipping:  41 42 @इस उपवन की विशेषता यह है की यह उपवन जिस गाँवके करीब होता ही उस गाँवके लोग उसे संभालते है  शासकीय व्यवस्था का इस प्रक्रियामें सहभाग नहीं होता यह उपवन किसी देवताका निवासस्थान मानाजाता है और उसकी पवित्रता संभाली जाती है#  -  @is upavan ki visheshta yeh hai ki yeh upavan jis ganvke karib hota hi us ganvke log use sambhalte hai  shaskiy vyavastha ka is prakriyame sehbhag nahi hotayeh upavan kisi devta ka nivas sthana manajata hai aur uski pavitrta sambhali jati hai#\n",
            "Skipping:  15 14 @घोड़े की सवारी के दौरान उसके मन में इच्छा जगी काश यह घोड़ा मेरा होता#  -  @ghode sawaari ke dauran uske man men icchha jagi kash yah ghoda mera hota#\n",
            "Skipping:  23 22 @गाँव के अधिकतर लोग खाड़ी देशों में काम करते हैं तथा सरकारी नोकारियों में भी हैं जैसे शिक्षा सेना पुलिस और सिविल सर्विसेस#  -  @gaon ke adhiktar log khadi men kaam karte hain tatha sarkari nokariyon men bhi hain jaise shiksha sena police aur civil services#\n",
            "Skipping:  28 27 @टी वी श्रृंखला द रिटर्न ऑफ़ द एंटिलोप ग्रानाडा टेलिविज़न लिलिपुट के तीन नाविकों के रोमांच पर केन्द्रित है जिनका जहाज इंग्लैण्ड में तूफ़ान में डूब गया था#  -  @tv shrinkhla the return of the antilop granada television liliput ke teen navikon ke romanch par kendrit hai jinka jahaaj england men toofaan men dub gaya tha#\n",
            "Skipping:  28 29 @केफ्रांसीसी क्रांति ने सदियों पूर्व कुछ प्रश्नोँ और जोरदार राजनीतिक और सामाजिक बहस के बाद आम जनता द्वारा स्वीकारी गई मान्यताओं और संस्थानों को जड़ से उखाड़ दिया#  -  @ke fransisi kranti ne sadiyon poor kuchh prashon aur jordar rajnitik aur samajik bahas ke baad aam janta dwoara sweekari gai manytaaon aur sansthanon ko jad se ukhad diya#\n",
            "Skipping:  160 159 @जेरूशलम की घेराबंदी siege of jerusalem जेरूसलम की घेराबंदी एक सैन्य संघर्ष का हिसा थी जो वीजान्टिन साम्राज्य और रशीदुन खिलाफ के बीच  ईस्वी में हुई थी यह जब शुरू हुई जब रशीदुन सेना की कमान अबू उबैदाह के तहत नवंबर  ईस्वी में जेरूशलम के घेर लिया था जिके छः महीने बाद जेरूशलम शासक पैट्रिआर्क सोफ्रोनियस ने इस्लामी सेना को जेरूशलम में प्रवेस करने पर सहमति जताई जिसके बाद खलीफा उमर ने  ईस्वी में शहर को प्रस्तुत करने के लिए जेरूशलम की यात्रा की इसी तरह जेरूशलम शासक पेट्रिआर्क ने खलीफा उमर को आत्मसमर्पण कर दिया जो जेरूशलम की मुस्लिम विजय ने फिलिस्तीन पर अरब मुस्लिम नियंत्रण को मजबूत कर दिया जो  वीं शताब्दी के अंत में तक रहा  वीं शताब्दी में ईसाई धर्म योद्धाऔ ने ने आक्रमण कर मुस्लिमों से जीत लिया लेकिन कुछ समय के बाद उन्हें जेरूशलम से कुर्द शासक सलाउद्दीन के रूप में हार का समना करना पड़ा जो पुनः जेरूशलम मुस्लिमों के अधीन हो गया#  -  @jerusalama ki gherabandi siege of jerusalem jerusalama ki gherabandi eka sainya sangharsa ka hisa thi jo vijantina samrajya aura rasiduna khilapha ke bica  isvi mem hui thi yaha jaba suru hui jaba rasiduna sena ki kamana abu ubaidaha ke tahata navambara  isvi mem jerusalama ke ghera liya tha jike chah mahine bada jerusalama sasaka paitriarka sophroniyasa ne islami sena ko jerusalama mem pravesa karane para sahamati jatai jisake bada khalipha umara ne  isvi mem sahara ko prastuta karane ke lie jerusalama ki yatra ki isi taraha jerusalama sasaka petriarka ne khalipha umara ko atmasamarpana kara diya jo jerusalama ki muslima vijaya ne philistina para araba muslima niyantrana ko majabuta kara diya jo  vim satabdi ke anta mem taka raha  vim satabdi mem isai dharma yoddhaon ne akramana kara muslimom se jita liya lekina kucha samaya ke bada unhem jerusalama se kurda sasaka salauddina ke rupa mem hara ka samana karana para jo punah jerusalama muslimom ke adhina ho gaya#\n",
            "Skipping:  32 33 @इसके अतिरिक्त पूरे विश्व में जहाँजहाँ मनुष्य गया इसने उनका अनुकरण किया और अमरीका के अधिकतर स्थानों अफ्रीका के कुछ स्थानों न्यूज़ीलैंड और आस्ट्रेलिया तथा अन्य नगरीय बस्तियों में अपना घर बनाया#  -  @iske atirikt pure vishwa men jahanjahan manushya gaya isne unka anusaran kiya aur america ke adhikar sthanon africa ke kuch sthanon new zealand aur australia tatha anya nagariy bastiyon men apna ghar banaya#\n",
            "Skipping:  26 25 @यह अमरीका के आमेज़न नदी के जंगलों में उगता था और अब भारत के त्रावणकोर कोचीन मैसूर मलाबार कुर्ग सलेम और श्रीलंका में उगाया जाता है#  -  @yah america ke aamezon nadi ke janglon men ugta tha aur ab bharat ke travankor kochin malabar kurg salem aur shrilanka men ugaya jata hai#\n",
            "Skipping:  22 21 @कांचनाबुरी दो संस्कृत शब्दों का थाई भाषा रूप है कंचन और पुरी अर्थात कांचनाबुरी का अर्थ कंचनपुरी या सोने की नगरी है#  -  @kanchanaburi do sanskrut shabdon ka thai bhasha roop hai kanchan aur puri  arthat kanchanaburika arth kanchanpuri ya sone ki nagri hai#\n",
            "Skipping:  22 21 @लेकिन छात्रों का एक समूह तूफान की तरह इमारत में चढ़ने लगा था इस कारण पुलिस ने आग के गोले फैंकने लगे#  -  @lekin chhatron ka ek samuh toofan ki imarat men chadhane laga tha is karan police ne aag ke gole faikane lage#\n",
            "Skipping:  12 11 @इसमें भिन्न प्रकार की सीलें जलव्याघ्र सी लायन वाल्रस इत्यादि शामिल हैं#  -  @ismen bhinn prakar kee silen jalvyaghr see layan varlasityadi shamil hain#\n",
            "Skipping:  11 10 @सेवापेट रोड तमिल नाडु की राजधानी चेन्नई का एक क्षेत्र है#  -  @sevapet rod tamil naadu rajdhani chennai ka ek kshetr hai#\n",
            "Skipping:  26 25 @अनन्त राव सार देसाई जो कि मराठी और पुर्तगाली भाषाओ के रेडियों के नाटककार और लघुकथा लेखक जो मार्दोल में रहे और औषधिशास्त्र का अभ्यास किया#  -  @anant rao sardesai jo ki marathi aur purtgali bhasao ke radio ke natkaar aur laghukatha lekhak jo maardol mein rehe aur ausadhishastra ka abhyaas kiya#\n",
            "Skipping:  86 87 @हालांकि जैसा कि ऊपर उल्लेख किया गया है ब्रह्म सूत्र की शंकरकी व्याख्या की तरह माधव इस पर सहमत हैं कि उनके द्वारा किये गये अच्छे और बुरे कर्मों के अनुरूप जीवों को पुरस्कार और दंड भगवान द्वारा प्रदान किया जाता है और वह अपनी इच्छा से न्याय पर खुद को दृढ रखते हुए ऐसा करता है और मनुष्य के कर्मों द्वारा उसके कार्यों को नियंत्रित नहीं किया जा सकता और न ही उस पर पक्षपात या किसीके साथ क्रूरता का आरोप लगाया जा सकता है#  -  @halanki jaisa ki upar ullekh kiya gaya hai brahma sutra ki shankar ki vyakhya ki tarah madhav is par sehmat hai ki unke dvara kiye gaye acche aur bure karmo ke anurup jivo ko puraskar aur dand bhagvan dvara pradan kiya jata hai aur vah apni iccha se nyay par khud ko dridh rakhte hue aisa karta hai aur manushya ke karmo dvara uske karyo ko niyantrit nahi kiya ja sakta aur na hi us par pakshapaat ya kisike sath krurta ka aarop lagaya ja sakta hai#\n",
            "Skipping:  70 68 @संपत्ति अंतरण अधिनियम  की धारा a में बंधक mortgage को परिभाषित किया गया है i जिसके अनुसार बंधक का तात्पर्य किसी ऋण के रूप में अग्रिम तौर पर ली गई या ली जाने वाली राशी अथवा कोई विधमान या भविष्य ऋण अथवा किसी कार्य व्यवहार से उत्पन्न आर्थिक देनदारियों के दायित्व के भुगतान की सुरक्षा के उद्देश्य के लिए किसी विनिर्दिष्ट अचल संपत्ति में हित के अंतरण से हैं i#  -  @sampatti antran adhiniyam  ki dhara a mein bandhak mortgage ko paribhashit kiya gaya hai  jisake anusar bandhak ka tatparya kisi rin ke roop mein agrim taur par li gai ya ii jane vali rashee athava koi vidhman ya bhavishya rin athava kisi karya vyavhar se utpann arthik dendariyon ke dayitv ke bhugtan ki suraksha ke uddhesya ke liye kisi vinirdisht achal sampatti mein hit ke antran se hain#\n",
            "Skipping:  9 8 @नाइजीरियाआई राष्ट्रीय अन्तरिक्ष अनुसंधान एवं विकास एजेन्सी — नायजीरियासैट#  -  @nigeriai rashtriya antriksh anusandhan evam vikas ejensi  nigeriasat#\n",
            "Skipping:  37 38 @एजरिन वाटर्स के एकल एल्बम पर काम करने में असमर्थ थे और इसके बजाए उन्होंने गिल्मर के साथ काम करने का फैसला किया  डेव और मेरे लिए फ़्लॉइड रिकॉर्ड का हमारा संस्करण बनाना अपेक्षाकृत काफी आसान है#  -  @yejrin waters ke yekal album par kaam karne men asmarth the aur iske bajaye unhone gilmar ke sath kaam karne ka faisla kiya … dev aur mere liye flaid record ka hamara sanskaran banana apekshakrut kafi aasan hai#\n",
            "Skipping:  26 25 @महीने के भीतर एंटोनेस्क्यु antonescu ने आयरन गार्ड को कुचल डाला और अगले वर्ष में रोमानिया अक्षीय शक्तियों की तरफ से युद्ध में शामिल हो गया#  -  @mahine ke bhitar antonescu ne iron guard ko kuchal dala aur agle varsh men romania alshiiy shaktiyon ki taraf se yuddh men shamil ho gaya#\n",
            "Skipping:  30 31 @परीक्षा के पत्रों की संख्या तो  ही रही किंतु दूसरा पत्र ऐच्छिक जिसमें विभिन्न विषयों के छात्र अपनी रुची के अनुसार अलगअलग विषयों का चुनाव करते थे समाप्त करदिया गया#  -  @parikshaa ke patron ki sankhayaa to  hi rahi kintu dusaraa ptra aichchhik jismein vibhinn vishayon ke chhaatr apni ruchi ke anusaar alagalaga visyon ka chunaav karte the samaapt kar diya gaya#\n",
            "Skipping:  12 13 @ओलीटिक्स शब्दावली यिनके राजनैतिक दृढता एवम् राष्ट्रिय प्रतिज्ञाके खातिर चयन किया था#  -  @aulitiks shabdavali jinke rajnaitik dridhta evam rashtriya pratigya ke khatir chayan kiya tha#\n",
            "Skipping:  13 14 @भारत ने ऑस्ट्रेलिया और न्यूजीलैंड से जुड़े त्रिकोणीय वनडे टूर्नामेंट में हिस्सा लिया#  -  @bharat ne australia aur new zealand se jude trikoniy oneday tournament men hissa liya#\n",
            "Skipping:  13 12 @इसमें बीबीक्यू bbq सॉस जोड़कर जर्मनी में स्थायी रूप से बेचा जाता है#  -  @ismen bbq sauce jodkar germany mein sthayi rup se beja chata hai#\n",
            "Skipping:  7 6 @जो बिहारी एक तरफ लिखते हैं —#  -  @jo bihari ek taraf likhate hain#\n",
            "Skipping:  9 8 @डॉली चावला — ज्योति शंकर सुराना विजय की पत्नी#  -  @dolly chawla  jyoti shankar surana vijay ki patni#\n",
            "Skipping:  14 12 @कैरी ने  में युक् युक् टोरंटो ओंटारियो से कॉमेडी की शुरू आत की थी#  -  @carrey ne  mein uk toronto  ontario se comedy ki shuruaat ki thi#\n",
            "Skipping:  12 11 @रेवा rewa प्रशांत महासागर में स्थित फ़िजी देश का एक प्रान्त है#  -  @rewa rashant mahasagar men sthit fiji desh ka ek prant hai#\n",
            "Skipping:  15 16 @बोगरा का युद्ध भारत पाक युद्ध  का भाग था जो वर्तमान बांग्लादेश में हुआ था#  -  @bogra ka yudh bharat paak yudh १९७१ ka bhag tha jo vartaman bangladesh mein hua tha#\n",
            "Skipping:  16 17 @शिल्प और भाषा की दृष्टि से भी प्रेमचंद ने हिन्दी उपन्यास को विशिष्ट स्तर प्रदान किया#  -  @shilp aur bhasha ki drushti se bhi premchand ne hindi upnyaas ko vishisht star pradan kiya …#\n",
            "Skipping:  28 27 @एक अन्य परंपरा कालिदास के अभिज्ञान शाकुंतल से इस प्रकार मिलती है कि दुष्यंत के वंशज कुरु थे जिनके दूसरे पुत्र की शाखा में राजा उपरिचरवसु हुए थे#  -  @ek any parampara kalidaas ke  abhbihgyan shakuntal se is prakar milti hai dushyant ke vanshaj kuru the jinke dusre putr ki shakha men raja upricharwasu huye the#\n",
            "Skipping:  21 22 @कानपुर में हिन्दूमुस्लिम दंगा भड़क उठा जिसे शान्त करवाने की कोशिश में क्रान्तिकारियों के शुभचिन्तक गणेशशंकर विद्यार्थी भी शहीद हो गये#  -  @kanpur mein hindumuslim danga bhadak utha jise shaant karvaane ki koshish mein krantikariyon ke shubhchintak ganesh shankar vidyarthi bhi shaheed ho gaye#\n",
            "Skipping:  5 6 @इसके लेखकलाला श्रीनिवास दास हैं#  -  @iske lekhak lala shrinivaas das hain#\n",
            "Skipping:  23 22 @कई कुत्तों के बालों के मिश्रित पैटर्न होते हैं पूरे शरीर पर घुंघराले बाल लेकिन पूंछ और कान पर लहराते बाल होते हैं#  -  @kai kutton ke balon ke mishrit patern hote hain pure sharir par ghungrale baal lekin punchh aur kaan lahraate baal hote hain#\n",
            "Skipping:  19 20 @जब पैर में काँटा चुभता है तब आखोँ से पानी आता है और हाथ काँटा निकालनेके लिए जाता है#  -  @jab pair mein kaantaa chubhataa hai tab aakhon se pani aataa hai aur haath kaantaa nikalane ke liye jata hai#\n",
            "Skipping:  29 28 @यही नहीं इन प्रतिरूपों द्वारा क्रियावान पुरु ष के उन गणितीय संकल्पनाओं का बोध कराया जा सकता है जो गणित की अपूर्व प्रतिभावाले व्यक्ति के लिए स्वत बोधगम्य हों#  -  @yahi nahi in pratiroopon dvara kiryavaan purush ke un ganitiya sankapnaon ka bodh karaya jaa sakta hai jo ganit ki apurva pratibhavale vyakti ke liye swatah bodhgamya hon#\n",
            "Skipping:  25 24 @लेफ्टिनेंट उमर फ़ैयाज़ परे का  मई  की रात को जम्मू और कश्मीर के शोपियां जिले में उनके रिश्तेदार के घर से अपहरण कर लिया गया#  -  @lieunent omar faiyaz pare ka  may  kii raat jammu aur kashmir ke shopiyan jile men unke rishtedar ke ghar se apharan kar liya gaya#\n",
            "Skipping:  22 21 @स्नायु व्यायाम या न्युरोबिक्स neurobics मानसिक व्यायामों को कहते हैं जिनके करने से मस्तिष्क की क्षमता बढ़ने का दावा किया जाता है#  -  @snayu vyayam ya neurobics manasik vyayamon ko kahate hain jinke karne se mastishaka ki kshamata badhane ka dava kiya jata hai#\n",
            "Skipping:  19 20 @गंगोत्री ग्लेशियर संस्कृत नेपाली और हिन्दी गंगोत्री उत्तरकाशी जिला उत्तराखण्ड भारत में स्थित हैजिसकी सीमा तिब्बत से लगती है#  -  @gangotri glacier sanskrut nepali aur hindi gangitri uttarkashi zilla uttarakhand bharat men sthit hai jiski sima tiber se lagti hai#\n",
            "Skipping:  8 7 @लिली पटेल — सावित्री देवी जया की नानी#  -  @lili patel  savitri devi jaya ki nani#\n",
            "Skipping:  10 11 @वीडियो यू ट्यूब पर देखेंथानेश्वर महादेव मन्दिर कुरुक्षेत्र की यात्रा#  -  @vidiyo you tube pr dekhe thaneshwar mahadev mandir kurukshetra ki yatra#\n",
            "Skipping:  10 9 @तरुणा निरंकारी — रिचा शर्मा जया की दूसरी बड़ी बहन#  -  @taruna nirankari  richa sharma jaya ki dusri badi bahan#\n",
            "Skipping:  41 42 @ई सं  के लगभग बहुत से वैज्ञानिकों को विश्वास था कि विमिय एमसिद्धांत जिसे पाँच पर्टर्बेटिव विचलन परमस्ट्रिंग सिद्धांतों में से एक द्वारा कुछ सीमाओं के द्वारा व्याख्या की जाती है और अन्य अधिकतम परमसममितिय  विमिय परमगुरुत्व द्वारा सर्वतत्व सिद्धांत है#  -  @es  ke lagbhag bahut se vigyanikon ko vishwas that ki vimiya m siddhant jise panch perturbitive vichalan permstring siddhanton men se ek dwara kuch simaon ke dwara vyakhya ki jati hai aur anya adhiktam paramsammitay vimiya paran gurutwa dwara sarvatatva siddhant hai#\n",
            "Skipping:  11 10 @तीन वर्ष से ही बच्चों की भाषा का विकास होता है#  -  @teen varsh se bacchhon ki bhasha ka vikaas hota hai#\n",
            "Skipping:  10 11 @प्रधानमंत्री टॉम थाबाने सरकार के मुखिया है और कार्यकारी अधिकारहै#  -  @pradhanmantri tom thabane sarkar ke mukhiya hai aur karyakari adhikar hai#\n",
            "Skipping:  21 20 @संयोग से फारसी शब्द वार आक्रमण और अंग्रेजी शब्द war वार में उच्चारण और रूपसाम्य ही नहीं युद्धविषयक भावसाम्य भी है#  -  @sanyog se farsi shabd var akraman aur angreji shabd war men uchharan aur rupsamya hi nahi yuddhavishayak bhavsamya bhi hai#\n",
            "Skipping:  22 23 @में न्यूज़ीलैंड में अपनी अंतिम पारी में मैच जीतने वाले शानदार  रन बनाने के बाद उन्होंने अंतरराष्ट्रीय क्रिकेट से संन्यास ले लिया#  -  @men new zealand men apni antim pari men match jitne wale shandar  ran banane ke baad unhone antarrashtriy cricket se sannyas le liya#\n",
            "Skipping:  36 34 @शेयरसन लोएब रोड्स स्वयं ही  के दशक में कई विलयों का जनक था जिनमें  का वेइल्स हेडन स्टोन एंड कंपनी का शेयरसन हेडन स्टोन से शेयरसन हैम्मिल एंड कंपनी के साथ किया गया विलय शामिल है#  -  @sheyson loab rhods swaym hi  ke dashak men kaii vilayon ka janak tha jinmen  ka wedls heden stone  company ka sheyarson heden stone se sheyarson hammil  company ke sath kya gya vilay shamil hai#\n",
            "Skipping:  8 9 @वेस्टइंडीज टॉस जीता और मैदान पर चुने गए#  -  @west indies toss jeeta aur maindan par chune gaya#\n",
            "Skipping:  32 30 @गोया विशेषज्ञ पियरे गेसिअर  के अनुसार गोया की व्यक्तिगत एल्बम चित्रकला के केटलॉग रेसोने में गोया प्रत्यक्ष रूप से गुलिवर ट्रेवल्स के अध्याय i के भाग i से प्रेरित दिखाई देते हैं#  -  @goya vishash piyre gesiar  ke anusaar goya ki vyaktigat album chitrkala ke ketlog resone men goya pratyaksh roop se guliwar travals kee adhyay  ke bhag  se prerit dikhai dete hain#\n",
            "Skipping:  17 18 @में राबिनको शिमॉन पेरेझ और यासिर अराफ़ात के साथ नोबेल शांति पुरस्कार से सम्मानित किया गया था#  -  @mein robin ko shimon peres aur yasser arafat ke saath nobel shaanti puraskaar se sammanit kiya gaya tha#\n",
            "Skipping:  20 19 @गांगुली क्षितींद्र नाथ मजूमदार यामिनी राय तथा गगनेंद्र नाथ टैगोर के चित्रों का संग्रह इस संग्रहालय की अमूल्य निधि है#  -  @gangulishitindra nath majumdar yamini rai tatha gagnendra nath tagore ke chitron ka sangrah is sangralay ki amulya nidhi hai#\n",
            "Skipping:  11 10 @इसके तीन देष्काणों में उनके स्वामी ’शुक्रशुक्र” शुक्रबुध’ और शुक्रशनि हैं#  -  @iske teen deshkanon men unke swami shukrshukr  shukrbudhaur shukrshani hain#\n",
            "Skipping:  7 6 @सृष्टि जैन — जया समर की पत्नी#  -  @srushti jain  jaya samar ki patni#\n",
            "Skipping:  23 22 @बड़े उत्तरी मांसाहारी जानवरों जैसे वॉलरस आदि की एक चमकाई हुई और नक़्क़ाशीदार स्तंभास्थि को अलास्काई संस्कृति मे उसिक oosik कहा जाता है#  -  @bade uttari mansahari janvaron jaise walrus aadi ki ek chamkai hui aur makkashidar stambhsthi ko alaskai sanskruti men oosik kaha jata hai#\n",
            "Skipping:  27 28 @न्यूज़ीलैंड बैंकर्स एसोसिएशन उद्योग मानकों और कुछ मामलों में नीतियां स्थापित करता है लेकिन भुगतान सेवा संस्थाओं की अपनी शासन व्यवस्था व्यापार रणनीतियां और नियमें होती हैं#  -  @new zealand bankers association udyog manakon aur kuch mamlon men nitiyan sthapit karta hai lekin bhugtan seva sanasthaon ki apne shasan vyavastha vyapar rannitiyan aur niyamen hoti hain#\n",
            "Skipping:  27 26 @जोहड़बांध नदी के पुनर्जीवन कार्य में प्रयास करने वाली संस्थाएं तरुण भारत संघ राजीव गांधी फाउण्डेशन जल बिरादरी के साथ सपोटरा डांग की  ग्राम सभाओं के ग्रामवासी#  -  @johadbandh  nadi ke punrjivan kary men prayaas wali sansthayen tarun bharat sangh rajiv gandhi foundation jal biradari ke saath sapotara dang ki  gram sabhaon ke gramwasi#\n",
            "Skipping:  8 7 @सेना में पैदल अश्वारोही और हाथी होते थे#  -  @sena men paidal ashwaarohi aur hathi the#\n",
            "Skipping:  29 28 @यह विशेषकर विंडोज़  के लिये बनाया गया है हालाँकि यह विंडोज़ ऍक्सपी पर भी चलता है परन्तु ऍक्सपी के लिये यह इण्डिक ऍक्सपी प्लस में पहले से शामिल है#  -  @yah visheshkar windows  liye banaya gaya hai halanki yah windows xp par bhi chalta hai parantu xp ke liye yah indic xp plus men pahle se shamil hai#\n",
            "Skipping:  21 20 @दारु या जाइलम xylem पौधों में पाये जाने वाले दो संवहन ऊतको में से एक है दूसरा संवहन ऊतक फ्लोएम है#  -  @daru ya xylem paudhom men paye jane wale do sanvahan utakon men se ek hai dusra sanvahan utak floem hain#\n",
            "Skipping:  22 21 @रूपेश ने रुतु के साथ से शादी की है उनके पिता और चाचा रूपेश की तरह वह एक चित्रकार और कार्टूनिस्ट है#  -  @rupesh ne ritu ke sath shadi ki hai unake pita aur chacha rupesh ki tarah vah ek chitrakar aur kartunist hai#\n",
            "Skipping:  3 4 @भारतीय शिक्षाका इतिहास#  -  @bhartiya shiksha ka itihas#\n",
            "Skipping:  9 8 @माही शर्मा — शिखा शर्मा जया की बड़ी बहन#  -  @mahi sharma  sikha sharma jaya ki badi behan#\n",
            "Skipping:  42 43 @पवित्र उपवन  यह एक पर्यावरणीय संकल्पना है  इसे अंग्रेजी भाषा में sacred grove सेक्रेड ग्रोव थी मराठी भाषा में देवराई नामसे जाना जाता है  भारतमें तथा विदेश में भी इस उपवन की संकल्पना है  विदेशमें इसे चर्च फॉरेस्ट नामसे जाना जाता है#  -  @pavitra upvan  yah ek paryavaraniya sankalpna hai  ise angreji bhasha me sacred grove sacred grove thi marathi bhasha me devrai namse jana jata hai  bharat me tatha videsh me bhi is upvan ki sankalpna hai videsh mem isechurch forestnam se jana jata hai#\n",
            "Skipping:  19 20 @जानकी मन्दिर नेपाली  जानकी मन्दिर नेपाल के जनकपुर के केन्द्र में स्थित एक हिन्दू मन्दिर एवं ऐतिहासिक स्थल है#  -  @janki mandir nepali janki mandir mepal ke janak pur ke kendra men sthit ek hindu mandir evam aitihasik sthal hai#\n",
            "Skipping:  20 21 @जून  को भोपाल में आयोजित समारोह में मध्यप्रदेश के तत्कालीन मुख्यमंत्री कैलाश जोशी ने श्रीराय को ये सम्मान प्रदान किया#  -  @june  ko bhopal men ayojit samaroh men madhya pradesh ke tatkalin mukhyamantri kailas joshi ne shrirai ko ye samman pradan kiya#\n",
            "Skipping:  9 8 @हेमंत चौधरी — गौरी शंकर सुराना समर के पिता#  -  @hemant chaudhari  gauri shankar surana samar ke pita#\n",
            "Skipping:  10 9 @प्रिओम गुज्जर — विजय शंकर सुराना समर का चचेरा भाई#  -  @priyom gujjar  vijay shankar surana samar ka chacera bhai#\n",
            "Skipping:  59 58 @कुड़मी सम्पूर्ण झारखंड  जिला छोड़कर बंगाल के पुरूलिया बांकुड़ा व मिदनापुर उड़ीसा के क्योंझर मयूरभंज व सुंदरगढ वृहत् झारखंड क्षेत्र तथा असम एवं छत्तीसगढ़ के कुछ क्षेत्रों में निवासरत टोटेमिक गुस्टिधारी कुर्मी मूलत द्रविड़ प्रजाति के आदिवासि समुदाय के लोग हैं जिनकी अपनी स्वायत्त व समृद्धशाली भाषा कुड़मालि है एवं विशिष्ट आदि सभ्यतासंस्कृति परंपरा व रीतिरिवाजों के धारकवाहक हैं#  -  @kudmi sampurn zarkhand  jila chodkar bangal ke puruliya bankuda v midnapur ke kyojar mayurbhanj v sundargadh vakrut zarkhand shetra tatha asam yeon chhattisgadh ke kuch shetron men nivasarat  totemik gushtidhari kurmi mulat dravid prajati ke adiwasi samuday ke log hai jinki apni swayatt v samruddhshali bhasha kudmali hai yeon vishisht aadi sabhyatasanskruti parampara v ritiriwajo ke dharakvahak hain#\n"
          ]
        }
      ],
      "source": [
        "train_data, train_sents = create_dataset(l_train)\n",
        "test_data, test_sents = create_dataset(l_test)"
      ]
    },
    {
      "cell_type": "code",
      "execution_count": null,
      "metadata": {
        "colab": {
          "base_uri": "https://localhost:8080/"
        },
        "id": "RDp--DDk22_h",
        "outputId": "8f292c05-298b-4ce9-efab-f77bcf40ed30"
      },
      "outputs": [
        {
          "data": {
            "text/plain": [
              "(['@iske', 'aane', 'se', 'purva', 'hi', 'log', 'gharon', 'ki', 'safai', 'ka'],\n",
              " ['@इसके', 'आने', 'से', 'पूर्व', 'ही', 'लोग', 'घरों', 'की', 'सफाई', 'का'])"
            ]
          },
          "execution_count": 11,
          "metadata": {},
          "output_type": "execute_result"
        }
      ],
      "source": [
        "train_data[0][:10],train_data[1][:10]"
      ]
    },
    {
      "cell_type": "code",
      "execution_count": null,
      "metadata": {
        "colab": {
          "base_uri": "https://localhost:8080/"
        },
        "id": "DDX5wiBy28vJ",
        "outputId": "5cc13e90-8def-401b-a75b-de32e3496f0d"
      },
      "outputs": [
        {
          "data": {
            "text/plain": [
              "(['@kumbh',\n",
              "  'rashi',\n",
              "  'men',\n",
              "  'janme',\n",
              "  'log',\n",
              "  'sambhavnaon',\n",
              "  'se',\n",
              "  'bhari',\n",
              "  'ek',\n",
              "  'jagah'],\n",
              " ['@कुंभ',\n",
              "  'राशि',\n",
              "  'में',\n",
              "  'जन्मे',\n",
              "  'लोग',\n",
              "  'संभावनाओं',\n",
              "  'से',\n",
              "  'भरी',\n",
              "  'एक',\n",
              "  'जगह'])"
            ]
          },
          "execution_count": 12,
          "metadata": {},
          "output_type": "execute_result"
        }
      ],
      "source": [
        "test_data[0][:10],test_data[1][:10]"
      ]
    },
    {
      "cell_type": "code",
      "execution_count": null,
      "metadata": {
        "colab": {
          "base_uri": "https://localhost:8080/"
        },
        "id": "Soj7fLrc4K1N",
        "outputId": "6a2b3bd5-608c-4d46-812f-09515e39a46e"
      },
      "outputs": [
        {
          "data": {
            "text/plain": [
              "(85161, 85161, 86526, 86526)"
            ]
          },
          "execution_count": 13,
          "metadata": {},
          "output_type": "execute_result"
        }
      ],
      "source": [
        "len(test_data[0]),len(test_data[1]),len(train_data[0]),len(train_data[1])"
      ]
    },
    {
      "cell_type": "markdown",
      "metadata": {
        "id": "w1qKXvZt4Whe"
      },
      "source": [
        "Combine the test and train data. So that we can split train and test set according to our needs."
      ]
    },
    {
      "cell_type": "code",
      "execution_count": null,
      "metadata": {
        "colab": {
          "base_uri": "https://localhost:8080/"
        },
        "id": "jO50_sOR4R-5",
        "outputId": "1796d81b-c3f1-4afb-e2ec-c86356fc1930"
      },
      "outputs": [
        {
          "name": "stdout",
          "output_type": "stream",
          "text": [
            "171687 171687\n"
          ]
        }
      ],
      "source": [
        "train_data[0].extend(test_data[0])\n",
        "train_data[1].extend(test_data[1])\n",
        "\n",
        "print(len(train_data[0]),len(train_data[1]))"
      ]
    },
    {
      "cell_type": "code",
      "execution_count": null,
      "metadata": {
        "colab": {
          "base_uri": "https://localhost:8080/"
        },
        "id": "zFOQQuTH4Yv7",
        "outputId": "119a35e6-d91e-4bb2-8301-896f4c659f1a"
      },
      "outputs": [
        {
          "data": {
            "text/plain": [
              "('malhotra#', 'मल्होत्रा#')"
            ]
          },
          "execution_count": 15,
          "metadata": {},
          "output_type": "execute_result"
        }
      ],
      "source": [
        "train_data[0][-1],train_data[1][-1]"
      ]
    },
    {
      "cell_type": "code",
      "execution_count": null,
      "metadata": {
        "colab": {
          "base_uri": "https://localhost:8080/"
        },
        "id": "xmzafDk24aYE",
        "outputId": "245e5ae5-1145-437f-f1e8-ac306525328a"
      },
      "outputs": [
        {
          "data": {
            "text/plain": [
              "(171687, 171687)"
            ]
          },
          "execution_count": 16,
          "metadata": {},
          "output_type": "execute_result"
        }
      ],
      "source": [
        "len(train_data[0]),len(train_data[1])"
      ]
    },
    {
      "cell_type": "code",
      "execution_count": null,
      "metadata": {
        "id": "dMX2bnuN4cMZ"
      },
      "outputs": [],
      "source": [
        "# storing word2index and index2word mappings for both language.\n",
        "class WordIndex():\n",
        "  def __init__(self, lang):\n",
        "    self.lang = lang\n",
        "    self.word2idx = {}\n",
        "    self.idx2word = {}\n",
        "    self.vocab = set()\n",
        "    \n",
        "    self.create_index()\n",
        "    \n",
        "  def create_index(self):\n",
        "    for phrase in self.lang:\n",
        "      for l in phrase:\n",
        "        self.vocab.update(l)\n",
        "    \n",
        "    self.vocab = sorted(self.vocab)\n",
        "    \n",
        "    self.word2idx['<pad>'] = 0\n",
        "    for index, word in enumerate(self.vocab):\n",
        "      self.word2idx[word] = index + 1\n",
        "    \n",
        "    for word, index in self.word2idx.items():\n",
        "      self.idx2word[index] = word"
      ]
    },
    {
      "cell_type": "markdown",
      "metadata": {
        "id": "93ermi8R4rCH"
      },
      "source": [
        "Helper functions to create Lang vocab and tensors from words."
      ]
    },
    {
      "cell_type": "code",
      "execution_count": null,
      "metadata": {
        "id": "tPDET0wv4tVp"
      },
      "outputs": [],
      "source": [
        "def max_length(tensor):\n",
        "    return max(len(t) for t in tensor)\n",
        "\n",
        "def load_dataset(pairs):\n",
        "\n",
        "    # index language using the class defined above    \n",
        "    inp_lang = WordIndex(pairs[0])\n",
        "    targ_lang = WordIndex(pairs[1])\n",
        "    \n",
        "    # Vectorize the input and target languages\n",
        "    \n",
        "    # words in roman (eng)\n",
        "    input_tensor = [[inp_lang.word2idx[s] for s in en] for en in pairs[0]]\n",
        "    \n",
        "    # words in native (hin)\n",
        "    target_tensor = [[targ_lang.word2idx[s] for s in hn] for hn in pairs[1]]\n",
        "    \n",
        "    # Calculate max_length of input and output tensor\n",
        "    # Here, we'll set those to the longest sentence in the dataset\n",
        "    max_length_inp, max_length_tar = max_length(input_tensor), max_length(target_tensor)\n",
        "    \n",
        "    # Padding the input and output tensor to the maximum length\n",
        "    input_tensor = tf.keras.preprocessing.sequence.pad_sequences(input_tensor, \n",
        "                                                                 maxlen=max_length_inp,\n",
        "                                                                 padding='post')\n",
        "    \n",
        "    target_tensor = tf.keras.preprocessing.sequence.pad_sequences(target_tensor, \n",
        "                                                                  maxlen=max_length_tar, \n",
        "                                                                  padding='post')\n",
        "    \n",
        "    return input_tensor, target_tensor, inp_lang, targ_lang, max_length_inp, max_length_tar"
      ]
    },
    {
      "cell_type": "code",
      "execution_count": null,
      "metadata": {
        "id": "iAb8Lyf94znH"
      },
      "outputs": [],
      "source": [
        "input_tensor, target_tensor, inp_lang, targ_lang, max_length_inp, max_length_targ = load_dataset(train_data)"
      ]
    },
    {
      "cell_type": "code",
      "execution_count": null,
      "metadata": {
        "colab": {
          "base_uri": "https://localhost:8080/"
        },
        "id": "a7Z9qxp26IRt",
        "outputId": "7d818a5a-1401-4703-bf4d-9d353cc991bb"
      },
      "outputs": [
        {
          "name": "stdout",
          "output_type": "stream",
          "text": [
            "171687 171687\n"
          ]
        }
      ],
      "source": [
        "print(len(input_tensor),len(target_tensor))"
      ]
    },
    {
      "cell_type": "markdown",
      "metadata": {
        "id": "6Ec3g-Dz5Srk"
      },
      "source": [
        "Function to convert tensor to word and print."
      ]
    },
    {
      "cell_type": "code",
      "execution_count": null,
      "metadata": {
        "id": "ka4fSi1a5TuR"
      },
      "outputs": [],
      "source": [
        "def convert(lang, tensor):\n",
        "  for t in tensor:\n",
        "    if t!=0:\n",
        "      print (\"%d ----> %s\" % (t, lang.idx2word[t]))"
      ]
    },
    {
      "cell_type": "code",
      "execution_count": null,
      "metadata": {
        "colab": {
          "base_uri": "https://localhost:8080/"
        },
        "id": "mJSdV97v5Vkc",
        "outputId": "b9ebdc31-0285-4be1-94d1-1541b3c46a0a"
      },
      "outputs": [
        {
          "name": "stdout",
          "output_type": "stream",
          "text": [
            "15 ----> m\n",
            "3 ----> a\n",
            "14 ----> l\n",
            "10 ----> h\n",
            "17 ----> o\n",
            "22 ----> t\n",
            "20 ----> r\n",
            "3 ----> a\n",
            "1 ----> #\n",
            "70 ----> म\n",
            "73 ----> ल\n",
            "96 ----> ्\n",
            "80 ----> ह\n",
            "94 ----> ो\n",
            "60 ----> त\n",
            "96 ----> ्\n",
            "72 ----> र\n",
            "82 ----> ा\n",
            "1 ----> #\n"
          ]
        }
      ],
      "source": [
        "convert(inp_lang,input_tensor[-1])\n",
        "convert(targ_lang,target_tensor[-1])"
      ]
    },
    {
      "cell_type": "markdown",
      "metadata": {
        "id": "RZYUGjVv5ZUj"
      },
      "source": [
        "Train and Test split."
      ]
    },
    {
      "cell_type": "code",
      "execution_count": null,
      "metadata": {
        "colab": {
          "base_uri": "https://localhost:8080/"
        },
        "id": "wB3dTfuH5XY_",
        "outputId": "3623dcb9-85f5-44a2-b241-8e5808ac8e19"
      },
      "outputs": [
        {
          "data": {
            "text/plain": [
              "(128765, 128765, 42922, 42922)"
            ]
          },
          "execution_count": 23,
          "metadata": {},
          "output_type": "execute_result"
        }
      ],
      "source": [
        "input_tensor = input_tensor[:200000]\n",
        "target_tensor = target_tensor[:200000]\n",
        "input_tensor_train, input_tensor_val, target_tensor_train, target_tensor_val = train_test_split(input_tensor, target_tensor, test_size=0.25)\n",
        "\n",
        "# Show length\n",
        "len(input_tensor_train), len(target_tensor_train), len(input_tensor_val), len(target_tensor_val)"
      ]
    },
    {
      "cell_type": "markdown",
      "metadata": {
        "id": "ffPl-hNJ5fD9"
      },
      "source": [
        "Some hyper-parameters."
      ]
    },
    {
      "cell_type": "code",
      "execution_count": null,
      "metadata": {
        "id": "B22OLUej5dSa"
      },
      "outputs": [],
      "source": [
        "BUFFER_SIZE = len(input_tensor_train)\n",
        "BATCH_SIZE = 256\n",
        "steps_per_epoch = len(input_tensor_train)//BATCH_SIZE\n",
        "val_steps_per_epoch = len(input_tensor_val)//BATCH_SIZE\n",
        "embedding_dim = 256\n",
        "units = 1024\n",
        "vocab_inp_size = len(inp_lang.word2idx)+1\n",
        "vocab_tar_size = len(targ_lang.word2idx)+1"
      ]
    },
    {
      "cell_type": "code",
      "execution_count": null,
      "metadata": {
        "id": "Jo6CXSgT5hJt"
      },
      "outputs": [],
      "source": [
        "dataset = tf.data.Dataset.from_tensor_slices((input_tensor_train, target_tensor_train)).shuffle(BUFFER_SIZE)\n",
        "dataset = dataset.batch(BATCH_SIZE, drop_remainder=True)\n",
        "val_dataset = tf.data.Dataset.from_tensor_slices((input_tensor_val, target_tensor_val))\n",
        "val_dataset = val_dataset.batch(BATCH_SIZE, drop_remainder=True)"
      ]
    },
    {
      "cell_type": "code",
      "execution_count": null,
      "metadata": {
        "colab": {
          "base_uri": "https://localhost:8080/"
        },
        "id": "bMNyZQab5jh6",
        "outputId": "94a09c61-bdd5-4ff3-f499-049fa3947715"
      },
      "outputs": [
        {
          "data": {
            "text/plain": [
              "(TensorShape([256, 35]), TensorShape([256, 32]))"
            ]
          },
          "execution_count": 26,
          "metadata": {},
          "output_type": "execute_result"
        }
      ],
      "source": [
        "example_input_batch, example_target_batch = next(iter(dataset))\n",
        "example_input_batch.shape, example_target_batch.shape"
      ]
    },
    {
      "cell_type": "markdown",
      "metadata": {
        "id": "NHE32ts35mlh"
      },
      "source": [
        "Let's build the model.\n",
        "The encoder : it will consume input and produce a thought vector which will be the input of the decoder."
      ]
    },
    {
      "cell_type": "code",
      "execution_count": null,
      "metadata": {
        "id": "oBVNw0x95lUx"
      },
      "outputs": [],
      "source": [
        "class Encoder(tf.keras.Model):\n",
        "  def __init__(self, vocab_size, embedding_dim, enc_units, batch_sz):\n",
        "    super(Encoder, self).__init__()\n",
        "    self.batch_sz = batch_sz\n",
        "    self.enc_units = enc_units\n",
        "    self.embedding = tf.keras.layers.Embedding(vocab_size, embedding_dim)\n",
        "    self.gru = tf.keras.layers.GRU(self.enc_units,\n",
        "                                   return_sequences=True,\n",
        "                                   return_state=True,\n",
        "                                   recurrent_initializer='glorot_uniform')\n",
        "    self.norm = tf.keras.layers.LayerNormalization()\n",
        "    self.layer = tf.keras.layers.Dropout(.1)\n",
        "    self.LSTM = tf.keras.layers.LSTM(self.enc_units,\n",
        "                                   return_sequences=True,\n",
        "                                   return_state=True,\n",
        "                                   recurrent_initializer='glorot_uniform',\n",
        "                                   trainable=True)\n",
        "\n",
        "  def call(self, x):\n",
        "    embedding = self.embedding(x)\n",
        "    outputs, hidden, cell = self.LSTM(embedding)\n",
        "    return hidden, cell\n",
        "\n"
      ]
    },
    {
      "cell_type": "code",
      "execution_count": null,
      "metadata": {
        "colab": {
          "base_uri": "https://localhost:8080/"
        },
        "id": "Q0CkK3WK5rVy",
        "outputId": "ace68452-0a2a-402b-d508-315ae8027795"
      },
      "outputs": [
        {
          "name": "stdout",
          "output_type": "stream",
          "text": [
            "Encoder output shape: (batch size, sequence length, units) (256, 1024)\n",
            "Encoder Hidden state shape: (batch size, units) (256, 1024)\n"
          ]
        }
      ],
      "source": [
        "encoder = Encoder(vocab_inp_size, embedding_dim, units, BATCH_SIZE)\n",
        "\n",
        "# sample input\n",
        "sample_hidden, sample_cell = encoder(example_input_batch)\n",
        "print ('Encoder output shape: (batch size, sequence length, units) {}'.format(sample_cell.shape))\n",
        "print ('Encoder Hidden state shape: (batch size, units) {}'.format(sample_hidden.shape))"
      ]
    },
    {
      "cell_type": "markdown",
      "metadata": {
        "id": "GtmxfsMV50T5"
      },
      "source": [
        "The decoder : calculates the probablity of next character by taking encoder input."
      ]
    },
    {
      "cell_type": "code",
      "execution_count": null,
      "metadata": {
        "id": "BPziPaJu51FO"
      },
      "outputs": [],
      "source": [
        "class Decoder(tf.keras.Model):\n",
        "  def __init__(self, vocab_size, embedding_dim, dec_units, batch_sz):\n",
        "    super(Decoder, self).__init__()\n",
        "    self.batch_sz = batch_sz\n",
        "    self.dec_units = dec_units\n",
        "    self.embedding = tf.keras.layers.Embedding(vocab_size, embedding_dim)\n",
        "    self.gru = tf.keras.layers.GRU(self.dec_units,\n",
        "                                   return_sequences=True,\n",
        "                                   return_state=True,\n",
        "                                   recurrent_initializer='glorot_uniform')\n",
        "    self.fc = tf.keras.layers.Dense(vocab_size)\n",
        "    self.layer = tf.keras.layers.Dropout(.1)\n",
        "    self.norm = tf.keras.layers.LayerNormalization()\n",
        "    self.LSTM = tf.keras.layers.LSTM(self.dec_units,\n",
        "                                   return_sequences=True,\n",
        "                                   return_state=True,\n",
        "                                   recurrent_initializer='glorot_uniform', trainable=True)\n",
        "    #self.relu = tf.keras.activations.relu(x, alpha=0.0, max_value=None, threshold=0.0)\n",
        "\n",
        "  def call(self, x, hid_state, cell):\n",
        "\n",
        "    # x shape after passing through embedding == (batch_size, 1, embedding_dim)\n",
        "    x = self.layer(self.embedding(x))\n",
        "    #print(x.shape, self.dec_units, hid_state.shape)\n",
        "    encoder_test_states = [hid_state, cell]\n",
        "    output, state, cell = self.LSTM(x, initial_state=encoder_test_states)\n",
        "    #print(cell.shape)\n",
        "    prediction = self.fc(output)\n",
        "    return prediction, state, cell"
      ]
    },
    {
      "cell_type": "code",
      "execution_count": null,
      "metadata": {
        "colab": {
          "base_uri": "https://localhost:8080/"
        },
        "id": "EHJut2_Y53Nc",
        "outputId": "0eb7051f-e245-410a-aa2e-72cef2e11102"
      },
      "outputs": [
        {
          "name": "stdout",
          "output_type": "stream",
          "text": [
            "(256, 1024) (256, 1024)\n",
            "Decoder output shape: (batch_size, vocab size) (256, 1, 111)\n"
          ]
        }
      ],
      "source": [
        "decoder = Decoder(vocab_tar_size, embedding_dim, units, BATCH_SIZE)\n",
        "print(sample_hidden.shape, sample_cell.shape)\n",
        "sample_decoder_output, _, _ = decoder(tf.random.uniform((256, 1)), sample_hidden, sample_cell)\n",
        "\n",
        "print ('Decoder output shape: (batch_size, vocab size) {}'.format(sample_decoder_output.shape))"
      ]
    },
    {
      "cell_type": "code",
      "execution_count": null,
      "metadata": {
        "id": "_TLy2S8z550n"
      },
      "outputs": [],
      "source": [
        "optimizer = tf.keras.optimizers.Adam(learning_rate=0.01, beta_1=0.9, beta_2=0.999, epsilon=1e-07, amsgrad=False, name='Adam')\n",
        "loss_object = tf.keras.losses.CategoricalCrossentropy( from_logits=True, reduction='none')\n",
        "\n",
        "def loss_function(real, pred):\n",
        "  mask = tf.math.logical_not(tf.math.equal(real, 0))\n",
        "  loss_ = loss_object(real, pred)\n",
        "\n",
        "  mask = tf.cast(mask, dtype=loss_.dtype)\n",
        "  loss_ *= mask\n",
        "\n",
        "  return tf.reduce_mean(loss_)"
      ]
    },
    {
      "cell_type": "markdown",
      "metadata": {
        "id": "fJVu3GMH57Xx"
      },
      "source": [
        "Adding checkpoints to store the model."
      ]
    },
    {
      "cell_type": "code",
      "execution_count": null,
      "metadata": {
        "id": "skKWM_Eb59hS"
      },
      "outputs": [],
      "source": [
        "checkpoint_dir = './training_checkpoints'\n",
        "checkpoint_prefix = os.path.join(checkpoint_dir, \"ckpt\")\n",
        "checkpoint = tf.train.Checkpoint(optimizer=optimizer,\n",
        "                                 encoder=encoder,\n",
        "                                 decoder=decoder)"
      ]
    },
    {
      "cell_type": "markdown",
      "metadata": {
        "id": "i7YkujRW5_xs"
      },
      "source": [
        "Training step function."
      ]
    },
    {
      "cell_type": "code",
      "execution_count": null,
      "metadata": {
        "id": "eiuEjKVnaZQS"
      },
      "outputs": [],
      "source": [
        "optimizer = tf.keras.optimizers.Adam(learning_rate=0.01, beta_1=0.9, beta_2=0.999, epsilon=1e-07, amsgrad=False, name='Adam')\n",
        "loss_object = tf.keras.losses.SparseCategoricalCrossentropy( from_logits=True, reduction='none')"
      ]
    },
    {
      "cell_type": "code",
      "execution_count": null,
      "metadata": {
        "id": "sino4tbT5_Lo"
      },
      "outputs": [],
      "source": [
        "@tf.function\n",
        "def train_step(inp, targ):\n",
        "  loss = 0\n",
        "\n",
        "  with tf.GradientTape() as tape:\n",
        "    state, cell = encoder(inp)\n",
        "\n",
        "    dec_state = state\n",
        "\n",
        "    dec_input = tf.expand_dims([targ_lang.word2idx['@']] * BATCH_SIZE, 1)\n",
        "    outputs = []\n",
        "    # Teacher forcing - feeding the target as the next input\n",
        "    for t in range(1, targ.shape[1]):\n",
        "      # passing enc_output to the decoder\n",
        "      predictions, dec_state, cell = decoder(dec_input, dec_state, cell)\n",
        "      outputs.append(predictions)\n",
        "\n",
        "      #loss += loss_function(targ[:, t], predictions)\n",
        "\n",
        "      # using teacher forcing\n",
        "      dec_input = tf.expand_dims(targ[:, t], 1)\n",
        "\n",
        "    outputs = tf.stack(outputs)\n",
        "    outputs = tf.squeeze(outputs,2)\n",
        "    outputs = tf.transpose(outputs, [1,0,2])\n",
        "    temp_targ = targ[:,1:targ.shape[1]]\n",
        "    temp_targ = tf.expand_dims(temp_targ, axis=2)\n",
        "    loss = loss_object(temp_targ, outputs)\n",
        "  batch_loss = (loss / int(targ.shape[1]))\n",
        "\n",
        "  variables = encoder.trainable_variables + decoder.trainable_variables\n",
        "\n",
        "  gradients = tape.gradient(loss, variables)\n",
        "\n",
        "  optimizer.apply_gradients(zip(gradients, variables))\n",
        "\n",
        "  return batch_loss"
      ]
    },
    {
      "cell_type": "code",
      "execution_count": null,
      "metadata": {
        "id": "SsGKxRkGlzZ5"
      },
      "outputs": [],
      "source": [
        "@tf.function\n",
        "def val_step(inp, targ):\n",
        "    loss = 0\n",
        "    state, cell = encoder(inp)\n",
        "\n",
        "    dec_state = state\n",
        "\n",
        "    dec_input = tf.expand_dims([targ_lang.word2idx['@']] * BATCH_SIZE, 1)\n",
        "    outputs = []\n",
        "    # Teacher forcing - feeding the target as the next input\n",
        "    for t in range(1, targ.shape[1]):\n",
        "        # passing enc_output to the decoder\n",
        "        predictions, dec_state, cell = decoder(dec_input, dec_state, cell)\n",
        "        outputs.append(predictions)\n",
        "\n",
        "        #loss += loss_function(targ[:, t], predictions)\n",
        "\n",
        "        # using teacher forcing\n",
        "        dec_input = tf.expand_dims(targ[:, t], 1)\n",
        "\n",
        "    outputs = tf.stack(outputs)\n",
        "    outputs = tf.squeeze(outputs,2)\n",
        "    outputs = tf.transpose(outputs, [1,0,2])\n",
        "    temp_targ = targ[:,1:targ.shape[1]]\n",
        "    temp_targ = tf.expand_dims(temp_targ, axis=2)\n",
        "    loss = loss_object(temp_targ, outputs)\n",
        "    batch_loss = (loss / int(targ.shape[1]))\n",
        "\n",
        "    return batch_loss"
      ]
    },
    {
      "cell_type": "code",
      "execution_count": null,
      "metadata": {
        "colab": {
          "base_uri": "https://localhost:8080/"
        },
        "id": "i2eQ0uoW-Sa2",
        "outputId": "40a230f0-362e-4982-bb64-276479372a0e"
      },
      "outputs": [
        {
          "name": "stdout",
          "output_type": "stream",
          "text": [
            "502\n"
          ]
        }
      ],
      "source": [
        "print(len(dataset.take(steps_per_epoch)))"
      ]
    },
    {
      "cell_type": "markdown",
      "metadata": {
        "id": "y17yLhZS6DtP"
      },
      "source": [
        "Training loop"
      ]
    },
    {
      "cell_type": "code",
      "execution_count": null,
      "metadata": {
        "colab": {
          "base_uri": "https://localhost:8080/"
        },
        "id": "kEXHlXEx6FZp",
        "outputId": "9f24c549-09ac-4039-dd95-897143dcc1b7"
      },
      "outputs": [
        {
          "name": "stdout",
          "output_type": "stream",
          "text": [
            "Epoch 1 Train Loss 96.9690 Val Loss 60.4248\n",
            "Time taken for 1 epoch 120.95763564109802 sec\n",
            "\n",
            "Epoch 2 Train Loss 43.3567 Val Loss 31.6314\n",
            "Time taken for 1 epoch 73.93144035339355 sec\n",
            "\n",
            "Epoch 3 Train Loss 27.3767 Val Loss 22.9490\n",
            "Time taken for 1 epoch 74.40323233604431 sec\n",
            "\n",
            "Epoch 4 Train Loss 18.9507 Val Loss 17.4256\n",
            "Time taken for 1 epoch 73.60092496871948 sec\n",
            "\n",
            "Epoch 5 Train Loss 15.4020 Val Loss 15.9614\n",
            "Time taken for 1 epoch 73.47367858886719 sec\n",
            "\n",
            "Epoch 6 Train Loss 13.6502 Val Loss 14.9053\n",
            "Time taken for 1 epoch 90.65378403663635 sec\n",
            "\n",
            "Epoch 7 Train Loss 14.9179 Val Loss 16.4195\n",
            "Time taken for 1 epoch 73.12399697303772 sec\n",
            "\n",
            "Epoch 8 Train Loss 12.9513 Val Loss 14.5743\n",
            "Time taken for 1 epoch 73.22854948043823 sec\n",
            "\n",
            "Epoch 9 Train Loss 11.3976 Val Loss 14.2640\n",
            "Time taken for 1 epoch 73.25263833999634 sec\n",
            "\n",
            "Epoch 10 Train Loss 10.7591 Val Loss 14.2039\n",
            "Time taken for 1 epoch 73.27109932899475 sec\n",
            "\n",
            "Epoch 11 Train Loss 10.4483 Val Loss 14.3572\n",
            "Time taken for 1 epoch 73.21956896781921 sec\n",
            "\n",
            "Epoch 12 Train Loss 10.4841 Val Loss 14.5400\n",
            "Time taken for 1 epoch 73.41584014892578 sec\n",
            "\n",
            "Epoch 13 Train Loss 10.7348 Val Loss 14.4346\n",
            "Time taken for 1 epoch 73.28287029266357 sec\n",
            "\n",
            "Epoch 14 Train Loss 10.6755 Val Loss 14.7810\n",
            "Time taken for 1 epoch 73.44595909118652 sec\n",
            "\n",
            "Epoch 15 Train Loss 11.0038 Val Loss 15.3901\n",
            "Time taken for 1 epoch 73.372563123703 sec\n",
            "\n",
            "Epoch 16 Train Loss 11.3116 Val Loss 15.5974\n",
            "Time taken for 1 epoch 73.21967816352844 sec\n",
            "\n",
            "Epoch 17 Train Loss 11.3680 Val Loss 15.2714\n",
            "Time taken for 1 epoch 73.18925476074219 sec\n",
            "\n",
            "Epoch 18 Train Loss 11.5970 Val Loss 15.4879\n",
            "Time taken for 1 epoch 73.6238625049591 sec\n",
            "\n",
            "Epoch 19 Train Loss 11.6801 Val Loss 15.3750\n",
            "Time taken for 1 epoch 73.34907460212708 sec\n",
            "\n",
            "Epoch 20 Train Loss 11.6545 Val Loss 15.6956\n",
            "Time taken for 1 epoch 73.52541899681091 sec\n",
            "\n"
          ]
        }
      ],
      "source": [
        "EPOCHS = 20\n",
        "loss_values = []\n",
        "val_loss_values = []\n",
        "\n",
        "for epoch in range(EPOCHS):\n",
        "    start = time.time()\n",
        "\n",
        "    #enc_hidden = encoder.initialize_hidden_state()\n",
        "    total_loss = 0\n",
        "    val_total_loss = 0\n",
        "\n",
        "    for (batch, (inp, targ)) in enumerate(dataset.take(steps_per_epoch)):\n",
        "        batch_loss = train_step(inp, targ)\n",
        "        total_loss += batch_loss\n",
        "\n",
        "    for (batch, (inp, targ)) in enumerate(val_dataset.take(val_steps_per_epoch)):\n",
        "        val_batch_loss = val_step(inp, targ)\n",
        "        val_total_loss += val_batch_loss\n",
        "\n",
        "    if batch % 100 == 0:\n",
        "        print('Epoch {} Batch {} Loss {:.4f}'.format(epoch + 1,\n",
        "                                                     batch,\n",
        "                                                     batch_loss.numpy()))\n",
        "    # saving (checkpoint) the model every 2 epochs\n",
        "    if (epoch + 1) % 2 == 0:\n",
        "        checkpoint.save(file_prefix = checkpoint_prefix)\n",
        "  \n",
        "    ep_loss = total_loss/steps_per_epoch\n",
        "    loss_values.append( tf.math.reduce_sum(ep_loss))\n",
        "    val_ep_loss = val_total_loss/val_steps_per_epoch\n",
        "    val_loss_values.append( tf.math.reduce_sum(val_ep_loss))\n",
        "\n",
        "    print('Epoch {} Train Loss {:.4f} Val Loss {:.4f}'.format(epoch + 1, tf.math.reduce_sum(ep_loss),tf.math.reduce_sum(val_ep_loss)))\n",
        "    print('Time taken for 1 epoch {} sec\\n'.format(time.time() - start))"
      ]
    },
    {
      "cell_type": "code",
      "execution_count": null,
      "metadata": {
        "colab": {
          "base_uri": "https://localhost:8080/"
        },
        "id": "OTlenFwgkqay",
        "outputId": "55639c66-b788-4a75-c0a5-f2a5957e4334"
      },
      "outputs": [
        {
          "name": "stdout",
          "output_type": "stream",
          "text": [
            "tf.Tensor(11.6545, shape=(), dtype=float32)\n"
          ]
        }
      ],
      "source": [
        "print(tf.math.reduce_sum(ep_loss))"
      ]
    },
    {
      "cell_type": "code",
      "execution_count": null,
      "metadata": {
        "colab": {
          "base_uri": "https://localhost:8080/"
        },
        "id": "mY5HzNlGp-xe",
        "outputId": "476d557f-6473-4fa5-b436-04a9cbdf215a"
      },
      "outputs": [
        {
          "name": "stdout",
          "output_type": "stream",
          "text": [
            "tf.Tensor(96.968994, shape=(), dtype=float32)\n",
            "tf.Tensor(43.356712, shape=(), dtype=float32)\n",
            "tf.Tensor(27.376654, shape=(), dtype=float32)\n",
            "tf.Tensor(18.950748, shape=(), dtype=float32)\n",
            "tf.Tensor(15.402004, shape=(), dtype=float32)\n",
            "tf.Tensor(13.65018, shape=(), dtype=float32)\n",
            "tf.Tensor(14.917943, shape=(), dtype=float32)\n",
            "tf.Tensor(12.95125, shape=(), dtype=float32)\n",
            "tf.Tensor(11.397608, shape=(), dtype=float32)\n",
            "tf.Tensor(10.759108, shape=(), dtype=float32)\n",
            "tf.Tensor(10.44828, shape=(), dtype=float32)\n",
            "tf.Tensor(10.484119, shape=(), dtype=float32)\n",
            "tf.Tensor(10.734845, shape=(), dtype=float32)\n",
            "tf.Tensor(10.675463, shape=(), dtype=float32)\n",
            "tf.Tensor(11.003789, shape=(), dtype=float32)\n",
            "tf.Tensor(11.311649, shape=(), dtype=float32)\n",
            "tf.Tensor(11.368008, shape=(), dtype=float32)\n",
            "tf.Tensor(11.597017, shape=(), dtype=float32)\n",
            "tf.Tensor(11.680117, shape=(), dtype=float32)\n",
            "tf.Tensor(11.6545, shape=(), dtype=float32)\n"
          ]
        }
      ],
      "source": [
        "fin_loss_values = []\n",
        "for i in loss_values :\n",
        "    print( tf.math.reduce_sum(i))\n",
        "    fin_loss_values.append( tf.math.reduce_sum(i))"
      ]
    },
    {
      "cell_type": "code",
      "execution_count": null,
      "metadata": {
        "colab": {
          "base_uri": "https://localhost:8080/",
          "height": 295
        },
        "id": "wz8Wy_jaI6oN",
        "outputId": "59a2dfb3-6a33-41ec-8c79-1e04ecfd6bed"
      },
      "outputs": [
        {
          "data": {
            "image/png": "[encoded data removed]",
            "text/plain": [
              "<Figure size 432x288 with 1 Axes>"
            ]
          },
          "metadata": {
            "needs_background": "light"
          },
          "output_type": "display_data"
        }
      ],
      "source": [
        "plt.plot(fin_loss_values)\n",
        "plt.title('Train Loss vs Epoch')\n",
        "plt.xlabel('Epochs')\n",
        "plt.ylabel('Loss')\n",
        "plt.show()"
      ]
    },
    {
      "cell_type": "code",
      "execution_count": null,
      "metadata": {
        "colab": {
          "base_uri": "https://localhost:8080/"
        },
        "id": "dtLlYiVcqa14",
        "outputId": "98f0e41e-8748-4b2e-bc26-5e31af619336"
      },
      "outputs": [
        {
          "name": "stdout",
          "output_type": "stream",
          "text": [
            "tf.Tensor(60.42482, shape=(), dtype=float32)\n",
            "tf.Tensor(31.631393, shape=(), dtype=float32)\n",
            "tf.Tensor(22.94899, shape=(), dtype=float32)\n",
            "tf.Tensor(17.425598, shape=(), dtype=float32)\n",
            "tf.Tensor(15.961404, shape=(), dtype=float32)\n",
            "tf.Tensor(14.905256, shape=(), dtype=float32)\n",
            "tf.Tensor(16.419493, shape=(), dtype=float32)\n",
            "tf.Tensor(14.574288, shape=(), dtype=float32)\n",
            "tf.Tensor(14.263995, shape=(), dtype=float32)\n",
            "tf.Tensor(14.203857, shape=(), dtype=float32)\n",
            "tf.Tensor(14.357189, shape=(), dtype=float32)\n",
            "tf.Tensor(14.539952, shape=(), dtype=float32)\n",
            "tf.Tensor(14.434572, shape=(), dtype=float32)\n",
            "tf.Tensor(14.78096, shape=(), dtype=float32)\n",
            "tf.Tensor(15.390099, shape=(), dtype=float32)\n",
            "tf.Tensor(15.597368, shape=(), dtype=float32)\n",
            "tf.Tensor(15.271418, shape=(), dtype=float32)\n",
            "tf.Tensor(15.487928, shape=(), dtype=float32)\n",
            "tf.Tensor(15.374981, shape=(), dtype=float32)\n",
            "tf.Tensor(15.695559, shape=(), dtype=float32)\n"
          ]
        }
      ],
      "source": [
        "fin_val_loss_values = []\n",
        "for i in val_loss_values :\n",
        "    print( tf.math.reduce_sum(i))\n",
        "    fin_val_loss_values.append( tf.math.reduce_sum(i))"
      ]
    },
    {
      "cell_type": "code",
      "execution_count": null,
      "metadata": {
        "colab": {
          "base_uri": "https://localhost:8080/",
          "height": 295
        },
        "id": "w4A04-Ybu4yL",
        "outputId": "ab302567-787f-43bc-f586-d1eeca4913aa"
      },
      "outputs": [
        {
          "data": {
            "image/png": "[encoded data removed]",
            "text/plain": [
              "<Figure size 432x288 with 1 Axes>"
            ]
          },
          "metadata": {
            "needs_background": "light"
          },
          "output_type": "display_data"
        }
      ],
      "source": [
        "plt.plot(fin_loss_values)\n",
        "plt.plot(fin_val_loss_values)\n",
        "plt.title('Train Loss vs Epoch and Val Loss vs Epoch')\n",
        "plt.xlabel('Epochs')\n",
        "plt.ylabel('Loss')\n",
        "plt.show()"
      ]
    },
    {
      "cell_type": "code",
      "execution_count": null,
      "metadata": {
        "colab": {
          "base_uri": "https://localhost:8080/"
        },
        "id": "RglGvLH1Naaf",
        "outputId": "bbb2e44e-ff7d-43f9-be04-4978c201aee4"
      },
      "outputs": [
        {
          "name": "stdout",
          "output_type": "stream",
          "text": [
            "  adding: content/training_checkpoints/ (stored 0%)\n",
            "  adding: content/training_checkpoints/ckpt-9.data-00000-of-00001 (deflated 7%)\n",
            "  adding: content/training_checkpoints/ckpt-4.data-00000-of-00001 (deflated 7%)\n",
            "  adding: content/training_checkpoints/ckpt-2.data-00000-of-00001 (deflated 7%)\n",
            "  adding: content/training_checkpoints/ckpt-9.index (deflated 55%)\n",
            "  adding: content/training_checkpoints/ckpt-7.data-00000-of-00001 (deflated 7%)\n",
            "  adding: content/training_checkpoints/ckpt-1.index (deflated 55%)\n",
            "  adding: content/training_checkpoints/ckpt-4.index (deflated 55%)\n",
            "  adding: content/training_checkpoints/ckpt-3.data-00000-of-00001 (deflated 7%)\n",
            "  adding: content/training_checkpoints/ckpt-10.data-00000-of-00001 (deflated 7%)\n",
            "  adding: content/training_checkpoints/ckpt-6.index (deflated 55%)\n",
            "  adding: content/training_checkpoints/ckpt-2.index (deflated 55%)\n",
            "  adding: content/training_checkpoints/ckpt-3.index (deflated 55%)\n",
            "  adding: content/training_checkpoints/ckpt-8.index (deflated 55%)\n",
            "  adding: content/training_checkpoints/ckpt-5.data-00000-of-00001 (deflated 7%)\n",
            "  adding: content/training_checkpoints/ckpt-5.index (deflated 55%)\n",
            "  adding: content/training_checkpoints/ckpt-8.data-00000-of-00001 (deflated 7%)\n",
            "  adding: content/training_checkpoints/ckpt-6.data-00000-of-00001 (deflated 7%)\n",
            "  adding: content/training_checkpoints/ckpt-1.data-00000-of-00001 (deflated 8%)\n",
            "  adding: content/training_checkpoints/ckpt-10.index (deflated 55%)\n",
            "  adding: content/training_checkpoints/ckpt-7.index (deflated 55%)\n",
            "  adding: content/training_checkpoints/checkpoint (deflated 38%)\n"
          ]
        }
      ],
      "source": [
        "!zip -r /content/checkpoints.zip /content/training_checkpoints"
      ]
    },
    {
      "cell_type": "code",
      "execution_count": null,
      "metadata": {
        "id": "puYH-RDsQR2Z"
      },
      "outputs": [],
      "source": [
        "# !cp -r training_checkpoints /content/drive/MyDrive/NLP/Project/outputs/\n",
        "!cp -r checkpoints.zip /content/drive/MyDrive/Adv_NLP_Project/"
      ]
    },
    {
      "cell_type": "markdown",
      "metadata": {
        "id": "TVr8GZyhJLUs"
      },
      "source": [
        "### Evaluation"
      ]
    },
    {
      "cell_type": "code",
      "execution_count": null,
      "metadata": {
        "id": "vYjTvLQKLUqT"
      },
      "outputs": [],
      "source": [
        "def evaluate(sentence):\n",
        "    #attention_plot = np.zeros((max_length_targ, max_length_inp))\n",
        "\n",
        "    sentence = preprocess_sentence_native(sentence)\n",
        "\n",
        "    inputs = [inp_lang.word2idx[i] for i in sentence]\n",
        "\n",
        "    inputs = tf.keras.preprocessing.sequence.pad_sequences([inputs],\n",
        "                                                           maxlen=max_length_inp,\n",
        "                                                           padding='post')\n",
        "    inputs = tf.convert_to_tensor(inputs)\n",
        "\n",
        "    result = ''\n",
        "\n",
        "    enc_states, cells = encoder(inputs)\n",
        "\n",
        "    dec_states = enc_states\n",
        "    dec_input = tf.expand_dims([targ_lang.word2idx['@']], 0)\n",
        "\n",
        "    for t in range(max_length_targ):\n",
        "        predictions, dec_states, cells = decoder(dec_input, dec_states, cells)\n",
        "        #print(\"pred :\", predictions.shape)\n",
        "        predicted_id = tf.argmax(predictions[0][0]).numpy()\n",
        "        #print(\"pd :\", predicted_id.shape)\n",
        "\n",
        "        result += targ_lang.idx2word[predicted_id] + ' '\n",
        "\n",
        "        if targ_lang.idx2word[predicted_id] == '#':\n",
        "            return result, sentence\n",
        "\n",
        "        # the predicted ID is fed back into the model\n",
        "        dec_input = tf.expand_dims([predicted_id], 0)\n",
        "\n",
        "    return result, sentence"
      ]
    },
    {
      "cell_type": "code",
      "execution_count": null,
      "metadata": {
        "id": "6fItdhWcJTBD"
      },
      "outputs": [],
      "source": [
        "def transliterate(sentence):\n",
        "    # print(\"Input: \", sentence)\n",
        "    all_words = sentence.split()\n",
        "    final_result = \"\"\n",
        "    for word in all_words:\n",
        "        result, word = evaluate(word)\n",
        "        temp = \"\".join(result.split(\" \"))+\" \"\n",
        "        temp = temp.replace(\"<pad>\", \"\")\n",
        "        final_result+=temp\n",
        "    # print(\"Output: \", final_result)\n",
        "    return final_result"
      ]
    },
    {
      "cell_type": "code",
      "execution_count": null,
      "metadata": {
        "id": "1ATzpVcuS-58"
      },
      "outputs": [],
      "source": [
        "from tqdm.notebook import tqdm\n",
        "\n",
        "def calc_accuracy(test_data, n):\n",
        "    correct = 0\n",
        "    for i in tqdm(range(len(test_data[0][:n]))):\n",
        "        hindi, eng = test_data[0][i], test_data[1][i]\n",
        "\n",
        "        res, _ = evaluate(hindi)\n",
        "        res = ''.join(res.split(' '))\n",
        "\n",
        "        # print(res,eng)\n",
        "        \n",
        "        eng = eng.replace(\"@\", \"\")\n",
        "        eng = eng.replace(\"#\", \"\")\n",
        "        res = res.replace(\"@\", \"\")\n",
        "        res = res.replace(\"#\", \"\")\n",
        "\n",
        "        # print(eng, res)\n",
        "        if eng == res:\n",
        "            # print(\"Yes\\n\")\n",
        "            correct += 1\n",
        "\n",
        "    # accuracy = correct / len(test_data[0])\n",
        "    accuracy = correct / n\n",
        "    return accuracy"
      ]
    },
    {
      "cell_type": "code",
      "execution_count": null,
      "metadata": {
        "colab": {
          "base_uri": "https://localhost:8080/",
          "height": 351,
          "referenced_widgets": [
            "055af9bfdbf342f8b5d88d0082d96fd8",
            "73df8f613f2e4de990ebeac45a2c37e8",
            "d7cba10cb0fe4d47b2997afa7ae44e9e",
            "b14a645f6b314709ac77079d46ab2ecf",
            "1b339c97b4f340e19c929c7af625b11f",
            "e75b8e9f884c4abca4e687b091fd5b04",
            "2d5c2c3e05e34730979b6559d3629037",
            "7bf056ab20fe4e5b9932c7b85eea9b87",
            "e1e25def134e45ecb61ec4e5e7e1d2ba",
            "22c8171fa27a417d905c52b58ebb02f1",
            "c89b20e455ad41cb8dbe0e0c6746ca24",
            "4c23e8f7151b4d42b35dda06758e50a5",
            "8cb4611bb7b3406e98c90781e671bb4e",
            "714c3109898b41448c099b57c5de0769",
            "64dc8f2ff8694cfcb7bd14c87d887d5a",
            "03b0003bace34a6690379334c4142d0f",
            "c36aadcd5c4f41c1b019450091ecfb2f",
            "a3222e2bc5d54d3f8baa828c484e9300",
            "5d9a09eb7a7f47348a5051ed5d02eb9f",
            "7c4caa87e8b64cbb9cd4323f5ae15c26",
            "4c71ffdbf6fa47ffa38f0f8b3e9a49ca",
            "80acfe5bc4444c4982e5f60b192f6446",
            "cb9ac2269c86442bb7d8253e2b70364f",
            "e4d1f39c64c74b2987d8f44eae6b9bf3",
            "9b8e414b4c674d8d9505971310748146",
            "4a373dbaf25c449881d0a7a4da3299d3",
            "b179dbdc6e544f6f9fefea4ce0b824a4",
            "ca9379644d6b432ca732f14b4f8f6852",
            "0124f82f81064e19b527af5840f91bd7",
            "35a9eb9526974ccbb57a835280b6f0a5",
            "a89a765992954749846a092dd9602ec7",
            "9f994c16e8e84993b78f6548cd3bbac5",
            "16a1ebdde9c74394afe5038723254a8e",
            "39213a09addc4bf58c504465e5134cc1",
            "266b219f05f24b6aace836ad0ab4603a",
            "103eaaded8594c66946d89785b64f1a5",
            "52f227e4ddd943208e99a23be715836d",
            "dfed766d35de46778eb01f2b810e053e",
            "0c41b886f0ef42ccbf8dd39957fa9d84",
            "37a1af9a9ddd487f8235b4ed7f1acd1d",
            "37c551190c2942c886d521b510f6f554",
            "88daf5d898dd4976a8baa3f26d5e642e",
            "27c9bd8a5f414c5aa39dba33202ba592",
            "29fa7620312d47eebc65eeb6a48b516f",
            "a7a6e979c6584034a584b06fa79bc511",
            "65e60dd946454e2fb5d55392444405ba",
            "3217410c4302406f9b02034b3dc0b9c4",
            "9a7cbff9f8e44b4688fe54e79b16d253",
            "bd591c0e9cd043de8a25249c27e4b24f",
            "eae52f4c2756411490190bc01f2a6261",
            "b9dbeb85bf184f4498056210495c5a16",
            "1bc90378928e483a98d4dd2380e84e1f",
            "53977a0d8b5548e8bff8c1d6e7e9651f",
            "aac789a9e3454b3d89446f68abb10227",
            "0283f1a0e570447883e3f6f145ed22aa"
          ]
        },
        "id": "VGewHFOdTWNs",
        "outputId": "0d8bb99d-0ab6-45dd-838f-b9a7d953e78a"
      },
      "outputs": [
        {
          "data": {
            "application/vnd.jupyter.widget-view+json": {
              "model_id": "055af9bfdbf342f8b5d88d0082d96fd8",
              "version_major": 2,
              "version_minor": 0
            },
            "text/plain": [
              "  0%|          | 0/10 [00:00<?, ?it/s]"
            ]
          },
          "metadata": {},
          "output_type": "display_data"
        },
        {
          "name": "stdout",
          "output_type": "stream",
          "text": [
            "Accuracy on 10 test words: 0.2 \n",
            "\n"
          ]
        },
        {
          "data": {
            "application/vnd.jupyter.widget-view+json": {
              "model_id": "4c23e8f7151b4d42b35dda06758e50a5",
              "version_major": 2,
              "version_minor": 0
            },
            "text/plain": [
              "  0%|          | 0/100 [00:00<?, ?it/s]"
            ]
          },
          "metadata": {},
          "output_type": "display_data"
        },
        {
          "name": "stdout",
          "output_type": "stream",
          "text": [
            "Accuracy on 100 test words: 0.25 \n",
            "\n"
          ]
        },
        {
          "data": {
            "application/vnd.jupyter.widget-view+json": {
              "model_id": "cb9ac2269c86442bb7d8253e2b70364f",
              "version_major": 2,
              "version_minor": 0
            },
            "text/plain": [
              "  0%|          | 0/500 [00:00<?, ?it/s]"
            ]
          },
          "metadata": {},
          "output_type": "display_data"
        },
        {
          "name": "stdout",
          "output_type": "stream",
          "text": [
            "Accuracy on 500 test words: 0.244 \n",
            "\n"
          ]
        },
        {
          "data": {
            "application/vnd.jupyter.widget-view+json": {
              "model_id": "39213a09addc4bf58c504465e5134cc1",
              "version_major": 2,
              "version_minor": 0
            },
            "text/plain": [
              "  0%|          | 0/1000 [00:00<?, ?it/s]"
            ]
          },
          "metadata": {},
          "output_type": "display_data"
        },
        {
          "name": "stdout",
          "output_type": "stream",
          "text": [
            "Accuracy on 1000 test words: 0.263 \n",
            "\n"
          ]
        },
        {
          "data": {
            "application/vnd.jupyter.widget-view+json": {
              "model_id": "a7a6e979c6584034a584b06fa79bc511",
              "version_major": 2,
              "version_minor": 0
            },
            "text/plain": [
              "  0%|          | 0/5000 [00:00<?, ?it/s]"
            ]
          },
          "metadata": {},
          "output_type": "display_data"
        },
        {
          "name": "stdout",
          "output_type": "stream",
          "text": [
            "Accuracy on 5000 test words: 0.2536 \n",
            "\n"
          ]
        }
      ],
      "source": [
        "acc = calc_accuracy(test_data, 10)\n",
        "print(\"Accuracy on 10 test words:\", acc, \"\\n\")\n",
        "\n",
        "acc = calc_accuracy(test_data, 100)\n",
        "print(\"Accuracy on 100 test words:\", acc, \"\\n\")\n",
        "\n",
        "acc = calc_accuracy(test_data, 500)\n",
        "print(\"Accuracy on 500 test words:\", acc, \"\\n\")\n",
        "\n",
        "acc = calc_accuracy(test_data, 1000)\n",
        "print(\"Accuracy on 1000 test words:\", acc, \"\\n\")\n",
        "\n",
        "acc = calc_accuracy(test_data, 5000)\n",
        "print(\"Accuracy on 5000 test words:\", acc, \"\\n\")"
      ]
    },
    {
      "cell_type": "code",
      "execution_count": null,
      "metadata": {
        "id": "kESM_2LkLHkk"
      },
      "outputs": [],
      "source": [
        "from nltk.translate.bleu_score import SmoothingFunction\n",
        "\n",
        "def calc_bleu(test_sens, n):\n",
        "    blue_score = 0\n",
        "\n",
        "    for i in range(len(test_sens[0][:n])):\n",
        "        inp_sent, trg_sent = test_sens[0][i], test_sens[1][i]\n",
        "\n",
        "        res = \"\"\n",
        "        for i in inp_sent:\n",
        "            res += i+\" \"\n",
        "        res = transliterate(res)\n",
        "\n",
        "        tmp = \"\"\n",
        "        for i in trg_sent:\n",
        "            tmp += i+\" \"\n",
        "        trg_sent = tmp\n",
        "        trg_sent = trg_sent.replace(\"@\", \"\")\n",
        "        trg_sent = trg_sent.replace(\"#\", \"\")\n",
        "        res = res.replace(\"@\", \"\")\n",
        "        res = res.replace(\"#\", \"\")\n",
        "\n",
        "        reference = [trg_sent.split()]\n",
        "        candidate = res.split()\n",
        "\n",
        "        smoothie = SmoothingFunction().method4\n",
        "        blue_score += sentence_bleu(reference, candidate, smoothing_function=smoothie)\n",
        "    \n",
        "    if (len(test_sens[0][:n])!=0):\n",
        "        return blue_score / len(test_sens[0][:n])"
      ]
    },
    {
      "cell_type": "code",
      "execution_count": null,
      "metadata": {
        "colab": {
          "base_uri": "https://localhost:8080/"
        },
        "id": "A62gqu2-jn5x",
        "outputId": "6b7440eb-5977-44e4-d2cc-fa7a0803db1a"
      },
      "outputs": [
        {
          "name": "stdout",
          "output_type": "stream",
          "text": [
            "Bleu score on 1000 test sentences: 0.18506658724406877 \n",
            "\n"
          ]
        }
      ],
      "source": [
        "bleu = calc_bleu(test_sents, 1000)\n",
        "print(\"Bleu score on 1000 test sentences:\", bleu, \"\\n\")"
      ]
    },
    {
      "cell_type": "markdown",
      "metadata": {
        "id": "bOvhXgt1Z6na"
      },
      "source": [
        "### Testing on various input words\n"
      ]
    },
    {
      "cell_type": "code",
      "execution_count": null,
      "metadata": {
        "colab": {
          "base_uri": "https://localhost:8080/",
          "height": 70
        },
        "id": "cSEgKxhaJVV-",
        "outputId": "4aa4e0a9-4df6-4e3d-ef0a-bed3a86a26bb"
      },
      "outputs": [
        {
          "name": "stdout",
          "output_type": "stream",
          "text": [
            "Input:  how\n",
            "Output:  ूव# \n"
          ]
        },
        {
          "data": {
            "application/vnd.google.colaboratory.intrinsic+json": {
              "type": "string"
            },
            "text/plain": [
              "'ूव# '"
            ]
          },
          "execution_count": 51,
          "metadata": {},
          "output_type": "execute_result"
        }
      ],
      "source": [
        "transliterate('how')"
      ]
    },
    {
      "cell_type": "code",
      "execution_count": null,
      "metadata": {
        "colab": {
          "base_uri": "https://localhost:8080/",
          "height": 70
        },
        "id": "H1MhOmNDRwZI",
        "outputId": "48277709-e00e-4476-eb93-d56486773482"
      },
      "outputs": [
        {
          "name": "stdout",
          "output_type": "stream",
          "text": [
            "Input:  market\n",
            "Output:  मार्केट# \n"
          ]
        },
        {
          "data": {
            "application/vnd.google.colaboratory.intrinsic+json": {
              "type": "string"
            },
            "text/plain": [
              "'मार्केट# '"
            ]
          },
          "execution_count": 52,
          "metadata": {},
          "output_type": "execute_result"
        }
      ],
      "source": [
        "transliterate('market')"
      ]
    },
    {
      "cell_type": "code",
      "execution_count": null,
      "metadata": {
        "colab": {
          "base_uri": "https://localhost:8080/",
          "height": 70
        },
        "id": "3AkF7ab2b6mH",
        "outputId": "b0184452-c3bf-4bd7-86d8-b7868fd18676"
      },
      "outputs": [
        {
          "name": "stdout",
          "output_type": "stream",
          "text": [
            "Input:  what\n",
            "Output:  वाट# \n"
          ]
        },
        {
          "data": {
            "application/vnd.google.colaboratory.intrinsic+json": {
              "type": "string"
            },
            "text/plain": [
              "'वाट# '"
            ]
          },
          "execution_count": 53,
          "metadata": {},
          "output_type": "execute_result"
        }
      ],
      "source": [
        "transliterate('what')"
      ]
    },
    {
      "cell_type": "code",
      "execution_count": null,
      "metadata": {
        "colab": {
          "base_uri": "https://localhost:8080/",
          "height": 70
        },
        "id": "44v9SPyDcC2Z",
        "outputId": "adb1b041-6776-4397-8483-eaa03d2417d0"
      },
      "outputs": [
        {
          "name": "stdout",
          "output_type": "stream",
          "text": [
            "Input:  stupid\n",
            "Output:  स्टीर# \n"
          ]
        },
        {
          "data": {
            "application/vnd.google.colaboratory.intrinsic+json": {
              "type": "string"
            },
            "text/plain": [
              "'स्टीर# '"
            ]
          },
          "execution_count": 54,
          "metadata": {},
          "output_type": "execute_result"
        }
      ],
      "source": [
        "transliterate('stupid')"
      ]
    },
    {
      "cell_type": "code",
      "execution_count": null,
      "metadata": {
        "colab": {
          "base_uri": "https://localhost:8080/",
          "height": 70
        },
        "id": "JtltmiUZcJzt",
        "outputId": "e09992c0-6ddf-4fdc-89a0-de7298e8dcd3"
      },
      "outputs": [
        {
          "name": "stdout",
          "output_type": "stream",
          "text": [
            "Input:  kumbh\n",
            "Output:  मुच्बी \n"
          ]
        },
        {
          "data": {
            "application/vnd.google.colaboratory.intrinsic+json": {
              "type": "string"
            },
            "text/plain": [
              "'मुच्बी '"
            ]
          },
          "execution_count": 55,
          "metadata": {},
          "output_type": "execute_result"
        }
      ],
      "source": [
        "transliterate('kumbh')"
      ]
    },
    {
      "cell_type": "code",
      "execution_count": null,
      "metadata": {
        "colab": {
          "base_uri": "https://localhost:8080/",
          "height": 70
        },
        "id": "oMGurzU93vLB",
        "outputId": "305a6104-e18d-4c7b-ef3c-e988e7280634"
      },
      "outputs": [
        {
          "name": "stdout",
          "output_type": "stream",
          "text": [
            "Input:  raasi\n",
            "Output:  रासाई# \n"
          ]
        },
        {
          "data": {
            "application/vnd.google.colaboratory.intrinsic+json": {
              "type": "string"
            },
            "text/plain": [
              "'रासाई# '"
            ]
          },
          "execution_count": 56,
          "metadata": {},
          "output_type": "execute_result"
        }
      ],
      "source": [
        "transliterate('raasi')"
      ]
    },
    {
      "cell_type": "code",
      "execution_count": null,
      "metadata": {
        "colab": {
          "base_uri": "https://localhost:8080/",
          "height": 70
        },
        "id": "9DvfaNSO3y0k",
        "outputId": "b469fc03-0a89-41f8-97cb-b77ba12dc87f"
      },
      "outputs": [
        {
          "name": "stdout",
          "output_type": "stream",
          "text": [
            "Input:  janme\n",
            "Output:  जनीन \n"
          ]
        },
        {
          "data": {
            "application/vnd.google.colaboratory.intrinsic+json": {
              "type": "string"
            },
            "text/plain": [
              "'जनीन '"
            ]
          },
          "execution_count": 57,
          "metadata": {},
          "output_type": "execute_result"
        }
      ],
      "source": [
        "transliterate('janme')"
      ]
    },
    {
      "cell_type": "code",
      "execution_count": null,
      "metadata": {
        "colab": {
          "base_uri": "https://localhost:8080/",
          "height": 70
        },
        "id": "b9kDXfil32vU",
        "outputId": "c9c17664-96b0-4e42-9e7f-0e7033fb9c41"
      },
      "outputs": [
        {
          "name": "stdout",
          "output_type": "stream",
          "text": [
            "Input:  log\n",
            "Output:  लॉग# \n"
          ]
        },
        {
          "data": {
            "application/vnd.google.colaboratory.intrinsic+json": {
              "type": "string"
            },
            "text/plain": [
              "'लॉग# '"
            ]
          },
          "execution_count": 59,
          "metadata": {},
          "output_type": "execute_result"
        }
      ],
      "source": [
        "transliterate('log')"
      ]
    },
    {
      "cell_type": "code",
      "execution_count": null,
      "metadata": {
        "colab": {
          "base_uri": "https://localhost:8080/",
          "height": 278
        },
        "id": "2XrIIPCo4Zc-",
        "outputId": "3f839465-e78b-4bd7-965b-f4a6c6710e01"
      },
      "outputs": [
        {
          "name": "stdout",
          "output_type": "stream",
          "text": [
            "Input:  what are you doing\n",
            "Output:  वाट# रे# ौबीएन धूंदगी \n",
            "\n",
            "Input:  tell me more about yourself\n",
            "Output:  तेल# में# ूरबन# अबोटिप ॉकीचस्कृत \n",
            "\n",
            "Input:  go to walk\n",
            "Output:  घों टोू# ्युल# \n",
            "\n",
            "Input:  this is india\n",
            "Output:  ठिस# इस# इन्दि \n",
            "\n",
            "Input:  did you have breakfast\n",
            "Output:  दिड# ौबीएन हवीं ्र्टीफ़ेक्चाट्स \n"
          ]
        },
        {
          "data": {
            "application/vnd.google.colaboratory.intrinsic+json": {
              "type": "string"
            },
            "text/plain": [
              "'दिड# ौबीएन हवीं ्र्टीफ़ेक्चाट्स '"
            ]
          },
          "execution_count": 63,
          "metadata": {},
          "output_type": "execute_result"
        }
      ],
      "source": [
        "transliterate(\"what are you doing\") \n",
        "print()\n",
        "transliterate(\"tell me more about yourself\")\n",
        "print()\n",
        "transliterate(\"go to walk\")\n",
        "print()\n",
        "transliterate(\"this is india\")\n",
        "print()\n",
        "transliterate(\"did you have breakfast\")"
      ]
    },
    {
      "cell_type": "code",
      "execution_count": null,
      "metadata": {
        "colab": {
          "base_uri": "https://localhost:8080/",
          "height": 278
        },
        "id": "k3jJATHecbKC",
        "outputId": "bf643553-d504-4b5b-8c01-961a5d7910ff"
      },
      "outputs": [
        {
          "name": "stdout",
          "output_type": "stream",
          "text": [
            "Input:  bogra ka yudh bharat paak yudh १९७१ ka bhag tha jo vartaman bangladesh mein hua tha\n",
            "Output:  भोग्रा# का# ्यौढ़ भरा# पका# ्यौढ़ े का# भग# था# ूज़ो# वैरवाता बंग्लीशियन में# ूहा# था# \n",
            "\n",
            "Input:  taruna nirankari  richa sharma jaya ki dusri badi bahan\n",
            "Output:  तुराना# निर्दन# रिचार शर्मा# जय# कीं# दूसरी# बीं# बाहान# \n",
            "\n",
            "Input:  teen varsh se bacchhon ki bhasha ka vikaas hota hai\n",
            "Output:  टीन# वर्ष# शे बच्चों# कीं# भाष# का# ्कींस# ूठिया हि# \n",
            "\n",
            "Input:  lili patel  savitri devi jaya ki nani\n",
            "Output:  लिल# पेटेल# सरित्वी# देवी# जय# कीं# ननी# \n",
            "\n",
            "Input:  ismen bbq sauce jodkar germany mein sthayi rup se beja chata hai\n",
            "Output:  इसमें ब्लै# सुचेर झोड़कर# ्लियंन्कर में# थली# रुप# शे बेज# क्‍ता# हि# \n"
          ]
        },
        {
          "data": {
            "application/vnd.google.colaboratory.intrinsic+json": {
              "type": "string"
            },
            "text/plain": [
              "'इसमें ब्लै# सुचेर झोड़कर# ्लियंन्कर में# थली# रुप# शे बेज# क्\\u200dता# हि# '"
            ]
          },
          "execution_count": 62,
          "metadata": {},
          "output_type": "execute_result"
        }
      ],
      "source": [
        "transliterate(\"bogra ka yudh bharat paak yudh १९७१ ka bhag tha jo vartaman bangladesh mein hua tha\") \n",
        "print()\n",
        "transliterate(\"taruna nirankari  richa sharma jaya ki dusri badi bahan\")\n",
        "print()\n",
        "transliterate(\"teen varsh se bacchhon ki bhasha ka vikaas hota hai\")\n",
        "print()\n",
        "transliterate(\"lili patel  savitri devi jaya ki nani\")\n",
        "print()\n",
        "transliterate(\"ismen bbq sauce jodkar germany mein sthayi rup se beja chata hai\")"
      ]
    },
    {
      "cell_type": "code",
      "execution_count": null,
      "metadata": {
        "id": "VE1t-vfLu0c_"
      },
      "outputs": [],
      "source": [
        "result=[]\n",
        "for i in range(len(l_test)):\n",
        "    if(i==100):\n",
        "        break\n",
        "    output = transliterate(l_test[i][1])\n",
        "    temp = [l_test[i][1],output,l_test[i][0]]\n",
        "    result.append(temp)"
      ]
    },
    {
      "cell_type": "code",
      "execution_count": null,
      "metadata": {
        "colab": {
          "base_uri": "https://localhost:8080/",
          "height": 424
        },
        "id": "UxFNa1FaeJOR",
        "outputId": "a73176b1-b495-42d8-88c3-193b6d374f29"
      },
      "outputs": [
        {
          "data": {
            "text/html": [
              "<div>\n",
              "<style scoped>\n",
              "    .dataframe tbody tr th:only-of-type {\n",
              "        vertical-align: middle;\n",
              "    }\n",
              "\n",
              "    .dataframe tbody tr th {\n",
              "        vertical-align: top;\n",
              "    }\n",
              "\n",
              "    .dataframe thead th {\n",
              "        text-align: right;\n",
              "    }\n",
              "</style>\n",
              "<table border=\"1\" class=\"dataframe\">\n",
              "  <thead>\n",
              "    <tr style=\"text-align: right;\">\n",
              "      <th></th>\n",
              "      <th>input</th>\n",
              "      <th>output</th>\n",
              "      <th>expected</th>\n",
              "    </tr>\n",
              "  </thead>\n",
              "  <tbody>\n",
              "    <tr>\n",
              "      <th>0</th>\n",
              "      <td>@kumbh rashi men janme log sambhavnaon se bhar...</td>\n",
              "      <td>मुच्बी राशि# में# जनीन लॉग# संश्कालयन# शे भारा...</td>\n",
              "      <td>@कुंभ राशि में जन्मे लोग संभावनाओं से भरी एक ज...</td>\n",
              "    </tr>\n",
              "    <tr>\n",
              "      <th>1</th>\n",
              "      <td>@iska ulat bhi satya hai#</td>\n",
              "      <td>इसका# उतल# भी# स्ताय# हि#</td>\n",
              "      <td>@इसका उलट भी सत्य है#</td>\n",
              "    </tr>\n",
              "    <tr>\n",
              "      <th>2</th>\n",
              "      <td>@kuch devta jo mukhyatah nagar devta the apne ...</td>\n",
              "      <td>चूं# देवता# ूज़ो# ्युलफ़ीचात# नागारा# देवता# त...</td>\n",
              "      <td>@कुछ देवता जो मुख्यत नगर देवता थे अपने संप्रदा...</td>\n",
              "    </tr>\n",
              "    <tr>\n",
              "      <th>3</th>\n",
              "      <td>@tel ke utpadan men sansar men romania ka chha...</td>\n",
              "      <td>तेर# के# उत्पर# में# संसार# में# ्रोमैन# का# छ...</td>\n",
              "      <td>@तेल के उत्पादन में संसार में रोमानिया का छठा ...</td>\n",
              "    </tr>\n",
              "    <tr>\n",
              "      <th>4</th>\n",
              "      <td>@banarasi lal se milkar police ne sara bhed pr...</td>\n",
              "      <td>बनारीशार ला# शे मिलाव# ्लोपियन# णी# शपर बीद# प...</td>\n",
              "      <td>@बनारसी लाल से मिलकर पुलिस ने सारा भेद प्राप्त...</td>\n",
              "    </tr>\n",
              "    <tr>\n",
              "      <th>...</th>\n",
              "      <td>...</td>\n",
              "      <td>...</td>\n",
              "      <td>...</td>\n",
              "    </tr>\n",
              "    <tr>\n",
              "      <th>95</th>\n",
              "      <td>@jiske karan hrdapeshivikriti ya atalata ho sa...</td>\n",
              "      <td>जिकार्ड कनार# हृद्वास्पेवस्थ# यह अतला# ूह# सक्...</td>\n",
              "      <td>@जिसके कारण हृदपेशीविकृति या अतालता हो सकती है#</td>\n",
              "    </tr>\n",
              "    <tr>\n",
              "      <th>96</th>\n",
              "      <td>@uttar pradesh vidhan sabha chunav men inhone ...</td>\n",
              "      <td>उत्तर# प्रादेशों ीड़ेना# शभा चुनाविक में# इन्ह...</td>\n",
              "      <td>@उत्तर प्रदेश विधान सभा चुनाव में इन्होंने उत्...</td>\n",
              "    </tr>\n",
              "    <tr>\n",
              "      <th>97</th>\n",
              "      <td>@nepali upanyas ka shadharhu nepali bhasha ke ...</td>\n",
              "      <td>नीपुल# उपन्यास# का# सरधार# नीपुल# भाष# के# ्या...</td>\n",
              "      <td>@नेपाली उपन्यास का आधारहरू नेपाली भाषा के विख्...</td>\n",
              "    </tr>\n",
              "    <tr>\n",
              "      <th>98</th>\n",
              "      <td>@lekin maghi sahityetihaskaron ke anusar maghi...</td>\n",
              "      <td>लेकिन# मगही# शाहज़िताग्रणकार्यों के# णुसार# मग...</td>\n",
              "      <td>@लेकिन मगही साहित्येतिहासकारों के अनुसार मगही ...</td>\n",
              "    </tr>\n",
              "    <tr>\n",
              "      <th>99</th>\n",
              "      <td>@wiliam hover taft sanyukt rajya america ke ra...</td>\n",
              "      <td>विलियन ूवर# त्त# संयुक्त# राजका अमेरिका# के# र...</td>\n",
              "      <td>@विलियम होवर टाफ्ट संयुक्त राज्य अमरीका के राष...</td>\n",
              "    </tr>\n",
              "  </tbody>\n",
              "</table>\n",
              "<p>100 rows × 3 columns</p>\n",
              "</div>"
            ],
            "text/plain": [
              "                                                input  ...                                           expected\n",
              "0   @kumbh rashi men janme log sambhavnaon se bhar...  ...  @कुंभ राशि में जन्मे लोग संभावनाओं से भरी एक ज...\n",
              "1                           @iska ulat bhi satya hai#  ...                              @इसका उलट भी सत्य है#\n",
              "2   @kuch devta jo mukhyatah nagar devta the apne ...  ...  @कुछ देवता जो मुख्यत नगर देवता थे अपने संप्रदा...\n",
              "3   @tel ke utpadan men sansar men romania ka chha...  ...  @तेल के उत्पादन में संसार में रोमानिया का छठा ...\n",
              "4   @banarasi lal se milkar police ne sara bhed pr...  ...  @बनारसी लाल से मिलकर पुलिस ने सारा भेद प्राप्त...\n",
              "..                                                ...  ...                                                ...\n",
              "95  @jiske karan hrdapeshivikriti ya atalata ho sa...  ...    @जिसके कारण हृदपेशीविकृति या अतालता हो सकती है#\n",
              "96  @uttar pradesh vidhan sabha chunav men inhone ...  ...  @उत्तर प्रदेश विधान सभा चुनाव में इन्होंने उत्...\n",
              "97  @nepali upanyas ka shadharhu nepali bhasha ke ...  ...  @नेपाली उपन्यास का आधारहरू नेपाली भाषा के विख्...\n",
              "98  @lekin maghi sahityetihaskaron ke anusar maghi...  ...  @लेकिन मगही साहित्येतिहासकारों के अनुसार मगही ...\n",
              "99  @wiliam hover taft sanyukt rajya america ke ra...  ...  @विलियम होवर टाफ्ट संयुक्त राज्य अमरीका के राष...\n",
              "\n",
              "[100 rows x 3 columns]"
            ]
          },
          "execution_count": 69,
          "metadata": {},
          "output_type": "execute_result"
        }
      ],
      "source": [
        "res = pd.DataFrame(result, columns = ['input', 'output', 'expected'])\n",
        "res"
      ]
    },
    {
      "cell_type": "code",
      "execution_count": null,
      "metadata": {
        "id": "KbvUEN4Nes2W"
      },
      "outputs": [],
      "source": [
        "res.to_csv('file1.csv')"
      ]
    }
  ],
  "metadata": {
    "accelerator": "GPU",
    "colab": {
      "collapsed_sections": [],
      "name": "LSTM_ANLP-Project2.ipynb",
      "provenance": []
    },
    "kernelspec": {
      "display_name": "Python 3",
      "name": "python3"
    },
    "language_info": {
      "name": "python"
    },
    "widgets": {
      "application/vnd.jupyter.widget-state+json": {
        "0124f82f81064e19b527af5840f91bd7": {
          "model_module": "@jupyter-widgets/base",
          "model_module_version": "1.2.0",
          "model_name": "LayoutModel",
          "state": {
            "_model_module": "@jupyter-widgets/base",
            "_model_module_version": "1.2.0",
            "_model_name": "LayoutModel",
            "_view_count": null,
            "_view_module": "@jupyter-widgets/base",
            "_view_module_version": "1.2.0",
            "_view_name": "LayoutView",
            "align_content": null,
            "align_items": null,
            "align_self": null,
            "border": null,
            "bottom": null,
            "display": null,
            "flex": null,
            "flex_flow": null,
            "grid_area": null,
            "grid_auto_columns": null,
            "grid_auto_flow": null,
            "grid_auto_rows": null,
            "grid_column": null,
            "grid_gap": null,
            "grid_row": null,
            "grid_template_areas": null,
            "grid_template_columns": null,
            "grid_template_rows": null,
            "height": null,
            "justify_content": null,
            "justify_items": null,
            "left": null,
            "margin": null,
            "max_height": null,
            "max_width": null,
            "min_height": null,
            "min_width": null,
            "object_fit": null,
            "object_position": null,
            "order": null,
            "overflow": null,
            "overflow_x": null,
            "overflow_y": null,
            "padding": null,
            "right": null,
            "top": null,
            "visibility": null,
            "width": null
          }
        },
        "0283f1a0e570447883e3f6f145ed22aa": {
          "model_module": "@jupyter-widgets/base",
          "model_module_version": "1.2.0",
          "model_name": "LayoutModel",
          "state": {
            "_model_module": "@jupyter-widgets/base",
            "_model_module_version": "1.2.0",
            "_model_name": "LayoutModel",
            "_view_count": null,
            "_view_module": "@jupyter-widgets/base",
            "_view_module_version": "1.2.0",
            "_view_name": "LayoutView",
            "align_content": null,
            "align_items": null,
            "align_self": null,
            "border": null,
            "bottom": null,
            "display": null,
            "flex": null,
            "flex_flow": null,
            "grid_area": null,
            "grid_auto_columns": null,
            "grid_auto_flow": null,
            "grid_auto_rows": null,
            "grid_column": null,
            "grid_gap": null,
            "grid_row": null,
            "grid_template_areas": null,
            "grid_template_columns": null,
            "grid_template_rows": null,
            "height": null,
            "justify_content": null,
            "justify_items": null,
            "left": null,
            "margin": null,
            "max_height": null,
            "max_width": null,
            "min_height": null,
            "min_width": null,
            "object_fit": null,
            "object_position": null,
            "order": null,
            "overflow": null,
            "overflow_x": null,
            "overflow_y": null,
            "padding": null,
            "right": null,
            "top": null,
            "visibility": null,
            "width": null
          }
        },
        "03b0003bace34a6690379334c4142d0f": {
          "model_module": "@jupyter-widgets/controls",
          "model_module_version": "1.5.0",
          "model_name": "HTMLModel",
          "state": {
            "_dom_classes": [],
            "_model_module": "@jupyter-widgets/controls",
            "_model_module_version": "1.5.0",
            "_model_name": "HTMLModel",
            "_view_count": null,
            "_view_module": "@jupyter-widgets/controls",
            "_view_module_version": "1.5.0",
            "_view_name": "HTMLView",
            "description": "",
            "description_tooltip": null,
            "layout": "IPY_MODEL_80acfe5bc4444c4982e5f60b192f6446",
            "placeholder": "​",
            "style": "IPY_MODEL_4c71ffdbf6fa47ffa38f0f8b3e9a49ca",
            "value": " 100/100 [00:07&lt;00:00,  8.48it/s]"
          }
        },
        "055af9bfdbf342f8b5d88d0082d96fd8": {
          "model_module": "@jupyter-widgets/controls",
          "model_module_version": "1.5.0",
          "model_name": "HBoxModel",
          "state": {
            "_dom_classes": [],
            "_model_module": "@jupyter-widgets/controls",
            "_model_module_version": "1.5.0",
            "_model_name": "HBoxModel",
            "_view_count": null,
            "_view_module": "@jupyter-widgets/controls",
            "_view_module_version": "1.5.0",
            "_view_name": "HBoxView",
            "box_style": "",
            "children": [
              "IPY_MODEL_d7cba10cb0fe4d47b2997afa7ae44e9e",
              "IPY_MODEL_b14a645f6b314709ac77079d46ab2ecf",
              "IPY_MODEL_1b339c97b4f340e19c929c7af625b11f"
            ],
            "layout": "IPY_MODEL_73df8f613f2e4de990ebeac45a2c37e8"
          }
        },
        "0c41b886f0ef42ccbf8dd39957fa9d84": {
          "model_module": "@jupyter-widgets/controls",
          "model_module_version": "1.5.0",
          "model_name": "DescriptionStyleModel",
          "state": {
            "_model_module": "@jupyter-widgets/controls",
            "_model_module_version": "1.5.0",
            "_model_name": "DescriptionStyleModel",
            "_view_count": null,
            "_view_module": "@jupyter-widgets/base",
            "_view_module_version": "1.2.0",
            "_view_name": "StyleView",
            "description_width": ""
          }
        },
        "103eaaded8594c66946d89785b64f1a5": {
          "model_module": "@jupyter-widgets/controls",
          "model_module_version": "1.5.0",
          "model_name": "HTMLModel",
          "state": {
            "_dom_classes": [],
            "_model_module": "@jupyter-widgets/controls",
            "_model_module_version": "1.5.0",
            "_model_name": "HTMLModel",
            "_view_count": null,
            "_view_module": "@jupyter-widgets/controls",
            "_view_module_version": "1.5.0",
            "_view_name": "HTMLView",
            "description": "",
            "description_tooltip": null,
            "layout": "IPY_MODEL_37a1af9a9ddd487f8235b4ed7f1acd1d",
            "placeholder": "​",
            "style": "IPY_MODEL_0c41b886f0ef42ccbf8dd39957fa9d84",
            "value": "100%"
          }
        },
        "16a1ebdde9c74394afe5038723254a8e": {
          "model_module": "@jupyter-widgets/base",
          "model_module_version": "1.2.0",
          "model_name": "LayoutModel",
          "state": {
            "_model_module": "@jupyter-widgets/base",
            "_model_module_version": "1.2.0",
            "_model_name": "LayoutModel",
            "_view_count": null,
            "_view_module": "@jupyter-widgets/base",
            "_view_module_version": "1.2.0",
            "_view_name": "LayoutView",
            "align_content": null,
            "align_items": null,
            "align_self": null,
            "border": null,
            "bottom": null,
            "display": null,
            "flex": null,
            "flex_flow": null,
            "grid_area": null,
            "grid_auto_columns": null,
            "grid_auto_flow": null,
            "grid_auto_rows": null,
            "grid_column": null,
            "grid_gap": null,
            "grid_row": null,
            "grid_template_areas": null,
            "grid_template_columns": null,
            "grid_template_rows": null,
            "height": null,
            "justify_content": null,
            "justify_items": null,
            "left": null,
            "margin": null,
            "max_height": null,
            "max_width": null,
            "min_height": null,
            "min_width": null,
            "object_fit": null,
            "object_position": null,
            "order": null,
            "overflow": null,
            "overflow_x": null,
            "overflow_y": null,
            "padding": null,
            "right": null,
            "top": null,
            "visibility": null,
            "width": null
          }
        },
        "1b339c97b4f340e19c929c7af625b11f": {
          "model_module": "@jupyter-widgets/controls",
          "model_module_version": "1.5.0",
          "model_name": "HTMLModel",
          "state": {
            "_dom_classes": [],
            "_model_module": "@jupyter-widgets/controls",
            "_model_module_version": "1.5.0",
            "_model_name": "HTMLModel",
            "_view_count": null,
            "_view_module": "@jupyter-widgets/controls",
            "_view_module_version": "1.5.0",
            "_view_name": "HTMLView",
            "description": "",
            "description_tooltip": null,
            "layout": "IPY_MODEL_c89b20e455ad41cb8dbe0e0c6746ca24",
            "placeholder": "​",
            "style": "IPY_MODEL_22c8171fa27a417d905c52b58ebb02f1",
            "value": " 10/10 [00:00&lt;00:00,  9.49it/s]"
          }
        },
        "1bc90378928e483a98d4dd2380e84e1f": {
          "model_module": "@jupyter-widgets/controls",
          "model_module_version": "1.5.0",
          "model_name": "ProgressStyleModel",
          "state": {
            "_model_module": "@jupyter-widgets/controls",
            "_model_module_version": "1.5.0",
            "_model_name": "ProgressStyleModel",
            "_view_count": null,
            "_view_module": "@jupyter-widgets/base",
            "_view_module_version": "1.2.0",
            "_view_name": "StyleView",
            "bar_color": null,
            "description_width": ""
          }
        },
        "22c8171fa27a417d905c52b58ebb02f1": {
          "model_module": "@jupyter-widgets/controls",
          "model_module_version": "1.5.0",
          "model_name": "DescriptionStyleModel",
          "state": {
            "_model_module": "@jupyter-widgets/controls",
            "_model_module_version": "1.5.0",
            "_model_name": "DescriptionStyleModel",
            "_view_count": null,
            "_view_module": "@jupyter-widgets/base",
            "_view_module_version": "1.2.0",
            "_view_name": "StyleView",
            "description_width": ""
          }
        },
        "266b219f05f24b6aace836ad0ab4603a": {
          "model_module": "@jupyter-widgets/base",
          "model_module_version": "1.2.0",
          "model_name": "LayoutModel",
          "state": {
            "_model_module": "@jupyter-widgets/base",
            "_model_module_version": "1.2.0",
            "_model_name": "LayoutModel",
            "_view_count": null,
            "_view_module": "@jupyter-widgets/base",
            "_view_module_version": "1.2.0",
            "_view_name": "LayoutView",
            "align_content": null,
            "align_items": null,
            "align_self": null,
            "border": null,
            "bottom": null,
            "display": null,
            "flex": null,
            "flex_flow": null,
            "grid_area": null,
            "grid_auto_columns": null,
            "grid_auto_flow": null,
            "grid_auto_rows": null,
            "grid_column": null,
            "grid_gap": null,
            "grid_row": null,
            "grid_template_areas": null,
            "grid_template_columns": null,
            "grid_template_rows": null,
            "height": null,
            "justify_content": null,
            "justify_items": null,
            "left": null,
            "margin": null,
            "max_height": null,
            "max_width": null,
            "min_height": null,
            "min_width": null,
            "object_fit": null,
            "object_position": null,
            "order": null,
            "overflow": null,
            "overflow_x": null,
            "overflow_y": null,
            "padding": null,
            "right": null,
            "top": null,
            "visibility": null,
            "width": null
          }
        },
        "27c9bd8a5f414c5aa39dba33202ba592": {
          "model_module": "@jupyter-widgets/controls",
          "model_module_version": "1.5.0",
          "model_name": "DescriptionStyleModel",
          "state": {
            "_model_module": "@jupyter-widgets/controls",
            "_model_module_version": "1.5.0",
            "_model_name": "DescriptionStyleModel",
            "_view_count": null,
            "_view_module": "@jupyter-widgets/base",
            "_view_module_version": "1.2.0",
            "_view_name": "StyleView",
            "description_width": ""
          }
        },
        "29fa7620312d47eebc65eeb6a48b516f": {
          "model_module": "@jupyter-widgets/base",
          "model_module_version": "1.2.0",
          "model_name": "LayoutModel",
          "state": {
            "_model_module": "@jupyter-widgets/base",
            "_model_module_version": "1.2.0",
            "_model_name": "LayoutModel",
            "_view_count": null,
            "_view_module": "@jupyter-widgets/base",
            "_view_module_version": "1.2.0",
            "_view_name": "LayoutView",
            "align_content": null,
            "align_items": null,
            "align_self": null,
            "border": null,
            "bottom": null,
            "display": null,
            "flex": null,
            "flex_flow": null,
            "grid_area": null,
            "grid_auto_columns": null,
            "grid_auto_flow": null,
            "grid_auto_rows": null,
            "grid_column": null,
            "grid_gap": null,
            "grid_row": null,
            "grid_template_areas": null,
            "grid_template_columns": null,
            "grid_template_rows": null,
            "height": null,
            "justify_content": null,
            "justify_items": null,
            "left": null,
            "margin": null,
            "max_height": null,
            "max_width": null,
            "min_height": null,
            "min_width": null,
            "object_fit": null,
            "object_position": null,
            "order": null,
            "overflow": null,
            "overflow_x": null,
            "overflow_y": null,
            "padding": null,
            "right": null,
            "top": null,
            "visibility": null,
            "width": null
          }
        },
        "2d5c2c3e05e34730979b6559d3629037": {
          "model_module": "@jupyter-widgets/base",
          "model_module_version": "1.2.0",
          "model_name": "LayoutModel",
          "state": {
            "_model_module": "@jupyter-widgets/base",
            "_model_module_version": "1.2.0",
            "_model_name": "LayoutModel",
            "_view_count": null,
            "_view_module": "@jupyter-widgets/base",
            "_view_module_version": "1.2.0",
            "_view_name": "LayoutView",
            "align_content": null,
            "align_items": null,
            "align_self": null,
            "border": null,
            "bottom": null,
            "display": null,
            "flex": null,
            "flex_flow": null,
            "grid_area": null,
            "grid_auto_columns": null,
            "grid_auto_flow": null,
            "grid_auto_rows": null,
            "grid_column": null,
            "grid_gap": null,
            "grid_row": null,
            "grid_template_areas": null,
            "grid_template_columns": null,
            "grid_template_rows": null,
            "height": null,
            "justify_content": null,
            "justify_items": null,
            "left": null,
            "margin": null,
            "max_height": null,
            "max_width": null,
            "min_height": null,
            "min_width": null,
            "object_fit": null,
            "object_position": null,
            "order": null,
            "overflow": null,
            "overflow_x": null,
            "overflow_y": null,
            "padding": null,
            "right": null,
            "top": null,
            "visibility": null,
            "width": null
          }
        },
        "3217410c4302406f9b02034b3dc0b9c4": {
          "model_module": "@jupyter-widgets/controls",
          "model_module_version": "1.5.0",
          "model_name": "HTMLModel",
          "state": {
            "_dom_classes": [],
            "_model_module": "@jupyter-widgets/controls",
            "_model_module_version": "1.5.0",
            "_model_name": "HTMLModel",
            "_view_count": null,
            "_view_module": "@jupyter-widgets/controls",
            "_view_module_version": "1.5.0",
            "_view_name": "HTMLView",
            "description": "",
            "description_tooltip": null,
            "layout": "IPY_MODEL_b9dbeb85bf184f4498056210495c5a16",
            "placeholder": "​",
            "style": "IPY_MODEL_eae52f4c2756411490190bc01f2a6261",
            "value": "100%"
          }
        },
        "35a9eb9526974ccbb57a835280b6f0a5": {
          "model_module": "@jupyter-widgets/controls",
          "model_module_version": "1.5.0",
          "model_name": "ProgressStyleModel",
          "state": {
            "_model_module": "@jupyter-widgets/controls",
            "_model_module_version": "1.5.0",
            "_model_name": "ProgressStyleModel",
            "_view_count": null,
            "_view_module": "@jupyter-widgets/base",
            "_view_module_version": "1.2.0",
            "_view_name": "StyleView",
            "bar_color": null,
            "description_width": ""
          }
        },
        "37a1af9a9ddd487f8235b4ed7f1acd1d": {
          "model_module": "@jupyter-widgets/base",
          "model_module_version": "1.2.0",
          "model_name": "LayoutModel",
          "state": {
            "_model_module": "@jupyter-widgets/base",
            "_model_module_version": "1.2.0",
            "_model_name": "LayoutModel",
            "_view_count": null,
            "_view_module": "@jupyter-widgets/base",
            "_view_module_version": "1.2.0",
            "_view_name": "LayoutView",
            "align_content": null,
            "align_items": null,
            "align_self": null,
            "border": null,
            "bottom": null,
            "display": null,
            "flex": null,
            "flex_flow": null,
            "grid_area": null,
            "grid_auto_columns": null,
            "grid_auto_flow": null,
            "grid_auto_rows": null,
            "grid_column": null,
            "grid_gap": null,
            "grid_row": null,
            "grid_template_areas": null,
            "grid_template_columns": null,
            "grid_template_rows": null,
            "height": null,
            "justify_content": null,
            "justify_items": null,
            "left": null,
            "margin": null,
            "max_height": null,
            "max_width": null,
            "min_height": null,
            "min_width": null,
            "object_fit": null,
            "object_position": null,
            "order": null,
            "overflow": null,
            "overflow_x": null,
            "overflow_y": null,
            "padding": null,
            "right": null,
            "top": null,
            "visibility": null,
            "width": null
          }
        },
        "37c551190c2942c886d521b510f6f554": {
          "model_module": "@jupyter-widgets/controls",
          "model_module_version": "1.5.0",
          "model_name": "ProgressStyleModel",
          "state": {
            "_model_module": "@jupyter-widgets/controls",
            "_model_module_version": "1.5.0",
            "_model_name": "ProgressStyleModel",
            "_view_count": null,
            "_view_module": "@jupyter-widgets/base",
            "_view_module_version": "1.2.0",
            "_view_name": "StyleView",
            "bar_color": null,
            "description_width": ""
          }
        },
        "39213a09addc4bf58c504465e5134cc1": {
          "model_module": "@jupyter-widgets/controls",
          "model_module_version": "1.5.0",
          "model_name": "HBoxModel",
          "state": {
            "_dom_classes": [],
            "_model_module": "@jupyter-widgets/controls",
            "_model_module_version": "1.5.0",
            "_model_name": "HBoxModel",
            "_view_count": null,
            "_view_module": "@jupyter-widgets/controls",
            "_view_module_version": "1.5.0",
            "_view_name": "HBoxView",
            "box_style": "",
            "children": [
              "IPY_MODEL_103eaaded8594c66946d89785b64f1a5",
              "IPY_MODEL_52f227e4ddd943208e99a23be715836d",
              "IPY_MODEL_dfed766d35de46778eb01f2b810e053e"
            ],
            "layout": "IPY_MODEL_266b219f05f24b6aace836ad0ab4603a"
          }
        },
        "4a373dbaf25c449881d0a7a4da3299d3": {
          "model_module": "@jupyter-widgets/controls",
          "model_module_version": "1.5.0",
          "model_name": "FloatProgressModel",
          "state": {
            "_dom_classes": [],
            "_model_module": "@jupyter-widgets/controls",
            "_model_module_version": "1.5.0",
            "_model_name": "FloatProgressModel",
            "_view_count": null,
            "_view_module": "@jupyter-widgets/controls",
            "_view_module_version": "1.5.0",
            "_view_name": "ProgressView",
            "bar_style": "success",
            "description": "",
            "description_tooltip": null,
            "layout": "IPY_MODEL_a89a765992954749846a092dd9602ec7",
            "max": 500,
            "min": 0,
            "orientation": "horizontal",
            "style": "IPY_MODEL_35a9eb9526974ccbb57a835280b6f0a5",
            "value": 500
          }
        },
        "4c23e8f7151b4d42b35dda06758e50a5": {
          "model_module": "@jupyter-widgets/controls",
          "model_module_version": "1.5.0",
          "model_name": "HBoxModel",
          "state": {
            "_dom_classes": [],
            "_model_module": "@jupyter-widgets/controls",
            "_model_module_version": "1.5.0",
            "_model_name": "HBoxModel",
            "_view_count": null,
            "_view_module": "@jupyter-widgets/controls",
            "_view_module_version": "1.5.0",
            "_view_name": "HBoxView",
            "box_style": "",
            "children": [
              "IPY_MODEL_714c3109898b41448c099b57c5de0769",
              "IPY_MODEL_64dc8f2ff8694cfcb7bd14c87d887d5a",
              "IPY_MODEL_03b0003bace34a6690379334c4142d0f"
            ],
            "layout": "IPY_MODEL_8cb4611bb7b3406e98c90781e671bb4e"
          }
        },
        "4c71ffdbf6fa47ffa38f0f8b3e9a49ca": {
          "model_module": "@jupyter-widgets/controls",
          "model_module_version": "1.5.0",
          "model_name": "DescriptionStyleModel",
          "state": {
            "_model_module": "@jupyter-widgets/controls",
            "_model_module_version": "1.5.0",
            "_model_name": "DescriptionStyleModel",
            "_view_count": null,
            "_view_module": "@jupyter-widgets/base",
            "_view_module_version": "1.2.0",
            "_view_name": "StyleView",
            "description_width": ""
          }
        },
        "52f227e4ddd943208e99a23be715836d": {
          "model_module": "@jupyter-widgets/controls",
          "model_module_version": "1.5.0",
          "model_name": "FloatProgressModel",
          "state": {
            "_dom_classes": [],
            "_model_module": "@jupyter-widgets/controls",
            "_model_module_version": "1.5.0",
            "_model_name": "FloatProgressModel",
            "_view_count": null,
            "_view_module": "@jupyter-widgets/controls",
            "_view_module_version": "1.5.0",
            "_view_name": "ProgressView",
            "bar_style": "success",
            "description": "",
            "description_tooltip": null,
            "layout": "IPY_MODEL_88daf5d898dd4976a8baa3f26d5e642e",
            "max": 1000,
            "min": 0,
            "orientation": "horizontal",
            "style": "IPY_MODEL_37c551190c2942c886d521b510f6f554",
            "value": 1000
          }
        },
        "53977a0d8b5548e8bff8c1d6e7e9651f": {
          "model_module": "@jupyter-widgets/base",
          "model_module_version": "1.2.0",
          "model_name": "LayoutModel",
          "state": {
            "_model_module": "@jupyter-widgets/base",
            "_model_module_version": "1.2.0",
            "_model_name": "LayoutModel",
            "_view_count": null,
            "_view_module": "@jupyter-widgets/base",
            "_view_module_version": "1.2.0",
            "_view_name": "LayoutView",
            "align_content": null,
            "align_items": null,
            "align_self": null,
            "border": null,
            "bottom": null,
            "display": null,
            "flex": null,
            "flex_flow": null,
            "grid_area": null,
            "grid_auto_columns": null,
            "grid_auto_flow": null,
            "grid_auto_rows": null,
            "grid_column": null,
            "grid_gap": null,
            "grid_row": null,
            "grid_template_areas": null,
            "grid_template_columns": null,
            "grid_template_rows": null,
            "height": null,
            "justify_content": null,
            "justify_items": null,
            "left": null,
            "margin": null,
            "max_height": null,
            "max_width": null,
            "min_height": null,
            "min_width": null,
            "object_fit": null,
            "object_position": null,
            "order": null,
            "overflow": null,
            "overflow_x": null,
            "overflow_y": null,
            "padding": null,
            "right": null,
            "top": null,
            "visibility": null,
            "width": null
          }
        },
        "5d9a09eb7a7f47348a5051ed5d02eb9f": {
          "model_module": "@jupyter-widgets/controls",
          "model_module_version": "1.5.0",
          "model_name": "ProgressStyleModel",
          "state": {
            "_model_module": "@jupyter-widgets/controls",
            "_model_module_version": "1.5.0",
            "_model_name": "ProgressStyleModel",
            "_view_count": null,
            "_view_module": "@jupyter-widgets/base",
            "_view_module_version": "1.2.0",
            "_view_name": "StyleView",
            "bar_color": null,
            "description_width": ""
          }
        },
        "64dc8f2ff8694cfcb7bd14c87d887d5a": {
          "model_module": "@jupyter-widgets/controls",
          "model_module_version": "1.5.0",
          "model_name": "FloatProgressModel",
          "state": {
            "_dom_classes": [],
            "_model_module": "@jupyter-widgets/controls",
            "_model_module_version": "1.5.0",
            "_model_name": "FloatProgressModel",
            "_view_count": null,
            "_view_module": "@jupyter-widgets/controls",
            "_view_module_version": "1.5.0",
            "_view_name": "ProgressView",
            "bar_style": "success",
            "description": "",
            "description_tooltip": null,
            "layout": "IPY_MODEL_7c4caa87e8b64cbb9cd4323f5ae15c26",
            "max": 100,
            "min": 0,
            "orientation": "horizontal",
            "style": "IPY_MODEL_5d9a09eb7a7f47348a5051ed5d02eb9f",
            "value": 100
          }
        },
        "65e60dd946454e2fb5d55392444405ba": {
          "model_module": "@jupyter-widgets/base",
          "model_module_version": "1.2.0",
          "model_name": "LayoutModel",
          "state": {
            "_model_module": "@jupyter-widgets/base",
            "_model_module_version": "1.2.0",
            "_model_name": "LayoutModel",
            "_view_count": null,
            "_view_module": "@jupyter-widgets/base",
            "_view_module_version": "1.2.0",
            "_view_name": "LayoutView",
            "align_content": null,
            "align_items": null,
            "align_self": null,
            "border": null,
            "bottom": null,
            "display": null,
            "flex": null,
            "flex_flow": null,
            "grid_area": null,
            "grid_auto_columns": null,
            "grid_auto_flow": null,
            "grid_auto_rows": null,
            "grid_column": null,
            "grid_gap": null,
            "grid_row": null,
            "grid_template_areas": null,
            "grid_template_columns": null,
            "grid_template_rows": null,
            "height": null,
            "justify_content": null,
            "justify_items": null,
            "left": null,
            "margin": null,
            "max_height": null,
            "max_width": null,
            "min_height": null,
            "min_width": null,
            "object_fit": null,
            "object_position": null,
            "order": null,
            "overflow": null,
            "overflow_x": null,
            "overflow_y": null,
            "padding": null,
            "right": null,
            "top": null,
            "visibility": null,
            "width": null
          }
        },
        "714c3109898b41448c099b57c5de0769": {
          "model_module": "@jupyter-widgets/controls",
          "model_module_version": "1.5.0",
          "model_name": "HTMLModel",
          "state": {
            "_dom_classes": [],
            "_model_module": "@jupyter-widgets/controls",
            "_model_module_version": "1.5.0",
            "_model_name": "HTMLModel",
            "_view_count": null,
            "_view_module": "@jupyter-widgets/controls",
            "_view_module_version": "1.5.0",
            "_view_name": "HTMLView",
            "description": "",
            "description_tooltip": null,
            "layout": "IPY_MODEL_a3222e2bc5d54d3f8baa828c484e9300",
            "placeholder": "​",
            "style": "IPY_MODEL_c36aadcd5c4f41c1b019450091ecfb2f",
            "value": "100%"
          }
        },
        "73df8f613f2e4de990ebeac45a2c37e8": {
          "model_module": "@jupyter-widgets/base",
          "model_module_version": "1.2.0",
          "model_name": "LayoutModel",
          "state": {
            "_model_module": "@jupyter-widgets/base",
            "_model_module_version": "1.2.0",
            "_model_name": "LayoutModel",
            "_view_count": null,
            "_view_module": "@jupyter-widgets/base",
            "_view_module_version": "1.2.0",
            "_view_name": "LayoutView",
            "align_content": null,
            "align_items": null,
            "align_self": null,
            "border": null,
            "bottom": null,
            "display": null,
            "flex": null,
            "flex_flow": null,
            "grid_area": null,
            "grid_auto_columns": null,
            "grid_auto_flow": null,
            "grid_auto_rows": null,
            "grid_column": null,
            "grid_gap": null,
            "grid_row": null,
            "grid_template_areas": null,
            "grid_template_columns": null,
            "grid_template_rows": null,
            "height": null,
            "justify_content": null,
            "justify_items": null,
            "left": null,
            "margin": null,
            "max_height": null,
            "max_width": null,
            "min_height": null,
            "min_width": null,
            "object_fit": null,
            "object_position": null,
            "order": null,
            "overflow": null,
            "overflow_x": null,
            "overflow_y": null,
            "padding": null,
            "right": null,
            "top": null,
            "visibility": null,
            "width": null
          }
        },
        "7bf056ab20fe4e5b9932c7b85eea9b87": {
          "model_module": "@jupyter-widgets/controls",
          "model_module_version": "1.5.0",
          "model_name": "ProgressStyleModel",
          "state": {
            "_model_module": "@jupyter-widgets/controls",
            "_model_module_version": "1.5.0",
            "_model_name": "ProgressStyleModel",
            "_view_count": null,
            "_view_module": "@jupyter-widgets/base",
            "_view_module_version": "1.2.0",
            "_view_name": "StyleView",
            "bar_color": null,
            "description_width": ""
          }
        },
        "7c4caa87e8b64cbb9cd4323f5ae15c26": {
          "model_module": "@jupyter-widgets/base",
          "model_module_version": "1.2.0",
          "model_name": "LayoutModel",
          "state": {
            "_model_module": "@jupyter-widgets/base",
            "_model_module_version": "1.2.0",
            "_model_name": "LayoutModel",
            "_view_count": null,
            "_view_module": "@jupyter-widgets/base",
            "_view_module_version": "1.2.0",
            "_view_name": "LayoutView",
            "align_content": null,
            "align_items": null,
            "align_self": null,
            "border": null,
            "bottom": null,
            "display": null,
            "flex": null,
            "flex_flow": null,
            "grid_area": null,
            "grid_auto_columns": null,
            "grid_auto_flow": null,
            "grid_auto_rows": null,
            "grid_column": null,
            "grid_gap": null,
            "grid_row": null,
            "grid_template_areas": null,
            "grid_template_columns": null,
            "grid_template_rows": null,
            "height": null,
            "justify_content": null,
            "justify_items": null,
            "left": null,
            "margin": null,
            "max_height": null,
            "max_width": null,
            "min_height": null,
            "min_width": null,
            "object_fit": null,
            "object_position": null,
            "order": null,
            "overflow": null,
            "overflow_x": null,
            "overflow_y": null,
            "padding": null,
            "right": null,
            "top": null,
            "visibility": null,
            "width": null
          }
        },
        "80acfe5bc4444c4982e5f60b192f6446": {
          "model_module": "@jupyter-widgets/base",
          "model_module_version": "1.2.0",
          "model_name": "LayoutModel",
          "state": {
            "_model_module": "@jupyter-widgets/base",
            "_model_module_version": "1.2.0",
            "_model_name": "LayoutModel",
            "_view_count": null,
            "_view_module": "@jupyter-widgets/base",
            "_view_module_version": "1.2.0",
            "_view_name": "LayoutView",
            "align_content": null,
            "align_items": null,
            "align_self": null,
            "border": null,
            "bottom": null,
            "display": null,
            "flex": null,
            "flex_flow": null,
            "grid_area": null,
            "grid_auto_columns": null,
            "grid_auto_flow": null,
            "grid_auto_rows": null,
            "grid_column": null,
            "grid_gap": null,
            "grid_row": null,
            "grid_template_areas": null,
            "grid_template_columns": null,
            "grid_template_rows": null,
            "height": null,
            "justify_content": null,
            "justify_items": null,
            "left": null,
            "margin": null,
            "max_height": null,
            "max_width": null,
            "min_height": null,
            "min_width": null,
            "object_fit": null,
            "object_position": null,
            "order": null,
            "overflow": null,
            "overflow_x": null,
            "overflow_y": null,
            "padding": null,
            "right": null,
            "top": null,
            "visibility": null,
            "width": null
          }
        },
        "88daf5d898dd4976a8baa3f26d5e642e": {
          "model_module": "@jupyter-widgets/base",
          "model_module_version": "1.2.0",
          "model_name": "LayoutModel",
          "state": {
            "_model_module": "@jupyter-widgets/base",
            "_model_module_version": "1.2.0",
            "_model_name": "LayoutModel",
            "_view_count": null,
            "_view_module": "@jupyter-widgets/base",
            "_view_module_version": "1.2.0",
            "_view_name": "LayoutView",
            "align_content": null,
            "align_items": null,
            "align_self": null,
            "border": null,
            "bottom": null,
            "display": null,
            "flex": null,
            "flex_flow": null,
            "grid_area": null,
            "grid_auto_columns": null,
            "grid_auto_flow": null,
            "grid_auto_rows": null,
            "grid_column": null,
            "grid_gap": null,
            "grid_row": null,
            "grid_template_areas": null,
            "grid_template_columns": null,
            "grid_template_rows": null,
            "height": null,
            "justify_content": null,
            "justify_items": null,
            "left": null,
            "margin": null,
            "max_height": null,
            "max_width": null,
            "min_height": null,
            "min_width": null,
            "object_fit": null,
            "object_position": null,
            "order": null,
            "overflow": null,
            "overflow_x": null,
            "overflow_y": null,
            "padding": null,
            "right": null,
            "top": null,
            "visibility": null,
            "width": null
          }
        },
        "8cb4611bb7b3406e98c90781e671bb4e": {
          "model_module": "@jupyter-widgets/base",
          "model_module_version": "1.2.0",
          "model_name": "LayoutModel",
          "state": {
            "_model_module": "@jupyter-widgets/base",
            "_model_module_version": "1.2.0",
            "_model_name": "LayoutModel",
            "_view_count": null,
            "_view_module": "@jupyter-widgets/base",
            "_view_module_version": "1.2.0",
            "_view_name": "LayoutView",
            "align_content": null,
            "align_items": null,
            "align_self": null,
            "border": null,
            "bottom": null,
            "display": null,
            "flex": null,
            "flex_flow": null,
            "grid_area": null,
            "grid_auto_columns": null,
            "grid_auto_flow": null,
            "grid_auto_rows": null,
            "grid_column": null,
            "grid_gap": null,
            "grid_row": null,
            "grid_template_areas": null,
            "grid_template_columns": null,
            "grid_template_rows": null,
            "height": null,
            "justify_content": null,
            "justify_items": null,
            "left": null,
            "margin": null,
            "max_height": null,
            "max_width": null,
            "min_height": null,
            "min_width": null,
            "object_fit": null,
            "object_position": null,
            "order": null,
            "overflow": null,
            "overflow_x": null,
            "overflow_y": null,
            "padding": null,
            "right": null,
            "top": null,
            "visibility": null,
            "width": null
          }
        },
        "9a7cbff9f8e44b4688fe54e79b16d253": {
          "model_module": "@jupyter-widgets/controls",
          "model_module_version": "1.5.0",
          "model_name": "FloatProgressModel",
          "state": {
            "_dom_classes": [],
            "_model_module": "@jupyter-widgets/controls",
            "_model_module_version": "1.5.0",
            "_model_name": "FloatProgressModel",
            "_view_count": null,
            "_view_module": "@jupyter-widgets/controls",
            "_view_module_version": "1.5.0",
            "_view_name": "ProgressView",
            "bar_style": "success",
            "description": "",
            "description_tooltip": null,
            "layout": "IPY_MODEL_53977a0d8b5548e8bff8c1d6e7e9651f",
            "max": 5000,
            "min": 0,
            "orientation": "horizontal",
            "style": "IPY_MODEL_1bc90378928e483a98d4dd2380e84e1f",
            "value": 5000
          }
        },
        "9b8e414b4c674d8d9505971310748146": {
          "model_module": "@jupyter-widgets/controls",
          "model_module_version": "1.5.0",
          "model_name": "HTMLModel",
          "state": {
            "_dom_classes": [],
            "_model_module": "@jupyter-widgets/controls",
            "_model_module_version": "1.5.0",
            "_model_name": "HTMLModel",
            "_view_count": null,
            "_view_module": "@jupyter-widgets/controls",
            "_view_module_version": "1.5.0",
            "_view_name": "HTMLView",
            "description": "",
            "description_tooltip": null,
            "layout": "IPY_MODEL_0124f82f81064e19b527af5840f91bd7",
            "placeholder": "​",
            "style": "IPY_MODEL_ca9379644d6b432ca732f14b4f8f6852",
            "value": "100%"
          }
        },
        "9f994c16e8e84993b78f6548cd3bbac5": {
          "model_module": "@jupyter-widgets/controls",
          "model_module_version": "1.5.0",
          "model_name": "DescriptionStyleModel",
          "state": {
            "_model_module": "@jupyter-widgets/controls",
            "_model_module_version": "1.5.0",
            "_model_name": "DescriptionStyleModel",
            "_view_count": null,
            "_view_module": "@jupyter-widgets/base",
            "_view_module_version": "1.2.0",
            "_view_name": "StyleView",
            "description_width": ""
          }
        },
        "a3222e2bc5d54d3f8baa828c484e9300": {
          "model_module": "@jupyter-widgets/base",
          "model_module_version": "1.2.0",
          "model_name": "LayoutModel",
          "state": {
            "_model_module": "@jupyter-widgets/base",
            "_model_module_version": "1.2.0",
            "_model_name": "LayoutModel",
            "_view_count": null,
            "_view_module": "@jupyter-widgets/base",
            "_view_module_version": "1.2.0",
            "_view_name": "LayoutView",
            "align_content": null,
            "align_items": null,
            "align_self": null,
            "border": null,
            "bottom": null,
            "display": null,
            "flex": null,
            "flex_flow": null,
            "grid_area": null,
            "grid_auto_columns": null,
            "grid_auto_flow": null,
            "grid_auto_rows": null,
            "grid_column": null,
            "grid_gap": null,
            "grid_row": null,
            "grid_template_areas": null,
            "grid_template_columns": null,
            "grid_template_rows": null,
            "height": null,
            "justify_content": null,
            "justify_items": null,
            "left": null,
            "margin": null,
            "max_height": null,
            "max_width": null,
            "min_height": null,
            "min_width": null,
            "object_fit": null,
            "object_position": null,
            "order": null,
            "overflow": null,
            "overflow_x": null,
            "overflow_y": null,
            "padding": null,
            "right": null,
            "top": null,
            "visibility": null,
            "width": null
          }
        },
        "a7a6e979c6584034a584b06fa79bc511": {
          "model_module": "@jupyter-widgets/controls",
          "model_module_version": "1.5.0",
          "model_name": "HBoxModel",
          "state": {
            "_dom_classes": [],
            "_model_module": "@jupyter-widgets/controls",
            "_model_module_version": "1.5.0",
            "_model_name": "HBoxModel",
            "_view_count": null,
            "_view_module": "@jupyter-widgets/controls",
            "_view_module_version": "1.5.0",
            "_view_name": "HBoxView",
            "box_style": "",
            "children": [
              "IPY_MODEL_3217410c4302406f9b02034b3dc0b9c4",
              "IPY_MODEL_9a7cbff9f8e44b4688fe54e79b16d253",
              "IPY_MODEL_bd591c0e9cd043de8a25249c27e4b24f"
            ],
            "layout": "IPY_MODEL_65e60dd946454e2fb5d55392444405ba"
          }
        },
        "a89a765992954749846a092dd9602ec7": {
          "model_module": "@jupyter-widgets/base",
          "model_module_version": "1.2.0",
          "model_name": "LayoutModel",
          "state": {
            "_model_module": "@jupyter-widgets/base",
            "_model_module_version": "1.2.0",
            "_model_name": "LayoutModel",
            "_view_count": null,
            "_view_module": "@jupyter-widgets/base",
            "_view_module_version": "1.2.0",
            "_view_name": "LayoutView",
            "align_content": null,
            "align_items": null,
            "align_self": null,
            "border": null,
            "bottom": null,
            "display": null,
            "flex": null,
            "flex_flow": null,
            "grid_area": null,
            "grid_auto_columns": null,
            "grid_auto_flow": null,
            "grid_auto_rows": null,
            "grid_column": null,
            "grid_gap": null,
            "grid_row": null,
            "grid_template_areas": null,
            "grid_template_columns": null,
            "grid_template_rows": null,
            "height": null,
            "justify_content": null,
            "justify_items": null,
            "left": null,
            "margin": null,
            "max_height": null,
            "max_width": null,
            "min_height": null,
            "min_width": null,
            "object_fit": null,
            "object_position": null,
            "order": null,
            "overflow": null,
            "overflow_x": null,
            "overflow_y": null,
            "padding": null,
            "right": null,
            "top": null,
            "visibility": null,
            "width": null
          }
        },
        "aac789a9e3454b3d89446f68abb10227": {
          "model_module": "@jupyter-widgets/controls",
          "model_module_version": "1.5.0",
          "model_name": "DescriptionStyleModel",
          "state": {
            "_model_module": "@jupyter-widgets/controls",
            "_model_module_version": "1.5.0",
            "_model_name": "DescriptionStyleModel",
            "_view_count": null,
            "_view_module": "@jupyter-widgets/base",
            "_view_module_version": "1.2.0",
            "_view_name": "StyleView",
            "description_width": ""
          }
        },
        "b14a645f6b314709ac77079d46ab2ecf": {
          "model_module": "@jupyter-widgets/controls",
          "model_module_version": "1.5.0",
          "model_name": "FloatProgressModel",
          "state": {
            "_dom_classes": [],
            "_model_module": "@jupyter-widgets/controls",
            "_model_module_version": "1.5.0",
            "_model_name": "FloatProgressModel",
            "_view_count": null,
            "_view_module": "@jupyter-widgets/controls",
            "_view_module_version": "1.5.0",
            "_view_name": "ProgressView",
            "bar_style": "success",
            "description": "",
            "description_tooltip": null,
            "layout": "IPY_MODEL_e1e25def134e45ecb61ec4e5e7e1d2ba",
            "max": 10,
            "min": 0,
            "orientation": "horizontal",
            "style": "IPY_MODEL_7bf056ab20fe4e5b9932c7b85eea9b87",
            "value": 10
          }
        },
        "b179dbdc6e544f6f9fefea4ce0b824a4": {
          "model_module": "@jupyter-widgets/controls",
          "model_module_version": "1.5.0",
          "model_name": "HTMLModel",
          "state": {
            "_dom_classes": [],
            "_model_module": "@jupyter-widgets/controls",
            "_model_module_version": "1.5.0",
            "_model_name": "HTMLModel",
            "_view_count": null,
            "_view_module": "@jupyter-widgets/controls",
            "_view_module_version": "1.5.0",
            "_view_name": "HTMLView",
            "description": "",
            "description_tooltip": null,
            "layout": "IPY_MODEL_16a1ebdde9c74394afe5038723254a8e",
            "placeholder": "​",
            "style": "IPY_MODEL_9f994c16e8e84993b78f6548cd3bbac5",
            "value": " 500/500 [00:40&lt;00:00, 19.01it/s]"
          }
        },
        "b9dbeb85bf184f4498056210495c5a16": {
          "model_module": "@jupyter-widgets/base",
          "model_module_version": "1.2.0",
          "model_name": "LayoutModel",
          "state": {
            "_model_module": "@jupyter-widgets/base",
            "_model_module_version": "1.2.0",
            "_model_name": "LayoutModel",
            "_view_count": null,
            "_view_module": "@jupyter-widgets/base",
            "_view_module_version": "1.2.0",
            "_view_name": "LayoutView",
            "align_content": null,
            "align_items": null,
            "align_self": null,
            "border": null,
            "bottom": null,
            "display": null,
            "flex": null,
            "flex_flow": null,
            "grid_area": null,
            "grid_auto_columns": null,
            "grid_auto_flow": null,
            "grid_auto_rows": null,
            "grid_column": null,
            "grid_gap": null,
            "grid_row": null,
            "grid_template_areas": null,
            "grid_template_columns": null,
            "grid_template_rows": null,
            "height": null,
            "justify_content": null,
            "justify_items": null,
            "left": null,
            "margin": null,
            "max_height": null,
            "max_width": null,
            "min_height": null,
            "min_width": null,
            "object_fit": null,
            "object_position": null,
            "order": null,
            "overflow": null,
            "overflow_x": null,
            "overflow_y": null,
            "padding": null,
            "right": null,
            "top": null,
            "visibility": null,
            "width": null
          }
        },
        "bd591c0e9cd043de8a25249c27e4b24f": {
          "model_module": "@jupyter-widgets/controls",
          "model_module_version": "1.5.0",
          "model_name": "HTMLModel",
          "state": {
            "_dom_classes": [],
            "_model_module": "@jupyter-widgets/controls",
            "_model_module_version": "1.5.0",
            "_model_name": "HTMLModel",
            "_view_count": null,
            "_view_module": "@jupyter-widgets/controls",
            "_view_module_version": "1.5.0",
            "_view_name": "HTMLView",
            "description": "",
            "description_tooltip": null,
            "layout": "IPY_MODEL_0283f1a0e570447883e3f6f145ed22aa",
            "placeholder": "​",
            "style": "IPY_MODEL_aac789a9e3454b3d89446f68abb10227",
            "value": " 5000/5000 [07:09&lt;00:00,  9.63it/s]"
          }
        },
        "c36aadcd5c4f41c1b019450091ecfb2f": {
          "model_module": "@jupyter-widgets/controls",
          "model_module_version": "1.5.0",
          "model_name": "DescriptionStyleModel",
          "state": {
            "_model_module": "@jupyter-widgets/controls",
            "_model_module_version": "1.5.0",
            "_model_name": "DescriptionStyleModel",
            "_view_count": null,
            "_view_module": "@jupyter-widgets/base",
            "_view_module_version": "1.2.0",
            "_view_name": "StyleView",
            "description_width": ""
          }
        },
        "c89b20e455ad41cb8dbe0e0c6746ca24": {
          "model_module": "@jupyter-widgets/base",
          "model_module_version": "1.2.0",
          "model_name": "LayoutModel",
          "state": {
            "_model_module": "@jupyter-widgets/base",
            "_model_module_version": "1.2.0",
            "_model_name": "LayoutModel",
            "_view_count": null,
            "_view_module": "@jupyter-widgets/base",
            "_view_module_version": "1.2.0",
            "_view_name": "LayoutView",
            "align_content": null,
            "align_items": null,
            "align_self": null,
            "border": null,
            "bottom": null,
            "display": null,
            "flex": null,
            "flex_flow": null,
            "grid_area": null,
            "grid_auto_columns": null,
            "grid_auto_flow": null,
            "grid_auto_rows": null,
            "grid_column": null,
            "grid_gap": null,
            "grid_row": null,
            "grid_template_areas": null,
            "grid_template_columns": null,
            "grid_template_rows": null,
            "height": null,
            "justify_content": null,
            "justify_items": null,
            "left": null,
            "margin": null,
            "max_height": null,
            "max_width": null,
            "min_height": null,
            "min_width": null,
            "object_fit": null,
            "object_position": null,
            "order": null,
            "overflow": null,
            "overflow_x": null,
            "overflow_y": null,
            "padding": null,
            "right": null,
            "top": null,
            "visibility": null,
            "width": null
          }
        },
        "ca9379644d6b432ca732f14b4f8f6852": {
          "model_module": "@jupyter-widgets/controls",
          "model_module_version": "1.5.0",
          "model_name": "DescriptionStyleModel",
          "state": {
            "_model_module": "@jupyter-widgets/controls",
            "_model_module_version": "1.5.0",
            "_model_name": "DescriptionStyleModel",
            "_view_count": null,
            "_view_module": "@jupyter-widgets/base",
            "_view_module_version": "1.2.0",
            "_view_name": "StyleView",
            "description_width": ""
          }
        },
        "cb9ac2269c86442bb7d8253e2b70364f": {
          "model_module": "@jupyter-widgets/controls",
          "model_module_version": "1.5.0",
          "model_name": "HBoxModel",
          "state": {
            "_dom_classes": [],
            "_model_module": "@jupyter-widgets/controls",
            "_model_module_version": "1.5.0",
            "_model_name": "HBoxModel",
            "_view_count": null,
            "_view_module": "@jupyter-widgets/controls",
            "_view_module_version": "1.5.0",
            "_view_name": "HBoxView",
            "box_style": "",
            "children": [
              "IPY_MODEL_9b8e414b4c674d8d9505971310748146",
              "IPY_MODEL_4a373dbaf25c449881d0a7a4da3299d3",
              "IPY_MODEL_b179dbdc6e544f6f9fefea4ce0b824a4"
            ],
            "layout": "IPY_MODEL_e4d1f39c64c74b2987d8f44eae6b9bf3"
          }
        },
        "d7cba10cb0fe4d47b2997afa7ae44e9e": {
          "model_module": "@jupyter-widgets/controls",
          "model_module_version": "1.5.0",
          "model_name": "HTMLModel",
          "state": {
            "_dom_classes": [],
            "_model_module": "@jupyter-widgets/controls",
            "_model_module_version": "1.5.0",
            "_model_name": "HTMLModel",
            "_view_count": null,
            "_view_module": "@jupyter-widgets/controls",
            "_view_module_version": "1.5.0",
            "_view_name": "HTMLView",
            "description": "",
            "description_tooltip": null,
            "layout": "IPY_MODEL_2d5c2c3e05e34730979b6559d3629037",
            "placeholder": "​",
            "style": "IPY_MODEL_e75b8e9f884c4abca4e687b091fd5b04",
            "value": "100%"
          }
        },
        "dfed766d35de46778eb01f2b810e053e": {
          "model_module": "@jupyter-widgets/controls",
          "model_module_version": "1.5.0",
          "model_name": "HTMLModel",
          "state": {
            "_dom_classes": [],
            "_model_module": "@jupyter-widgets/controls",
            "_model_module_version": "1.5.0",
            "_model_name": "HTMLModel",
            "_view_count": null,
            "_view_module": "@jupyter-widgets/controls",
            "_view_module_version": "1.5.0",
            "_view_name": "HTMLView",
            "description": "",
            "description_tooltip": null,
            "layout": "IPY_MODEL_29fa7620312d47eebc65eeb6a48b516f",
            "placeholder": "​",
            "style": "IPY_MODEL_27c9bd8a5f414c5aa39dba33202ba592",
            "value": " 1000/1000 [01:19&lt;00:00, 15.65it/s]"
          }
        },
        "e1e25def134e45ecb61ec4e5e7e1d2ba": {
          "model_module": "@jupyter-widgets/base",
          "model_module_version": "1.2.0",
          "model_name": "LayoutModel",
          "state": {
            "_model_module": "@jupyter-widgets/base",
            "_model_module_version": "1.2.0",
            "_model_name": "LayoutModel",
            "_view_count": null,
            "_view_module": "@jupyter-widgets/base",
            "_view_module_version": "1.2.0",
            "_view_name": "LayoutView",
            "align_content": null,
            "align_items": null,
            "align_self": null,
            "border": null,
            "bottom": null,
            "display": null,
            "flex": null,
            "flex_flow": null,
            "grid_area": null,
            "grid_auto_columns": null,
            "grid_auto_flow": null,
            "grid_auto_rows": null,
            "grid_column": null,
            "grid_gap": null,
            "grid_row": null,
            "grid_template_areas": null,
            "grid_template_columns": null,
            "grid_template_rows": null,
            "height": null,
            "justify_content": null,
            "justify_items": null,
            "left": null,
            "margin": null,
            "max_height": null,
            "max_width": null,
            "min_height": null,
            "min_width": null,
            "object_fit": null,
            "object_position": null,
            "order": null,
            "overflow": null,
            "overflow_x": null,
            "overflow_y": null,
            "padding": null,
            "right": null,
            "top": null,
            "visibility": null,
            "width": null
          }
        },
        "e4d1f39c64c74b2987d8f44eae6b9bf3": {
          "model_module": "@jupyter-widgets/base",
          "model_module_version": "1.2.0",
          "model_name": "LayoutModel",
          "state": {
            "_model_module": "@jupyter-widgets/base",
            "_model_module_version": "1.2.0",
            "_model_name": "LayoutModel",
            "_view_count": null,
            "_view_module": "@jupyter-widgets/base",
            "_view_module_version": "1.2.0",
            "_view_name": "LayoutView",
            "align_content": null,
            "align_items": null,
            "align_self": null,
            "border": null,
            "bottom": null,
            "display": null,
            "flex": null,
            "flex_flow": null,
            "grid_area": null,
            "grid_auto_columns": null,
            "grid_auto_flow": null,
            "grid_auto_rows": null,
            "grid_column": null,
            "grid_gap": null,
            "grid_row": null,
            "grid_template_areas": null,
            "grid_template_columns": null,
            "grid_template_rows": null,
            "height": null,
            "justify_content": null,
            "justify_items": null,
            "left": null,
            "margin": null,
            "max_height": null,
            "max_width": null,
            "min_height": null,
            "min_width": null,
            "object_fit": null,
            "object_position": null,
            "order": null,
            "overflow": null,
            "overflow_x": null,
            "overflow_y": null,
            "padding": null,
            "right": null,
            "top": null,
            "visibility": null,
            "width": null
          }
        },
        "e75b8e9f884c4abca4e687b091fd5b04": {
          "model_module": "@jupyter-widgets/controls",
          "model_module_version": "1.5.0",
          "model_name": "DescriptionStyleModel",
          "state": {
            "_model_module": "@jupyter-widgets/controls",
            "_model_module_version": "1.5.0",
            "_model_name": "DescriptionStyleModel",
            "_view_count": null,
            "_view_module": "@jupyter-widgets/base",
            "_view_module_version": "1.2.0",
            "_view_name": "StyleView",
            "description_width": ""
          }
        },
        "eae52f4c2756411490190bc01f2a6261": {
          "model_module": "@jupyter-widgets/controls",
          "model_module_version": "1.5.0",
          "model_name": "DescriptionStyleModel",
          "state": {
            "_model_module": "@jupyter-widgets/controls",
            "_model_module_version": "1.5.0",
            "_model_name": "DescriptionStyleModel",
            "_view_count": null,
            "_view_module": "@jupyter-widgets/base",
            "_view_module_version": "1.2.0",
            "_view_name": "StyleView",
            "description_width": ""
          }
        }
      }
    }
  },
  "nbformat": 4,
  "nbformat_minor": 0
}
